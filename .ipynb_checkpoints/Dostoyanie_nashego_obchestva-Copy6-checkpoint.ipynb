{
 "cells": [
  {
   "cell_type": "code",
   "execution_count": 39,
   "metadata": {},
   "outputs": [
    {
     "name": "stderr",
     "output_type": "stream",
     "text": [
      "[nltk_data] Downloading package punkt to\n",
      "[nltk_data]     C:\\Users\\user\\AppData\\Roaming\\nltk_data...\n",
      "[nltk_data]   Package punkt is already up-to-date!\n"
     ]
    }
   ],
   "source": [
    "import numpy as np\n",
    "import pandas as pd\n",
    "import re\n",
    "import bs4\n",
    "from urllib.request import urlopen as uReq\n",
    "from bs4 import BeautifulSoup as soup\n",
    "from scrapy import Selector\n",
    "from nltk import word_tokenize\n",
    "import nltk\n",
    "nltk.download('punkt') #winlocker\n",
    "pd.set_option(\"display.max_rows\", 400)\n",
    "pd.set_option(\"display.max_columns\", 50)\n",
    "pd.set_option('display.max_colwidth', -1)\n",
    "import datetime\n",
    "from datetime import datetime, time, date\n",
    "import scrapy\n",
    "from scrapy.selector import Selector\n",
    "import requests"
   ]
  },
  {
   "cell_type": "markdown",
   "metadata": {},
   "source": [
    "Данные для поиска силы лис"
   ]
  },
  {
   "cell_type": "code",
   "execution_count": 40,
   "metadata": {},
   "outputs": [],
   "source": [
    "names_df = pd.read_excel('names_df.xlsx')"
   ]
  },
  {
   "cell_type": "code",
   "execution_count": 41,
   "metadata": {},
   "outputs": [],
   "source": [
    "names_list = list(names_df[\"Unnamed: 0\"])"
   ]
  },
  {
   "cell_type": "code",
   "execution_count": 42,
   "metadata": {},
   "outputs": [],
   "source": [
    "#names_list = list(names_df.index)"
   ]
  },
  {
   "cell_type": "code",
   "execution_count": 43,
   "metadata": {},
   "outputs": [],
   "source": [
    "messages_list = list(names_df[\"Количество сообщений\"])"
   ]
  },
  {
   "cell_type": "markdown",
   "metadata": {},
   "source": [
    "Привязка к tracks10"
   ]
  },
  {
   "cell_type": "code",
   "execution_count": 44,
   "metadata": {},
   "outputs": [],
   "source": [
    "df_coor = pd.read_excel(\"final_coords.xlsx\")\n",
    "list_x_tracks = []\n",
    "for i in range(len(df_coor[\"liza\"])):\n",
    "    list_x_tracks.append(float('%.10g' % df_coor[\"liza\"][i]))\n",
    "list_url = list(df_coor[\"url\"])\n",
    "list_km = list(df_coor[\"km\"])\n",
    "list_teams = list(df_coor[\"teams\"])\n",
    "list_date1 = list(df_coor[\"date1\"])\n",
    "list_date2 = list(df_coor[\"date2\"])"
   ]
  },
  {
   "cell_type": "markdown",
   "metadata": {},
   "source": [
    "Привязка (шаг 0) закончена"
   ]
  },
  {
   "cell_type": "code",
   "execution_count": 45,
   "metadata": {},
   "outputs": [],
   "source": [
    "# ДЛЯ КОЛИ!!!!!!!!!!!!!!!!!!!!!\n",
    "import requests\n",
    "#ssylka = 'https://lizaalert.org/forum/viewforum.php?f=180'\n",
    "ssylka = 'https://lizaalert.org/forum/viewforum.php?f=182'\n",
    "html1 = requests.get(ssylka).content #url='google.com'\n",
    "sel1 = Selector(text=html1)\n",
    "course_as11 = sel1.xpath('//a[contains(@class,\"forumtitle\")]')\n",
    "hrefs11_from_css = course_as11.css('::attr(href)')\n",
    "\n",
    "\n",
    "hrefz = list()\n",
    "for i in range(len(hrefs11_from_css.extract())):\n",
    "    clean_link1 = \"https://lizaalert.org/forum\" + str(hrefs11_from_css.extract()[i])[1:]\n",
    "    hrefz.append(clean_link1)"
   ]
  },
  {
   "cell_type": "code",
   "execution_count": 46,
   "metadata": {},
   "outputs": [],
   "source": [
    "hrefzz = []\n",
    "for i in range(len(hrefz)):\n",
    "    html = requests.get(hrefz[i]).content #url='google.com'\n",
    "    selka = Selector(text=html)\n",
    "    course90 = selka.xpath('//a[contains(@class,\"forumtitle\")]')\n",
    "    hrefs90_from_css = course90.css('::attr(href)')\n",
    "    for i in range(len(hrefs90_from_css.extract())):\n",
    "        clean_link11 = \"https://lizaalert.org/forum\" + str(hrefs90_from_css.extract()[i])[1:]\n",
    "        hrefzz.append(clean_link1)\n",
    "for i in range(len(hrefz)):\n",
    "    hrefzz.append(hrefz[i])"
   ]
  },
  {
   "cell_type": "code",
   "execution_count": 47,
   "metadata": {},
   "outputs": [],
   "source": [
    "# Import requests\n",
    "import requests\n",
    "\n",
    "list_of_all_pages = list()\n",
    "# Create the string html containing the HTML source\n",
    "for i in range(len(hrefzz)):\n",
    "    html = requests.get(hrefzz[i]).content #url='google.com'\n",
    "    sel = Selector(text=html)\n",
    "\n",
    "    uClient = uReq(hrefzz[i])\n",
    "    page_html = uClient.read()\n",
    "    uClient.close()\n",
    "    page_soup = soup(page_html, \"html.parser\")\n",
    "    containers2 = page_soup.findAll(\"div\", {\"class\":\"pagination\"})\n",
    "    containers22 = str(containers2)\n",
    "\n",
    "    def page12(containers22):\n",
    "        page1 = list()\n",
    "        c = containers22.find(\"из \")\n",
    "        page1.append(containers22[c+11])\n",
    "        page1.append(containers22[c+12])\n",
    "        if containers22[c+12] == \"<\":\n",
    "            page1.pop()\n",
    "        return page1\n",
    "\n",
    "    if len(page12(containers22)) == 2:\n",
    "        page_real = int(page12(containers22)[0] + page12(containers22)[1])\n",
    "    else:\n",
    "        page_real = int(page12(containers22)[0])\n",
    "\n",
    "    # Парсим\n",
    "    course_as = sel.xpath('//a[contains(@class,\"right-box right\")]')\n",
    "    hrefs_from_css = course_as.css('::attr(href)')\n",
    "    \n",
    "    if len(str(hrefs_from_css.extract())[1:]) == 1:\n",
    "        links_to_follow = ssylka\n",
    "        clean_link = ssylka\n",
    "    else:\n",
    "        links_to_follow = \"\\\"https://lizaalert.org/forum\" + str(hrefs_from_css.extract()[0])[1:] + \"\\\"\"\n",
    "        clean_link = str(hrefs_from_css.extract()[0])[1:len(hrefs_from_css.extract()[0])-2]\n",
    "    list_links = list()\n",
    "    for i in range((page_real)-1):\n",
    "        list_links.append(clean_link)\n",
    "\n",
    "    #За 500 надо пояснить! Но это вроде несложно\n",
    "    i=0\n",
    "    list1 = list()\n",
    "    for i in range(0,(page_real-1)*25, 25):\n",
    "        i = i + 25\n",
    "        list1.append(i)\n",
    "\n",
    "    result = [str(item) for item in list1]\n",
    "\n",
    "    for i in range(len(list1)):\n",
    "        list_links[i] += result[i]\n",
    "\n",
    "    for i in range(len(list_links)):\n",
    "        list_links[i] = \"https://lizaalert.org/forum\" + list_links[i]\n",
    "    list_of_all_pages.append(list_links)"
   ]
  },
  {
   "cell_type": "code",
   "execution_count": 48,
   "metadata": {},
   "outputs": [
    {
     "name": "stdout",
     "output_type": "stream",
     "text": [
      "8\n"
     ]
    }
   ],
   "source": [
    "print(len(list_of_all_pages))\n",
    "listSYKA = list()\n",
    "for i in range(len(list_of_all_pages)):\n",
    "    for j in range(len(list_of_all_pages[i])):\n",
    "        listSYKA.append(list_of_all_pages[i][j])\n",
    "\n",
    "for j in range(len(hrefzz)):\n",
    "    listSYKA.append(hrefzz[j])\n",
    "listSYKA.append(ssylka)"
   ]
  },
  {
   "cell_type": "code",
   "execution_count": 49,
   "metadata": {},
   "outputs": [
    {
     "name": "stdout",
     "output_type": "stream",
     "text": [
      "2210\n"
     ]
    }
   ],
   "source": [
    "list_full = list()\n",
    "for i in range(len(listSYKA)):\n",
    "    #html = requests.get(list_links[i]).content #url='google.com'\n",
    "    html = requests.get(listSYKA[i]).content #url='google.com'\n",
    "    sel = Selector(text=html)\n",
    "\n",
    "    course_as1 = sel.css('a.topictitle')\n",
    "    hrefs1_from_css = course_as1.css('::attr(href)')\n",
    "\n",
    "    list0 = list()\n",
    "    for i in range(0, len(hrefs1_from_css.extract())):\n",
    "        list0.append(\"https://lizaalert.org/forum\" + str(hrefs1_from_css.extract()[i])[1:])\n",
    "        list_full.append(list0[i])\n",
    "#print(list_full)\n",
    "print(len(list_full))"
   ]
  },
  {
   "cell_type": "code",
   "execution_count": 50,
   "metadata": {},
   "outputs": [],
   "source": [
    "my_list = list_full"
   ]
  },
  {
   "cell_type": "code",
   "execution_count": 51,
   "metadata": {},
   "outputs": [
    {
     "name": "stdout",
     "output_type": "stream",
     "text": [
      "2210\n"
     ]
    }
   ],
   "source": [
    "my_list[0]\n",
    "print(len(list_full))"
   ]
  },
  {
   "cell_type": "markdown",
   "metadata": {},
   "source": [
    "# Здесь соберем все вспомогательные перменные"
   ]
  },
  {
   "cell_type": "code",
   "execution_count": 52,
   "metadata": {},
   "outputs": [],
   "source": [
    "list_searchers = []\n",
    "list_photo = []\n",
    "list_state1 = []\n",
    "list_sex1 = []\n",
    "list_age11 = []\n",
    "list_posts = []\n",
    "list_height = []\n",
    "list_help1 = []\n",
    "list_hair_color = []\n",
    "list_bodytype = []\n",
    "list_eye = []\n",
    "list_of_lists = []  ## Здесь нужно додумать\n",
    "list_place = []\n",
    "list_color_of_clothes = []# Бабкен Вставил\n",
    "list_of_lists = []  ## Здесь нужно додумать\n",
    "list_podrobnost = []\n",
    "list_primeti = []\n",
    "list_search_time =[]\n",
    "list_lost_time = []\n",
    "list_find_time = []\n",
    "list_of_coor = []\n",
    "list_x_tracks1 = []\n",
    "list_url1 = []\n",
    "list_km1 = []\n",
    "list_teams1 = []\n",
    "list_date11 = []\n",
    "list_date22 = []\n",
    "list_delta = []\n",
    "list_of_power = []\n",
    "list_month = []\n",
    "list_year = []"
   ]
  },
  {
   "cell_type": "code",
   "execution_count": 53,
   "metadata": {},
   "outputs": [],
   "source": [
    "english_stops = ['.', ',', ':', ';', \"!\", \"?\", '-', ')', '(']\n",
    "months_num = {\"янв\": 1, \"фев\": 2, \"мар\": 3,\"апр\": 4,\"мая\": 5, \"май\": 5,\"июн\": 6,\"июл\": 7,\"авг\": 8,\"сен\": 9,\"окт\": 10,\"ноя\": 11,\"дек\": 12,\"Янв\": 1, \"Фев\": 2, \"Мар\": 3,\"Апр\": 4,\"Март\": 5, \"Май\": 5,\"Июн\": 6,\"Июл\": 7,\"Авг\": 8,\"Сен\": 9,\"Окт\": 10,\"Ноя\": 11,\"Дек\": 12}\n",
    "match_months = {'01': 'Январь', '02': ' Февраль', '03': 'Март', '04': 'Апрель', '05': 'Май', '06': 'Июнь', '07': 'Июль', '08': 'Август', '09': 'Сентябрь', '10': 'Октябрь', '11': 'Ноябрь', '12': 'Декабрь'}"
   ]
  },
  {
   "cell_type": "markdown",
   "metadata": {},
   "source": [
    "# Напишем все функции, которые нам понадобятся в сборе признаков "
   ]
  },
  {
   "cell_type": "code",
   "execution_count": 54,
   "metadata": {},
   "outputs": [],
   "source": [
    "def fox_power(containers228, names_list, messages_list):\n",
    "    sila = 0\n",
    "    if containers228 == 'ebanyi obychenie':\n",
    "        sila = 0\n",
    "    else:\n",
    "        kerka = containers228.findAll(text=re.compile(r'\\w+'))\n",
    "        for i in range(len(names_list)):\n",
    "            for j in range(len(kerka)):\n",
    "                if names_list[i] in kerka[j]:\n",
    "                    sila += int(messages_list[i])\n",
    "    return sila"
   ]
  },
  {
   "cell_type": "code",
   "execution_count": 55,
   "metadata": {},
   "outputs": [],
   "source": [
    "def searchers(containers228):\n",
    "    if containers228 == 'ebanyi obychenie':\n",
    "        searchers = 0\n",
    "    else:\n",
    "        kerka = containers228.findAll(text=re.compile(r'\\w+'))\n",
    "        kerka1 = containers228.findAll(text=re.compile(r'На месте|НА МЕСТЕ|Дом|ДОМ|Экипаж|ЭКИПАЖ'))\n",
    "        searchers = (len(kerka) - len(kerka1))\n",
    "    return searchers"
   ]
  },
  {
   "cell_type": "code",
   "execution_count": 56,
   "metadata": {
    "scrolled": true
   },
   "outputs": [],
   "source": [
    "def photo1(containers11):\n",
    "    if containers11.find(\"Изображение\") != -1:\n",
    "        photo =  'присутствует'\n",
    "    else:\n",
    "        photo = 'отсутствует'\n",
    "    return photo"
   ]
  },
  {
   "cell_type": "code",
   "execution_count": 57,
   "metadata": {},
   "outputs": [],
   "source": [
    "def state1(title1):\n",
    "    if title1.find(\"Жив\") != -1 or title1.find(\"ЖИВ\") != -1 or title1.find(\"Найден\") != -1 or title1.find(\"НАЙДЕН\") != -1:\n",
    "        state = \"живой\"\n",
    "    elif title1.find(\"Пропал\") != -1 or title1.find(\"ПРОПАЛ\") != -1:\n",
    "        state = 'ищется'\n",
    "    elif title1.find(\"Погиб\") != -1 or title1.find(\"ПОГИБ\") != -1 or title1.find(\"Мертв\") != -1 or title1.find(\"МЕРТВ\") != -1:\n",
    "        state = 'мертвый'\n",
    "    else:\n",
    "        state = \"Не указано\"\n",
    "    return state"
   ]
  },
  {
   "cell_type": "code",
   "execution_count": 58,
   "metadata": {},
   "outputs": [],
   "source": [
    "def sex1(title1): # Слава вставил 8 мая \n",
    "    sex = re.search(r'[Пп]ропала|[Вв]ышла|[Уу]шла|[Нн]айдена|[Жж]ива|[Ее]ё|[Ее]е|[Ее]го|[Уу]ехала|[Пп]огибла|[Вв]ернулась|не [Вв]ернулась|[Вв]ышел|[Уу]шёл|[Уу]шел|[Пп]ропал|[Нн]айден|[Жж]ив|[Ее]го|[Уу]ехал|[Пп]огиб|[Вв]ернулся|не [Вв]ернулся', title1)\n",
    "    if sex is None:\n",
    "        return \"Er\"\n",
    "    sex = str(sex.group(0))\n",
    "    if sex == \"вышел\" or sex == \"Вышел\" or sex == \"ушел\" or sex == \"Ушел\" or sex == 'ушёл' or sex == 'пропал' or sex == 'Пропал' or sex == 'Найден' or sex == 'найден' or sex == 'ушел'or sex == 'ушёл'or sex == 'пропал'or sex == 'найден'or sex == 'Найден'or sex == 'вышел' or sex == 'Жив'or sex == 'жив' or sex == 'уехал'or sex == 'Погиб'or sex == 'погиб'or sex == 'вернулся':\n",
    "        sex = \"Мужчина\"\n",
    "    else:\n",
    "        sex = \"Женщина\"\n",
    "    return sex"
   ]
  },
  {
   "cell_type": "code",
   "execution_count": 59,
   "metadata": {},
   "outputs": [],
   "source": [
    "def age11(title1):\n",
    "    preage = re.search(r'\\d+', str(title1))\n",
    "    if preage is None:\n",
    "        return \"Коля объебался\"\n",
    "    else:\n",
    "        age = preage.group()\n",
    "        if len(age) == 4:\n",
    "            age = 2019 - int(age)\n",
    "    return age"
   ]
  },
  {
   "cell_type": "code",
   "execution_count": 60,
   "metadata": {},
   "outputs": [],
   "source": [
    "def posts1(containers2):\n",
    "    posts = re.search(r'\\d+', str(containers2)).group()\n",
    "    return posts"
   ]
  },
  {
   "cell_type": "code",
   "execution_count": 61,
   "metadata": {},
   "outputs": [],
   "source": [
    "def data1(containers88):\n",
    "    d = containers88.find(\"Инфорг\")\n",
    "    if d == -1:\n",
    "        data1, data2 = 'не','редактировали'\n",
    "    else:\n",
    "        data1 = containers88[d+11] + containers88[d+12] + containers88[d+13] + containers88[d+14] + containers88[d+15] + containers88[d+16] + containers88[d+17] + containers88[d+18] + containers88[d+19] + containers88[d+20] + containers88[d+21]\n",
    "        data2 = containers88[d+24] + containers88[d+25] + containers88[d+26] + containers88[d+27] + containers88[d+28]\n",
    "        data = data1 + ' ' + data2\n",
    "    return data"
   ]
  },
  {
   "cell_type": "code",
   "execution_count": 62,
   "metadata": {},
   "outputs": [],
   "source": [
    "def height(containers11): # Вставил Слава 8.05.2019\n",
    "    high = re.search(r'[Рр]ост \\d{3}|[Рр]оста \\d{3}|[Рр]оста\\d{3}|[Рр]ост: \\d{3}|[Рр]ост - \\d{3}|рост\\d{3}-|Рост:\\d{3}| росто \\d{3}', containers11 )\n",
    "    if high is None:\n",
    "        return \"Er\"\n",
    "    high = str(high.group(0))\n",
    "\n",
    "    height = re.findall(r'\\d+',high)\n",
    "    height = int(\" \".join(height))\n",
    "    return height"
   ]
  },
  {
   "cell_type": "code",
   "execution_count": 63,
   "metadata": {},
   "outputs": [],
   "source": [
    "def help1(containers11):\n",
    "    if containers11.find(\"В МЕДИЦИНСКОЙ ПОМОЩИ\") == -1 and containers11.find(\"в медицинской помощи\") == -1:\n",
    "        help1 = 'здоров'\n",
    "    else:\n",
    "        help1 = 'требуется мед. помощь'\n",
    "    return help1"
   ]
  },
  {
   "cell_type": "code",
   "execution_count": 64,
   "metadata": {},
   "outputs": [],
   "source": [
    "def hair_color(contents):\n",
    "    hc = 'Не указано'\n",
    "    for string in contents:\n",
    "        if \"олосы\" in string:\n",
    "            no_stops_string_1 = ''.join([t for t in string if t not in english_stops])\n",
    "            tokens_1 = word_tokenize(no_stops_string_1)\n",
    "            for i in range(len(tokens_1)):\n",
    "                if \"олосы\" in tokens_1[i]:\n",
    "                    if i < (len(tokens_1) - 1):\n",
    "                        hc = tokens_1[i + 1]\n",
    "                    else:\n",
    "                        hc = tokens_1[i-1]\n",
    "    return hc"
   ]
  },
  {
   "cell_type": "code",
   "execution_count": 65,
   "metadata": {},
   "outputs": [],
   "source": [
    "## Нужно доработать код! Или сделать заново\n",
    "def body_type(contents):\n",
    "    body = \"Не указано\"\n",
    "    for string in contents:\n",
    "        if \"елосложени\" in string:\n",
    "            no_stops_string = ''.join([t for t in string if t not in english_stops])\n",
    "            tokens = word_tokenize(no_stops_string)\n",
    "            tokens.append(\"Ты объебался\")\n",
    "            for i in range(len(tokens)):\n",
    "                if \"елосложени\" in tokens[i]:\n",
    "                    if tokens[i][-1] == \"я\":\n",
    "                        body = tokens[i - 1]\n",
    "                        break\n",
    "                    else:\n",
    "                        body = tokens[i + 1]\n",
    "                        break\n",
    "    return body"
   ]
  },
  {
   "cell_type": "code",
   "execution_count": 66,
   "metadata": {},
   "outputs": [],
   "source": [
    "## Нужно доработать код! Или сделать заново\n",
    "def eyes_color(contents):\n",
    "    ec = \"Не указано\"\n",
    "    for string in contents:\n",
    "        if \"лаз\" in string:\n",
    "            no_stops_string = ''.join([t for t in string if t not in english_stops])\n",
    "            tokens = word_tokenize(no_stops_string)\n",
    "            tokens.append(\"Кто-то объебался\")\n",
    "            for i in range(len(tokens)):\n",
    "                if \"лаз\" in tokens[i]:\n",
    "                    ec = tokens[i + 1]\n",
    "                if ec == \"Кто-то объебался\":\n",
    "                    ec = tokens[i-1]\n",
    "                    break\n",
    "    return ec"
   ]
  },
  {
   "cell_type": "code",
   "execution_count": 67,
   "metadata": {},
   "outputs": [],
   "source": [
    "def yebanskii(sel):\n",
    "    p = sel.css(\"div.content\").xpath('./span[@style=\"font-size: 140%; line-height: 116%;\"]/span[@style=\"font-weight: bold\"]/text()').extract()\n",
    "    a = str(p)\n",
    "    b = re.split('\\s+', a)\n",
    "    b1 = b[5:]\n",
    "    t = str(b1)\n",
    "    p = t.replace(\"\\'\", \"\")\n",
    "    p1 = p.replace(']', '')\n",
    "    p2 = p1.replace('[', '')\n",
    "    p3 = p2.replace('\"', '')\n",
    "    p4 = p3.replace(', ', \" \")\n",
    "    p5 = p4.replace('- ','-')\n",
    "    return p5"
   ]
  },
  {
   "cell_type": "code",
   "execution_count": 68,
   "metadata": {},
   "outputs": [],
   "source": [
    "def color_cloth(containers11):\n",
    "    containers1 = re.split('<span style=\"font-weight: bold\">', containers11)\n",
    "    if len(containers1) < 4:\n",
    "        return \"Не указано\"\n",
    "    else:\n",
    "        containers_new = containers1[3]\n",
    "        black = len(re.findall(r'черн', containers_new))\n",
    "        white = len(re.findall(r'бел', containers_new))\n",
    "        yellow = len(re.findall(r'желт', containers_new))\n",
    "        orange = len(re.findall(r'оранж', containers_new))\n",
    "        br_grey = len(re.findall(r'тло-сер', containers_new))\n",
    "        grey = len(re.findall(r'сер', containers_new))\n",
    "        beg = len(re.findall(r'бежев', containers_new))\n",
    "        br_blue = len(re.findall(r'тло-син', containers_new))\n",
    "        blue = len(re.findall(r'син', containers_new))\n",
    "        green = len(re.findall(r'зелен', containers_new))\n",
    "        violent = len(re.findall(r'фиол', containers_new))\n",
    "        black1 = len(re.findall(r'чёрн', containers_new))\n",
    "        brown = len(re.findall(r'коричн', containers_new))\n",
    "        al_colors = black + yellow + orange + grey + beg + blue + green + violent + black1\n",
    "        br_colors1 = white + yellow + orange + br_grey + beg + br_blue + green + violent\n",
    "        br_colors2 = white + yellow + orange + beg + br_blue + green + violent\n",
    "        br_colors3 = white + yellow + orange + br_grey + beg + green + violent\n",
    "        br_colors4 = white + yellow + orange + beg + green + violent\n",
    "        dk_colors1 = black + black1 + brown\n",
    "        dk_colors2 = black + grey + black1 + brown\n",
    "        dk_colors3 = black + blue + black1 + brown\n",
    "        dk_colors4 = black + blue + grey + black1 + brown\n",
    "        if al_colors == 0:\n",
    "            return \"Не указано\" \n",
    "        elif (br_grey == 0 and br_blue == 0) and br_colors4 >= dk_colors4:\n",
    "            return \"Яркая\"\n",
    "        elif (br_grey == 0 and br_blue == 0) and br_colors4 < dk_colors4:\n",
    "            return \"Темная\"\n",
    "        elif ((br_grey != 0 and grey != 0) or (br_blue != 0 and blue != 0 )) and br_colors1 >= dk_colors4:\n",
    "            return \"Яркая\"\n",
    "        elif ((br_grey != 0 and grey != 0) or (br_blue != 0 and blue != 0 )) and br_colors1 < dk_colors4:\n",
    "            return \"Темная\"\n",
    "        elif (br_grey == 0) and br_colors2 >= dk_colors2:\n",
    "            return \"Яркая\" \n",
    "        elif (br_grey == 0) and br_colors2 < dk_colors2:\n",
    "            return \"Темная\" \n",
    "        elif (br_blue == 0) and br_colors3 >= dk_colors3:\n",
    "            return \"Яркая\""
   ]
  },
  {
   "cell_type": "code",
   "execution_count": 69,
   "metadata": {},
   "outputs": [],
   "source": [
    "def podrobnost(containers11):\n",
    "    containers1 = re.split('<span style=\"font-weight: bold\">', containers11)\n",
    "    if len(containers1) < 4:\n",
    "        return(\"Не указано\")\n",
    "    else:\n",
    "        containers_new = containers1[3]\n",
    "        containers_new_sep = containers_new.split(',')\n",
    "        l = len(containers_new_sep)\n",
    "        if l > 3:\n",
    "            return 4\n",
    "        elif 2 <= l < 3:\n",
    "            return 3\n",
    "        else:\n",
    "            return 0"
   ]
  },
  {
   "cell_type": "code",
   "execution_count": 70,
   "metadata": {},
   "outputs": [],
   "source": [
    "def primeti(containers11):\n",
    "    containers1 = re.split('<span style=\"font-weight: bold\">', containers11)\n",
    "    if len(containers1) < 5:\n",
    "        return(\"Не указано\")\n",
    "    else:\n",
    "        containers_new = containers1[4]\n",
    "        containers_new_sep = containers_new.split(',')\n",
    "        l = len(containers_new_sep)\n",
    "        if l > 3:\n",
    "            return 4\n",
    "        elif 2 <= l < 3:\n",
    "            return 2\n",
    "        else:\n",
    "            return 0"
   ]
  },
  {
   "cell_type": "code",
   "execution_count": 71,
   "metadata": {},
   "outputs": [],
   "source": [
    "def lost_timing(x, y):\n",
    "    if re.search(r'\\d+ \\w+ \\d{4}|\\d{2}[.]\\d{2}[.]\\d{4}', x) == None:\n",
    "        if re.search(r'\\d+\\s\\w+\\s\\d+', y) != None:\n",
    "            lost_time = re.search(r'\\d+\\s\\w+\\s\\d+', y).group()\n",
    "            lts = lost_time.split()\n",
    "            lts[1] = months_num[lts[1][:3]]\n",
    "            lts = list(map(int, lts))\n",
    "            lost_time = date(lts[-1], lts[-2], lts[-3])\n",
    "            return lost_time\n",
    "        else:\n",
    "            return \"Сбой\"\n",
    "    else:\n",
    "        lost_time = re.search(r'\\d+ \\w+ \\d{4}|\\d{2}[.]\\d{2}[.]\\d{4}', x).group()\n",
    "        if \"я\" in lost_time or \"Я\" or \"т\" in lost_time:\n",
    "            lts = lost_time.split()\n",
    "            lts[1] = months_num[lts[1][:3]]\n",
    "            lts = list(map(int, lts))\n",
    "            lost_time = date(lts[-1], lts[-2], lts[-3])\n",
    "            return lost_time\n",
    "        else:\n",
    "            lts = lost_time.split('.')\n",
    "            lts = list(map(int, lts))\n",
    "            lost_time = date(lts[-1], lts[-2], lts[-3])\n",
    "            return lost_time"
   ]
  },
  {
   "cell_type": "code",
   "execution_count": 72,
   "metadata": {},
   "outputs": [],
   "source": [
    "def find_timing(x, y):\n",
    "    if re.search(r'\\d+ \\w+ \\d{4}|\\d{2}[.]\\d{2}[.]\\d{4}', x) == None:\n",
    "        if re.search(r'\\d+\\s\\w+\\s\\d{4}', y) != None:\n",
    "            find_time = re.search(r'\\d+\\s\\w+\\s\\d{4}', y).group()\n",
    "            fts = find_time.split()\n",
    "            fts[1] = months_num[fts[1]]\n",
    "            fts = list(map(int, fts))\n",
    "            find_time = date(fts[-1], fts[-2], fts[-3])\n",
    "            return find_time\n",
    "        else:\n",
    "            return \"Сбой\"\n",
    "    else:\n",
    "        find_time = re.search(r'\\d+ \\w+ \\d{4}|\\d{2}[.]\\d{2}[.]\\d{4}', x).group()\n",
    "        fts = find_time.split()\n",
    "        fts[1] = months_num[fts[1]]\n",
    "        fts = list(map(int, fts))\n",
    "        find_time = date(fts[-1], fts[-2], fts[-3])\n",
    "        return find_time"
   ]
  },
  {
   "cell_type": "code",
   "execution_count": 73,
   "metadata": {},
   "outputs": [],
   "source": [
    "def search_timing(x, y, babken, slava):\n",
    "    return (find_timing(y, slava) - lost_timing(x, babken)).days"
   ]
  },
  {
   "cell_type": "code",
   "execution_count": 74,
   "metadata": {},
   "outputs": [],
   "source": [
    "def super_format(function, x, y):\n",
    "    if len(str(function(x, y).day)) == 1:\n",
    "        day = \"0\" + str(function(x, y).day)\n",
    "    else:\n",
    "        day = str(function(x, y).day)\n",
    "    if len(str(function(x, y).month)) == 1:\n",
    "        month = \"0\" + str(function(x, y).month)\n",
    "    else:\n",
    "        month = str(function(x, y).month)\n",
    "    return day + \".\" + month + \".\" + str(function(x, y).year)"
   ]
  },
  {
   "cell_type": "code",
   "execution_count": 75,
   "metadata": {},
   "outputs": [],
   "source": [
    "def find_cor(comp):\n",
    "    for i in range (len(comp)):\n",
    "        contents = page_soup.findAll(\"div\", {\"class\":\"content\"})[i].contents\n",
    "        kavka = re.search(r'\\d+.\\d+, \\d+.\\d+|\\d+.\\d+,\\d+.\\d+|\\d+.\\d+ \\d+.\\d+', str(contents))\n",
    "        if kavka is not None:\n",
    "            kavkaz = kavka.group()\n",
    "            break\n",
    "        else:\n",
    "            kavkaz = 'no cord'\n",
    "    return kavkaz"
   ]
  },
  {
   "cell_type": "markdown",
   "metadata": {},
   "source": [
    "# Перейдем к сбору признаков"
   ]
  },
  {
   "cell_type": "code",
   "execution_count": 76,
   "metadata": {},
   "outputs": [
    {
     "ename": "ValueError",
     "evalue": "invalid literal for int() with base 10: '8 АПРЕЛЯ 2017'",
     "output_type": "error",
     "traceback": [
      "\u001b[1;31m---------------------------------------------------------------------------\u001b[0m",
      "\u001b[1;31mValueError\u001b[0m                                Traceback (most recent call last)",
      "\u001b[1;32m<ipython-input-76-ea28ce7d0115>\u001b[0m in \u001b[0;36m<module>\u001b[1;34m\u001b[0m\n\u001b[0;32m     52\u001b[0m     \u001b[1;32melse\u001b[0m\u001b[1;33m:\u001b[0m\u001b[1;33m\u001b[0m\u001b[1;33m\u001b[0m\u001b[0m\n\u001b[0;32m     53\u001b[0m         \u001b[0mmain\u001b[0m \u001b[1;33m=\u001b[0m \u001b[1;34m\"Сбой\"\u001b[0m\u001b[1;33m\u001b[0m\u001b[1;33m\u001b[0m\u001b[0m\n\u001b[1;32m---> 54\u001b[1;33m     \u001b[1;32mif\u001b[0m \u001b[0mlost_timing\u001b[0m\u001b[1;33m(\u001b[0m\u001b[0mmain\u001b[0m\u001b[1;33m,\u001b[0m \u001b[0mbabken\u001b[0m\u001b[1;33m)\u001b[0m \u001b[1;33m!=\u001b[0m \u001b[1;34m\"Сбой\"\u001b[0m\u001b[1;33m:\u001b[0m\u001b[1;33m\u001b[0m\u001b[1;33m\u001b[0m\u001b[0m\n\u001b[0m\u001b[0;32m     55\u001b[0m         \u001b[0mlist_lost_time\u001b[0m\u001b[1;33m.\u001b[0m\u001b[0mappend\u001b[0m\u001b[1;33m(\u001b[0m\u001b[0msuper_format\u001b[0m\u001b[1;33m(\u001b[0m\u001b[0mlost_timing\u001b[0m\u001b[1;33m,\u001b[0m \u001b[0mmain\u001b[0m\u001b[1;33m,\u001b[0m \u001b[0mbabken\u001b[0m\u001b[1;33m)\u001b[0m\u001b[1;33m)\u001b[0m\u001b[1;33m\u001b[0m\u001b[1;33m\u001b[0m\u001b[0m\n\u001b[0;32m     56\u001b[0m     \u001b[1;32melse\u001b[0m\u001b[1;33m:\u001b[0m\u001b[1;33m\u001b[0m\u001b[1;33m\u001b[0m\u001b[0m\n",
      "\u001b[1;32m<ipython-input-71-3d0e23505197>\u001b[0m in \u001b[0;36mlost_timing\u001b[1;34m(x, y)\u001b[0m\n\u001b[0;32m     20\u001b[0m         \u001b[1;32melse\u001b[0m\u001b[1;33m:\u001b[0m\u001b[1;33m\u001b[0m\u001b[1;33m\u001b[0m\u001b[0m\n\u001b[0;32m     21\u001b[0m             \u001b[0mlts\u001b[0m \u001b[1;33m=\u001b[0m \u001b[0mlost_time\u001b[0m\u001b[1;33m.\u001b[0m\u001b[0msplit\u001b[0m\u001b[1;33m(\u001b[0m\u001b[1;34m'.'\u001b[0m\u001b[1;33m)\u001b[0m\u001b[1;33m\u001b[0m\u001b[1;33m\u001b[0m\u001b[0m\n\u001b[1;32m---> 22\u001b[1;33m             \u001b[0mlts\u001b[0m \u001b[1;33m=\u001b[0m \u001b[0mlist\u001b[0m\u001b[1;33m(\u001b[0m\u001b[0mmap\u001b[0m\u001b[1;33m(\u001b[0m\u001b[0mint\u001b[0m\u001b[1;33m,\u001b[0m \u001b[0mlts\u001b[0m\u001b[1;33m)\u001b[0m\u001b[1;33m)\u001b[0m\u001b[1;33m\u001b[0m\u001b[1;33m\u001b[0m\u001b[0m\n\u001b[0m\u001b[0;32m     23\u001b[0m             \u001b[0mlost_time\u001b[0m \u001b[1;33m=\u001b[0m \u001b[0mdate\u001b[0m\u001b[1;33m(\u001b[0m\u001b[0mlts\u001b[0m\u001b[1;33m[\u001b[0m\u001b[1;33m-\u001b[0m\u001b[1;36m1\u001b[0m\u001b[1;33m]\u001b[0m\u001b[1;33m,\u001b[0m \u001b[0mlts\u001b[0m\u001b[1;33m[\u001b[0m\u001b[1;33m-\u001b[0m\u001b[1;36m2\u001b[0m\u001b[1;33m]\u001b[0m\u001b[1;33m,\u001b[0m \u001b[0mlts\u001b[0m\u001b[1;33m[\u001b[0m\u001b[1;33m-\u001b[0m\u001b[1;36m3\u001b[0m\u001b[1;33m]\u001b[0m\u001b[1;33m)\u001b[0m\u001b[1;33m\u001b[0m\u001b[1;33m\u001b[0m\u001b[0m\n\u001b[0;32m     24\u001b[0m             \u001b[1;32mreturn\u001b[0m \u001b[0mlost_time\u001b[0m\u001b[1;33m\u001b[0m\u001b[1;33m\u001b[0m\u001b[0m\n",
      "\u001b[1;31mValueError\u001b[0m: invalid literal for int() with base 10: '8 АПРЕЛЯ 2017'"
     ]
    }
   ],
   "source": [
    "for i in my_list:\n",
    "    my_url = i\n",
    "    vanya_url = requests.get(my_url).content\n",
    "    vanya_selector = Selector(text=vanya_url)\n",
    "    uClient = uReq(my_url)\n",
    "    page_html = uClient.read()\n",
    "    uClient.close()\n",
    "    page_soup = soup(page_html, \"html.parser\")\n",
    "    title = page_soup.title\n",
    "    title1 = str(title)\n",
    "\n",
    "    comp = page_soup.findAll(\"div\", {\"class\":\"content\"})\n",
    "    containers = page_soup.findAll(\"div\", {\"class\":\"content\"})\n",
    "    contents = page_soup.findAll(\"div\", {\"class\":\"content\"})[0].contents\n",
    "    containers11 = str(containers)\n",
    "    containers2 = page_soup.findAll(\"div\", {\"class\":\"pagination\"})\n",
    "    containers22 = str(containers2)\n",
    "    containers8 = page_soup.findAll(\"div\", {\"class\":\"notice\"})\n",
    "    containers88 = str(containers8) \n",
    "    containers1 = re.split('<span style=\"font-weight: bold\">', containers11)\n",
    "    if len(page_soup.findAll(\"div\", {\"class\":\"content\"})) > 1:\n",
    "        containers228 = page_soup.findAll(\"div\", {\"class\":\"content\"})[1]\n",
    "    else:\n",
    "        containers228 = 'ebanyi obychenie'\n",
    "    \n",
    "    list_searchers.append(searchers(containers228))\n",
    "    list_photo.append(photo1(containers11))\n",
    "    list_state1.append(state1(title1))\n",
    "    list_sex1.append(sex1(title1))\n",
    "    list_age11.append(age11(title1))\n",
    "    list_posts.append(posts1(containers22))\n",
    "    list_hair_color.append(hair_color(contents))\n",
    "    list_bodytype.append(body_type(contents))\n",
    "    list_eye.append(eyes_color(contents))\n",
    "    containers = page_soup.findAll(\"div\", {\"class\":\"content\"})\n",
    "    containers11 = str(containers)\n",
    "    list_height.append(height(containers11))\n",
    "    list_help1.append(help1(containers11))\n",
    "    list_place.append(yebanskii(vanya_selector))\n",
    "    list_color_of_clothes.append(color_cloth(containers11)) # Бабкен вставил\n",
    "    list_podrobnost.append(podrobnost(containers11)) # Бабкен вставил еще раз, но уже Ване\n",
    "    list_primeti.append(primeti(containers11))\n",
    "    \n",
    "    \n",
    "    babken = page_soup.find('p', {'class': 'author'}).text\n",
    "    if vanya_selector.xpath('//p[@class=\"author\"]/text()').extract_first() != None:\n",
    "        juk_slava = vanya_selector.xpath('//p[@class=\"author\"]/text()').extract()[-1]\n",
    "    else:\n",
    "        juk_slava = 'Сбой'\n",
    "    if vanya_selector.xpath('//div[@class=\"content\"]/text()').extract_first() != None:\n",
    "        main = vanya_selector.xpath('//div[@class=\"content\"]/text()').extract_first()\n",
    "    else:\n",
    "        main = \"Сбой\"\n",
    "    if lost_timing(main, babken) != \"Сбой\":\n",
    "        list_lost_time.append(super_format(lost_timing, main, babken))\n",
    "    else:\n",
    "        list_lost_time.append(\"Ошибка\")\n",
    "        \n",
    "    if vanya_selector.xpath('//div[@class=\"notice\"]/text()').extract_first() != None:\n",
    "        notmain = vanya_selector.xpath('//div[@class=\"notice\"]/text()').extract()[1]\n",
    "    else:\n",
    "        notmain = \"Сбой\"\n",
    "    if find_timing(notmain, juk_slava) != \"Сбой\":\n",
    "            list_find_time.append(super_format(find_timing, notmain, juk_slava))\n",
    "    else:\n",
    "        list_find_time.append(\"Ошибка\")\n",
    "\n",
    "        \n",
    "        \n",
    "    if lost_timing(main, babken) != \"Сбой\" and find_timing(notmain, juk_slava) != \"Сбой\":\n",
    "        list_search_time.append(search_timing(main, notmain, babken, juk_slava))\n",
    "    else:\n",
    "        list_search_time.append(\"Ошибка\") \n",
    "            \n",
    "    list_month.append(match_months[super_format(lost_timing, main, babken)[3:5]])\n",
    "    list_year.append(super_format(lost_timing, main, babken)[-4:])\n",
    "    list_of_coor.append(find_cor(comp))\n",
    "    list_x_tracks1.append(0)\n",
    "    list_url1.append(0)\n",
    "    list_km1.append(0)\n",
    "    list_teams1.append(0)\n",
    "    list_date11.append(0)\n",
    "    list_date22.append(0)\n",
    "    list_delta.append(0)\n",
    "    list_of_power.append(fox_power(containers228, names_list, messages_list))"
   ]
  },
  {
   "cell_type": "code",
   "execution_count": null,
   "metadata": {},
   "outputs": [],
   "source": [
    "for i in range(len(list_of_coor)):\n",
    "    for j in range(len(list_x_tracks)):\n",
    "        if str(list_x_tracks[j]) in (list_of_coor[i]):\n",
    "            list_x_tracks1[i] = str(list_x_tracks[j])\n",
    "            list_url1[i] = str(list_url[j])\n",
    "            list_km1[i] = str(list_km[j])\n",
    "            list_date11[i] = str(list_date1[j])\n",
    "            list_date22[i] = str(list_date2[j])\n",
    "            list_teams1[i] = str(list_teams[j])"
   ]
  },
  {
   "cell_type": "markdown",
   "metadata": {},
   "source": [
    "Delta dates in processing..."
   ]
  },
  {
   "cell_type": "code",
   "execution_count": null,
   "metadata": {},
   "outputs": [],
   "source": [
    "for i in range(len(list_date22)):\n",
    "    if re.search('май', str(list_date22[i])) is not None:\n",
    "        list_date22[i] = str(list_date22[i]).replace('май', '05')\n",
    "    if re.search('апр', str(list_date22[i])) is not None:\n",
    "        list_date22[i] = str(list_date22[i]).replace('апр', '04')\n",
    "    if re.search('мар', str(list_date22[i])) is not None:\n",
    "        list_date22[i] = str(list_date22[i]).replace('мар', '03')\n",
    "    if re.search('фев', str(list_date22[i])) is not None:\n",
    "        list_date22[i] = str(list_date22[i]).replace('фев', '02')\n",
    "    if re.search('янв', str(list_date22[i])) is not None:\n",
    "        list_date22[i] = str(list_date22[i]).replace('янв', '01')\n",
    "    if re.search('дек', str(list_date22[i])) is not None:\n",
    "        list_date22[i] = str(list_date22[i]).replace('дек', '12')\n",
    "    if re.search('ноя', str(list_date22[i])) is not None:\n",
    "        list_date22[i] = str(list_date22[i]).replace('ноя', '11')\n",
    "    if re.search('окт', str(list_date22[i])) is not None:\n",
    "        list_date22[i] = str(list_date22[i]).replace('окт', '10')\n",
    "    if re.search('сен', str(list_date22[i])) is not None:\n",
    "        list_date22[i] = str(list_date22[i]).replace('сен', '09')\n",
    "    if re.search('авг', str(list_date22[i])) is not None:\n",
    "        list_date22[i] = str(list_date22[i]).replace('авг', '08')\n",
    "    if re.search('июл', str(list_date22[i])) is not None:\n",
    "        list_date22[i] = str(list_date22[i]).replace('июл', '07')\n",
    "    if re.search('июн', str(list_date22[i])) is not None:\n",
    "        list_date22[i] = str(list_date22[i]).replace('июн', '06')"
   ]
  },
  {
   "cell_type": "code",
   "execution_count": null,
   "metadata": {},
   "outputs": [],
   "source": [
    "for i in range(len(list_date11)):\n",
    "    if re.search('май', str(list_date11[i])) is not None:\n",
    "        list_date11[i] = str(list_date11[i]).replace('май', '05')\n",
    "    if re.search('апр', str(list_date11[i])) is not None:\n",
    "        list_date11[i] = str(list_date11[i]).replace('апр', '04')\n",
    "    if re.search('мар', str(list_date11[i])) is not None:\n",
    "        list_date11[i] = str(list_date11[i]).replace('мар', '03')\n",
    "    if re.search('фев', str(list_date11[i])) is not None:\n",
    "        list_date11[i] = str(list_date11[i]).replace('фев', '02')\n",
    "    if re.search('янв', str(list_date11[i])) is not None:\n",
    "        list_date11[i] = str(list_date11[i]).replace('янв', '01')\n",
    "    if re.search('дек', str(list_date11[i])) is not None:\n",
    "        list_date11[i] = str(list_date11[i]).replace('дек', '12')\n",
    "    if re.search('ноя', str(list_date11[i])) is not None:\n",
    "        list_date11[i] = str(list_date11[i]).replace('ноя', '11')\n",
    "    if re.search('окт', str(list_date11[i])) is not None:\n",
    "        list_date11[i] = str(list_date11[i]).replace('окт', '10')\n",
    "    if re.search('сен', str(list_date11[i])) is not None:\n",
    "        list_date11[i] = str(list_date11[i]).replace('сен', '09')\n",
    "    if re.search('авг', str(list_date11[i])) is not None:\n",
    "        list_date11[i] = str(list_date11[i]).replace('авг', '08')\n",
    "    if re.search('июл', str(list_date11[i])) is not None:\n",
    "        list_date11[i] = str(list_date11[i]).replace('июл', '07')\n",
    "    if re.search('июн', str(list_date11[i])) is not None:\n",
    "        list_date11[i] = str(list_date11[i]).replace('июн', '06')"
   ]
  },
  {
   "cell_type": "code",
   "execution_count": null,
   "metadata": {},
   "outputs": [],
   "source": [
    "for i in range(len(list_date11)):\n",
    "    if str(list_date11[i]) != '0' and str(list_date22[i]) != '0':\n",
    "        date2k = datetime.strptime(str(list_date22[i]), \"%d-%m-%y  %H:%M\")\n",
    "        date1k = datetime.strptime(str(list_date11[i]), \"%d-%m-%y  %H:%M\")\n",
    "        delta = (date2k - date1k).seconds/3600\n",
    "        list_delta[i] = delta"
   ]
  },
  {
   "cell_type": "markdown",
   "metadata": {},
   "source": [
    "Парсим посты, копаем вглубь!"
   ]
  },
  {
   "cell_type": "code",
   "execution_count": null,
   "metadata": {},
   "outputs": [],
   "source": [
    "list_of_all_pages1 = list()\n",
    "\n",
    "for i in my_list:\n",
    "    URL = i\n",
    "    \n",
    "    html = requests.get(URL).content #url='google.com'\n",
    "    sel = Selector(text=html)\n",
    "\n",
    "    uClient = uReq(URL)\n",
    "    page_html = uClient.read()\n",
    "    uClient.close()\n",
    "    page_soup = soup(page_html, \"html.parser\")\n",
    "    containers2 = page_soup.findAll(\"div\", {\"class\":\"pagination\"})\n",
    "    containers22 = str(containers2)\n",
    "\n",
    "    def page12(containers22):\n",
    "        page1 = list()\n",
    "        c = containers22.find(\"из \")\n",
    "        page1.append(containers22[c+11])\n",
    "        page1.append(containers22[c+12])\n",
    "        if containers22[c+12] == \"<\":\n",
    "            page1.pop()\n",
    "            return page1\n",
    "\n",
    "    if page12(containers22) is None:\n",
    "        page_real = 1\n",
    "    else:\n",
    "        if len(page12(containers22)) == 2:\n",
    "            page_real = int(page12(containers22)[0] + page12(containers22)[1])\n",
    "        else:\n",
    "            page_real = int(page12(containers22)[0])\n",
    "\n",
    "        # Парсим\n",
    "    course_as = sel.xpath('//a[contains(@class,\"right-box right\")]')\n",
    "    hrefs_from_css = course_as.css('::attr(href)')\n",
    "\n",
    "    if len(str(hrefs_from_css.extract())[1:]) == 1:\n",
    "        links_to_follow = URL\n",
    "        clean_link = URL[27:len(URL)]\n",
    "    else:\n",
    "        links_to_follow = \"\\\"https://lizaalert.org/forum\" + str(hrefs_from_css.extract()[0])[1:] + \"\\\"\"\n",
    "        clean_link = str(hrefs_from_css.extract()[0])[1:len(hrefs_from_css.extract()[0])-2]\n",
    "\n",
    "    list_links = list()\n",
    "    for i in range((page_real)):\n",
    "        list_links.append(clean_link)\n",
    "\n",
    "\n",
    "        #За 500 надо пояснить! Но это вроде несложно\n",
    "    i=0\n",
    "    list1 = [0]\n",
    "    for i in range(0,(page_real-1)*10, 10):\n",
    "        i = i + 10\n",
    "        list1.append(i)\n",
    "\n",
    "    result = [str(item) for item in list1]\n",
    "\n",
    "    for i in range(len(list1)):\n",
    "        if list_links[i].find(\"start\") != -1:\n",
    "            list_links[i] += result[i]\n",
    "        \n",
    "    for i in range(len(list_links)):\n",
    "        list_links[i] = \"https://lizaalert.org/forum\" + list_links[i]\n",
    "    \n",
    "    list_of_all_pages1.append(list_links)"
   ]
  },
  {
   "cell_type": "code",
   "execution_count": null,
   "metadata": {},
   "outputs": [],
   "source": [
    "list_vk_posts = []\n",
    "list_odn_posts = []\n",
    "list_ready_posts = []\n",
    "for j in range(len(list_of_all_pages1)):\n",
    "    vk_posts = 0\n",
    "    vk_postes = []\n",
    "    odn_posts = 0\n",
    "    odn_postes = []\n",
    "    odn_post = []\n",
    "    ready_posts = 0\n",
    "    ready_postes = []\n",
    "    for item in range(len(list_of_all_pages1[j])):\n",
    "        odn_post = []\n",
    "        ready_post = []\n",
    "        vk_post = []\n",
    "        uClient = uReq(list_of_all_pages1[j][item])\n",
    "        page_html = uClient.read()\n",
    "        uClient.close()\n",
    "        page_soup = soup(page_html, \"html.parser\")\n",
    "        for p in range(len(page_soup.findAll(\"div\", {\"class\":\"content\"}))):\n",
    "            containers2 = page_soup.findAll(\"div\", {\"class\":\"content\"})[p] #ЧТО ЭТО ЗА ХУЙНЯ?????????\n",
    "            kirka0 = containers2.findAll(text=re.compile(\"vk.com\"))\n",
    "            vk_post.append(len(kirka0))\n",
    "            kirka1 = containers2.findAll(text=re.compile(r'odnokl|ok.ru'))\n",
    "            odn_post.append(len(kirka1))\n",
    "            kirka2 = containers2.findAll(text=re.compile(r'[Гг]отов'))\n",
    "            ready_post.append(len(kirka2))\n",
    "        vk_postes.append(vk_post)\n",
    "        ready_postes.append(ready_post)\n",
    "        odn_postes.append(odn_post)\n",
    "    odn_posts += odn_posts   \n",
    "    vk_posts += vk_posts\n",
    "    ready_posts += ready_posts\n",
    "    for i in range(len(vk_postes)):\n",
    "        for k in range(len(vk_postes[i])):\n",
    "            vk_posts += vk_postes[i][k]\n",
    "    list_vk_posts.append(vk_posts)\n",
    "    for i in range(len(odn_postes)):\n",
    "        for k in range(len(odn_postes[i])):\n",
    "            odn_posts += odn_postes[i][k]\n",
    "    list_odn_posts.append(odn_posts)\n",
    "    for i in range(len(ready_postes)):\n",
    "        for k in range(len(ready_postes[i])):\n",
    "            ready_posts += ready_postes[i][k]\n",
    "    list_ready_posts.append(ready_posts)"
   ]
  },
  {
   "cell_type": "markdown",
   "metadata": {},
   "source": [
    "Для таблицы"
   ]
  },
  {
   "cell_type": "code",
   "execution_count": null,
   "metadata": {},
   "outputs": [],
   "source": [
    "list_of_lists.append(list_ready_posts)\n",
    "list_of_lists.append(list_searchers)\n",
    "list_of_lists.append(list_of_power)\n",
    "list_of_lists.append(list_vk_posts)\n",
    "list_of_lists.append(list_odn_posts)\n",
    "list_of_lists.append(list_age11)\n",
    "list_of_lists.append(list_height)\n",
    "list_of_lists.append(list_help1)\n",
    "list_of_lists.append(list_photo)\n",
    "list_of_lists.append(list_posts)\n",
    "list_of_lists.append(list_sex1)\n",
    "list_of_lists.append(list_state1)\n",
    "list_of_lists.append(list_hair_color)\n",
    "list_of_lists.append(list_bodytype)\n",
    "list_of_lists.append(list_eye)\n",
    "list_of_lists.append(list_full)\n",
    "list_of_lists.append(list_place)\n",
    "list_of_lists.append(list_color_of_clothes) # Бабкен вставил\n",
    "list_of_lists.append(list_podrobnost) # Бабкен вставил еще раз, но уже себе\n",
    "list_of_lists.append(list_primeti)\n",
    "list_of_lists.append(list_search_time)\n",
    "list_of_lists.append(list_lost_time)\n",
    "list_of_lists.append(list_find_time)\n",
    "list_of_lists.append(list_x_tracks1)\n",
    "list_of_lists.append(list_url1)\n",
    "list_of_lists.append(list_km1)\n",
    "list_of_lists.append(list_teams1)\n",
    "list_of_lists.append(list_date11)\n",
    "list_of_lists.append(list_date22)\n",
    "list_of_lists.append(list_delta)\n",
    "list_of_lists.append(list_month)\n",
    "list_of_lists.append(list_year)\n",
    "# Бабкен вставил снова, только Коле в пердачело"
   ]
  },
  {
   "cell_type": "code",
   "execution_count": null,
   "metadata": {},
   "outputs": [],
   "source": [
    "df1 = pd.DataFrame(columns = ['Готовые', 'Искатели', 'Сила искателей', 'Репосты_вк', 'Репосты_одн', 'Возраст', 'Рост', 'Мед. Состояние', 'Фото', 'Посты', 'Гендер', 'Состояние', 'Цвет волос', 'Телосложение', 'Цвет глаз', 'Url','Место', 'Одежда_ярк', 'Одежда_колво', 'Приметы_колво', 'Время поиска', \"Время пропажи\", \"Время нахождения\", \"Координаты пропажи\", 'url_tracks', 'km', 'teams','date1', 'date2', 'delta_dates', 'Месяц', 'Год'])"
   ]
  },
  {
   "cell_type": "code",
   "execution_count": null,
   "metadata": {},
   "outputs": [],
   "source": [
    "for i, j in zip(list_of_lists, list(df1.columns)):\n",
    "    df1[j] = pd.Series(i)"
   ]
  },
  {
   "cell_type": "markdown",
   "metadata": {},
   "source": [
    "# Тадаам ! Вот , что мы получили"
   ]
  },
  {
   "cell_type": "code",
   "execution_count": null,
   "metadata": {},
   "outputs": [],
   "source": [
    "df1"
   ]
  },
  {
   "cell_type": "code",
   "execution_count": null,
   "metadata": {},
   "outputs": [],
   "source": [
    "df1.to_excel(\"Sibir.xlsx\")"
   ]
  }
 ],
 "metadata": {
  "kernelspec": {
   "display_name": "Python 3",
   "language": "python",
   "name": "python3"
  },
  "language_info": {
   "codemirror_mode": {
    "name": "ipython",
    "version": 3
   },
   "file_extension": ".py",
   "mimetype": "text/x-python",
   "name": "python",
   "nbconvert_exporter": "python",
   "pygments_lexer": "ipython3",
   "version": "3.7.3"
  }
 },
 "nbformat": 4,
 "nbformat_minor": 2
}
