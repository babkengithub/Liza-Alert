{
 "cells": [
  {
   "cell_type": "code",
   "execution_count": 20,
   "metadata": {},
   "outputs": [],
   "source": [
    "from bs4 import BeautifulSoup as soup\n",
    "from urllib.request import urlopen as uReq\n",
    "from nltk.stem import WordNetLemmatizer\n",
    "from nltk.tokenize import word_tokenize\n",
    "import re\n",
    "import scrapy\n",
    "import nltk\n",
    "from datetime import datetime, time, date"
   ]
  },
  {
   "cell_type": "code",
   "execution_count": 16,
   "metadata": {},
   "outputs": [],
   "source": [
    "my_url = 'https://lizaalert.org/forum/viewtopic.php?f=241&t=12498'\n",
    "client = uReq(my_url)"
   ]
  },
  {
   "cell_type": "code",
   "execution_count": 6,
   "metadata": {},
   "outputs": [],
   "source": [
    "page_html = client.read()"
   ]
  },
  {
   "cell_type": "code",
   "execution_count": 7,
   "metadata": {},
   "outputs": [],
   "source": [
    "client.close()"
   ]
  },
  {
   "cell_type": "code",
   "execution_count": 8,
   "metadata": {},
   "outputs": [],
   "source": [
    "ps = soup(page_html, \"html.parser\")"
   ]
  },
  {
   "cell_type": "code",
   "execution_count": 38,
   "metadata": {},
   "outputs": [],
   "source": [
    "english_stops = ['.', ',', ':', ';', \"!\", \"?\", \"-\"]\n",
    "months_length = {\"янв\": 31, \"фев\": 28, \"мар\": 31, \"апр\": 30, \"май\": 31, \"июн\": 30, \"июл\": 31, \"авг\": 31, \"сен\": \"30\",\n",
    "                \"окт\": 31, \"ноя\": 30, \"дек\": 31}\n",
    "months_num = {\"янв\": 1, \"фев\": 2, \"мар\": 3,\"апр\": 4,\"май\": 5,\"июн\": 6,\"июл\": 7,\"авг\": 8,\"сен\": 9,\"окт\": 10,\"ноя\": 11,\"дек\": 12}\n",
    "loss_find = {\"время пропажи\": \"\", \"время нахождения\": \"\"}"
   ]
  },
  {
   "cell_type": "code",
   "execution_count": 11,
   "metadata": {},
   "outputs": [],
   "source": [
    "main = ps.find('div', {'class':'content'}).text"
   ]
  },
  {
   "cell_type": "code",
   "execution_count": 64,
   "metadata": {},
   "outputs": [],
   "source": [
    "notmain = ps.find('div', {'class':'notice'}).text"
   ]
  },
  {
   "cell_type": "code",
   "execution_count": 66,
   "metadata": {},
   "outputs": [
    {
     "data": {
      "text/plain": [
       "'11 июл 2016'"
      ]
     },
     "execution_count": 66,
     "metadata": {},
     "output_type": "execute_result"
    }
   ],
   "source": [
    "re.search(r'\\d+ \\w+ \\d{4}|\\d{2}.\\d{2}.\\d{4}', notmain).group()"
   ]
  },
  {
   "cell_type": "code",
   "execution_count": 61,
   "metadata": {},
   "outputs": [],
   "source": [
    "def lost_timing(x):\n",
    "    if re.search(r'\\d+ \\w+ \\d{4}|\\d{2}.\\d{2}.\\d{4}', x).group() == None:\n",
    "        return \"Сбой\"\n",
    "    else:\n",
    "        lost_time = re.search(r'\\d+ \\w+ \\d{4}|\\d{2}.\\d{2}.\\d{4}', x).group()\n",
    "        if \"я\" in lost_time or \"т\" in lost_time:\n",
    "            lts = lost_time.split()\n",
    "            lts[1] = months_num[lts[1][:3]]\n",
    "            lts = list(map(int, lts))\n",
    "            lost_time = date(lts[-1], lts[-2], lts[-3])\n",
    "            return lost_time\n",
    "            #lost_time = date(lts[-1], [-2], [-3])\n",
    "        else:\n",
    "            lts = lost_time.split('.')\n",
    "            lost_time = date(lts[-1], lts[-2], lts[-3])\n",
    "            return lost_time"
   ]
  },
  {
   "cell_type": "code",
   "execution_count": 62,
   "metadata": {},
   "outputs": [
    {
     "data": {
      "text/plain": [
       "datetime.date(2016, 7, 4)"
      ]
     },
     "execution_count": 62,
     "metadata": {},
     "output_type": "execute_result"
    }
   ],
   "source": [
    "lost_timing(main)"
   ]
  },
  {
   "cell_type": "code",
   "execution_count": 86,
   "metadata": {},
   "outputs": [],
   "source": [
    "def find_timing(x):\n",
    "    if re.search(r'\\d+ \\w+ \\d{4}|\\d{2}.\\d{2}.\\d{4}', x).group() == None:\n",
    "        return \"Сбой\"\n",
    "    else:\n",
    "        find_time = re.search(r'\\d+ \\w+ \\d{4}|\\d{2}.\\d{2}.\\d{4}', x).group()\n",
    "        fts = find_time.split()\n",
    "        fts[1] = months_num[fts[1]]\n",
    "        fts = list(map(int, fts))\n",
    "        find_time = date(fts[-1], fts[-2], fts[-3])\n",
    "        return find_time"
   ]
  },
  {
   "cell_type": "code",
   "execution_count": 87,
   "metadata": {},
   "outputs": [
    {
     "data": {
      "text/plain": [
       "datetime.date(2016, 7, 11)"
      ]
     },
     "execution_count": 87,
     "metadata": {},
     "output_type": "execute_result"
    }
   ],
   "source": [
    "find_timing(notmain)"
   ]
  },
  {
   "cell_type": "code",
   "execution_count": 90,
   "metadata": {},
   "outputs": [],
   "source": [
    "def search_timing(x, y):\n",
    "    return (find_timing(y) - lost_timing(x)).days"
   ]
  },
  {
   "cell_type": "code",
   "execution_count": 92,
   "metadata": {},
   "outputs": [
    {
     "data": {
      "text/plain": [
       "7"
      ]
     },
     "execution_count": 92,
     "metadata": {},
     "output_type": "execute_result"
    }
   ],
   "source": [
    "search_timing(main, notmain)"
   ]
  },
  {
   "cell_type": "code",
   "execution_count": 95,
   "metadata": {},
   "outputs": [],
   "source": [
    "def lost_time_format(x):\n",
    "    if len(str(lost_timing(x).day)) == 1:\n",
    "        day = \"0\" + str(lost_timing(x).day)\n",
    "    else:\n",
    "        day = str(lost_timing(x).day)\n",
    "    if len(str(lost_timing(x).month)) == 1:\n",
    "        month = \"0\" + str(lost_timing(x).month)\n",
    "    else:\n",
    "        month = str(lost_timing(x).month)\n",
    "    return day + \".\" + month + \".\" + str(lost_timing(x).year)"
   ]
  },
  {
   "cell_type": "code",
   "execution_count": 96,
   "metadata": {},
   "outputs": [
    {
     "data": {
      "text/plain": [
       "'04.07.2016'"
      ]
     },
     "execution_count": 96,
     "metadata": {},
     "output_type": "execute_result"
    }
   ],
   "source": [
    "lost_time_format(main)"
   ]
  },
  {
   "cell_type": "code",
   "execution_count": 97,
   "metadata": {},
   "outputs": [],
   "source": [
    "def find_time_format(x):\n",
    "    if len(str(find_timing(x).day)) == 1:\n",
    "        day = \"0\" + str(find_timing(x).day)\n",
    "    else:\n",
    "        day = str(find_timing(x).day)\n",
    "    if len(str(find_timing(x).month)) == 1:\n",
    "        month = \"0\" + str(find_timing(x).month)\n",
    "    else:\n",
    "        month = str(find_timing(x).month)\n",
    "    return day + \".\" + month + \".\" + str(find_timing(x).year)"
   ]
  },
  {
   "cell_type": "code",
   "execution_count": 98,
   "metadata": {},
   "outputs": [
    {
     "data": {
      "text/plain": [
       "'11.07.2016'"
      ]
     },
     "execution_count": 98,
     "metadata": {},
     "output_type": "execute_result"
    }
   ],
   "source": [
    "find_time_format(notmain)"
   ]
  },
  {
   "cell_type": "code",
   "execution_count": 99,
   "metadata": {},
   "outputs": [],
   "source": [
    "def super_format(function, x):\n",
    "    if len(str(function(x).day)) == 1:\n",
    "        day = \"0\" + str(function(x).day)\n",
    "    else:\n",
    "        day = str(function(x).day)\n",
    "    if len(str(function(x).month)) == 1:\n",
    "        month = \"0\" + str(function(x).month)\n",
    "    else:\n",
    "        month = str(function(x).month)\n",
    "    return day + \".\" + month + \".\" + str(function(x).year)"
   ]
  },
  {
   "cell_type": "code",
   "execution_count": 101,
   "metadata": {},
   "outputs": [
    {
     "data": {
      "text/plain": [
       "'04.07.2016'"
      ]
     },
     "execution_count": 101,
     "metadata": {},
     "output_type": "execute_result"
    }
   ],
   "source": [
    "super_format(lost_timing, main)"
   ]
  },
  {
   "cell_type": "code",
   "execution_count": null,
   "metadata": {},
   "outputs": [],
   "source": []
  }
 ],
 "metadata": {
  "kernelspec": {
   "display_name": "Python 3",
   "language": "python",
   "name": "python3"
  },
  "language_info": {
   "codemirror_mode": {
    "name": "ipython",
    "version": 3
   },
   "file_extension": ".py",
   "mimetype": "text/x-python",
   "name": "python",
   "nbconvert_exporter": "python",
   "pygments_lexer": "ipython3",
   "version": "3.7.1"
  }
 },
 "nbformat": 4,
 "nbformat_minor": 2
}
