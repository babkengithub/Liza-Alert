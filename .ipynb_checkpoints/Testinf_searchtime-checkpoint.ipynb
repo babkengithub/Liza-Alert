{
 "cells": [
  {
   "cell_type": "code",
   "execution_count": 71,
   "metadata": {},
   "outputs": [
    {
     "name": "stderr",
     "output_type": "stream",
     "text": [
      "[nltk_data] Downloading package punkt to /Users/vgodie/nltk_data...\n",
      "[nltk_data]   Package punkt is already up-to-date!\n"
     ]
    }
   ],
   "source": [
    "import numpy as np\n",
    "import pandas as pd\n",
    "import re\n",
    "import bs4\n",
    "from urllib.request import urlopen as uReq\n",
    "from bs4 import BeautifulSoup as soup\n",
    "from scrapy import Selector\n",
    "from nltk import word_tokenize\n",
    "import nltk\n",
    "nltk.download('punkt') #winlocker\n",
    "pd.set_option(\"display.max_rows\", 100)\n",
    "pd.set_option('display.max_colwidth', -1)\n",
    "from datetime import datetime, time, date\n",
    "import scrapy\n",
    "from scrapy.selector import Selector\n",
    "import requests"
   ]
  },
  {
   "cell_type": "code",
   "execution_count": 103,
   "metadata": {},
   "outputs": [],
   "source": [
    "def lost_timing(x):\n",
    "    if re.search(r'\\d+ [января, февраля, марта, апреля, мая, июня, июля, августа, сентября, октября, ноября, декабря] \\d{4}|\\d{2}[.]\\d{2}[.]\\d{4}', x) == None:\n",
    "        return \"Сбой\"\n",
    "    else:\n",
    "        lost_time = re.search(r'\\d+ \\w+ \\d{4}|\\d{2}[.]\\d{2}[.]\\d{4}', x).group()\n",
    "        print(lost_time)\n",
    "        if \"я\" in lost_time or \"т\" in lost_time:\n",
    "            lts = lost_time.split()\n",
    "            print(lts)\n",
    "            lts[1] = months_num[lts[1][:3]]\n",
    "            lts = list(map(int, lts))\n",
    "            lost_time = date(lts[-1], lts[-2], lts[-3])\n",
    "            return lost_time\n",
    "            #lost_time = date(lts[-1], [-2], [-3])\n",
    "        else:\n",
    "            lts = lost_time.split('.')\n",
    "            lts = list(map(int, lts))\n",
    "            lost_time = date(lts[-1], lts[-2], lts[-3])\n",
    "            return lost_time"
   ]
  },
  {
   "cell_type": "code",
   "execution_count": 104,
   "metadata": {},
   "outputs": [],
   "source": [
    "def find_timing(x):\n",
    "    if re.search(r'\\d+ \\w+ \\d{4}|\\d{2}.\\d{2}.\\d{4}', x) == None:\n",
    "        return \"Сбой\"\n",
    "    else:\n",
    "        find_time = re.search(r'\\d+ \\w+ \\d{4}|\\d{2}.\\d{2}.\\d{4}', x).group()\n",
    "        print(find_time)\n",
    "        fts = find_time.split()\n",
    "        print(fts)\n",
    "        fts[1] = months_num[fts[1]]\n",
    "        fts = list(map(int, fts))\n",
    "        find_time = date(fts[-1], fts[-2], fts[-3])\n",
    "        return find_time"
   ]
  },
  {
   "cell_type": "code",
   "execution_count": 105,
   "metadata": {},
   "outputs": [],
   "source": [
    "english_stops = ['.', ',', ':', ';', \"!\", \"?\", '-', ')', '(']\n",
    "months_num = {\"янв\": 1, \"фев\": 2, \"мар\": 3,\"апр\": 4,\"мая\": 5, \"май\": 5,\"июн\": 6,\"июл\": 7,\"авг\": 8,\"сен\": 9,\"окт\": 10,\"ноя\": 11,\"дек\": 12}"
   ]
  },
  {
   "cell_type": "code",
   "execution_count": 106,
   "metadata": {},
   "outputs": [],
   "source": [
    "def search_timing(x, y):\n",
    "    return (find_timing(y) - lost_timing(x)).days"
   ]
  },
  {
   "cell_type": "code",
   "execution_count": 107,
   "metadata": {},
   "outputs": [],
   "source": [
    "my_url = 'https://lizaalert.org/forum/viewtopic.php?f=157&t=4191&sid=180efa106deed737c3ec2c9bb54b5adc'\n",
    "client = uReq(my_url) \n",
    "page_html = client.read()\n",
    "client.close()"
   ]
  },
  {
   "cell_type": "code",
   "execution_count": 108,
   "metadata": {},
   "outputs": [],
   "source": [
    "ps = soup(page_html, \"html.parser\")"
   ]
  },
  {
   "cell_type": "code",
   "execution_count": 109,
   "metadata": {},
   "outputs": [],
   "source": [
    "main = ps.find('div', {'class':'content'}).text\n",
    "notmain = ps.find('div', {'class':'notice'}).text"
   ]
  },
  {
   "cell_type": "code",
   "execution_count": 110,
   "metadata": {},
   "outputs": [
    {
     "data": {
      "text/plain": [
       "'Внимание! Пропал ребенок, 9 лет!Иевлев Константин.Координаторы: Максим 8 90 444 600 90Сергей 8928 11 00 935Максим 8952 602 80 65Место сбора - школа№7 ( переулок Марины Расковой, 28) в 21.00Нужна помощь добровольцев!!!Внимание! По поискам Иевлева Кости инфорги:Яна 8 909 423 00 66Юля 8 908 184 52 48'"
      ]
     },
     "execution_count": 110,
     "metadata": {},
     "output_type": "execute_result"
    }
   ],
   "source": [
    "main"
   ]
  },
  {
   "cell_type": "code",
   "execution_count": 111,
   "metadata": {},
   "outputs": [
    {
     "data": {
      "text/plain": [
       "'Последний раз редактировалось Ростовчанка 20 фев 2013, 08:18, всего редактировалось 2 раз(а).\\n\\t\\t\\t\\t\\t\\n\\t\\t\\t\\t'"
      ]
     },
     "execution_count": 111,
     "metadata": {},
     "output_type": "execute_result"
    }
   ],
   "source": [
    "notmain"
   ]
  },
  {
   "cell_type": "code",
   "execution_count": 112,
   "metadata": {},
   "outputs": [
    {
     "name": "stdout",
     "output_type": "stream",
     "text": [
      "20 фев 2013\n",
      "['20', 'фев', '2013']\n"
     ]
    },
    {
     "data": {
      "text/plain": [
       "datetime.date(2013, 2, 20)"
      ]
     },
     "execution_count": 112,
     "metadata": {},
     "output_type": "execute_result"
    }
   ],
   "source": [
    "find_timing(notmain)"
   ]
  },
  {
   "cell_type": "code",
   "execution_count": 113,
   "metadata": {},
   "outputs": [
    {
     "data": {
      "text/plain": [
       "'Сбой'"
      ]
     },
     "execution_count": 113,
     "metadata": {},
     "output_type": "execute_result"
    }
   ],
   "source": [
    "lost_timing(main)"
   ]
  },
  {
   "cell_type": "code",
   "execution_count": 114,
   "metadata": {},
   "outputs": [
    {
     "name": "stdout",
     "output_type": "stream",
     "text": [
      "20 фев 2013\n",
      "['20', 'фев', '2013']\n"
     ]
    },
    {
     "ename": "TypeError",
     "evalue": "unsupported operand type(s) for -: 'datetime.date' and 'str'",
     "output_type": "error",
     "traceback": [
      "\u001b[0;31m---------------------------------------------------------------------------\u001b[0m",
      "\u001b[0;31mTypeError\u001b[0m                                 Traceback (most recent call last)",
      "\u001b[0;32m<ipython-input-114-a91724685eea>\u001b[0m in \u001b[0;36m<module>\u001b[0;34m\u001b[0m\n\u001b[0;32m----> 1\u001b[0;31m \u001b[0msearch_timing\u001b[0m\u001b[0;34m(\u001b[0m\u001b[0mmain\u001b[0m\u001b[0;34m,\u001b[0m\u001b[0mnotmain\u001b[0m\u001b[0;34m)\u001b[0m\u001b[0;34m\u001b[0m\u001b[0;34m\u001b[0m\u001b[0m\n\u001b[0m",
      "\u001b[0;32m<ipython-input-106-788c38ed32b0>\u001b[0m in \u001b[0;36msearch_timing\u001b[0;34m(x, y)\u001b[0m\n\u001b[1;32m      1\u001b[0m \u001b[0;32mdef\u001b[0m \u001b[0msearch_timing\u001b[0m\u001b[0;34m(\u001b[0m\u001b[0mx\u001b[0m\u001b[0;34m,\u001b[0m \u001b[0my\u001b[0m\u001b[0;34m)\u001b[0m\u001b[0;34m:\u001b[0m\u001b[0;34m\u001b[0m\u001b[0;34m\u001b[0m\u001b[0m\n\u001b[0;32m----> 2\u001b[0;31m     \u001b[0;32mreturn\u001b[0m \u001b[0;34m(\u001b[0m\u001b[0mfind_timing\u001b[0m\u001b[0;34m(\u001b[0m\u001b[0my\u001b[0m\u001b[0;34m)\u001b[0m \u001b[0;34m-\u001b[0m \u001b[0mlost_timing\u001b[0m\u001b[0;34m(\u001b[0m\u001b[0mx\u001b[0m\u001b[0;34m)\u001b[0m\u001b[0;34m)\u001b[0m\u001b[0;34m.\u001b[0m\u001b[0mdays\u001b[0m\u001b[0;34m\u001b[0m\u001b[0;34m\u001b[0m\u001b[0m\n\u001b[0m",
      "\u001b[0;31mTypeError\u001b[0m: unsupported operand type(s) for -: 'datetime.date' and 'str'"
     ]
    }
   ],
   "source": [
    "search_timing(main,notmain)"
   ]
  },
  {
   "cell_type": "code",
   "execution_count": null,
   "metadata": {},
   "outputs": [],
   "source": []
  }
 ],
 "metadata": {
  "kernelspec": {
   "display_name": "Python 3",
   "language": "python",
   "name": "python3"
  },
  "language_info": {
   "codemirror_mode": {
    "name": "ipython",
    "version": 3
   },
   "file_extension": ".py",
   "mimetype": "text/x-python",
   "name": "python",
   "nbconvert_exporter": "python",
   "pygments_lexer": "ipython3",
   "version": "3.7.1"
  }
 },
 "nbformat": 4,
 "nbformat_minor": 2
}
