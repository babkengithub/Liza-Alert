{
 "cells": [
  {
   "cell_type": "code",
   "execution_count": 122,
   "metadata": {},
   "outputs": [],
   "source": [
    "from urllib.request import urlopen as urll  # Этой строкой посылаем запрос на возможность получения url страниц.Request обязательна, она дает возможность получить страницу в Интернете\n",
    "from bs4 import BeautifulSoup  # bs4 содержит не только суп, поэтому необходимо именно его загрузить.Сам суп даёт возможность работать с html файлами, то есть превращать более читабельнй вид\n",
    "import re\n",
    "import requests\n",
    "import pandas as pd\n",
    "\n",
    "page = urll('https://lizaalert.org/forum/viewtopic.php?f=171&t=5573')\n",
    "soup = BeautifulSoup(page)\n"
   ]
  },
  {
   "cell_type": "code",
   "execution_count": 123,
   "metadata": {},
   "outputs": [
    {
     "data": {
      "text/html": [
       "<div>\n",
       "<style scoped>\n",
       "    .dataframe tbody tr th:only-of-type {\n",
       "        vertical-align: middle;\n",
       "    }\n",
       "\n",
       "    .dataframe tbody tr th {\n",
       "        vertical-align: top;\n",
       "    }\n",
       "\n",
       "    .dataframe thead th {\n",
       "        text-align: right;\n",
       "    }\n",
       "</style>\n",
       "<table border=\"1\" class=\"dataframe\">\n",
       "  <thead>\n",
       "    <tr style=\"text-align: right;\">\n",
       "      <th></th>\n",
       "      <th>Возраст</th>\n",
       "      <th>Рост</th>\n",
       "      <th>Фото</th>\n",
       "      <th>Пол</th>\n",
       "      <th>Жив/Мертв</th>\n",
       "    </tr>\n",
       "  </thead>\n",
       "  <tbody>\n",
       "  </tbody>\n",
       "</table>\n",
       "</div>"
      ],
      "text/plain": [
       "Empty DataFrame\n",
       "Columns: [Возраст, Рост, Фото, Пол, Жив/Мертв]\n",
       "Index: []"
      ]
     },
     "execution_count": 123,
     "metadata": {},
     "output_type": "execute_result"
    }
   ],
   "source": [
    "df = pd.DataFrame({\n",
    "    'Возраст' : list,\n",
    "    'Рост' : list,\n",
    "    'Фото': [],\n",
    "    'Пол' : [],\n",
    "    'Жив/Мертв' : []\n",
    "     })\n",
    "df"
   ]
  },
  {
   "cell_type": "code",
   "execution_count": 124,
   "metadata": {},
   "outputs": [
    {
     "data": {
      "text/plain": [
       "'Пунтик Анатолий Владимирович, 17.12.1979 г.р., Минск - Клецк06.08.2013 уехал от подъезда своего дома по ул. Красина в Клецкий район. В последний раз выходил на связь 12.08.2013. С тех пор о его местонахождении ничего неизвестно. Приметы: рост 185, телосложение среднее, зеленый цвет глаз, волосы короткие русые. Был одет: джинсы, рубашка с коротким рукавом фиолетово-красная с надписью на спине. Особые приметы: над бровью и на подбородке шрам.'"
      ]
     },
     "execution_count": 124,
     "metadata": {},
     "output_type": "execute_result"
    }
   ],
   "source": [
    "allinfo = soup.findAll('div',class_= \"content\")\n",
    "readytext = allinfo[0].text\n",
    "readytext\n"
   ]
  },
  {
   "cell_type": "markdown",
   "metadata": {},
   "source": [
    "# Возраст"
   ]
  },
  {
   "cell_type": "code",
   "execution_count": 125,
   "metadata": {},
   "outputs": [
    {
     "name": "stdout",
     "output_type": "stream",
     "text": [
      "40\n"
     ]
    }
   ],
   "source": [
    "age = re.search(r'\\d+ ',readytext)\n",
    "age = int(age.group(0)) # эТО уже у нас число)) Ура!!!!\n",
    "if age < 100:\n",
    "        age = age\n",
    "else:\n",
    "        age = 2019 - age\n",
    "print(age)"
   ]
  },
  {
   "cell_type": "markdown",
   "metadata": {},
   "source": [
    "# Рост"
   ]
  },
  {
   "cell_type": "code",
   "execution_count": 126,
   "metadata": {},
   "outputs": [
    {
     "name": "stdout",
     "output_type": "stream",
     "text": [
      "185\n"
     ]
    }
   ],
   "source": [
    "high = re.search(r'[Рр]ост \\d{3}|[Рр]оста \\d{3}|[Рр]оста\\d{3}|[Рр]ост: \\d{3}|[Рр]ост - \\d{3}',readytext )\n",
    "\n",
    "high = str(high.group(0))\n",
    "\n",
    "height = re.findall(r'\\d+',high)\n",
    "height = int(\" \".join(height))\n",
    "print(height)"
   ]
  },
  {
   "cell_type": "markdown",
   "metadata": {},
   "source": [
    "# Фото"
   ]
  },
  {
   "cell_type": "code",
   "execution_count": 127,
   "metadata": {},
   "outputs": [
    {
     "name": "stdout",
     "output_type": "stream",
     "text": [
      "-\n"
     ]
    }
   ],
   "source": [
    "photored = allinfo[0]\n",
    "photo = photored.img\n",
    "photo = str(photo)\n",
    "\n",
    "yphoto = re.findall(r'[h]ttp',photo) # Заметил косяк, нашел одну анкету, где фотки прикреплены по-другому.  \n",
    "yphoto = str(yphoto)                # Но это всего одна анкета,поэтому пока считаю можно не исправлять\n",
    "if yphoto == \"['http']\":\n",
    "    yphoto = \"+\"\n",
    "else:\n",
    "    yphoto = \"-\"\n",
    "print(yphoto)"
   ]
  },
  {
   "cell_type": "markdown",
   "metadata": {},
   "source": [
    "#  Пол\n"
   ]
  },
  {
   "cell_type": "code",
   "execution_count": 130,
   "metadata": {},
   "outputs": [
    {
     "name": "stdout",
     "output_type": "stream",
     "text": [
      "Мужчина\n"
     ]
    }
   ],
   "source": [
    "sex = re.search(r'[Вв]ышел|[Вв]ышла|[Уу]шла|[Уу]шёл|[Уу]шел|[Пп]ропал|[Пп]ропала|[Нн]айден|[Нн]айдена|[Жж]ива|[Жж]ив|[Уу]ехал|[Уу]ехала', readytext)\n",
    "sex = str(sex.group(0))\n",
    "if sex == \"вышел\" or sex == \"Вышел\" or sex == \"ушел\" or sex == \"Ушел\" or sex == 'ушёл' or sex == 'пропал' or sex == 'Пропал' or sex == 'Найден' or sex == 'найден' or sex == 'ушел'or sex == 'пропал'or sex == 'найден'or sex == 'Найден'or sex == 'вышел' or sex == 'Жив'or sex == 'жив'or sex == 'уехал':\n",
    "    sex = \"Мужчина\"\n",
    "else:\n",
    "    sex = 'Женщина'\n",
    "print(sex)"
   ]
  },
  {
   "cell_type": "markdown",
   "metadata": {},
   "source": [
    "\n",
    "#  Жив или мертв"
   ]
  },
  {
   "cell_type": "code",
   "execution_count": 131,
   "metadata": {},
   "outputs": [
    {
     "ename": "AttributeError",
     "evalue": "'NoneType' object has no attribute 'group'",
     "output_type": "error",
     "traceback": [
      "\u001b[1;31m---------------------------------------------------------------------------\u001b[0m",
      "\u001b[1;31mAttributeError\u001b[0m                            Traceback (most recent call last)",
      "\u001b[1;32m<ipython-input-131-560a53bf15c8>\u001b[0m in \u001b[0;36m<module>\u001b[1;34m\u001b[0m\n\u001b[0;32m      1\u001b[0m \u001b[0msoup\u001b[0m\u001b[1;33m.\u001b[0m\u001b[0mtitle\u001b[0m\u001b[1;33m.\u001b[0m\u001b[0mtext\u001b[0m\u001b[1;33m\u001b[0m\u001b[1;33m\u001b[0m\u001b[0m\n\u001b[0;32m      2\u001b[0m \u001b[0msit\u001b[0m \u001b[1;33m=\u001b[0m \u001b[0mre\u001b[0m\u001b[1;33m.\u001b[0m\u001b[0msearch\u001b[0m\u001b[1;33m(\u001b[0m\u001b[1;34mr'[Жж]ива|[Жж]ив|[Пп]огиб|[Пп]огибла|[Нн]айден|[Нн]айдена| неизвестно.|неизвестно.|неизвестно.|неизвестно . '\u001b[0m\u001b[1;33m,\u001b[0m\u001b[0msoup\u001b[0m\u001b[1;33m.\u001b[0m\u001b[0mtitle\u001b[0m\u001b[1;33m.\u001b[0m\u001b[0mtext\u001b[0m\u001b[1;33m)\u001b[0m\u001b[1;33m\u001b[0m\u001b[1;33m\u001b[0m\u001b[0m\n\u001b[1;32m----> 3\u001b[1;33m \u001b[0msit\u001b[0m \u001b[1;33m=\u001b[0m \u001b[0mstr\u001b[0m\u001b[1;33m(\u001b[0m\u001b[0msit\u001b[0m\u001b[1;33m.\u001b[0m\u001b[0mgroup\u001b[0m\u001b[1;33m(\u001b[0m\u001b[1;36m0\u001b[0m\u001b[1;33m)\u001b[0m\u001b[1;33m)\u001b[0m\u001b[1;33m\u001b[0m\u001b[1;33m\u001b[0m\u001b[0m\n\u001b[0m\u001b[0;32m      4\u001b[0m \u001b[1;32mif\u001b[0m \u001b[0msit\u001b[0m \u001b[1;33m==\u001b[0m \u001b[1;34m'Жива'\u001b[0m \u001b[1;32mor\u001b[0m \u001b[0msit\u001b[0m \u001b[1;33m==\u001b[0m \u001b[1;34m'Жив'\u001b[0m \u001b[1;32mor\u001b[0m \u001b[0msit\u001b[0m \u001b[1;33m==\u001b[0m \u001b[1;34m'жива'\u001b[0m \u001b[1;32mor\u001b[0m \u001b[0msit\u001b[0m \u001b[1;33m==\u001b[0m \u001b[1;34m'жив'\u001b[0m \u001b[1;32mor\u001b[0m \u001b[0msit\u001b[0m \u001b[1;33m==\u001b[0m \u001b[1;34m'Найден'\u001b[0m \u001b[1;32mor\u001b[0m \u001b[0msit\u001b[0m \u001b[1;33m==\u001b[0m \u001b[1;34m'найден'\u001b[0m \u001b[1;32mor\u001b[0m \u001b[0msit\u001b[0m \u001b[1;33m==\u001b[0m \u001b[1;34m'найдена'\u001b[0m\u001b[1;32mor\u001b[0m \u001b[0msit\u001b[0m \u001b[1;33m==\u001b[0m \u001b[1;34m'Найдена'\u001b[0m\u001b[1;33m:\u001b[0m\u001b[1;33m\u001b[0m\u001b[1;33m\u001b[0m\u001b[0m\n\u001b[0;32m      5\u001b[0m     \u001b[0msit\u001b[0m \u001b[1;33m=\u001b[0m \u001b[1;34m'Живой'\u001b[0m\u001b[1;33m\u001b[0m\u001b[1;33m\u001b[0m\u001b[0m\n",
      "\u001b[1;31mAttributeError\u001b[0m: 'NoneType' object has no attribute 'group'"
     ]
    }
   ],
   "source": [
    "soup.title.text \n",
    "sit = re.search(r'[Жж]ива|[Жж]ив|[Пп]огиб|[Пп]огибла|[Нн]айден|[Нн]айдена| неизвестно.|неизвестно.|неизвестно.|неизвестно . ',soup.title.text)\n",
    "sit = str(sit.group(0))\n",
    "if sit == 'Жива' or sit == 'Жив' or sit == 'жива' or sit == 'жив' or sit == 'Найден' or sit == 'найден' or sit == 'найдена'or sit == 'Найдена':\n",
    "    sit = 'Живой'\n",
    "else:\n",
    "    sit = 'Мертв'\n",
    "print(sit)"
   ]
  },
  {
   "cell_type": "markdown",
   "metadata": {},
   "source": [
    "# Конец)))"
   ]
  },
  {
   "cell_type": "code",
   "execution_count": null,
   "metadata": {},
   "outputs": [],
   "source": [
    "newrow = pd.DataFrame({\n",
    "        'Возраст' : [age],\n",
    "        'Рост' : [height],\n",
    "        'Фото': [yphoto],\n",
    "        'Пол' : [sex],\n",
    "        'Жив/Мертв' : [sit]\n",
    "         })\n",
    "df = df.append(newrow)\n",
    "\n",
    "df"
   ]
  },
  {
   "cell_type": "code",
   "execution_count": null,
   "metadata": {},
   "outputs": [],
   "source": []
  }
 ],
 "metadata": {
  "kernelspec": {
   "display_name": "Python 3",
   "language": "python",
   "name": "python3"
  },
  "language_info": {
   "codemirror_mode": {
    "name": "ipython",
    "version": 3
   },
   "file_extension": ".py",
   "mimetype": "text/x-python",
   "name": "python",
   "nbconvert_exporter": "python",
   "pygments_lexer": "ipython3",
   "version": "3.7.3"
  }
 },
 "nbformat": 4,
 "nbformat_minor": 2
}
