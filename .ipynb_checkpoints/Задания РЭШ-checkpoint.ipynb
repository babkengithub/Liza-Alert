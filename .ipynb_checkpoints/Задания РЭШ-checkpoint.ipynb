{
 "cells": [
  {
   "cell_type": "code",
   "execution_count": 50,
   "metadata": {},
   "outputs": [],
   "source": [
    "from collections import deque\n",
    "from math import sqrt\n",
    "\n",
    "class Tester(object):\n",
    "    def __init__(self, inp):\n",
    "        self.outputs = []\n",
    "        self.inputs = deque(inp)\n",
    "    def print(self, *args, sep = \" \", end = \"\\n\"):\n",
    "        text = sep.join(map(str, args)) + end\n",
    "        newlines = text.splitlines(keepends=True)\n",
    "        if self.outputs and self.outputs[-1] and self.outputs[-1][-1] != \"\\n\" and newlines:\n",
    "            self.outputs[-1] += newlines[0]\n",
    "            self.outputs.extend(newlines[1:])\n",
    "        else:\n",
    "            self.outputs.extend(newlines)\n",
    "            \n",
    "    def input(self, *args):\n",
    "        assert self.inputs, \"Вы пытаетесь считать больше элементов, чем предусмотрено условием\"\n",
    "        return self.inputs.popleft()\n",
    "    def __enter__(self):\n",
    "        global print\n",
    "        global input\n",
    "        print = self.print\n",
    "        input = self.input\n",
    "        return self.outputs\n",
    "    def __exit__(self, *args):\n",
    "        global print\n",
    "        global input\n",
    "        del print\n",
    "        del input"
   ]
  },
  {
   "cell_type": "code",
   "execution_count": null,
   "metadata": {},
   "outputs": [],
   "source": [
    "a = int(input())\n",
    "b = a + a%2  + 2*((a-1)%2)\n",
    "print(b)"
   ]
  },
  {
   "cell_type": "code",
   "execution_count": null,
   "metadata": {},
   "outputs": [],
   "source": [
    "a = int(input())\n",
    "hours = a//3600\n",
    "b = a%3600\n",
    "minutes = b//60\n",
    "sekynd = b%60\n",
    "print(hours,minutes,sekynd)\n"
   ]
  },
  {
   "cell_type": "code",
   "execution_count": null,
   "metadata": {},
   "outputs": [],
   "source": []
  }
 ],
 "metadata": {
  "kernelspec": {
   "display_name": "Python 3",
   "language": "python",
   "name": "python3"
  },
  "language_info": {
   "codemirror_mode": {
    "name": "ipython",
    "version": 3
   },
   "file_extension": ".py",
   "mimetype": "text/x-python",
   "name": "python",
   "nbconvert_exporter": "python",
   "pygments_lexer": "ipython3",
   "version": "3.7.3"
  }
 },
 "nbformat": 4,
 "nbformat_minor": 2
}
