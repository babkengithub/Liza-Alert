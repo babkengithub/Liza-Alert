{
 "cells": [
  {
   "cell_type": "markdown",
   "metadata": {},
   "source": [
    "# Код Славы, парсинг Возраста, Роста, Фото\n"
   ]
  },
  {
   "cell_type": "markdown",
   "metadata": {},
   "source": [
    "Сначала введем основу, то есть импорт библиотек и самого сайта"
   ]
  },
  {
   "cell_type": "code",
   "execution_count": null,
   "metadata": {},
   "outputs": [],
   "source": [
    "# Что, начнем проект. Я очень ленивый негодяй, но тем не менее, попробую сделать.\n",
    "# Сначала печатаем библиотеки, который нам нужны\n",
    "\n",
    "\n",
    "from urllib.request import urlopen as urll  # Этой строкой посылаем запрос на возможность получения url страниц.Request обязательна, она дает возможность получить страницу в Интернете\n",
    "from bs4 import BeautifulSoup as soup # bs4 содержит не только суп, поэтому необходимо именно его загрузить.Сам суп даёт возможность работать с html файлами, то есть превращать более читабельнй вид\n",
    "import re\n",
    "import requests\n",
    "import pandas as pd\n",
    "\n",
    "page = ['https://lizaalert.org/forum/viewtopic.php?f=173&t=24632']\n",
    "soup = BeautifulSoup(page)\n"
   ]
  },
  {
   "cell_type": "code",
   "execution_count": null,
   "metadata": {},
   "outputs": [],
   "source": [
    "df = pd.DataFrame({\n",
    "    'Возраст' : [],\n",
    "    'Рост' : [],\n",
    "    'Фото': [],\n",
    "    'Пол' : [],\n",
    "    'Жив/Мертв' : []\n",
    "     })\n",
    "df"
   ]
  },
  {
   "cell_type": "code",
   "execution_count": null,
   "metadata": {},
   "outputs": [],
   "source": []
  },
  {
   "cell_type": "code",
   "execution_count": null,
   "metadata": {},
   "outputs": [],
   "source": [
    "    allinfo = soup.findAll('div',class_= \"content\")"
   ]
  },
  {
   "cell_type": "code",
   "execution_count": null,
   "metadata": {},
   "outputs": [],
   "source": [
    "    readytext = allinfo[0].text\n",
    "    readytext"
   ]
  },
  {
   "cell_type": "code",
   "execution_count": 928,
   "metadata": {},
   "outputs": [],
   "source": [
    "# Первое это было просто вход сайт и парс всего с него(точнее не сайт, а определенной анкеты)\n",
    "# Теперь начинаем по анкете находить Возраст, Рост, Фото, Жив/Мертв и Пол\n"
   ]
  },
  {
   "cell_type": "code",
   "execution_count": 929,
   "metadata": {},
   "outputs": [],
   "source": [
    "# Но начну с ВОЗРАСТА(хотя он уже запарсен, я просто повторил код Вани).То есть за предмет парсинга я беру readytext!"
   ]
  },
  {
   "cell_type": "markdown",
   "metadata": {},
   "source": [
    "# Парсинг Возраста"
   ]
  },
  {
   "cell_type": "code",
   "execution_count": 930,
   "metadata": {},
   "outputs": [],
   "source": [
    "    age = re.search(r'\\d+ ',readytext)"
   ]
  },
  {
   "cell_type": "code",
   "execution_count": 931,
   "metadata": {},
   "outputs": [
    {
     "name": "stdout",
     "output_type": "stream",
     "text": [
      "65\n"
     ]
    }
   ],
   "source": [
    "    age =int(age.group(0)) # эТО уже у нас число)) Ура!!!!\n",
    "    if age < 100:\n",
    "        print(age)\n",
    "    else:\n",
    "        rage = 2019 - age\n",
    "        print(rage)"
   ]
  },
  {
   "cell_type": "code",
   "execution_count": 932,
   "metadata": {},
   "outputs": [],
   "source": [
    "# Теперь перейдем к РОСТУ ВОууууу, смог сделать, огонь!"
   ]
  },
  {
   "cell_type": "markdown",
   "metadata": {},
   "source": [
    "# Парсинг Роста"
   ]
  },
  {
   "cell_type": "code",
   "execution_count": 933,
   "metadata": {},
   "outputs": [
    {
     "data": {
      "text/plain": [
       "'Воронкова (Левина)Татьяна Ивановна 65 лет, Сергиево-Посадский р-он, МО. 10 апреля 2019 С 10 апреля 2019 года ее местонахождение неизвестно.СЛЕПАЯПриметы:Рост: 155 см.Телосложение: xудощавоеЦвет глаз: кариеВолосы: седыеБыла одета: черная болоньевая куртка, черные штаны, серые резиновые сапоги.С собой: черный пакет.КартыОриентировка на печатьОриентировка на репост-------------------------------------------------- ВНИМАНИЕ! Штаб свёрнут, следите за темой.Внимание, Выезд!Форма одежды: город+лесСбор в 00:00,штаб МО,Сергиево-Посадский р-он,п.Реммаш ул. Институтская, 6Внимание! Изменилось место штаба!МО,Сергиево-Посадский р-он,п.Реммаш ул. Институтская.Коордитаты:56.451833, 38.083636Задачи:Нужен экипаж для координатора в Новые Ватутинки.Нужна печать ориентировок - 400 штук.Нужен оперативный картограф.Нужен экипаж в Измайлово, забрать комплект оборудования![/color][/b]Координатор: Нафка ТатьянаИнфорг: Юля Мири 89611210060 БэккиШарп Элеонора 89201315059'"
      ]
     },
     "execution_count": 933,
     "metadata": {},
     "output_type": "execute_result"
    }
   ],
   "source": [
    "    readytext"
   ]
  },
  {
   "cell_type": "code",
   "execution_count": 934,
   "metadata": {},
   "outputs": [
    {
     "data": {
      "text/plain": [
       "'Рост: 155'"
      ]
     },
     "execution_count": 934,
     "metadata": {},
     "output_type": "execute_result"
    }
   ],
   "source": [
    "    high = re.search(r'[Рр]ост \\d{3}|[Рр]оста \\d{3}|[Рр]оста\\d{3}|[Рр]ост: \\d{3}',readytext )\n",
    "    high = str(high.group(0))\n",
    "    high"
   ]
  },
  {
   "cell_type": "code",
   "execution_count": 935,
   "metadata": {},
   "outputs": [
    {
     "name": "stdout",
     "output_type": "stream",
     "text": [
      "155\n"
     ]
    }
   ],
   "source": [
    "    height = re.findall(r'\\d+',high)\n",
    "    height = int(\" \".join(height))\n",
    "    print(height)"
   ]
  },
  {
   "cell_type": "code",
   "execution_count": null,
   "metadata": {},
   "outputs": [],
   "source": []
  },
  {
   "cell_type": "code",
   "execution_count": 936,
   "metadata": {},
   "outputs": [],
   "source": [
    "# А теперь настал момент найти ...... барабанная дробь ....... ФОТО вот, я понял, что здесь не смогу искать через readytext,\n",
    "# так как он не отражает наличие фотки. И будет 2 случая - когда это фотка и когда это расклейка по объявлении\n"
   ]
  },
  {
   "cell_type": "markdown",
   "metadata": {},
   "source": [
    "# Парсинг Фото"
   ]
  },
  {
   "cell_type": "code",
   "execution_count": 937,
   "metadata": {},
   "outputs": [],
   "source": [
    "    photored = allinfo[0] # Для фото там поменяется то, что это также readytext, но без текста. Поэтому я создам новую переменную \n",
    "# photored"
   ]
  },
  {
   "cell_type": "code",
   "execution_count": 938,
   "metadata": {},
   "outputs": [],
   "source": [
    "    photo = photored.img"
   ]
  },
  {
   "cell_type": "code",
   "execution_count": 939,
   "metadata": {},
   "outputs": [],
   "source": [
    "    photo = str(photo)"
   ]
  },
  {
   "cell_type": "code",
   "execution_count": 940,
   "metadata": {},
   "outputs": [
    {
     "name": "stdout",
     "output_type": "stream",
     "text": [
      "['http']\n",
      "+\n"
     ]
    }
   ],
   "source": [
    "    yphoto = re.findall(r'[h]ttp',photo) # Заметил косяк, нашел одну анкету, где фотки прикреплены по-другому.  \n",
    "    yphoto = str(yphoto)                # Но это всего одна анкета,поэтому пока считаю можно не исправлять\n",
    "    print(yphoto)\n",
    "    if yphoto == \"['http']\":\n",
    "        yphoto = \"+\"\n",
    "    else:\n",
    "        yphoto = \"-\";\n",
    "    print(yphoto)\n"
   ]
  },
  {
   "cell_type": "code",
   "execution_count": 941,
   "metadata": {},
   "outputs": [],
   "source": [
    "# Ха, есть, нашёл!!! ИЗИИИИ Катка!!!"
   ]
  },
  {
   "cell_type": "markdown",
   "metadata": {},
   "source": [
    "# Парсинг Пола\n"
   ]
  },
  {
   "cell_type": "code",
   "execution_count": 942,
   "metadata": {},
   "outputs": [],
   "source": [
    "# Для этого воспользуемся уловкой - попробуем парсить по словам ушел, ушла, пропал, пропала и т.д. Обратимся к всем изестному \n",
    "# readytext, так как он готов и с него и будем парсить"
   ]
  },
  {
   "cell_type": "code",
   "execution_count": 943,
   "metadata": {},
   "outputs": [
    {
     "data": {
      "text/plain": [
       "'Воронкова (Левина)Татьяна Ивановна 65 лет, Сергиево-Посадский р-он, МО. 10 апреля 2019 С 10 апреля 2019 года ее местонахождение неизвестно.СЛЕПАЯПриметы:Рост: 155 см.Телосложение: xудощавоеЦвет глаз: кариеВолосы: седыеБыла одета: черная болоньевая куртка, черные штаны, серые резиновые сапоги.С собой: черный пакет.КартыОриентировка на печатьОриентировка на репост-------------------------------------------------- ВНИМАНИЕ! Штаб свёрнут, следите за темой.Внимание, Выезд!Форма одежды: город+лесСбор в 00:00,штаб МО,Сергиево-Посадский р-он,п.Реммаш ул. Институтская, 6Внимание! Изменилось место штаба!МО,Сергиево-Посадский р-он,п.Реммаш ул. Институтская.Коордитаты:56.451833, 38.083636Задачи:Нужен экипаж для координатора в Новые Ватутинки.Нужна печать ориентировок - 400 штук.Нужен оперативный картограф.Нужен экипаж в Измайлово, забрать комплект оборудования![/color][/b]Координатор: Нафка ТатьянаИнфорг: Юля Мири 89611210060 БэккиШарп Элеонора 89201315059'"
      ]
     },
     "execution_count": 943,
     "metadata": {},
     "output_type": "execute_result"
    }
   ],
   "source": [
    "    readytext"
   ]
  },
  {
   "cell_type": "code",
   "execution_count": 944,
   "metadata": {},
   "outputs": [
    {
     "ename": "AttributeError",
     "evalue": "'NoneType' object has no attribute 'group'",
     "output_type": "error",
     "traceback": [
      "\u001b[1;31m---------------------------------------------------------------------------\u001b[0m",
      "\u001b[1;31mAttributeError\u001b[0m                            Traceback (most recent call last)",
      "\u001b[1;32m<ipython-input-944-9b8802bca5b5>\u001b[0m in \u001b[0;36m<module>\u001b[1;34m\u001b[0m\n\u001b[0;32m      1\u001b[0m \u001b[0msex\u001b[0m \u001b[1;33m=\u001b[0m \u001b[0mre\u001b[0m\u001b[1;33m.\u001b[0m\u001b[0msearch\u001b[0m\u001b[1;33m(\u001b[0m\u001b[1;34mr'[Вв]ышел|[Вв]ышла|[Уу]шла|[Уу]шёл|[Уу]шел|[Пп]ропал|[Пп]ропала|[Нн]айден|[Нн]айдена|[Жж]ива|[Жж]ив'\u001b[0m\u001b[1;33m,\u001b[0m \u001b[0mreadytext\u001b[0m\u001b[1;33m)\u001b[0m\u001b[1;33m\u001b[0m\u001b[1;33m\u001b[0m\u001b[0m\n\u001b[1;32m----> 2\u001b[1;33m \u001b[0msex\u001b[0m \u001b[1;33m=\u001b[0m \u001b[0mstr\u001b[0m\u001b[1;33m(\u001b[0m\u001b[0msex\u001b[0m\u001b[1;33m.\u001b[0m\u001b[0mgroup\u001b[0m\u001b[1;33m(\u001b[0m\u001b[1;36m0\u001b[0m\u001b[1;33m)\u001b[0m\u001b[1;33m)\u001b[0m\u001b[1;33m\u001b[0m\u001b[1;33m\u001b[0m\u001b[0m\n\u001b[0m\u001b[0;32m      3\u001b[0m \u001b[0mprint\u001b[0m\u001b[1;33m(\u001b[0m\u001b[0msex\u001b[0m\u001b[1;33m)\u001b[0m\u001b[1;33m\u001b[0m\u001b[1;33m\u001b[0m\u001b[0m\n\u001b[0;32m      4\u001b[0m \u001b[1;32mif\u001b[0m \u001b[0msex\u001b[0m \u001b[1;33m==\u001b[0m \u001b[1;34m\"вышел\"\u001b[0m \u001b[1;32mor\u001b[0m \u001b[0msex\u001b[0m \u001b[1;33m==\u001b[0m \u001b[1;34m\"Вышел\"\u001b[0m \u001b[1;32mor\u001b[0m \u001b[0msex\u001b[0m \u001b[1;33m==\u001b[0m \u001b[1;34m\"ушел\"\u001b[0m \u001b[1;32mor\u001b[0m \u001b[0msex\u001b[0m \u001b[1;33m==\u001b[0m \u001b[1;34m\"Ушел\"\u001b[0m \u001b[1;32mor\u001b[0m \u001b[0msex\u001b[0m \u001b[1;33m==\u001b[0m \u001b[1;34m'ушёл'\u001b[0m \u001b[1;32mor\u001b[0m \u001b[0msex\u001b[0m \u001b[1;33m==\u001b[0m \u001b[1;34m'пропал'\u001b[0m \u001b[1;32mor\u001b[0m \u001b[0msex\u001b[0m \u001b[1;33m==\u001b[0m \u001b[1;34m'Пропал'\u001b[0m \u001b[1;32mor\u001b[0m \u001b[0msex\u001b[0m \u001b[1;33m==\u001b[0m \u001b[1;34m'Найден'\u001b[0m \u001b[1;32mor\u001b[0m \u001b[0msex\u001b[0m \u001b[1;33m==\u001b[0m \u001b[1;34m'найден'\u001b[0m \u001b[1;32mor\u001b[0m \u001b[0msex\u001b[0m \u001b[1;33m==\u001b[0m \u001b[1;34m'ушел'\u001b[0m\u001b[1;32mor\u001b[0m \u001b[0msex\u001b[0m \u001b[1;33m==\u001b[0m \u001b[1;34m'пропал'\u001b[0m\u001b[1;32mor\u001b[0m \u001b[0msex\u001b[0m \u001b[1;33m==\u001b[0m \u001b[1;34m'найден'\u001b[0m\u001b[1;32mor\u001b[0m \u001b[0msex\u001b[0m \u001b[1;33m==\u001b[0m \u001b[1;34m'Найден'\u001b[0m\u001b[1;32mor\u001b[0m \u001b[0msex\u001b[0m \u001b[1;33m==\u001b[0m \u001b[1;34m'вышел'\u001b[0m \u001b[1;32mor\u001b[0m \u001b[0msex\u001b[0m \u001b[1;33m==\u001b[0m \u001b[1;34m'Жив'\u001b[0m\u001b[1;32mor\u001b[0m \u001b[0msex\u001b[0m \u001b[1;33m==\u001b[0m \u001b[1;34m'жив'\u001b[0m\u001b[1;33m:\u001b[0m\u001b[1;33m\u001b[0m\u001b[1;33m\u001b[0m\u001b[0m\n\u001b[0;32m      5\u001b[0m     \u001b[0msex\u001b[0m \u001b[1;33m=\u001b[0m \u001b[1;34m\"М\"\u001b[0m\u001b[1;33m\u001b[0m\u001b[1;33m\u001b[0m\u001b[0m\n",
      "\u001b[1;31mAttributeError\u001b[0m: 'NoneType' object has no attribute 'group'"
     ]
    }
   ],
   "source": [
    "    sex = re.search(r'[Вв]ышел|[Вв]ышла|[Уу]шла|[Уу]шёл|[Уу]шел|[Пп]ропал|[Пп]ропала|[Нн]айден|[Нн]айдена|[Жж]ива|[Жж]ив', readytext)\n",
    "    sex = str(sex.group(0))\n",
    "    print(sex)\n",
    "    if sex == \"вышел\" or sex == \"Вышел\" or sex == \"ушел\" or sex == \"Ушел\" or sex == 'ушёл' or sex == 'пропал' or sex == 'Пропал' or sex == 'Найден' or sex == 'найден' or sex == 'ушел'or sex == 'пропал'or sex == 'найден'or sex == 'Найден'or sex == 'вышел' or sex == 'Жив'or sex == 'жив':\n",
    "        sex = \"М\"\n",
    "    else:\n",
    "        sex = 'Ж'\n",
    "\n",
    "    #else:\n",
    "        #sex = \"Error\";#\"'ушла'\" or \"'найдена'\" or \"'пропала'\" or 'Жива' or \"'жива'\"\n",
    "    print(sex)"
   ]
  },
  {
   "cell_type": "code",
   "execution_count": null,
   "metadata": {},
   "outputs": [],
   "source": []
  },
  {
   "cell_type": "markdown",
   "metadata": {},
   "source": [
    "# Так,  а теперь  надо последнее Мерт или Жив!!!"
   ]
  },
  {
   "cell_type": "code",
   "execution_count": 945,
   "metadata": {},
   "outputs": [],
   "source": [
    "# Все, я красавчик, все запарсил, теперь только остался Жив или Мертв. А это тоже сделать изи, через буквы, как на мужчину и женщину"
   ]
  },
  {
   "cell_type": "code",
   "execution_count": 950,
   "metadata": {},
   "outputs": [
    {
     "ename": "AttributeError",
     "evalue": "type object 'BeautifulSoup' has no attribute 'title'",
     "output_type": "error",
     "traceback": [
      "\u001b[1;31m---------------------------------------------------------------------------\u001b[0m",
      "\u001b[1;31mAttributeError\u001b[0m                            Traceback (most recent call last)",
      "\u001b[1;32m<ipython-input-950-40d2349b416c>\u001b[0m in \u001b[0;36m<module>\u001b[1;34m\u001b[0m\n\u001b[1;32m----> 1\u001b[1;33m \u001b[0msoup\u001b[0m\u001b[1;33m.\u001b[0m\u001b[0mtitle\u001b[0m\u001b[1;33m.\u001b[0m\u001b[0mtext\u001b[0m \u001b[1;31m# Делаем не через реадитекст, так как там не всегда указано, жив или мертв. Делаем через суп.титл\u001b[0m\u001b[1;33m\u001b[0m\u001b[1;33m\u001b[0m\u001b[0m\n\u001b[0m",
      "\u001b[1;31mAttributeError\u001b[0m: type object 'BeautifulSoup' has no attribute 'title'"
     ]
    }
   ],
   "source": [
    "soup.title.text # Делаем не через реадитекст, так как там не всегда указано, жив или мертв. Делаем через суп.титл"
   ]
  },
  {
   "cell_type": "code",
   "execution_count": 947,
   "metadata": {},
   "outputs": [],
   "source": [
    "    sit = re.search(r'[Жж]ива|[Жж]ив|[Пп]огиб|[Пп]огибла|[Нн]айден|[Нн]айдена',page_soup.title.text)"
   ]
  },
  {
   "cell_type": "code",
   "execution_count": 948,
   "metadata": {},
   "outputs": [
    {
     "name": "stdout",
     "output_type": "stream",
     "text": [
      "Погиб\n",
      "-\n"
     ]
    }
   ],
   "source": [
    "    sit = str(sit.group(0))\n",
    "    print(sit)\n",
    "    if sit == 'Жива' or sit == 'Жив' or sit == 'жива' or sit == 'жив' or sit == 'Найден' or sit == 'найден' or sit == 'найдена'or sit == 'Найдена':\n",
    "        sit = '+'\n",
    "    else:\n",
    "        sit = '-'\n",
    "    print(sit)"
   ]
  },
  {
   "cell_type": "code",
   "execution_count": 949,
   "metadata": {},
   "outputs": [
    {
     "data": {
      "text/html": [
       "<div>\n",
       "<style scoped>\n",
       "    .dataframe tbody tr th:only-of-type {\n",
       "        vertical-align: middle;\n",
       "    }\n",
       "\n",
       "    .dataframe tbody tr th {\n",
       "        vertical-align: top;\n",
       "    }\n",
       "\n",
       "    .dataframe thead th {\n",
       "        text-align: right;\n",
       "    }\n",
       "</style>\n",
       "<table border=\"1\" class=\"dataframe\">\n",
       "  <thead>\n",
       "    <tr style=\"text-align: right;\">\n",
       "      <th></th>\n",
       "      <th>Возраст</th>\n",
       "      <th>Рост</th>\n",
       "      <th>Фото</th>\n",
       "      <th>Пол</th>\n",
       "      <th>Жив/Мертв</th>\n",
       "    </tr>\n",
       "  </thead>\n",
       "  <tbody>\n",
       "    <tr>\n",
       "      <th>0</th>\n",
       "      <td>17.0</td>\n",
       "      <td>154.0</td>\n",
       "      <td>+</td>\n",
       "      <td>Ж</td>\n",
       "      <td>None</td>\n",
       "    </tr>\n",
       "    <tr>\n",
       "      <th>0</th>\n",
       "      <td>17.0</td>\n",
       "      <td>154.0</td>\n",
       "      <td>+</td>\n",
       "      <td>Ж</td>\n",
       "      <td>-</td>\n",
       "    </tr>\n",
       "    <tr>\n",
       "      <th>0</th>\n",
       "      <td>17.0</td>\n",
       "      <td>155.0</td>\n",
       "      <td>+</td>\n",
       "      <td>None</td>\n",
       "      <td>-</td>\n",
       "    </tr>\n",
       "  </tbody>\n",
       "</table>\n",
       "</div>"
      ],
      "text/plain": [
       "   Возраст   Рост Фото   Пол Жив/Мертв\n",
       "0     17.0  154.0    +     Ж      None\n",
       "0     17.0  154.0    +     Ж         -\n",
       "0     17.0  155.0    +  None         -"
      ]
     },
     "execution_count": 949,
     "metadata": {},
     "output_type": "execute_result"
    }
   ],
   "source": [
    "    newrow = pd.DataFrame({\n",
    "        'Возраст' : [rage],\n",
    "        'Рост' : [height],\n",
    "        'Фото': [yphoto],\n",
    "        'Пол' : [sex],\n",
    "        'Жив/Мертв' : [sit]\n",
    "         })\n",
    "    df = df.append(newrow)\n",
    "\n",
    "df\n"
   ]
  },
  {
   "cell_type": "code",
   "execution_count": null,
   "metadata": {},
   "outputs": [],
   "source": []
  },
  {
   "cell_type": "code",
   "execution_count": null,
   "metadata": {},
   "outputs": [],
   "source": []
  },
  {
   "cell_type": "code",
   "execution_count": null,
   "metadata": {},
   "outputs": [],
   "source": []
  }
 ],
 "metadata": {
  "kernelspec": {
   "display_name": "Python 3",
   "language": "python",
   "name": "python3"
  },
  "language_info": {
   "codemirror_mode": {
    "name": "ipython",
    "version": 3
   },
   "file_extension": ".py",
   "mimetype": "text/x-python",
   "name": "python",
   "nbconvert_exporter": "python",
   "pygments_lexer": "ipython3",
   "version": "3.7.3"
  }
 },
 "nbformat": 4,
 "nbformat_minor": 2
}
