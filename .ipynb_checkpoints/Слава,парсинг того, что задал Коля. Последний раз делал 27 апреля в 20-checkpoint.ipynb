{
 "cells": [
  {
   "cell_type": "markdown",
   "metadata": {},
   "source": [
    "# Код Славы, парсинг Возраста, Роста, Фото\n"
   ]
  },
  {
   "cell_type": "markdown",
   "metadata": {},
   "source": [
    "Сначала введем основу, то есть импорт библиотек и самого сайта"
   ]
  },
  {
   "cell_type": "code",
   "execution_count": 744,
   "metadata": {},
   "outputs": [],
   "source": [
    "# Что, начнем проект. Я очень ленивый негодяй, но тем не менее, попробую сделать.\n",
    "# Сначала печатаем библиотеки, который нам нужны\n",
    "\n",
    "\n",
    "import urllib.request  # Этой строкой посылаем запрос на возможность получения url страниц.Request обязательна, она дает возможность получить страницу в Интернете\n",
    "from bs4 import BeautifulSoup # bs4 содержит не только суп, поэтому необходимо именно его загрузить.Сам суп даёт возможность работать с html файлами, то есть превращать более читабельнй вид\n",
    "import re\n",
    "import requests\n",
    "page = urllib.request.urlopen('https://lizaalert.org/forum/viewtopic.php?f=188&t=11708' )\n",
    "soup = BeautifulSoup(page)\n"
   ]
  },
  {
   "cell_type": "code",
   "execution_count": 745,
   "metadata": {},
   "outputs": [],
   "source": [
    "allinfo = soup.findAll('div',class_= \"content\")"
   ]
  },
  {
   "cell_type": "code",
   "execution_count": 746,
   "metadata": {},
   "outputs": [
    {
     "data": {
      "text/plain": [
       "'Жива Юрчук Екатерина Александровна 10.02.2002 Амурская область, поселок Магдагачи23.02.2016 не вернулась из школыПриметы: Рост 160  смВолосы бело-рыжиеГлаза кариеБыла одета:Тёмно - синяя куртка с бело - оранжевым замкомЧёрные лосиныЧерно - белая блузка Черный пиджак Черные кожаные сапоги на молнииВязанная шапка. Ориентировка на репостИнфорг: Катя Прохорова 89252141925'"
      ]
     },
     "execution_count": 746,
     "metadata": {},
     "output_type": "execute_result"
    }
   ],
   "source": [
    "readytext = allinfo[0].text\n",
    "readytext"
   ]
  },
  {
   "cell_type": "code",
   "execution_count": 747,
   "metadata": {},
   "outputs": [],
   "source": [
    "# Первое это было просто вход сайт и парс всего с него(точнее не сайт, а определенной анкеты)\n",
    "# Теперь начинаем по анкете находить Возраст, Рост, Фото, Жив/Мертв и Пол\n"
   ]
  },
  {
   "cell_type": "code",
   "execution_count": 748,
   "metadata": {},
   "outputs": [],
   "source": [
    "# Но начну с ВОЗРАСТА(хотя он уже запарсен, я просто повторил код Вани).То есть за предмет парсинга я беру readytext!"
   ]
  },
  {
   "cell_type": "markdown",
   "metadata": {},
   "source": [
    "# Парсинг Возраста"
   ]
  },
  {
   "cell_type": "code",
   "execution_count": 749,
   "metadata": {},
   "outputs": [],
   "source": [
    "age = re.search(r'\\d+ ',readytext)"
   ]
  },
  {
   "cell_type": "code",
   "execution_count": 750,
   "metadata": {},
   "outputs": [
    {
     "name": "stdout",
     "output_type": "stream",
     "text": [
      "17\n"
     ]
    }
   ],
   "source": [
    "age =int(age.group(0)) # эТО уже у нас число)) Ура!!!!\n",
    "if age < 100:\n",
    "    print(age)\n",
    "else:\n",
    "    rage = 2019 - age\n",
    "    print(rage)"
   ]
  },
  {
   "cell_type": "code",
   "execution_count": 751,
   "metadata": {},
   "outputs": [],
   "source": [
    "# Теперь перейдем к РОСТУ ВОууууу, смог сделать, огонь!"
   ]
  },
  {
   "cell_type": "markdown",
   "metadata": {},
   "source": [
    "# Парсинг Роста"
   ]
  },
  {
   "cell_type": "code",
   "execution_count": 752,
   "metadata": {},
   "outputs": [
    {
     "data": {
      "text/plain": [
       "'Жива Юрчук Екатерина Александровна 10.02.2002 Амурская область, поселок Магдагачи23.02.2016 не вернулась из школыПриметы: Рост 160  смВолосы бело-рыжиеГлаза кариеБыла одета:Тёмно - синяя куртка с бело - оранжевым замкомЧёрные лосиныЧерно - белая блузка Черный пиджак Черные кожаные сапоги на молнииВязанная шапка. Ориентировка на репостИнфорг: Катя Прохорова 89252141925'"
      ]
     },
     "execution_count": 752,
     "metadata": {},
     "output_type": "execute_result"
    }
   ],
   "source": [
    "readytext"
   ]
  },
  {
   "cell_type": "code",
   "execution_count": 753,
   "metadata": {},
   "outputs": [
    {
     "data": {
      "text/plain": [
       "'Рост 160'"
      ]
     },
     "execution_count": 753,
     "metadata": {},
     "output_type": "execute_result"
    }
   ],
   "source": [
    "high = re.search(r'[Рр]ост \\d{3}|[Рр]оста \\d{3}|[Рр]оста\\d{3}|[Рр]ост: \\d{3}',readytext )\n",
    "high = str(high.group(0))\n",
    "high"
   ]
  },
  {
   "cell_type": "code",
   "execution_count": 754,
   "metadata": {},
   "outputs": [
    {
     "name": "stdout",
     "output_type": "stream",
     "text": [
      "160\n"
     ]
    }
   ],
   "source": [
    "height = re.findall(r'\\d+',high)\n",
    "height = int(\" \".join(height))\n",
    "print(height)"
   ]
  },
  {
   "cell_type": "code",
   "execution_count": null,
   "metadata": {},
   "outputs": [],
   "source": []
  },
  {
   "cell_type": "code",
   "execution_count": 755,
   "metadata": {},
   "outputs": [],
   "source": [
    "# А теперь настал момент найти ...... барабанная дробь ....... ФОТО вот, я понял, что здесь не смогу искать через readytext,\n",
    "# так как он не отражает наличие фотки. И будет 2 случая - когда это фотка и когда это расклейка по объявлении\n"
   ]
  },
  {
   "cell_type": "markdown",
   "metadata": {},
   "source": [
    "# Парсинг Фото"
   ]
  },
  {
   "cell_type": "code",
   "execution_count": 756,
   "metadata": {},
   "outputs": [],
   "source": [
    "photored = allinfo[0] # Для фото там поменяется то, что это также readytext, но без текста. Поэтому я создам новую переменную \n",
    "# photored"
   ]
  },
  {
   "cell_type": "code",
   "execution_count": 757,
   "metadata": {},
   "outputs": [],
   "source": [
    "photo = photored.img"
   ]
  },
  {
   "cell_type": "code",
   "execution_count": 758,
   "metadata": {},
   "outputs": [],
   "source": [
    "photo = str(photo)"
   ]
  },
  {
   "cell_type": "code",
   "execution_count": 759,
   "metadata": {},
   "outputs": [
    {
     "name": "stdout",
     "output_type": "stream",
     "text": [
      "['http']\n",
      "Yes\n"
     ]
    }
   ],
   "source": [
    "yphoto = re.findall(r'[h]ttp',photo) # Заметил косяк, нашел одну анкету, где фотки прикреплены по-другому.  \n",
    "yphoto = str(yphoto)                # Но это всего одна анкета,поэтому пока считаю можно не исправлять\n",
    "print(yphoto)\n",
    "if yphoto == \"['http']\":\n",
    "    yphoto = \"Yes\"\n",
    "else:\n",
    "    yphoto = \"No\";\n",
    "print(yphoto)\n"
   ]
  },
  {
   "cell_type": "code",
   "execution_count": 760,
   "metadata": {},
   "outputs": [],
   "source": [
    "# Ха, есть, нашёл!!! ИЗИИИИ Катка!!!"
   ]
  },
  {
   "cell_type": "markdown",
   "metadata": {},
   "source": [
    "# Парсинг Пола\n"
   ]
  },
  {
   "cell_type": "code",
   "execution_count": 761,
   "metadata": {},
   "outputs": [],
   "source": [
    "# Для этого воспользуемся уловкой - попробуем парсить по словам ушел, ушла, пропал, пропала и т.д. Обратимся к всем изестному \n",
    "# readytext, так как он готов и с него и будем парсить"
   ]
  },
  {
   "cell_type": "code",
   "execution_count": 798,
   "metadata": {},
   "outputs": [
    {
     "data": {
      "text/plain": [
       "'Жива Юрчук Екатерина Александровна 10.02.2002 Амурская область, поселок Магдагачи23.02.2016 не вернулась из школыПриметы: Рост 160  смВолосы бело-рыжиеГлаза кариеБыла одета:Тёмно - синяя куртка с бело - оранжевым замкомЧёрные лосиныЧерно - белая блузка Черный пиджак Черные кожаные сапоги на молнииВязанная шапка. Ориентировка на репостИнфорг: Катя Прохорова 89252141925'"
      ]
     },
     "execution_count": 798,
     "metadata": {},
     "output_type": "execute_result"
    }
   ],
   "source": [
    "readytext"
   ]
  },
  {
   "cell_type": "code",
   "execution_count": 799,
   "metadata": {},
   "outputs": [
    {
     "name": "stdout",
     "output_type": "stream",
     "text": [
      "Жива\n",
      "Male\n",
      "Жива\n"
     ]
    }
   ],
   "source": [
    "sex = re.search(r'[Вв]ышел|[Вв]ышла|[Уу]шла|[Уу]шёл|[Уу]шел|[Пп]ропал|[Пп]ропала|[Нн]айден|[Нн]айдена|[Жж]ива|[Жж]ив', readytext)\n",
    "sex = str(sex.group(0))\n",
    "print(sex)\n",
    "if sex == \"['вышел']\" or \"['Вышел']\" or \"['ушел']\" or \"['Ушел']\" or ['ушёл'] or ['пропал'] or ['Пропал'] or ['Найден'] or ['найден'] or 'ушел'or 'пропал'or 'найден'or 'Найден'or 'вышел':\n",
    "    print(\"Male\")\n",
    "else:\n",
    "    sex == 'Female'\n",
    "    \n",
    "#else:\n",
    "    #sex = \"Error\";#\"'ушла'\" or \"'найдена'\" or \"'пропала'\" or 'Жива' or \"'жива'\"\n",
    "print(sex)"
   ]
  },
  {
   "cell_type": "code",
   "execution_count": null,
   "metadata": {},
   "outputs": [],
   "source": []
  },
  {
   "cell_type": "code",
   "execution_count": null,
   "metadata": {},
   "outputs": [],
   "source": []
  }
 ],
 "metadata": {
  "kernelspec": {
   "display_name": "Python 3",
   "language": "python",
   "name": "python3"
  },
  "language_info": {
   "codemirror_mode": {
    "name": "ipython",
    "version": 3
   },
   "file_extension": ".py",
   "mimetype": "text/x-python",
   "name": "python",
   "nbconvert_exporter": "python",
   "pygments_lexer": "ipython3",
   "version": "3.7.3"
  }
 },
 "nbformat": 4,
 "nbformat_minor": 2
}
