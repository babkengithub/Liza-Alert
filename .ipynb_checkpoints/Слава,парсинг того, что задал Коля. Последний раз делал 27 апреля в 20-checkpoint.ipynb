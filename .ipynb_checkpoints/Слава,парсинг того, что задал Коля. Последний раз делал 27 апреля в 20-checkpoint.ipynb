{
 "cells": [
  {
   "cell_type": "markdown",
   "metadata": {},
   "source": [
    "# Код Славы, парсинг Возраста, Роста, Фото\n"
   ]
  },
  {
   "cell_type": "markdown",
   "metadata": {},
   "source": [
    "Сначала введем основу, то есть импорт библиотек и самого сайта"
   ]
  },
  {
   "cell_type": "code",
   "execution_count": 43,
   "metadata": {},
   "outputs": [],
   "source": [
    "# Что, начнем проект. Я очень ленивый негодяй, но тем не менее, попробую сделать.\n",
    "# Сначала печатаем библиотеки, который нам нужны\n",
    "\n",
    "\n",
    "from urllib.request import urlopen as urll  # Этой строкой посылаем запрос на возможность получения url страниц.Request обязательна, она дает возможность получить страницу в Интернете\n",
    "from bs4 import BeautifulSoup  # bs4 содержит не только суп, поэтому необходимо именно его загрузить.Сам суп даёт возможность работать с html файлами, то есть превращать более читабельнй вид\n",
    "import re\n",
    "import requests\n",
    "import pandas as pd\n",
    "\n",
    "page = urll('https://lizaalert.org/forum/viewtopic.php?f=173&t=24632')\n",
    "soup = BeautifulSoup(page)\n"
   ]
  },
  {
   "cell_type": "code",
   "execution_count": 44,
   "metadata": {},
   "outputs": [
    {
     "data": {
      "text/html": [
       "<div>\n",
       "<style scoped>\n",
       "    .dataframe tbody tr th:only-of-type {\n",
       "        vertical-align: middle;\n",
       "    }\n",
       "\n",
       "    .dataframe tbody tr th {\n",
       "        vertical-align: top;\n",
       "    }\n",
       "\n",
       "    .dataframe thead th {\n",
       "        text-align: right;\n",
       "    }\n",
       "</style>\n",
       "<table border=\"1\" class=\"dataframe\">\n",
       "  <thead>\n",
       "    <tr style=\"text-align: right;\">\n",
       "      <th></th>\n",
       "      <th>Возраст</th>\n",
       "      <th>Рост</th>\n",
       "      <th>Фото</th>\n",
       "      <th>Пол</th>\n",
       "      <th>Жив/Мертв</th>\n",
       "    </tr>\n",
       "  </thead>\n",
       "  <tbody>\n",
       "  </tbody>\n",
       "</table>\n",
       "</div>"
      ],
      "text/plain": [
       "Empty DataFrame\n",
       "Columns: [Возраст, Рост, Фото, Пол, Жив/Мертв]\n",
       "Index: []"
      ]
     },
     "execution_count": 44,
     "metadata": {},
     "output_type": "execute_result"
    }
   ],
   "source": [
    "df = pd.DataFrame({\n",
    "    'Возраст' : [],\n",
    "    'Рост' : [],\n",
    "    'Фото': [],\n",
    "    'Пол' : [],\n",
    "    'Жив/Мертв' : []\n",
    "     })\n",
    "df"
   ]
  },
  {
   "cell_type": "code",
   "execution_count": null,
   "metadata": {},
   "outputs": [],
   "source": []
  },
  {
   "cell_type": "code",
   "execution_count": 45,
   "metadata": {},
   "outputs": [],
   "source": [
    "    allinfo = soup.findAll('div',class_= \"content\")"
   ]
  },
  {
   "cell_type": "code",
   "execution_count": 46,
   "metadata": {},
   "outputs": [
    {
     "data": {
      "text/plain": [
       "'Левашова Валентина Ивановна 80 лет, г. Невинномысск 26 февраля 2019 около 17-15 ушла из дома и не вернуласьПриметы:Рост: 154 см.Телосложение: нормальноеЦвет глаз: зелёныеВолосы: седые, короткая стрижка, крашенныеБыла одета: светло-серая куртка с капюшоном на молнии, черные утепленные штаны, черный берет, черные угги.С собой: ничегоТаблица прозвона больниц и ОВДОриентировка на печатьОриентировка на репост--------------------------------------------------СБОР: 44.616135, 41.917763Координатор: Войдан Инфорг: Анка 8 (963) 382-30-30'"
      ]
     },
     "execution_count": 46,
     "metadata": {},
     "output_type": "execute_result"
    }
   ],
   "source": [
    "    readytext = allinfo[0].text\n",
    "    readytext"
   ]
  },
  {
   "cell_type": "code",
   "execution_count": 47,
   "metadata": {},
   "outputs": [],
   "source": [
    "# Первое это было просто вход сайт и парс всего с него(точнее не сайт, а определенной анкеты)\n",
    "# Теперь начинаем по анкете находить Возраст, Рост, Фото, Жив/Мертв и Пол\n"
   ]
  },
  {
   "cell_type": "code",
   "execution_count": 48,
   "metadata": {},
   "outputs": [],
   "source": [
    "# Но начну с ВОЗРАСТА(хотя он уже запарсен, я просто повторил код Вани).То есть за предмет парсинга я беру readytext!"
   ]
  },
  {
   "cell_type": "markdown",
   "metadata": {},
   "source": [
    "# Парсинг Возраста"
   ]
  },
  {
   "cell_type": "code",
   "execution_count": 70,
   "metadata": {},
   "outputs": [],
   "source": [
    "    age = re.search(r'\\d+ ',readytext)"
   ]
  },
  {
   "cell_type": "code",
   "execution_count": 71,
   "metadata": {},
   "outputs": [
    {
     "name": "stdout",
     "output_type": "stream",
     "text": [
      "80\n"
     ]
    }
   ],
   "source": [
    "    age =int(age.group(0)) # эТО уже у нас число)) Ура!!!!\n",
    "    if age < 100:\n",
    "        print(age)\n",
    "    else:\n",
    "        age = 2019 - age\n",
    "        print(age)"
   ]
  },
  {
   "cell_type": "code",
   "execution_count": 51,
   "metadata": {},
   "outputs": [],
   "source": [
    "# Теперь перейдем к РОСТУ ВОууууу, смог сделать, огонь!"
   ]
  },
  {
   "cell_type": "markdown",
   "metadata": {},
   "source": [
    "# Парсинг Роста"
   ]
  },
  {
   "cell_type": "code",
   "execution_count": 52,
   "metadata": {},
   "outputs": [
    {
     "data": {
      "text/plain": [
       "'Левашова Валентина Ивановна 80 лет, г. Невинномысск 26 февраля 2019 около 17-15 ушла из дома и не вернуласьПриметы:Рост: 154 см.Телосложение: нормальноеЦвет глаз: зелёныеВолосы: седые, короткая стрижка, крашенныеБыла одета: светло-серая куртка с капюшоном на молнии, черные утепленные штаны, черный берет, черные угги.С собой: ничегоТаблица прозвона больниц и ОВДОриентировка на печатьОриентировка на репост--------------------------------------------------СБОР: 44.616135, 41.917763Координатор: Войдан Инфорг: Анка 8 (963) 382-30-30'"
      ]
     },
     "execution_count": 52,
     "metadata": {},
     "output_type": "execute_result"
    }
   ],
   "source": [
    "    readytext"
   ]
  },
  {
   "cell_type": "code",
   "execution_count": 53,
   "metadata": {},
   "outputs": [
    {
     "data": {
      "text/plain": [
       "'Рост: 154'"
      ]
     },
     "execution_count": 53,
     "metadata": {},
     "output_type": "execute_result"
    }
   ],
   "source": [
    "    high = re.search(r'[Рр]ост \\d{3}|[Рр]оста \\d{3}|[Рр]оста\\d{3}|[Рр]ост: \\d{3}',readytext )\n",
    "    high = str(high.group(0))\n",
    "    high"
   ]
  },
  {
   "cell_type": "code",
   "execution_count": 54,
   "metadata": {},
   "outputs": [
    {
     "name": "stdout",
     "output_type": "stream",
     "text": [
      "154\n"
     ]
    }
   ],
   "source": [
    "    height = re.findall(r'\\d+',high)\n",
    "    height = int(\" \".join(height))\n",
    "    print(height)"
   ]
  },
  {
   "cell_type": "code",
   "execution_count": null,
   "metadata": {},
   "outputs": [],
   "source": []
  },
  {
   "cell_type": "code",
   "execution_count": 55,
   "metadata": {},
   "outputs": [],
   "source": [
    "# А теперь настал момент найти ...... барабанная дробь ....... ФОТО вот, я понял, что здесь не смогу искать через readytext,\n",
    "# так как он не отражает наличие фотки. И будет 2 случая - когда это фотка и когда это расклейка по объявлении\n"
   ]
  },
  {
   "cell_type": "markdown",
   "metadata": {},
   "source": [
    "# Парсинг Фото"
   ]
  },
  {
   "cell_type": "code",
   "execution_count": 56,
   "metadata": {},
   "outputs": [],
   "source": [
    "    photored = allinfo[0] # Для фото там поменяется то, что это также readytext, но без текста. Поэтому я создам новую переменную \n",
    "# photored"
   ]
  },
  {
   "cell_type": "code",
   "execution_count": 57,
   "metadata": {},
   "outputs": [],
   "source": [
    "    photo = photored.img"
   ]
  },
  {
   "cell_type": "code",
   "execution_count": 58,
   "metadata": {},
   "outputs": [],
   "source": [
    "    photo = str(photo)"
   ]
  },
  {
   "cell_type": "code",
   "execution_count": 59,
   "metadata": {},
   "outputs": [
    {
     "name": "stdout",
     "output_type": "stream",
     "text": [
      "['http']\n",
      "+\n"
     ]
    }
   ],
   "source": [
    "    yphoto = re.findall(r'[h]ttp',photo) # Заметил косяк, нашел одну анкету, где фотки прикреплены по-другому.  \n",
    "    yphoto = str(yphoto)                # Но это всего одна анкета,поэтому пока считаю можно не исправлять\n",
    "    print(yphoto)\n",
    "    if yphoto == \"['http']\":\n",
    "        yphoto = \"+\"\n",
    "    else:\n",
    "        yphoto = \"-\";\n",
    "    print(yphoto)\n"
   ]
  },
  {
   "cell_type": "code",
   "execution_count": 60,
   "metadata": {},
   "outputs": [],
   "source": [
    "# Ха, есть, нашёл!!! ИЗИИИИ Катка!!!"
   ]
  },
  {
   "cell_type": "markdown",
   "metadata": {},
   "source": [
    "# Парсинг Пола\n"
   ]
  },
  {
   "cell_type": "code",
   "execution_count": 61,
   "metadata": {},
   "outputs": [],
   "source": [
    "# Для этого воспользуемся уловкой - попробуем парсить по словам ушел, ушла, пропал, пропала и т.д. Обратимся к всем изестному \n",
    "# readytext, так как он готов и с него и будем парсить"
   ]
  },
  {
   "cell_type": "code",
   "execution_count": 62,
   "metadata": {},
   "outputs": [
    {
     "data": {
      "text/plain": [
       "'Левашова Валентина Ивановна 80 лет, г. Невинномысск 26 февраля 2019 около 17-15 ушла из дома и не вернуласьПриметы:Рост: 154 см.Телосложение: нормальноеЦвет глаз: зелёныеВолосы: седые, короткая стрижка, крашенныеБыла одета: светло-серая куртка с капюшоном на молнии, черные утепленные штаны, черный берет, черные угги.С собой: ничегоТаблица прозвона больниц и ОВДОриентировка на печатьОриентировка на репост--------------------------------------------------СБОР: 44.616135, 41.917763Координатор: Войдан Инфорг: Анка 8 (963) 382-30-30'"
      ]
     },
     "execution_count": 62,
     "metadata": {},
     "output_type": "execute_result"
    }
   ],
   "source": [
    "    readytext"
   ]
  },
  {
   "cell_type": "code",
   "execution_count": 63,
   "metadata": {},
   "outputs": [
    {
     "name": "stdout",
     "output_type": "stream",
     "text": [
      "ушла\n",
      "Ж\n"
     ]
    }
   ],
   "source": [
    "    sex = re.search(r'[Вв]ышел|[Вв]ышла|[Уу]шла|[Уу]шёл|[Уу]шел|[Пп]ропал|[Пп]ропала|[Нн]айден|[Нн]айдена|[Жж]ива|[Жж]ив', readytext)\n",
    "    sex = str(sex.group(0))\n",
    "    print(sex)\n",
    "    if sex == \"вышел\" or sex == \"Вышел\" or sex == \"ушел\" or sex == \"Ушел\" or sex == 'ушёл' or sex == 'пропал' or sex == 'Пропал' or sex == 'Найден' or sex == 'найден' or sex == 'ушел'or sex == 'пропал'or sex == 'найден'or sex == 'Найден'or sex == 'вышел' or sex == 'Жив'or sex == 'жив':\n",
    "        sex = \"М\"\n",
    "    else:\n",
    "        sex = 'Ж'\n",
    "\n",
    "    #else:\n",
    "        #sex = \"Error\";#\"'ушла'\" or \"'найдена'\" or \"'пропала'\" or 'Жива' or \"'жива'\"\n",
    "    print(sex)"
   ]
  },
  {
   "cell_type": "code",
   "execution_count": null,
   "metadata": {},
   "outputs": [],
   "source": []
  },
  {
   "cell_type": "markdown",
   "metadata": {},
   "source": [
    "# Так,  а теперь  надо последнее Мерт или Жив!!!"
   ]
  },
  {
   "cell_type": "code",
   "execution_count": 64,
   "metadata": {},
   "outputs": [],
   "source": [
    "# Все, я красавчик, все запарсил, теперь только остался Жив или Мертв. А это тоже сделать изи, через буквы, как на мужчину и женщину"
   ]
  },
  {
   "cell_type": "code",
   "execution_count": 74,
   "metadata": {},
   "outputs": [
    {
     "data": {
      "text/plain": [
       "'Погибла. Левашова Валентина Ивановна 80 лет, г. Невинномысск • Форум lizaalert.org'"
      ]
     },
     "execution_count": 74,
     "metadata": {},
     "output_type": "execute_result"
    }
   ],
   "source": [
    "soup.title.text # Делаем не через реадитекст, так как там не всегда указано, жив или мертв. Делаем через суп.титл"
   ]
  },
  {
   "cell_type": "code",
   "execution_count": 75,
   "metadata": {},
   "outputs": [],
   "source": [
    "    sit = re.search(r'[Жж]ива|[Жж]ив|[Пп]огиб|[Пп]огибла|[Нн]айден|[Нн]айдена',soup.title.text)"
   ]
  },
  {
   "cell_type": "code",
   "execution_count": 76,
   "metadata": {},
   "outputs": [
    {
     "name": "stdout",
     "output_type": "stream",
     "text": [
      "Погиб\n",
      "-\n"
     ]
    }
   ],
   "source": [
    "    sit = str(sit.group(0))\n",
    "    print(sit)\n",
    "    if sit == 'Жива' or sit == 'Жив' or sit == 'жива' or sit == 'жив' or sit == 'Найден' or sit == 'найден' or sit == 'найдена'or sit == 'Найдена':\n",
    "        sit = '+'\n",
    "    elif sit == 'Погиб' or sit == 'Погибла'  or sit == 'Мертв' or sit == 'Мертва' or sit == 'погибла' or sit == 'погиб':\n",
    "        sit = '-'\n",
    "    else:\n",
    "        sit = 'Ищут'\n",
    "    print(sit)"
   ]
  },
  {
   "cell_type": "code",
   "execution_count": 72,
   "metadata": {},
   "outputs": [
    {
     "data": {
      "text/html": [
       "<div>\n",
       "<style scoped>\n",
       "    .dataframe tbody tr th:only-of-type {\n",
       "        vertical-align: middle;\n",
       "    }\n",
       "\n",
       "    .dataframe tbody tr th {\n",
       "        vertical-align: top;\n",
       "    }\n",
       "\n",
       "    .dataframe thead th {\n",
       "        text-align: right;\n",
       "    }\n",
       "</style>\n",
       "<table border=\"1\" class=\"dataframe\">\n",
       "  <thead>\n",
       "    <tr style=\"text-align: right;\">\n",
       "      <th></th>\n",
       "      <th>Возраст</th>\n",
       "      <th>Рост</th>\n",
       "      <th>Фото</th>\n",
       "      <th>Пол</th>\n",
       "      <th>Жив/Мертв</th>\n",
       "    </tr>\n",
       "  </thead>\n",
       "  <tbody>\n",
       "    <tr>\n",
       "      <th>0</th>\n",
       "      <td>80.0</td>\n",
       "      <td>154.0</td>\n",
       "      <td>+</td>\n",
       "      <td>Ж</td>\n",
       "      <td>-</td>\n",
       "    </tr>\n",
       "  </tbody>\n",
       "</table>\n",
       "</div>"
      ],
      "text/plain": [
       "   Возраст   Рост Фото Пол Жив/Мертв\n",
       "0     80.0  154.0    +   Ж         -"
      ]
     },
     "execution_count": 72,
     "metadata": {},
     "output_type": "execute_result"
    }
   ],
   "source": [
    "    newrow = pd.DataFrame({\n",
    "        'Возраст' : [age],\n",
    "        'Рост' : [height],\n",
    "        'Фото': [yphoto],\n",
    "        'Пол' : [sex],\n",
    "        'Жив/Мертв' : [sit]\n",
    "         })\n",
    "    df = df.append(newrow)\n",
    "\n",
    "df\n"
   ]
  },
  {
   "cell_type": "code",
   "execution_count": null,
   "metadata": {},
   "outputs": [],
   "source": []
  },
  {
   "cell_type": "code",
   "execution_count": null,
   "metadata": {},
   "outputs": [],
   "source": []
  },
  {
   "cell_type": "code",
   "execution_count": null,
   "metadata": {},
   "outputs": [],
   "source": []
  }
 ],
 "metadata": {
  "kernelspec": {
   "display_name": "Python 3",
   "language": "python",
   "name": "python3"
  },
  "language_info": {
   "codemirror_mode": {
    "name": "ipython",
    "version": 3
   },
   "file_extension": ".py",
   "mimetype": "text/x-python",
   "name": "python",
   "nbconvert_exporter": "python",
   "pygments_lexer": "ipython3",
   "version": "3.7.3"
  }
 },
 "nbformat": 4,
 "nbformat_minor": 2
}
