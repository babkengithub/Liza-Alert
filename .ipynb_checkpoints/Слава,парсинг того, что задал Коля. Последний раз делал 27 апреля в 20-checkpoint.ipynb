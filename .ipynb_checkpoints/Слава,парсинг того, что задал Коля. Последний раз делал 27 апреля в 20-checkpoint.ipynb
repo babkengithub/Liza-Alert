{
 "cells": [
  {
   "cell_type": "markdown",
   "metadata": {},
   "source": [
    "# Код Славы, парсинг Возраста, Роста, Фото\n"
   ]
  },
  {
   "cell_type": "markdown",
   "metadata": {},
   "source": [
    "Сначала введем основу, то есть импорт библиотек и самого сайта"
   ]
  },
  {
   "cell_type": "code",
   "execution_count": 537,
   "metadata": {},
   "outputs": [],
   "source": [
    "# Что, начнем проект. Я очень ленивый негодяй, но тем не менее, попробую сделать.\n",
    "# Сначала печатаем библиотеки, который нам нужны\n",
    "\n",
    "\n",
    "import urllib.request  # Этой строкой посылаем запрос на возможность получения url страниц.Request обязательна, она дает возможность получить страницу в Интернете\n",
    "from bs4 import BeautifulSoup # bs4 содержит не только суп, поэтому необходимо именно его загрузить.Сам суп даёт возможность работать с html файлами, то есть превращать более читабельнй вид\n",
    "import re\n",
    "import requests\n",
    "page = urllib.request.urlopen('https://lizaalert.org/forum/viewtopic.php?f=184&t=5551'\n",
    "                             )\n",
    "soup = BeautifulSoup(page)\n"
   ]
  },
  {
   "cell_type": "code",
   "execution_count": 538,
   "metadata": {},
   "outputs": [],
   "source": [
    "allinfo = soup.findAll('div',class_= \"content\")"
   ]
  },
  {
   "cell_type": "code",
   "execution_count": 539,
   "metadata": {},
   "outputs": [
    {
     "data": {
      "text/plain": [
       "'Внимание! Пропал Дейлов Александр Иосифович, 1.10.1937 г.р., Кабардино-Балкария, г. Прохладный.18.о4.2013г вечером вышел из дома в неизвестном направлении. до сих пор его местонахождение не установлено. Страдает частичной потерей памяти.ПРИМЕТЫ: Рост 175см., телосложение худощавое,волосы седые, глаза каре-зеленые.ОСОБЫЕ ПРИМЕТЫ: на левой руке на 4 пальцах татуировка\"ВАЛЯ\".ОДЕЖДА: Был одет в красную рубашку в большую клетку, безрукавку и спорт.трико.ОРИЕНТИРОВКА НА ПЕЧАТЬ: http://imagehost.spark-media.ru/i4/30D9 ... 3FC91F.jpg'"
      ]
     },
     "execution_count": 539,
     "metadata": {},
     "output_type": "execute_result"
    }
   ],
   "source": [
    "readytext = allinfo[0].text\n",
    "readytext"
   ]
  },
  {
   "cell_type": "code",
   "execution_count": 540,
   "metadata": {},
   "outputs": [],
   "source": [
    "# Первое это было просто вход сайт и парс всего с него(точнее не сайт, а определенной анкеты)\n",
    "# Теперь начинаем по анкете находить Возраст, Рост, Фото, Жив/Мертв и Пол\n"
   ]
  },
  {
   "cell_type": "code",
   "execution_count": 541,
   "metadata": {},
   "outputs": [],
   "source": [
    "# Но начну с ВОЗРАСТА(хотя он уже запарсен, я просто повторил код Вани).То есть за предмет парсинга я беру readytext!"
   ]
  },
  {
   "cell_type": "markdown",
   "metadata": {},
   "source": [
    "# Парсинг Возраста"
   ]
  },
  {
   "cell_type": "code",
   "execution_count": 542,
   "metadata": {},
   "outputs": [],
   "source": [
    "age = re.search(r'\\d+ ',readytext)"
   ]
  },
  {
   "cell_type": "code",
   "execution_count": 543,
   "metadata": {},
   "outputs": [
    {
     "name": "stdout",
     "output_type": "stream",
     "text": [
      "82\n"
     ]
    }
   ],
   "source": [
    "age =int(age.group(0)) # эТО уже у нас число)) Ура!!!!\n",
    "if age < 100:\n",
    "    print(age)\n",
    "else:\n",
    "    rage = 2019 - age\n",
    "    print(rage)"
   ]
  },
  {
   "cell_type": "code",
   "execution_count": 544,
   "metadata": {},
   "outputs": [],
   "source": [
    "# Теперь перейдем к РОСТУ ВОууууу, смог сделать, огонь!"
   ]
  },
  {
   "cell_type": "markdown",
   "metadata": {},
   "source": [
    "# Парсинг Роста"
   ]
  },
  {
   "cell_type": "code",
   "execution_count": 545,
   "metadata": {},
   "outputs": [
    {
     "data": {
      "text/plain": [
       "'Внимание! Пропал Дейлов Александр Иосифович, 1.10.1937 г.р., Кабардино-Балкария, г. Прохладный.18.о4.2013г вечером вышел из дома в неизвестном направлении. до сих пор его местонахождение не установлено. Страдает частичной потерей памяти.ПРИМЕТЫ: Рост 175см., телосложение худощавое,волосы седые, глаза каре-зеленые.ОСОБЫЕ ПРИМЕТЫ: на левой руке на 4 пальцах татуировка\"ВАЛЯ\".ОДЕЖДА: Был одет в красную рубашку в большую клетку, безрукавку и спорт.трико.ОРИЕНТИРОВКА НА ПЕЧАТЬ: http://imagehost.spark-media.ru/i4/30D9 ... 3FC91F.jpg'"
      ]
     },
     "execution_count": 545,
     "metadata": {},
     "output_type": "execute_result"
    }
   ],
   "source": [
    "readytext"
   ]
  },
  {
   "cell_type": "code",
   "execution_count": 546,
   "metadata": {},
   "outputs": [
    {
     "data": {
      "text/plain": [
       "\"['Рост 175']\""
      ]
     },
     "execution_count": 546,
     "metadata": {},
     "output_type": "execute_result"
    }
   ],
   "source": [
    "high = re.findall(r'[Рр]ост \\d{3}|[Рр]оста \\d{3}|[Рр]оста\\d{3}|[Рр]ост: \\d{3}',readytext )\n",
    "high = str(high)\n",
    "high"
   ]
  },
  {
   "cell_type": "code",
   "execution_count": 547,
   "metadata": {},
   "outputs": [
    {
     "name": "stdout",
     "output_type": "stream",
     "text": [
      "175\n"
     ]
    }
   ],
   "source": [
    "height = re.findall(r'\\d+',high)\n",
    "height = int(\" \".join(height))\n",
    "print(height)"
   ]
  },
  {
   "cell_type": "code",
   "execution_count": null,
   "metadata": {},
   "outputs": [],
   "source": []
  },
  {
   "cell_type": "code",
   "execution_count": 548,
   "metadata": {},
   "outputs": [],
   "source": [
    "# А теперь настал момент найти ...... барабанная дробь ....... ФОТО вот, я понял, что здесь не смогу искать через readytext,\n",
    "# так как он не отражает наличие фотки. И будет 2 случая - когда это фотка и когда это расклейка по объявлении\n"
   ]
  },
  {
   "cell_type": "markdown",
   "metadata": {},
   "source": [
    "# Парсинг Фото"
   ]
  },
  {
   "cell_type": "code",
   "execution_count": 549,
   "metadata": {},
   "outputs": [],
   "source": [
    "photored = allinfo[0] # Для фото там поменяется то, что это также readytext, но без текста. Поэтому я создам новую переменную \n",
    "# photored"
   ]
  },
  {
   "cell_type": "code",
   "execution_count": 550,
   "metadata": {},
   "outputs": [],
   "source": [
    "photo = photored.img"
   ]
  },
  {
   "cell_type": "code",
   "execution_count": 551,
   "metadata": {},
   "outputs": [],
   "source": [
    "photo = str(photo)"
   ]
  },
  {
   "cell_type": "code",
   "execution_count": 552,
   "metadata": {},
   "outputs": [
    {
     "name": "stdout",
     "output_type": "stream",
     "text": [
      "['http']\n",
      "Yes\n"
     ]
    }
   ],
   "source": [
    "yphoto = re.findall(r'[h]ttp',photo)\n",
    "yphoto = str(yphoto)\n",
    "print(yphoto)\n",
    "if yphoto == \"['http']\":\n",
    "    yphoto = \"Yes\"\n",
    "else:\n",
    "    yphoto = \"No\";\n",
    "print(yphoto)\n"
   ]
  },
  {
   "cell_type": "code",
   "execution_count": null,
   "metadata": {},
   "outputs": [],
   "source": [
    "# Ха, есть, нашёл!!! ИЗИИИИ Катка!!!"
   ]
  },
  {
   "cell_type": "code",
   "execution_count": null,
   "metadata": {},
   "outputs": [],
   "source": []
  }
 ],
 "metadata": {
  "kernelspec": {
   "display_name": "Python 3",
   "language": "python",
   "name": "python3"
  },
  "language_info": {
   "codemirror_mode": {
    "name": "ipython",
    "version": 3
   },
   "file_extension": ".py",
   "mimetype": "text/x-python",
   "name": "python",
   "nbconvert_exporter": "python",
   "pygments_lexer": "ipython3",
   "version": "3.7.3"
  }
 },
 "nbformat": 4,
 "nbformat_minor": 2
}
