{
 "cells": [
  {
   "cell_type": "code",
   "execution_count": 94,
   "metadata": {},
   "outputs": [],
   "source": [
    "import scrapy\n",
    "from scrapy.selector import Selector\n",
    "import requests\n",
    "import re"
   ]
  },
  {
   "cell_type": "code",
   "execution_count": 95,
   "metadata": {},
   "outputs": [],
   "source": [
    "url = 'https://lizaalert.org/forum/viewtopic.php?f=276&t=25611&sid=d1178d1d52ed50c99fb0dc3949d43218'\n",
    "#url = 'https://lizaalert.org/forum/viewtopic.php?f=276&t=25735&sid=d1178d1d52ed50c99fb0dc3949d43218'"
   ]
  },
  {
   "cell_type": "code",
   "execution_count": 96,
   "metadata": {},
   "outputs": [],
   "source": [
    "html = requests.get(url).content"
   ]
  },
  {
   "cell_type": "code",
   "execution_count": 97,
   "metadata": {},
   "outputs": [],
   "source": [
    "sel = Selector(text= html)"
   ]
  },
  {
   "cell_type": "code",
   "execution_count": 98,
   "metadata": {},
   "outputs": [],
   "source": [
    "if sel.xpath('//div[@class=\"content\"]//span[@style=\"text-decoration: line-through;\"]').extract_first() != None:\n",
    "    line = sel.xpath('//div[@class=\"content\"]//span[@style=\"text-decoration: line-through;\"]').extract_first()\n",
    "else:\n",
    "    line = \"no coordinates\""
   ]
  },
  {
   "cell_type": "code",
   "execution_count": 99,
   "metadata": {},
   "outputs": [],
   "source": [
    "def find_cor(line):\n",
    "    if re.search(r'\\d+.\\d+, \\d+.\\d+', line) == None:\n",
    "        return \"no coordinates\"\n",
    "    else:\n",
    "        cor_list = re.search(r'\\d+.\\d+, \\d+.\\d+', line).group().replace(',', '').split()\n",
    "        return cor_list"
   ]
  },
  {
   "cell_type": "code",
   "execution_count": 100,
   "metadata": {},
   "outputs": [
    {
     "data": {
      "text/plain": [
       "['55.714541', '37.400837']"
      ]
     },
     "execution_count": 100,
     "metadata": {},
     "output_type": "execute_result"
    }
   ],
   "source": [
    "find_cor(line)"
   ]
  },
  {
   "cell_type": "code",
   "execution_count": null,
   "metadata": {},
   "outputs": [],
   "source": []
  }
 ],
 "metadata": {
  "kernelspec": {
   "display_name": "Python 3",
   "language": "python",
   "name": "python3"
  },
  "language_info": {
   "codemirror_mode": {
    "name": "ipython",
    "version": 3
   },
   "file_extension": ".py",
   "mimetype": "text/x-python",
   "name": "python",
   "nbconvert_exporter": "python",
   "pygments_lexer": "ipython3",
   "version": "3.7.1"
  }
 },
 "nbformat": 4,
 "nbformat_minor": 2
}
