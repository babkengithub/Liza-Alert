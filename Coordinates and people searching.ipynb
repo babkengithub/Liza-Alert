{
 "cells": [
  {
   "cell_type": "code",
   "execution_count": 170,
   "metadata": {},
   "outputs": [],
   "source": [
    "import scrapy\n",
    "from scrapy.selector import Selector\n",
    "import requests\n",
    "import re\n",
    "import numpy as np\n",
    "import pandas as pd\n",
    "import re\n",
    "import bs4\n",
    "from urllib.request import urlopen as uReq\n",
    "from bs4 import BeautifulSoup as soup\n",
    "from scrapy import Selector\n",
    "from nltk import word_tokenize\n",
    "import nltk"
   ]
  },
  {
   "cell_type": "code",
   "execution_count": 182,
   "metadata": {},
   "outputs": [],
   "source": [
    "lisok = ['https://lizaalert.org/forum/viewtopic.php?f=276&t=25611&sid=d1178d1d52ed50c99fb0dc3949d43218',\n",
    "         'https://lizaalert.org/forum/viewtopic.php?f=276&t=25735&sid=d1178d1d52ed50c99fb0dc3949d43218',\n",
    "         'https://lizaalert.org/forum/viewtopic.php?f=162&t=25868',\n",
    "         'https://lizaalert.org/forum/viewtopic.php?f=213&t=26124',\n",
    "         'https://lizaalert.org/forum/viewtopic.php?f=213&t=23372']"
   ]
  },
  {
   "cell_type": "code",
   "execution_count": 183,
   "metadata": {},
   "outputs": [],
   "source": [
    "html = requests.get(url).content\n",
    "sel = Selector(text=html)"
   ]
  },
  {
   "cell_type": "code",
   "execution_count": 188,
   "metadata": {},
   "outputs": [],
   "source": [
    "def find_cor(comp):\n",
    "    for i in range (len(comp)):\n",
    "        contents = page_soup.findAll(\"div\", {\"class\":\"content\"})[i].contents\n",
    "        kavka = re.search(r'\\d+.\\d+, \\d+.\\d+|\\d+.\\d+,\\d+.\\d+', str(contents))\n",
    "        if kavka is not None:\n",
    "            kavkaz = kavka.group()\n",
    "            break\n",
    "        else:\n",
    "            kavkaz = 'no cord'\n",
    "    return kavkaz"
   ]
  },
  {
   "cell_type": "code",
   "execution_count": 189,
   "metadata": {},
   "outputs": [
    {
     "data": {
      "text/plain": [
       "['55.714541, 37.400837',\n",
       " '55.553885, 36.391695',\n",
       " '44.175571, 40.619266',\n",
       " 'no cord',\n",
       " '56.829330,60.574348']"
      ]
     },
     "execution_count": 189,
     "metadata": {},
     "output_type": "execute_result"
    }
   ],
   "source": [
    "list0 = []\n",
    "for i in range(len(lisok)):\n",
    "    uClient = uReq(lisok[i])\n",
    "    page_html = uClient.read()\n",
    "    uClient.close()\n",
    "    page_soup = soup(page_html, \"html.parser\")\n",
    "    comp = page_soup.findAll(\"div\", {\"class\":\"content\"})\n",
    "    list0.append(find_cor(comp))\n",
    "list0"
   ]
  },
  {
   "cell_type": "code",
   "execution_count": 190,
   "metadata": {},
   "outputs": [],
   "source": [
    "if sel.xpath('//div[@class=\"content\"]//span[@style=\"text-decoration: line-through;\"]').extract_first() != None:\n",
    "    line = sel.xpath('//div[@class=\"content\"]//span[@style=\"text-decoration: line-through;\"]').extract_first()\n",
    "else:\n",
    "    line = \"no coordinates\""
   ]
  },
  {
   "cell_type": "code",
   "execution_count": 163,
   "metadata": {},
   "outputs": [
    {
     "data": {
      "text/plain": [
       "'<span style=\"text-decoration: line-through;\"><span style=\"font-weight: bold\"><span style=\"color: #0000FF\">Внимание, выезд!<br>Сбор: 21:30, ул. Беловежская, 3 (парковка). Координаты: 55.714541, 37.400837</span></span></span>'"
      ]
     },
     "execution_count": 163,
     "metadata": {},
     "output_type": "execute_result"
    }
   ],
   "source": [
    "sel.xpath('//div[@class=\"content\"]//span[@style=\"text-decoration: line-through;\"]').extract_first()"
   ]
  },
  {
   "cell_type": "code",
   "execution_count": 164,
   "metadata": {},
   "outputs": [],
   "source": [
    "def find_cor(line):\n",
    "    if re.search(r'\\d+.\\d+, \\d+.\\d+', line) == None:\n",
    "        return \"no coordinates\"\n",
    "    else:\n",
    "        cor_list = re.search(r'\\d+.\\d+, \\d+.\\d+', line).group().replace(',', '').split()\n",
    "        return cor_list"
   ]
  },
  {
   "cell_type": "code",
   "execution_count": 165,
   "metadata": {},
   "outputs": [
    {
     "data": {
      "text/plain": [
       "['55.714541', '37.400837']"
      ]
     },
     "execution_count": 165,
     "metadata": {},
     "output_type": "execute_result"
    }
   ],
   "source": [
    "find_cor(line)"
   ]
  },
  {
   "cell_type": "code",
   "execution_count": 166,
   "metadata": {},
   "outputs": [],
   "source": []
  },
  {
   "cell_type": "code",
   "execution_count": 167,
   "metadata": {},
   "outputs": [
    {
     "data": {
      "text/plain": [
       "'55.714541, 37.400837'"
      ]
     },
     "execution_count": 167,
     "metadata": {},
     "output_type": "execute_result"
    }
   ],
   "source": [
    "find_cor(comp)"
   ]
  },
  {
   "cell_type": "code",
   "execution_count": 168,
   "metadata": {},
   "outputs": [],
   "source": [
    "list0 = []\n",
    "list0.append(find_cor(comp))"
   ]
  },
  {
   "cell_type": "code",
   "execution_count": 169,
   "metadata": {},
   "outputs": [
    {
     "data": {
      "text/plain": [
       "['55.714541, 37.400837']"
      ]
     },
     "execution_count": 169,
     "metadata": {},
     "output_type": "execute_result"
    }
   ],
   "source": [
    "list0"
   ]
  },
  {
   "cell_type": "code",
   "execution_count": null,
   "metadata": {},
   "outputs": [],
   "source": []
  }
 ],
 "metadata": {
  "kernelspec": {
   "display_name": "Python 3",
   "language": "python",
   "name": "python3"
  },
  "language_info": {
   "codemirror_mode": {
    "name": "ipython",
    "version": 3
   },
   "file_extension": ".py",
   "mimetype": "text/x-python",
   "name": "python",
   "nbconvert_exporter": "python",
   "pygments_lexer": "ipython3",
   "version": "3.7.3"
  }
 },
 "nbformat": 4,
 "nbformat_minor": 2
}
