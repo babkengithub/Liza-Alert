{
 "cells": [
  {
   "cell_type": "code",
   "execution_count": 2,
   "metadata": {},
   "outputs": [
    {
     "name": "stderr",
     "output_type": "stream",
     "text": [
      "[nltk_data] Downloading package punkt to\n",
      "[nltk_data]     C:\\Users\\nikzo\\AppData\\Roaming\\nltk_data...\n",
      "[nltk_data]   Package punkt is already up-to-date!\n"
     ]
    },
    {
     "data": {
      "text/plain": [
       "True"
      ]
     },
     "execution_count": 2,
     "metadata": {},
     "output_type": "execute_result"
    }
   ],
   "source": [
    "# Import libraries\n",
    "import datetime\n",
    "import time\n",
    "import requests\n",
    "import numpy as np\n",
    "import pandas as pd\n",
    "import re\n",
    "import bs4\n",
    "import collections\n",
    "from urllib.request import urlopen as uReq\n",
    "from bs4 import BeautifulSoup as soup\n",
    "from scrapy import Selector\n",
    "from nltk import word_tokenize\n",
    "import nltk\n",
    "nltk.download('punkt') #winlocker"
   ]
  },
  {
   "cell_type": "code",
   "execution_count": 3,
   "metadata": {},
   "outputs": [
    {
     "name": "stdout",
     "output_type": "stream",
     "text": [
      "[<Selector xpath='//a' data='<a href=\"2019-05-04_Pashenkovo\" target=\"'>, <Selector xpath='//a' data='<a href=\"2019-05-04_Mishkino\" target=\"_b'>, <Selector xpath='//a' data='<a href=\"2019-05-01_Shlykovo\" target=\"_b'>, <Selector xpath='//a' data='<a href=\"2019-05-01_Orion\" target=\"_blan'>, <Selector xpath='//a' data='<a href=\"2019-05-01_K9\" target=\"_blank\">'>, <Selector xpath='//a' data='<a href=\"2019-05-01_Fenino\" target=\"_bla'>, <Selector xpath='//a' data='<a href=\"2019-04-29_Urkino\" target=\"_bla'>, <Selector xpath='//a' data='<a href=\"2019-04-29_Taganrog\" target=\"_b'>, <Selector xpath='//a' data='<a href=\"2019-04-27_Olkha_training\" targ'>, <Selector xpath='//a' data='<a href=\"2019-04-27_Kobostovo\" target=\"_'>, <Selector xpath='//a' data='<a href=\"2019-04-26_Shelkovo\" target=\"_b'>, <Selector xpath='//a' data='<a href=\"2019-04-22_Barsilovo\" target=\"_'>, <Selector xpath='//a' data='<a href=\"2019-04-19_Manishta\" target=\"_b'>, <Selector xpath='//a' data='<a href=\"2019-04-19_Demidov\" target=\"_bl'>, <Selector xpath='//a' data='<a href=\"2019-04-17_Seslavl\" target=\"_bl'>, <Selector xpath='//a' data='<a href=\"2019-04-17_Azovskaya\" target=\"_'>, <Selector xpath='//a' data='<a href=\"2019-04-16_Ufa_Zaton\" target=\"_'>, <Selector xpath='//a' data='<a href=\"2019-04-16_Ruza\" target=\"_blank'>, <Selector xpath='//a' data='<a href=\"2019-04-11_Kastrolovo\" target=\"'>, <Selector xpath='//a' data='<a href=\"2019-04-11_Bronnitsy\" target=\"_'>, <Selector xpath='//a' data='<a href=\"2019-04-06_Rostov_zapad\" target'>, <Selector xpath='//a' data='<a href=\"2019-04-06_Manturovo\" target=\"_'>, <Selector xpath='//a' data='<a href=\"2019-04-05_Zaprudnya\" target=\"_'>, <Selector xpath='//a' data='<a href=\"2019-04-04_Selstroi\" target=\"_b'>, <Selector xpath='//a' data='<a href=\"2019-04-03_Shiryaevo\" target=\"_'>, <Selector xpath='//a' data='<a href=\"2019-04-03_Butovo\" target=\"_bla'>, <Selector xpath='//a' data='<a href=\"2019-03-29_OZ\" target=\"_blank\">'>, <Selector xpath='//a' data='<a href=\"2019-03-26_Puschkino\" target=\"_'>, <Selector xpath='//a' data='<a href=\"2019-03-23_Gorki10\" target=\"_bl'>, <Selector xpath='//a' data='<a href=\"2019-03-17_Losinyi_ostrov\" targ'>, <Selector xpath='//a' data='<a href=\"2019-03-03_Kalininets\" target=\"'>, <Selector xpath='//a' data='<a href=\"2019-03-02_Dmitriev\" target=\"_b'>, <Selector xpath='//a' data='<a href=\"2019-02-27_Nevinimyssk\" target='>, <Selector xpath='//a' data='<a href=\"2019-02-26_Terehovo\" target=\"_b'>, <Selector xpath='//a' data='<a href=\"2019-02-20_Markova\" target=\"_bl'>, <Selector xpath='//a' data='<a href=\"2019-02-15_LesoparkLesovodov\" t'>, <Selector xpath='//a' data='<a href=\"2019-02-09_Shahty\" target=\"_bla'>, <Selector xpath='//a' data='<a href=\"2019-02-03_Peredelkino\" target='>, <Selector xpath='//a' data='<a href=\"2019-01-24_Lermontov\" target=\"_'>, <Selector xpath='//a' data='<a href=\"2019-01-18_Bogolybovo\" target=\"'>, <Selector xpath='//a' data='<a href=\"2019-01-13_Rumyantsevo\" target='>, <Selector xpath='//a' data='<a href=\"2019-01-08_Surmino_shtab5(dark_'>, <Selector xpath='//a' data='<a href=\"2019-01-08_Surmino_shtab3(orang'>, <Selector xpath='//a' data='<a href=\"2019-01-08_Surmino_Navigation_T'>, <Selector xpath='//a' data='<a href=\"2019-01-05_Surmino_shtab1\" targ'>, <Selector xpath='//a' data='<a href=\"2019-01-05_Frolovskoe\" target=\"'>, <Selector xpath='//a' data='<a href=\"2019-01-03_Korkino\" target=\"_bl'>, <Selector xpath='//a' data='<a href=\"2018-12-31_Penye\" target=\"_blan'>, <Selector xpath='//a' data='<a href=\"2018-12-30_polezaevo\" target=\"_'>, <Selector xpath='//a' data='<a href=\"2018-12-27_Krasnoarmeysk\" targe'>, <Selector xpath='//a' data='<a href=\"2018-12-19_Protvino\" target=\"_b'>, <Selector xpath='//a' data='<a href=\"2018-12-17_StarayaRuza\" target='>, <Selector xpath='//a' data='<a href=\"2018-12-14_Xovrino\" target=\"_bl'>, <Selector xpath='//a' data='<a href=\"2018-12-08_Yasenevo\" target=\"_b'>, <Selector xpath='//a' data='<a href=\"2018-12-08_Shanta\" target=\"_bla'>, <Selector xpath='//a' data='<a href=\"2018-12-07_Mytischi\" target=\"_b'>, <Selector xpath='//a' data='<a href=\"2018-12-07_Buruvestnik\" target='>, <Selector xpath='//a' data='<a href=\"2018-11-28_Ekb\" target=\"_blank\"'>, <Selector xpath='//a' data='<a href=\"2018-11-24_Karmanovskiy\" target'>, <Selector xpath='//a' data='<a href=\"2018-11-23_Schehmino\" target=\"_'>, <Selector xpath='//a' data='<a href=\"2018-11-19_Nadeyka\" target=\"_bl'>, <Selector xpath='//a' data='<a href=\"2018-11-19_Domodedovo\" target=\"'>, <Selector xpath='//a' data='<a href=\"2018-11-17_SOVA\" target=\"_blank'>, <Selector xpath='//a' data='<a href=\"2018-11-17_OREL\" target=\"_blank'>, <Selector xpath='//a' data='<a href=\"2018-11-17_LISA\" target=\"_blank'>, <Selector xpath='//a' data='<a href=\"2018-11-17_Bolshevik\" target=\"_'>, <Selector xpath='//a' data='<a href=\"2018-11-16_Stremilovo\" target=\"'>, <Selector xpath='//a' data='<a href=\"2018-11-11_Krasnogorsk\" target='>, <Selector xpath='//a' data='<a href=\"2018-11-10_Pogari\" target=\"_bla'>, <Selector xpath='//a' data='<a href=\"2018-11-04_Maksimtsevo\" target='>, <Selector xpath='//a' data='<a href=\"2018-11-03_Myatlevo\" target=\"_b'>, <Selector xpath='//a' data='<a href=\"2018-10-28_Ulukol\" target=\"_bla'>, <Selector xpath='//a' data='<a href=\"2018-10-23_Jeleznogorsk\" target'>, <Selector xpath='//a' data='<a href=\"2018-10-22_Brateevo\" target=\"_b'>, <Selector xpath='//a' data='<a href=\"2018-10-21_Karbusheva\" target=\"'>, <Selector xpath='//a' data='<a href=\"2018-10-17_StaryePsarki\" target'>, <Selector xpath='//a' data='<a href=\"2018-10-16_Timkovo\" target=\"_bl'>, <Selector xpath='//a' data='<a href=\"2018-10-15_Yamkino\" target=\"_bl'>, <Selector xpath='//a' data='<a href=\"2018-10-15_Mestilovo\" target=\"_'>, <Selector xpath='//a' data='<a href=\"2018-10-13_Tyrnovo\" target=\"_bl'>, <Selector xpath='//a' data='<a href=\"2018-10-13_Syanovo\" target=\"_bl'>, <Selector xpath='//a' data='<a href=\"2018-10-11_Zaborovye\" target=\"_'>, <Selector xpath='//a' data='<a href=\"2018-10-11_Podvislovo\" target=\"'>, <Selector xpath='//a' data='<a href=\"2018-10-11_Krasnoznamensk\" targ'>, <Selector xpath='//a' data='<a href=\"2018-10-09_Pavlino\" target=\"_bl'>, <Selector xpath='//a' data='<a href=\"2018-10-04_Zeleniy\" target=\"_bl'>, <Selector xpath='//a' data='<a href=\"2018-10-04_Ozery\" target=\"_blan'>, <Selector xpath='//a' data='<a href=\"2018-10-04_Leonovo\" target=\"_bl'>, <Selector xpath='//a' data='<a href=\"2018-10-03_Ribnoe\" target=\"_bla'>, <Selector xpath='//a' data='<a href=\"2018-10-01_NovoePodvyaznovo\" ta'>, <Selector xpath='//a' data='<a href=\"2018-09-27_Kovrigino\" target=\"_'>, <Selector xpath='//a' data='<a href=\"2018-09-27_Isakovo\" target=\"_bl'>, <Selector xpath='//a' data='<a href=\"2018-09-24_Voymezniy\" target=\"_'>, <Selector xpath='//a' data='<a href=\"2018-09-23_Bodrovo\" target=\"_bl'>, <Selector xpath='//a' data='<a href=\"2018-09-22_ZelenyeDali\" target='>, <Selector xpath='//a' data='<a href=\"2018-09-22_Velikoe\" target=\"_bl'>, <Selector xpath='//a' data='<a href=\"2018-09-22_Burtsevo\" target=\"_b'>, <Selector xpath='//a' data='<a href=\"2018-09-21_SNT_Soyuz\" target=\"_'>, <Selector xpath='//a' data='<a href=\"2018-09-21_BolVolgovitsy\" targe'>, <Selector xpath='//a' data='<a href=\"2018-09-20_Kirov\" target=\"_blan'>, <Selector xpath='//a' data='<a href=\"2018-09-19_Ostahhkov\" target=\"_'>, <Selector xpath='//a' data='<a href=\"2018-09-19_Olha\" target=\"_blank'>, <Selector xpath='//a' data='<a href=\"2018-09-17_Apraksin\" target=\"_b'>, <Selector xpath='//a' data='<a href=\"2018-09-16_Elektrogorsk\" target'>, <Selector xpath='//a' data='<a href=\"2018-09-14_Hlestovo\" target=\"_b'>, <Selector xpath='//a' data='<a href=\"2018-09-13_Alabushevo\" target=\"'>, <Selector xpath='//a' data='<a href=\"2018-09-12_Zveronojka\" target=\"'>, <Selector xpath='//a' data='<a href=\"2018-09-12_GoraValday\" target=\"'>, <Selector xpath='//a' data='<a href=\"2018-09-11_Rogovskoe\" target=\"_'>, <Selector xpath='//a' data='<a href=\"2018-09-11_Kamenka\" target=\"_bl'>, <Selector xpath='//a' data='<a href=\"2018-09-11-lgovo\" target=\"_blan'>, <Selector xpath='//a' data='<a href=\"2018-09-09_Visha\" target=\"_blan'>, <Selector xpath='//a' data='<a href=\"2018-09-07_Natalyino-test\" targ'>, <Selector xpath='//a' data='<a href=\"2018-09-07_Natalino\" target=\"_b'>, <Selector xpath='//a' data='<a href=\"2018-09-07_Lugi\" target=\"_blank'>, <Selector xpath='//a' data='<a href=\"2018-09-05_Nadezhdino\" target=\"'>, <Selector xpath='//a' data='<a href=\"2018-09-05_Alekseevskoe\" target'>, <Selector xpath='//a' data='<a href=\"2018-09-03_LikinoDulevo\" target'>, <Selector xpath='//a' data='<a href=\"2018-09-02_Antonovo\" target=\"_b'>, <Selector xpath='//a' data='<a href=\"2018-09-01_Volosovo\" target=\"_b'>, <Selector xpath='//a' data='<a href=\"2018-08-30_Troitskoe\" target=\"_'>, <Selector xpath='//a' data='<a href=\"2018-08-29_SNT_Zarnitsa\" target'>, <Selector xpath='//a' data='<a href=\"2018-08-29_Gorohovets\" target=\"'>, <Selector xpath='//a' data='<a href=\"2018-08-28_Urzhumka\" target=\"_b'>, <Selector xpath='//a' data='<a href=\"2018-08-26_Vita-M\" target=\"_bla'>, <Selector xpath='//a' data='<a href=\"2018-08-26_Suharevo\" target=\"_b'>, <Selector xpath='//a' data='<a href=\"2018-08-26_Petrovo\" target=\"_bl'>, <Selector xpath='//a' data='<a href=\"2018-08-24_Ershi\" target=\"_blan'>, <Selector xpath='//a' data='<a href=\"2018-08-21_Zarya\" target=\"_blan'>, <Selector xpath='//a' data='<a href=\"2018-08-20_Viktorovo\" target=\"_'>, <Selector xpath='//a' data='<a href=\"2018-08-20_Svobodniy\" target=\"_'>, <Selector xpath='//a' data='<a href=\"2018-08-20_Shatura\" target=\"_bl'>, <Selector xpath='//a' data='<a href=\"2018-08-20_SNT_Teatralnoye\" tar'>, <Selector xpath='//a' data='<a href=\"2018-08-20_Bogorodsk\" target=\"_'>, <Selector xpath='//a' data='<a href=\"2018-08-18_Barmino\" target=\"_bl'>, <Selector xpath='//a' data='<a href=\"2018-08-15_Udelnaya\" target=\"_b'>, <Selector xpath='//a' data='<a href=\"2018-08-15_El\\'kush2\" target=\"_b'>, <Selector xpath='//a' data='<a href=\"2018-08-13_Kurlovo\" target=\"_bl'>, <Selector xpath='//a' data='<a href=\"2018-08-11_Vasilevo\" target=\"_b'>, <Selector xpath='//a' data='<a href=\"2018-08-11_Pervouralsk\" target='>, <Selector xpath='//a' data='<a href=\"2018-08-10_Yabdino\" target=\"_bl'>, <Selector xpath='//a' data='<a href=\"2018-08-09_Dorohovo\" target=\"_b'>, <Selector xpath='//a' data='<a href=\"2018-08-06_Kuytun\" target=\"_bla'>, <Selector xpath='//a' data='<a href=\"2018-08-03_Nefedyevo\" target=\"_'>, <Selector xpath='//a' data='<a href=\"2018-08-03_GornyBorok_500\" targ'>, <Selector xpath='//a' data='<a href=\"2018-08-03_GornyBorok\" target=\"'>, <Selector xpath='//a' data='<a href=\"2018-08-01_Severnoe\" target=\"_b'>, <Selector xpath='//a' data='<a href=\"2018-07-30_Fenino\" target=\"_bla'>, <Selector xpath='//a' data='<a href=\"2018-07-29_Novoselki\" target=\"_'>, <Selector xpath='//a' data='<a href=\"2018-07-29_Lugovoy\" target=\"_bl'>, <Selector xpath='//a' data='<a href=\"2018-07-28_Shekavtsevo\" target='>, <Selector xpath='//a' data='<a href=\"2018-07-27_Metalurg3\" target=\"_'>, <Selector xpath='//a' data='<a href=\"2018-07-25_Shestovskoe\" target='>, <Selector xpath='//a' data='<a href=\"2018-07-22_Yubileiny\" target=\"_'>, <Selector xpath='//a' data='<a href=\"2018-07-21_Tekstilshick\" target'>, <Selector xpath='//a' data='<a href=\"2018-07-21_Nemki\" target=\"_blan'>, <Selector xpath='//a' data='<a href=\"2018-07-20_Radovichkiy\" target='>, <Selector xpath='//a' data='<a href=\"2018-07-19_Tuktubaevo\" target=\"'>, <Selector xpath='//a' data='<a href=\"2018-07-19_Kubinka-10\" target=\"'>, <Selector xpath='//a' data='<a href=\"2018-07-17_Shaturtorf\" target=\"'>, <Selector xpath='//a' data='<a href=\"2018-07-17_Shablykino\" target=\"'>, <Selector xpath='//a' data='<a href=\"2018-07-17_Balashiha\" target=\"_'>, <Selector xpath='//a' data='<a href=\"2018-07-16_Zapolye\" target=\"_bl'>, <Selector xpath='//a' data='<a href=\"2018-07-15_Pushkarnoe\" target=\"'>, <Selector xpath='//a' data='<a href=\"2018-07-14_Rechushka\" target=\"_'>, <Selector xpath='//a' data='<a href=\"2018-07-14_Lukino\" target=\"_bla'>, <Selector xpath='//a' data='<a href=\"2018-07-13_U-Gorka\" target=\"_bl'>, <Selector xpath='//a' data='<a href=\"2018-07-12_Shilovo\" target=\"_bl'>, <Selector xpath='//a' data='<a href=\"2018-07-12_Naviki_Bitca\" target'>, <Selector xpath='//a' data='<a href=\"2018-07-11_Belskoye\" target=\"_b'>, <Selector xpath='//a' data='<a href=\"2018-07-10_Malovskaya\" target=\"'>, <Selector xpath='//a' data='<a href=\"2018-07-09_Kasharka\" target=\"_b'>, <Selector xpath='//a' data='<a href=\"2018-07-07_Poselye\" target=\"_bl'>, <Selector xpath='//a' data='<a href=\"2018-07-07_Dryazgovitaya\" targe'>, <Selector xpath='//a' data='<a href=\"2018-07-02_Olxa_Irkutsk\" target'>, <Selector xpath='//a' data='<a href=\"2018-07-02_Lopotovo\" target=\"_b'>, <Selector xpath='//a' data='<a href=\"2018-07-01_Borovki\" target=\"_bl'>, <Selector xpath='//a' data='<a href=\"2018-06-30_SNT_Hotkovo\" target='>, <Selector xpath='//a' data='<a href=\"2018-06-30_BolshoyVyas\" target='>, <Selector xpath='//a' data='<a href=\"2018-06-29_Vlasiha\" target=\"_bl'>, <Selector xpath='//a' data='<a href=\"2018-06-28_Machihino\" target=\"_'>, <Selector xpath='//a' data='<a href=\"2018-06-26_Jukovo\" target=\"_bla'>, <Selector xpath='//a' data='<a href=\"2018-06-25_Kolomenskoe\" target='>, <Selector xpath='//a' data='<a href=\"2018-06-20-Star4iki\" target=\"_b'>, <Selector xpath='//a' data='<a href=\"2018-06-19_Vershina\" target=\"_b'>, <Selector xpath='//a' data='<a href=\"2018-06-19_Perm\" target=\"_blank'>, <Selector xpath='//a' data='<a href=\"2018-06-16_Bratsk\" target=\"_bla'>, <Selector xpath='//a' data='<a href=\"2018-06-15_Trestino\" target=\"_b'>, <Selector xpath='//a' data='<a href=\"2018-06-13_Strokovka\" target=\"_'>, <Selector xpath='//a' data='<a href=\"2018-06-13_Platonovka_Tambov\" t'>, <Selector xpath='//a' data='<a href=\"2018-06-11_Ilyinskoye_2\" target'>, <Selector xpath='//a' data='<a href=\"2018-06-10_Chernogolovka\" targe'>, <Selector xpath='//a' data='<a href=\"2018-06-09_Bitca\" target=\"_blan'>, <Selector xpath='//a' data='<a href=\"2018-06-09_50_let_Oktyabrya\" ta'>, <Selector xpath='//a' data='<a href=\"2018-06-05_Zelenogradskiy\" targ'>, <Selector xpath='//a' data='<a href=\"2018-06-04_Borodino\" target=\"_b'>, <Selector xpath='//a' data='<a href=\"2018-06-01_Borioskoe\" target=\"_'>, <Selector xpath='//a' data='<a href=\"2018-05-28_Tokarevo\" target=\"_b'>, <Selector xpath='//a' data='<a href=\"2018-05-27_Georgievskiy\" target'>, <Selector xpath='//a' data='<a href=\"2018-05-27_Akinshino\" target=\"_'>, <Selector xpath='//a' data='<a href=\"2018-05-25_Stechna\" target=\"_bl'>, <Selector xpath='//a' data='<a href=\"2018-05-25_Beloomut\" target=\"_b'>, <Selector xpath='//a' data='<a href=\"2018-05-24_Zhukowo\" target=\"_bl'>, <Selector xpath='//a' data='<a href=\"2018-05-17_SNT_Oka\" target=\"_bl'>, <Selector xpath='//a' data='<a href=\"2018-05-16_Kotelniki\" target=\"_'>, <Selector xpath='//a' data='<a href=\"2018-05-16_BolshieBerezniki\" ta'>, <Selector xpath='//a' data='<a href=\"2018-05-15_MesherskyiPark\" targ'>, <Selector xpath='//a' data='<a href=\"2018-05-11_Alferovo\" target=\"_b'>, <Selector xpath='//a' data='<a href=\"2018-05-08_UlanUde\" target=\"_bl'>, <Selector xpath='//a' data='<a href=\"2018-05-07_UlanUde100\" target=\"'>, <Selector xpath='//a' data='<a href=\"2018-05-07_UlanUde\" target=\"_bl'>, <Selector xpath='//a' data='<a href=\"2018-05-05_Matveyshevo\" target='>, <Selector xpath='//a' data='<a href=\"2018-04-30_Baksheevo\" target=\"_'>, <Selector xpath='//a' data='<a href=\"2018-04-23_Novokosino\" target=\"'>, <Selector xpath='//a' data='<a href=\"2018-04-20_Podolsk\" target=\"_bl'>, <Selector xpath='//a' data='<a href=\"2018-04-18_Test\" target=\"_blank'>, <Selector xpath='//a' data='<a href=\"2018-04-17_Zorino\" target=\"_bla'>, <Selector xpath='//a' data='<a href=\"2018-04-13_Pozdnyakovo\" target='>, <Selector xpath='//a' data='<a href=\"2018-04-11_Kotorovo\" target=\"_b'>, <Selector xpath='//a' data='<a href=\"2018-03-10_Bitca\" target=\"_blan'>, <Selector xpath='//a' data='<a href=\"2018-03-02_Abramtsevo\" target=\"'>, <Selector xpath='//a' data='<a href=\"2018-02-10_Vnukovo\" target=\"_bl'>, <Selector xpath='//a' data='<a href=\"2018-02-07_Plyohovo\" target=\"_b'>, <Selector xpath='//a' data='<a href=\"2018-01-20_Noginsk\" target=\"_bl'>, <Selector xpath='//a' data='<a href=\"2018-01-13_Domodedovo\" target=\"'>, <Selector xpath='//a' data='<a href=\"2018-01-12_Vostochny\" target=\"_'>, <Selector xpath='//a' data='<a href=\"2018-01-08_SergievPosad6\" targe'>, <Selector xpath='//a' data='<a href=\"2018-01-05_Kushva\" target=\"_bla'>, <Selector xpath='//a' data='<a href=\"2017-12-27_Zhukovskiy\" target=\"'>, <Selector xpath='//a' data='<a href=\"2017-12-22_Podlesniy\" target=\"_'>, <Selector xpath='//a' data='<a href=\"2017-12-12_Orel\" target=\"_blank'>, <Selector xpath='//a' data='<a href=\"2017-12-07_Zagornovo\" target=\"_'>, <Selector xpath='//a' data='<a href=\"2017-12-03_Manturovo\" target=\"_'>, <Selector xpath='//a' data='<a href=\"2017-11-27_Petrovskoe\" target=\"'>, <Selector xpath='//a' data='<a href=\"2017-11-27_Kubinka\" target=\"_bl'>, <Selector xpath='//a' data='<a href=\"2017-11-23_Protvino\" target=\"_b'>, <Selector xpath='//a' data='<a href=\"2017-11-18_Levkovo_Zapad\" targe'>, <Selector xpath='//a' data='<a href=\"2017-11-18_Levkovo_Vostok\" targ'>, <Selector xpath='//a' data='<a href=\"2017-11-18_Levkovo_Sever\" targe'>, <Selector xpath='//a' data='<a href=\"2017-11-15_Pushkino\" target=\"_b'>, <Selector xpath='//a' data='<a href=\"2017-11-11-Troickoe\" target=\"_b'>, <Selector xpath='//a' data='<a href=\"2017-11-06_Levkovo\" target=\"_bl'>, <Selector xpath='//a' data='<a href=\"2017-11-01_Utishevo\" target=\"_b'>, <Selector xpath='//a' data='<a href=\"2017-11-01_Nagornoe\" target=\"_b'>, <Selector xpath='//a' data='<a href=\"2017-10-30_Krasnogorsk\" target='>, <Selector xpath='//a' data='<a href=\"2017-10-29_Dedovsk\" target=\"_bl'>, <Selector xpath='//a' data='<a href=\"2017-10-27_Sokovo\" target=\"_bla'>, <Selector xpath='//a' data='<a href=\"2017-10-22_Pogorelki\" target=\"_'>, <Selector xpath='//a' data='<a href=\"2017-10-16_GoraPnevits\" target='>, <Selector xpath='//a' data='<a href=\"2017-10-14_Kirzhinec_Nizniy\" ta'>, <Selector xpath='//a' data='<a href=\"2017-10-13_Vvedenskoe\" target=\"'>, <Selector xpath='//a' data='<a href=\"2017-10-11_Gavrilov_Yam\" target'>, <Selector xpath='//a' data='<a href=\"2017-10-09_Parashino\" target=\"_'>, <Selector xpath='//a' data='<a href=\"2017-10-09_Golovenki\" target=\"_'>, <Selector xpath='//a' data='<a href=\"2017-10-06_Plokhovka\" target=\"_'>, <Selector xpath='//a' data='<a href=\"2017-10-05_Shapkino\" target=\"_b'>, <Selector xpath='//a' data='<a href=\"2017-10-05_Biserevo\" target=\"_b'>, <Selector xpath='//a' data='<a href=\"2017-10-04_Timonino\" target=\"_b'>, <Selector xpath='//a' data='<a href=\"2017-10-03_Vysokovo\" target=\"_b'>, <Selector xpath='//a' data='<a href=\"2017-10-03_Vasyutino\" target=\"_'>, <Selector xpath='//a' data='<a href=\"2017-10-01_Kalinovo\" target=\"_b'>, <Selector xpath='//a' data='<a href=\"2017-09-29_Sumarokovo\" target=\"'>, <Selector xpath='//a' data='<a href=\"2017-09-29_Holscheviki\" target='>, <Selector xpath='//a' data='<a href=\"2017-09-27_Nudol\" target=\"_blan'>, <Selector xpath='//a' data='<a href=\"2017-09-25_SNT_Pioner\" target=\"'>, <Selector xpath='//a' data='<a href=\"2017-09-24_Sokolovo\" target=\"_b'>, <Selector xpath='//a' data='<a href=\"2017-09-23_Ivavcevo\" target=\"_b'>, <Selector xpath='//a' data='<a href=\"2017-09-22_Zveronojka\" target=\"'>, <Selector xpath='//a' data='<a href=\"2017-09-21_Troitsk\" target=\"_bl'>, <Selector xpath='//a' data='<a href=\"2017-09-21_Hripan\" target=\"_bla'>, <Selector xpath='//a' data='<a href=\"2017-09-21_Fedyukovo\" target=\"_'>, <Selector xpath='//a' data='<a href=\"2017-09-20Chashnikovo\" target=\"'>, <Selector xpath='//a' data='<a href=\"2017-09-19_Vysokovo\" target=\"_b'>, <Selector xpath='//a' data='<a href=\"2017-09-19_RedkinoKresty\" targe'>, <Selector xpath='//a' data='<a href=\"2017-09-19_GradMoskovskiy\" targ'>, <Selector xpath='//a' data='<a href=\"2017-09-18_Zagorye\" target=\"_bl'>, <Selector xpath='//a' data='<a href=\"2017-09-18_Shanino\" target=\"_bl'>, <Selector xpath='//a' data='<a href=\"2017-09-18_Pereshapovo\" target='>, <Selector xpath='//a' data='<a href=\"2017-09-17_SNT_Energiya\" target'>, <Selector xpath='//a' data='<a href=\"2017-09-17_Kartino\" target=\"_bl'>, <Selector xpath='//a' data='<a href=\"2017-09-16_Lvovsky\" target=\"_bl'>, <Selector xpath='//a' data='<a href=\"2017-09-16_Altair_Bud\\'kovo\" tar'>, <Selector xpath='//a' data='<a href=\"2017-09-15_Gorodkovo\" target=\"_'>, <Selector xpath='//a' data='<a href=\"2017-09-13_Kolomna\" target=\"_bl'>, <Selector xpath='//a' data='<a href=\"2017-09-12_Ivnyagovo\" target=\"_'>, <Selector xpath='//a' data='<a href=\"2017-09-10_Belyanitsy\" target=\"'>, <Selector xpath='//a' data='<a href=\"2017-09-07_VyatskiePolyany\" tar'>, <Selector xpath='//a' data='<a href=\"2017-09-07_Vorobyovo\" target=\"_'>, <Selector xpath='//a' data='<a href=\"2017-09-06_Torohovo\" target=\"_b'>, <Selector xpath='//a' data='<a href=\"2017-09-03_Mikhalevo\" target=\"_'>, <Selector xpath='//a' data='<a href=\"2017-09-03_Duminichi\" target=\"_'>, <Selector xpath='//a' data='<a href=\"2017-09-02_Gornevo\" target=\"_bl'>, <Selector xpath='//a' data='<a href=\"2017-09-01_Steblevo\" target=\"_b'>, <Selector xpath='//a' data='<a href=\"2017-08-31_Vlasovo\" target=\"_bl'>, <Selector xpath='//a' data='<a href=\"2017-08-29_Noginsk\" target=\"_bl'>, <Selector xpath='//a' data='<a href=\"2017-08-28_AbramtsevskieDachi\" '>, <Selector xpath='//a' data='<a href=\"2017-08-26_Tolstovo\" target=\"_b'>, <Selector xpath='//a' data='<a href=\"2017-08-23_Vvedenskoye\" target='>, <Selector xpath='//a' data='<a href=\"2017-08-21_Podushkino\" target=\"'>, <Selector xpath='//a' data='<a href=\"2017-08-21_Novoselovo\" target=\"'>, <Selector xpath='//a' data='<a href=\"2017-08-20_Shaturtorf\" target=\"'>, <Selector xpath='//a' data='<a href=\"2017-08-19_Fryazino\" target=\"_b'>, <Selector xpath='//a' data='<a href=\"2017-08-18_u4enia-Polegaevo\" ta'>, <Selector xpath='//a' data='<a href=\"2017-08-17_Igumnovo\" target=\"_b'>, <Selector xpath='//a' data='<a href=\"2017-08-16_Vysokovo\" target=\"_b'>, <Selector xpath='//a' data='<a href=\"2017-08-16_Gorki\" target=\"_blan'>, <Selector xpath='//a' data='<a href=\"2017-08-11_Kaluzhskaya\" target='>, <Selector xpath='//a' data='<a href=\"2017-08-10_Korolev\" target=\"_bl'>, <Selector xpath='//a' data='<a href=\"2017-08-06_Pogost\" target=\"_bla'>, <Selector xpath='//a' data='<a href=\"2017-08-03_Cherusti\" target=\"_b'>, <Selector xpath='//a' data='<a href=\"2017-08-02_Aksenovo\" target=\"_b'>, <Selector xpath='//a' data='<a href=\"2017-07-31_Ryzhkovo\" target=\"_b'>, <Selector xpath='//a' data='<a href=\"2017-07-30_Voskresenskoe\" targe'>, <Selector xpath='//a' data='<a href=\"2017-07-28_Korsabash\" target=\"_'>, <Selector xpath='//a' data='<a href=\"2017-07-27_Dobryatino\" target=\"'>, <Selector xpath='//a' data='<a href=\"2017-07-24_Bryansk\" target=\"_bl'>, <Selector xpath='//a' data='<a href=\"2017-07-16_Voynovo-Gora\" target'>, <Selector xpath='//a' data='<a href=\"2017-07-13_Mikhailovskoe\" targe'>, <Selector xpath='//a' data='<a href=\"2017-07-10_Pervomayskiy\" target'>, <Selector xpath='//a' data='<a href=\"2017-07-02_Odintsovo\" target=\"_'>, <Selector xpath='//a' data='<a href=\"2017-06-29_Kaydakovo_Tula\" targ'>, <Selector xpath='//a' data='<a href=\"2017-06-08_LosiniyOstrov\" targe'>, <Selector xpath='//a' data='<a href=\"2017-06-06_Zheleznodorogniy\" ta'>, <Selector xpath='//a' data='<a href=\"2017-06-02_Odintsovo\" target=\"_'>, <Selector xpath='//a' data='<a href=\"2017-05-31_Opaliha\" target=\"_bl'>, <Selector xpath='//a' data='<a href=\"2017-05-28_Salkovo_MO\" target=\"'>, <Selector xpath='//a' data='<a href=\"2017-05-26_Gorici_Tver\" target='>, <Selector xpath='//a' data='<a href=\"2017-05-24_Hrustali\" target=\"_b'>, <Selector xpath='//a' data='<a href=\"2017-05-24_Dubinovka_Kursk-obl\"'>, <Selector xpath='//a' data='<a href=\"2017-05-22_Sofryakovo\" target=\"'>, <Selector xpath='//a' data='<a href=\"2017-05-20_Lobnya\" target=\"_bla'>, <Selector xpath='//a' data='<a href=\"2017-05-13_GeoSpas\" target=\"_bl'>, <Selector xpath='//a' data='<a href=\"2017-05-13_Akinshino\" target=\"_'>, <Selector xpath='//a' data='<a href=\"2017-05-11_SNT-Altair\" target=\"'>, <Selector xpath='//a' data='<a href=\"2017-05-04_RB_Beloreck\" target='>, <Selector xpath='//a' data='<a href=\"2017-05-04_Noginsk\" target=\"_bl'>, <Selector xpath='//a' data='<a href=\"2017-05-02_Platicino_Tula\" targ'>, <Selector xpath='//a' data='<a href=\"2017-04-24_Veshniaki\" target=\"_'>, <Selector xpath='//a' data='<a href=\"2017-04-21_Selivanicha\" target='>, <Selector xpath='//a' data='<a href=\"2017-04-21_Kazan_Lebyaje\" targe'>, <Selector xpath='//a' data='<a href=\"2017-04-20_Kosyakino\" target=\"_'>, <Selector xpath='//a' data='<a href=\"2017-04-09_SNT_Monolit\" target='>, <Selector xpath='//a' data='<a href=\"2017-04-08_Dyadenkovo\" target=\"'>, <Selector xpath='//a' data='<a href=\"2017-04-04_Obuhovo\" target=\"_bl'>, <Selector xpath='//a' data='<a href=\"2017-03-28_Moskva-Strogino\" tar'>, <Selector xpath='//a' data='<a href=\"2017-03-27_OZ\" target=\"_blank\">'>, <Selector xpath='//a' data='<a href=\"2017-03-24_Fenino\" target=\"_bla'>, <Selector xpath='//a' data='<a href=\"2017-03-01_Nahabino\" target=\"_b'>, <Selector xpath='//a' data='<a href=\"2017-02-28_Mitino\" target=\"_bla'>, <Selector xpath='//a' data='<a href=\"2017-02-26_Bitca\" target=\"_blan'>, <Selector xpath='//a' data='<a href=\"2017-02-21_Moskva-dolina-rSetun'>, <Selector xpath='//a' data='<a href=\"2017-02-18_Protvino\" target=\"_b'>, <Selector xpath='//a' data='<a href=\"2017-02-05_Talezh\" target=\"_bla'>, <Selector xpath='//a' data='<a href=\"2017-01-28_Mitino\" target=\"_bla'>, <Selector xpath='//a' data='<a href=\"2017-01-17_Ilyinskiy\" target=\"_'>, <Selector xpath='//a' data='<a href=\"2017-01-14_Buzhaninovo\" target='>, <Selector xpath='//a' data='<a href=\"2016_All\" target=\"_blank\">2016_'>, <Selector xpath='//a' data='<a href=\"2016-12-28_Moscow-GolovinVladim'>, <Selector xpath='//a' data='<a href=\"2016-12-20_Gluhovka\" target=\"_b'>, <Selector xpath='//a' data='<a href=\"2016-12-02_Domodedovo\" target=\"'>, <Selector xpath='//a' data='<a href=\"2016-11-29_Istra\" target=\"_blan'>, <Selector xpath='//a' data='<a href=\"2016-11-25_Gubtsevo\" target=\"_b'>, <Selector xpath='//a' data='<a href=\"2016-11-20_Dyagilevo\" target=\"_'>, <Selector xpath='//a' data='<a href=\"2016-11-05_UCHENIYA\" target=\"_b'>, <Selector xpath='//a' data='<a href=\"2016-11-03-Hripan\" target=\"_bla'>, <Selector xpath='//a' data='<a href=\"2016-10-29_Mirage\" target=\"_bla'>, <Selector xpath='//a' data='<a href=\"2016-10-24_Mirage\" target=\"_bla'>, <Selector xpath='//a' data='<a href=\"2016-10-22_Lomi\" target=\"_blank'>, <Selector xpath='//a' data='<a href=\"2016-10-15_Zheltikovo\" target=\"'>, <Selector xpath='//a' data='<a href=\"2016-10-12_Vlasovo\" target=\"_bl'>, <Selector xpath='//a' data='<a href=\"2016-10-12_Severniy\" target=\"_b'>, <Selector xpath='//a' data='<a href=\"2016-10-11_Sosnovka\" target=\"_b'>, <Selector xpath='//a' data='<a href=\"2016-10-09_Korolyovo\" target=\"_'>, <Selector xpath='//a' data='<a href=\"2016-10-04_Novoe\" target=\"_blan'>, <Selector xpath='//a' data='<a href=\"2016-10-03_Vasilievskoe\" target'>, <Selector xpath='//a' data='<a href=\"2016-10-01_Litvinovo\" target=\"_'>, <Selector xpath='//a' data='<a href=\"2016-10-01_Borozda\" target=\"_bl'>, <Selector xpath='//a' data='<a href=\"2016-09-29_Chehovsky\" target=\"_'>, <Selector xpath='//a' data='<a href=\"2016-09-28_Zelenograd\" target=\"'>, <Selector xpath='//a' data='<a href=\"2016-09-28_Vospushka\" target=\"_'>, <Selector xpath='//a' data='<a href=\"2016-09-26_Kachalovo\" target=\"_'>, <Selector xpath='//a' data='<a href=\"2016-09-25_Tsupyupi\" target=\"_b'>, <Selector xpath='//a' data='<a href=\"2016-09-24_Chernie-Gryazi\" targ'>, <Selector xpath='//a' data='<a href=\"2016-09-24_Ahtyrka\" target=\"_bl'>, <Selector xpath='//a' data='<a href=\"2016-09-23_Vorgash\" target=\"_bl'>, <Selector xpath='//a' data='<a href=\"2016-09-23_Skalozubka\" target=\"'>, <Selector xpath='//a' data='<a href=\"2016-09-22_Gnezdilovo\" target=\"'>, <Selector xpath='//a' data='<a href=\"2016-09-18_Yamuga\" target=\"_bla'>, <Selector xpath='//a' data='<a href=\"2016-09-18_Selishki\" target=\"_b'>, <Selector xpath='//a' data='<a href=\"2016-09-18_Dupovo\" target=\"_bla'>, <Selector xpath='//a' data='<a href=\"2016-09-16_Podvyaznovskiy\" targ'>, <Selector xpath='//a' data='<a href=\"2016-09-14_Turakovo\" target=\"_b'>, <Selector xpath='//a' data='<a href=\"2016-09-14_Pojega\" target=\"_bla'>, <Selector xpath='//a' data='<a href=\"2016-09-13_Gubino\" target=\"_bla'>, <Selector xpath='//a' data='<a href=\"2016-09-11_Chernogolovka\" targe'>, <Selector xpath='//a' data='<a href=\"2016-09-09_Samkovo\" target=\"_bl'>, <Selector xpath='//a' data='<a href=\"2016-09-09_Rogovo\" target=\"_bla'>, <Selector xpath='//a' data='<a href=\"2016-09-08_Stanovoe\" target=\"_b'>, <Selector xpath='//a' data='<a href=\"2016-09-07_Paneevo\" target=\"_bl'>, <Selector xpath='//a' data='<a href=\"2016-09-05_Podvyaznovskiy\" targ'>, <Selector xpath='//a' data='<a href=\"2016-09-04_Rilkovo\" target=\"_bl'>, <Selector xpath='//a' data='<a href=\"2016-09-04_Funkovo\" target=\"_bl'>, <Selector xpath='//a' data='<a href=\"2016-09-02_Gornevo\" target=\"_bl'>, <Selector xpath='//a' data='<a href=\"2016-09-01_Machikhino\" target=\"'>, <Selector xpath='//a' data='<a href=\"2016-09-01_Chirikovo\" target=\"_'>, <Selector xpath='//a' data='<a href=\"2016-08-31_otkoltcanasever\" tar'>, <Selector xpath='//a' data='<a href=\"2016-08-30_Torgashino\" target=\"'>, <Selector xpath='//a' data='<a href=\"2016-08-29_Voskresenskoe\" targe'>, <Selector xpath='//a' data='<a href=\"2016-08-26_Golovkovo\" target=\"_'>, <Selector xpath='//a' data='<a href=\"2016-08-25_Noginsk\" target=\"_bl'>, <Selector xpath='//a' data='<a href=\"2016-08-23_Myshenskoe\" target=\"'>, <Selector xpath='//a' data='<a href=\"2016-08-22_Mohovoe\" target=\"_bl'>, <Selector xpath='//a' data='<a href=\"2016-08-22_Aksenovo\" target=\"_b'>, <Selector xpath='//a' data='<a href=\"2016-08-20_Kudrino\" target=\"_bl'>, <Selector xpath='//a' data='<a href=\"2016-08-19_Shanino\" target=\"_bl'>, <Selector xpath='//a' data='<a href=\"2016-08-13_Zinaevka\" target=\"_b'>, <Selector xpath='//a' data='<a href=\"2016-08-10_Starye_petushki\" tar'>, <Selector xpath='//a' data='<a href=\"2016-08-09_Paleh\" target=\"_blan'>, <Selector xpath='//a' data='<a href=\"2016-08-05_Akulovo\" target=\"_bl'>, <Selector xpath='//a' data='<a href=\"2016-08-04_Zaslonino\" target=\"_'>, <Selector xpath='//a' data='<a href=\"2016-08-03-Ilyinskaya\" target=\"'>, <Selector xpath='//a' data='<a href=\"2016-08-02_Lobnya\" target=\"_bla'>, <Selector xpath='//a' data='<a href=\"2016-07-30_Goryachevka\" target='>, <Selector xpath='//a' data='<a href=\"2016-07-30_Annenka\" target=\"_bl'>, <Selector xpath='//a' data='<a href=\"2016-07-29_Mikhalevo\" target=\"_'>, <Selector xpath='//a' data='<a href=\"2016-07-26_Turochak\" target=\"_b'>, <Selector xpath='//a' data='<a href=\"2016-07-24_Bereznyaki\" target=\"'>, <Selector xpath='//a' data='<a href=\"2016-07-22_Mohovoe2e\" target=\"_'>, <Selector xpath='//a' data='<a href=\"2016-07-22_Fedorovskoe_Nicole\" '>, <Selector xpath='//a' data='<a href=\"2016-07-20_Verhovye\" target=\"_b'>, <Selector xpath='//a' data='<a href=\"2016-07-18_Polushkino_deti\" tar'>, <Selector xpath='//a' data='<a href=\"2016-07-18_Nekrasovo\" target=\"_'>, <Selector xpath='//a' data='<a href=\"2016-07-16_Jaksaevo\" target=\"_b'>, <Selector xpath='//a' data='<a href=\"2016-07-15_Igumnovo\" target=\"_b'>, <Selector xpath='//a' data='<a href=\"2016-07-14_Redkino\" target=\"_bl'>, <Selector xpath='//a' data='<a href=\"2016-07-14_Krasnopeevo\" target='>, <Selector xpath='//a' data='<a href=\"2016-07-14-Mayak\" target=\"_blan'>, <Selector xpath='//a' data='<a href=\"2016-07-12_Visokinichi\" target='>, <Selector xpath='//a' data='<a href=\"2016-07-11_Akulovo\" target=\"_bl'>, <Selector xpath='//a' data='<a href=\"2016-07-09_Chernovo\" target=\"_b'>, <Selector xpath='//a' data='<a href=\"2016-07-08_Khmyrovo\" target=\"_b'>, <Selector xpath='//a' data='<a href=\"2016-07-05_LosiniyOstrov\" targe'>, <Selector xpath='//a' data='<a href=\"2016-06-24_Horlovo\" target=\"_bl'>, <Selector xpath='//a' data='<a href=\"2016-06-23_Pokrovka\" target=\"_b'>, <Selector xpath='//a' data='<a href=\"2016-06-22_Pochinok-Kineshma\" t'>, <Selector xpath='//a' data='<a href=\"2016-06-22_Noginsk\" target=\"_bl'>, <Selector xpath='//a' data='<a href=\"2016-06-20_Timokhovo\" target=\"_'>, <Selector xpath='//a' data='<a href=\"2016-06-19_Zubtsov\" target=\"_bl'>, <Selector xpath='//a' data='<a href=\"2016-06-15_Golicino\" target=\"_b'>, <Selector xpath='//a' data='<a href=\"2016-06-12_Demenkovo\" target=\"_'>, <Selector xpath='//a' data='<a href=\"2016-06-07_Popovskaya\" target=\"'>, <Selector xpath='//a' data='<a href=\"2016-06-06_Chkalovskaya\" target'>, <Selector xpath='//a' data='<a href=\"2016-06-05_Lyahovitsy\" target=\"'>, <Selector xpath='//a' data='<a href=\"2016-06-04_Tugolesie\" target=\"_'>, <Selector xpath='//a' data='<a href=\"2016-06-01_Ustinovo\" target=\"_b'>, <Selector xpath='//a' data='<a href=\"2016-06-01_Mery\" target=\"_blank'>, <Selector xpath='//a' data='<a href=\"2016-05-29_Ucheniya-Odintsovo\" '>, <Selector xpath='//a' data='<a href=\"2016-05-29_Efimovo\" target=\"_bl'>, <Selector xpath='//a' data='<a href=\"2016-05-20_ozKrapivnovo-Zapadno'>, <Selector xpath='//a' data='<a href=\"2016-05-12_Ochakovo\" target=\"_b'>, <Selector xpath='//a' data='<a href=\"2016-04-30_Kratovo\" target=\"_bl'>, <Selector xpath='//a' data='<a href=\"2016-04-19_Annino\" target=\"_bla'>, <Selector xpath='//a' data='<a href=\"2016-04-13_LosiniyOstrov\" targe'>, <Selector xpath='//a' data='<a href=\"2016-04-10_Moshnitsy\" target=\"_'>, <Selector xpath='//a' data='<a href=\"2016-04-08_Pokrovskoe\" target=\"'>, <Selector xpath='//a' data='<a href=\"2016-04-02_Ogudnevo\" target=\"_b'>, <Selector xpath='//a' data='<a href=\"2016-03-14_Butovo\" target=\"_bla'>, <Selector xpath='//a' data='<a href=\"2016-02-27_Anadyr\" target=\"_bla'>, <Selector xpath='//a' data='<a href=\"2016-02-15_Rasskazovka\" target='>, <Selector xpath='//a' data='<a href=\"2016-01-30_Javoronki\" target=\"_'>, <Selector xpath='//a' data='<a href=\"2015-12-30_Kuleshovo\" target=\"_'>, <Selector xpath='//a' data='<a href=\"2015-12-12_Ivanovo\" target=\"_bl'>, <Selector xpath='//a' data='<a href=\"2015-12-05_Semenkovo\" target=\"_'>, <Selector xpath='//a' data='<a href=\"2015-12-05_Klin\" target=\"_blank'>, <Selector xpath='//a' data='<a href=\"2015-11-28_Slemy\" target=\"_blan'>, <Selector xpath='//a' data='<a href=\"2015-11-25_Krekshino\" target=\"_'>, <Selector xpath='//a' data='<a href=\"2015-11-14_Kudinovo\" target=\"_b'>, <Selector xpath='//a' data='<a href=\"2015-10-27_Zverevo\" target=\"_bl'>, <Selector xpath='//a' data='<a href=\"2015-10-23_Kurganie2\" target=\"_'>, <Selector xpath='//a' data='<a href=\"2015-10-23_Kurganie\" target=\"_b'>, <Selector xpath='//a' data='<a href=\"2015-10-21_Ucheniya\" target=\"_b'>, <Selector xpath='//a' data='<a href=\"2015-10-20_Shiryayka\" target=\"_'>, <Selector xpath='//a' data='<a href=\"2015-10-15_Bitca\" target=\"_blan'>, <Selector xpath='//a' data='<a href=\"2015-10-04_Tempy\" target=\"_blan'>, <Selector xpath='//a' data='<a href=\"2015-10-01_Yarygino\" target=\"_b'>, <Selector xpath='//a' data='<a href=\"2015-09-25_Tuchkovo\" target=\"_b'>, <Selector xpath='//a' data='<a href=\"2015-09-22_Mozhajsk3\" target=\"_'>, <Selector xpath='//a' data='<a href=\"2015-09-16_Timonovo\" target=\"_b'>, <Selector xpath='//a' data='<a href=\"2015-09-09_Diadenkovo\" target=\"'>, <Selector xpath='//a' data='<a href=\"2015-09-09-Ivushka\" target=\"_bl'>, <Selector xpath='//a' data='<a href=\"2015-09-06_Vereya\" target=\"_bla'>, <Selector xpath='//a' data='<a href=\"2015-09-04_Shablikino\" target=\"'>, <Selector xpath='//a' data='<a href=\"2015-08-29_Lidino\" target=\"_bla'>, <Selector xpath='//a' data='<a href=\"2015-08-18_Tzarevskoe\" target=\"'>, <Selector xpath='//a' data='<a href=\"2015-08-17_Kostrovo\" target=\"_b'>, <Selector xpath='//a' data='<a href=\"2015-08-17_BolshieGorky\" target'>, <Selector xpath='//a' data='<a href=\"2015-08-07_Klin\" target=\"_blank'>, <Selector xpath='//a' data='<a href=\"2015-08-04_Staroe\" target=\"_bla'>, <Selector xpath='//a' data='<a href=\"2015-08-02-Kalyazin\" target=\"_b'>, <Selector xpath='//a' data='<a href=\"2015-08-01_Boriskovo\" target=\"_'>, <Selector xpath='//a' data='<a href=\"2015-07-29_Sidorovka\" target=\"_'>, <Selector xpath='//a' data='<a href=\"2015-07-28_Shuvalov\" target=\"_b'>, <Selector xpath='//a' data='<a href=\"2015-07-25_Sobinka\" target=\"_bl'>, <Selector xpath='//a' data='<a href=\"2015-07-20_Arhanovo\" target=\"_b'>, <Selector xpath='//a' data='<a href=\"2015-07-18_PavlovskayaSloboda\" '>, <Selector xpath='//a' data='<a href=\"2015-06-29_Zytkovo\" target=\"_bl'>, <Selector xpath='//a' data='<a href=\"2015-06-22_Meldino\" target=\"_bl'>, <Selector xpath='//a' data='<a href=\"2015-06-17-SNT_Rodnik_Istra\" ta'>, <Selector xpath='//a' data='<a href=\"2015-06-14_Taldom_SNT_Nadezhda\"'>, <Selector xpath='//a' data='<a href=\"2015-06-13_Hmyrovo-msk\" target='>, <Selector xpath='//a' data='<a href=\"2015-06-03_Hlupino\" target=\"_bl'>, <Selector xpath='//a' data='<a href=\"2015-06-02_Zateixa\" target=\"_bl'>, <Selector xpath='//a' data='<a href=\"2015-05-28_Stolbishevo-MO\" targ'>, <Selector xpath='//a' data='<a href=\"2015-05-23_Arxangelskoe\" target'>, <Selector xpath='//a' data='<a href=\"2015-05-09_Orlovo\" target=\"_bla'>, <Selector xpath='//a' data='<a href=\"2015-05-07_Dyatlovo\" target=\"_b'>, <Selector xpath='//a' data='<a href=\"2015-05-05_Pokrovskoe_Streshnev'>, <Selector xpath='//a' data='<a href=\"2015-05-02_Buzhaninovo\" target='>, <Selector xpath='//a' data='<a href=\"2015-04-22_Velga\" target=\"_blan'>, <Selector xpath='//a' data='<a href=\"2015-04-18_Nenashkino_Ryazanska'>, <Selector xpath='//a' data='<a href=\"2015-04-17_Ovcharnoe\" target=\"_'>, <Selector xpath='//a' data='<a href=\"2015-04-17_Krasnogorsk\" target='>, <Selector xpath='//a' data='<a href=\"2015-04-14_Tyutkovo\" target=\"_b'>, <Selector xpath='//a' data='<a href=\"2015-04-14_Lianozovo\" target=\"_'>, <Selector xpath='//a' data='<a href=\"2015-03-28_Dmitrov\" target=\"_bl'>, <Selector xpath='//a' data='<a href=\"2015-02-22_Elektrostal\" target='>, <Selector xpath='//a' data='<a href=\"2015-02-06_Balashiha\" target=\"_'>, <Selector xpath='//a' data='<a href=\"2015-01-02_Novopiscovo\" target='>, <Selector xpath='//a' data='<a href=\"2014-12-27_Marusino\" target=\"_b'>, <Selector xpath='//a' data='<a href=\"2014-12-19_Litkarino\" target=\"_'>, <Selector xpath='//a' data='<a href=\"2014-11-12_Pyatiletka\" target=\"'>, <Selector xpath='//a' data='<a href=\"2014-11-03_Dolbino\" target=\"_bl'>, <Selector xpath='//a' data='<a href=\"2014-11-01_Razvilka\" target=\"_b'>, <Selector xpath='//a' data='<a href=\"2014-10-16_Domodedovo\" target=\"'>, <Selector xpath='//a' data='<a href=\"2014-09-24_Olhovo\" target=\"_bla'>, <Selector xpath='//a' data='<a href=\"2014-09-20_Malie-petrishi\" targ'>, <Selector xpath='//a' data='<a href=\"2014-09-16_Dementyevo\" target=\"'>, <Selector xpath='//a' data='<a href=\"2014-09-14_Tupitsyno\" target=\"_'>, <Selector xpath='//a' data='<a href=\"2014-09-06_Shevlagino\" target=\"'>, <Selector xpath='//a' data='<a href=\"2014-09-04_Kuzne4kovo\" target=\"'>, <Selector xpath='//a' data='<a href=\"2014-08-31_Samuylovo\" target=\"_'>, <Selector xpath='//a' data='<a href=\"2014-08-30_Shiryaevo\" target=\"_'>, <Selector xpath='//a' data='<a href=\"2014-08-29_Troitsa\" target=\"_bl'>, <Selector xpath='//a' data='<a href=\"2014-08-28_Aleksandrov_Vladimir'>, <Selector xpath='//a' data='<a href=\"2014-08-24_Maydakova\" target=\"_'>, <Selector xpath='//a' data='<a href=\"2014-08-21_Kantemirovo\" target='>, <Selector xpath='//a' data='<a href=\"2014-08-19_Furmanov-ves\" target'>, <Selector xpath='//a' data='<a href=\"2014-08-18_Mitino\" target=\"_bla'>, <Selector xpath='//a' data='<a href=\"2014-08-05_Yakot\" target=\"_blan'>, <Selector xpath='//a' data='<a href=\"2014-07-28_Sorevnovanie\" target'>, <Selector xpath='//a' data='<a href=\"2014-07-27_Veyna\" target=\"_blan'>, <Selector xpath='//a' data='<a href=\"2014-07-25_Ustinovo\" target=\"_b'>, <Selector xpath='//a' data='<a href=\"2014-07-24_Orudyevo\" target=\"_b'>, <Selector xpath='//a' data='<a href=\"2014-07-22_Vorobecovo\" target=\"'>, <Selector xpath='//a' data='<a href=\"2014-07-21_Kolchugino_Kipreevo\"'>, <Selector xpath='//a' data='<a href=\"2014-07-18_Zavolgsk\" target=\"_b'>, <Selector xpath='//a' data='<a href=\"2014-07-18_Kostino\" target=\"_bl'>, <Selector xpath='//a' data='<a href=\"2014-07-13_Po4epalovo\" target=\"'>, <Selector xpath='//a' data='<a href=\"2014-07-11_Zapolice\" target=\"_b'>, <Selector xpath='//a' data='<a href=\"2014-07-07_Pushkino\" target=\"_b'>, <Selector xpath='//a' data='<a href=\"2014-06-28_Kudinovo\" target=\"_b'>, <Selector xpath='//a' data='<a href=\"2014-06-18_Plotohino\" target=\"_'>, <Selector xpath='//a' data='<a href=\"2014-06-17_Dedovsk\" target=\"_bl'>, <Selector xpath='//a' data='<a href=\"2014-06-06_Solncevo\" target=\"_b'>, <Selector xpath='//a' data='<a href=\"2014-06-04_Teplyi-Stan\" target='>, <Selector xpath='//a' data='<a href=\"2014-06-03_Aristovo\" target=\"_b'>, <Selector xpath='//a' data='<a href=\"2014-05-30_Rasskazovka\" target='>, <Selector xpath='//a' data='<a href=\"2014-05-30_Gorodishe\" target=\"_'>, <Selector xpath='//a' data='<a href=\"2014-05-28_Baxchivangi\" target='>, <Selector xpath='//a' data='<a href=\"2014-05-21_MalyeVyazemi\" target'>, <Selector xpath='//a' data='<a href=\"2014-05-20_Grishino\" target=\"_b'>, <Selector xpath='//a' data='<a href=\"2014-05-18_Xruchevo\" target=\"_b'>, <Selector xpath='//a' data='<a href=\"2014-05-18_Donino\" target=\"_bla'>, <Selector xpath='//a' data='<a href=\"2014-05-12_SNT_Veina\" target=\"_'>, <Selector xpath='//a' data='<a href=\"2014-05-11_Vladimirskaya_Aleksa'>, <Selector xpath='//a' data='<a href=\"2014-05-10_Mayskiy_OZ\" target=\"'>, <Selector xpath='//a' data='<a href=\"2014-05-02_Mendeleevo\" target=\"'>, <Selector xpath='//a' data='<a href=\"2014-05-01_Zvenigorod\" target=\"'>, <Selector xpath='//a' data='<a href=\"2014-04-13_Trehgorka\" target=\"_'>, <Selector xpath='//a' data='<a href=\"2014-04-12_Rublevo_Smirnova\" ta'>, <Selector xpath='//a' data='<a href=\"2014-04-11_Odincovo\" target=\"_b'>, <Selector xpath='//a' data='<a href=\"2014-04-06_Ribnoe\" target=\"_bla'>, <Selector xpath='//a' data='<a href=\"2014-03-27_Kruchkovo\" target=\"_'>, <Selector xpath='//a' data='<a href=\"2014-03-22_Tver_MskRayon\" targe'>, <Selector xpath='//a' data='<a href=\"2014-03-16_Sasovo\" target=\"_bla'>, <Selector xpath='//a' data='<a href=\"2014-03-08_Tushino\" target=\"_bl'>, <Selector xpath='//a' data='<a href=\"2014-02-11_Pesochnoe\" target=\"_'>, <Selector xpath='//a' data='<a href=\"2014-02-10_Ivanovo\" target=\"_bl'>, <Selector xpath='//a' data='<a href=\"2014-02-01_Teykovo\" target=\"_bl'>, <Selector xpath='//a' data='<a href=\"2014-01-21_Kineshma\" target=\"_b'>, <Selector xpath='//a' data='<a href=\"2014-01-04_Karmanovo\" target=\"_'>, <Selector xpath='//a' data='<a href=\"2014-01-01_Gorki10\" target=\"_bl'>, <Selector xpath='//a' data='<a href=\"2013-11-16_Kudinovo\" target=\"_b'>, <Selector xpath='//a' data='<a href=\"2013-11-12_SNT_Berezka\" target='>, <Selector xpath='//a' data='<a href=\"2013-10-23_Monino\" target=\"_bla'>, <Selector xpath='//a' data='<a href=\"2013-10-22_Stupino\" target=\"_bl'>, <Selector xpath='//a' data='<a href=\"2013-09-27_Ojigovo\" target=\"_bl'>, <Selector xpath='//a' data='<a href=\"2013-09-25_Sviaz\" target=\"_blan'>, <Selector xpath='//a' data='<a href=\"2013-09-21_Voronovo\" target=\"_b'>, <Selector xpath='//a' data='<a href=\"2013-09-21_Novopiscovo\" target='>, <Selector xpath='//a' data='<a href=\"2013-09-21_Novonikolaevo\" targe'>, <Selector xpath='//a' data='<a href=\"2013-09-21_Hripan\" target=\"_bla'>, <Selector xpath='//a' data='<a href=\"2013-09-20_Zolot-Pustin\" target'>, <Selector xpath='//a' data='<a href=\"2013-09-16_Sosnovka\" target=\"_b'>, <Selector xpath='//a' data='<a href=\"2013-09-15_Soroxta\" target=\"_bl'>, <Selector xpath='//a' data='<a href=\"2013-09-13_Klovo-elektrotehnik\"'>, <Selector xpath='//a' data='<a href=\"2013-09-13_4upriyanovo\" target='>, <Selector xpath='//a' data='<a href=\"2013-09-05_ignatjevo\" target=\"_'>, <Selector xpath='//a' data='<a href=\"2013-09-03_Kuzaevo\" target=\"_bl'>, <Selector xpath='//a' data='<a href=\"2013-08-20_Martukovo\" target=\"_'>, <Selector xpath='//a' data='<a href=\"2013-08-10_Oshurixa\" target=\"_b'>, <Selector xpath='//a' data='<a href=\"2013-08-07_Petrino\" target=\"_bl'>, <Selector xpath='//a' data='<a href=\"2013-08-05_Polesje\" target=\"_bl'>, <Selector xpath='//a' data='<a href=\"2013-08-03_Pavlovichi\" target=\"'>, <Selector xpath='//a' data='<a href=\"2013-07-31_Xrabrovo\" target=\"_b'>, <Selector xpath='//a' data='<a href=\"2013-07-29_Pokrov\" target=\"_bla'>, <Selector xpath='//a' data='<a href=\"2013-07-28_Pozhitkovo\" target=\"'>, <Selector xpath='//a' data='<a href=\"2013-07-24_Severniy\" target=\"_b'>, <Selector xpath='//a' data='<a href=\"2013-07-13_Novopetrovskoe\" targ'>, <Selector xpath='//a' data='<a href=\"2013-07-03_Xoznikovo\" target=\"_'>, <Selector xpath='//a' data='<a href=\"2013-06-29-OZ-volnaja\" target=\"'>, <Selector xpath='//a' data='<a href=\"2013-06-21_Ozerki_6\" target=\"_b'>, <Selector xpath='//a' data='<a href=\"2012-07-21_Sandarovo\" target=\"_'>, <Selector xpath='//a' data='<a href=\"2011-09-10_Konakovo\" target=\"_b'>, <Selector xpath='//a' data='<a href=\"2011-05-07_Milyatino\" target=\"_'>, <Selector xpath='//a' data='<a href=\"1_Hromoy\" target=\"_blank\">1_Hro'>, <Selector xpath='//a' data='<a href=\"1Track_Rehcnoy\" target=\"_blank\"'>, <Selector xpath='//a' data='<a href=\"2018-02-09_Sormovo\" target=\"_bl'>, <Selector xpath='//a' data='<a href=\"http://lizaalert.org\" target=\"_'>]\n",
      "2019-05-01_Shlykovo\n",
      "http://tracks.la10.ru/2019-05-01_Shlykovo\n",
      "http://tracks.la10.ru/2019-05-01_Shlykovo/details\n"
     ]
    }
   ],
   "source": [
    "url = 'http://tracks.la10.ru/' \n",
    "uClient = uReq(url)\n",
    "page_html = uClient.read()\n",
    "uClient.close()\n",
    "page_soup = soup(page_html, \"html.parser\")\n",
    "\n",
    "html = requests.get(url).content #url='google.com'\n",
    "sel = Selector(text=html)\n",
    "\n",
    "course_as = sel.xpath('//a')\n",
    "print(course_as)\n",
    "links_for_posts = course_as.css('::attr(href)').extract()\n",
    "print(links_for_posts[2])\n",
    "\n",
    "for i in range(len(links_for_posts)):\n",
    "    links_for_posts[i] = \"http://tracks.la10.ru/\" + links_for_posts[i]\n",
    "print(links_for_posts[2])\n",
    "\n",
    "list_for_posts_details = [None for i in range(len(links_for_posts))]\n",
    "for i in range(len(links_for_posts)):\n",
    "    list_for_posts_details[i] = links_for_posts[i] + \"/details\"\n",
    "print(list_for_posts_details[2])"
   ]
  },
  {
   "cell_type": "code",
   "execution_count": 4,
   "metadata": {},
   "outputs": [
    {
     "name": "stdout",
     "output_type": "stream",
     "text": [
      "['20190501_Lisa1.plt', '20190501_Lisa2.plt']\n",
      "['http://maashey.me/php/2019-05-01_Shlykovo/20190501_Lisa1.plt', 'http://maashey.me/php/2019-05-01_Shlykovo/20190501_Lisa2.plt']\n",
      "<Selector xpath='//td' data='<td> 01-май-19  16:13</td>'>\n"
     ]
    }
   ],
   "source": [
    "html = requests.get(list_for_posts_details[2]).content #url='google.com'\n",
    "sel = Selector(text=html)\n",
    "uClient = uReq(list_for_posts_details[2])\n",
    "page_html = uClient.read()\n",
    "uClient.close()\n",
    "page_soup = soup(page_html, \"html.parser\")\n",
    "\n",
    "people = page_soup.findAll(text=re.compile(\"plt\"))\n",
    "print(people)\n",
    "\n",
    "a = people[1][0:4]\n",
    "b = people[1][4:6]\n",
    "c = people[1][6:8]\n",
    "\n",
    "course_as = sel.xpath('//a')\n",
    "links_for_coords = course_as.css('::attr(href)').extract()\n",
    "print(links_for_coords)\n",
    "\n",
    "date = sel.xpath('//td')\n",
    "print(date[2])"
   ]
  },
  {
   "cell_type": "markdown",
   "metadata": {},
   "source": [
    "Здесь лежит код на установку UNIX time for start date of searching losted!"
   ]
  },
  {
   "cell_type": "code",
   "execution_count": 29,
   "metadata": {},
   "outputs": [
    {
     "name": "stdout",
     "output_type": "stream",
     "text": [
      "2019-05-07 14:48:26.402135\n",
      "1556658000.0 1556830800.0\n"
     ]
    }
   ],
   "source": [
    "from datetime import datetime\n",
    "\n",
    "# current date and time\n",
    "now = datetime.now()\n",
    "print(now)\n",
    "\n",
    "now1 = datetime(int(a), int(b), int(c))\n",
    "now2 = datetime(int(a), int(b), int(c)+2)\n",
    "start_date = datetime.timestamp(now1)\n",
    "end_date = datetime.timestamp(now2)\n",
    "print(start_date, end_date)"
   ]
  },
  {
   "cell_type": "markdown",
   "metadata": {},
   "source": [
    "Здесь будет лежать код на установку координат для зоны поиска!"
   ]
  },
  {
   "cell_type": "code",
   "execution_count": 6,
   "metadata": {},
   "outputs": [
    {
     "name": "stdout",
     "output_type": "stream",
     "text": [
      "http://maashey.me/php/2019-05-01_Shlykovo/20190501_Lisa1.plt\n",
      "<Selector xpath=None data='<html><body><p>OziExplorer Track Point F'>\n"
     ]
    }
   ],
   "source": [
    "print(links_for_coords[0])\n",
    "html = requests.get(links_for_coords[1]).content #url='google.com'\n",
    "sel = Selector(text=html)\n",
    "print(sel)"
   ]
  },
  {
   "cell_type": "code",
   "execution_count": 7,
   "metadata": {},
   "outputs": [
    {
     "ename": "TypeError",
     "evalue": "write() argument must be str, not bytes",
     "output_type": "error",
     "traceback": [
      "\u001b[1;31m---------------------------------------------------------------------------\u001b[0m",
      "\u001b[1;31mTypeError\u001b[0m                                 Traceback (most recent call last)",
      "\u001b[1;32m<ipython-input-7-fd3b69cf14f6>\u001b[0m in \u001b[0;36m<module>\u001b[1;34m\u001b[0m\n\u001b[0;32m      7\u001b[0m \u001b[0mfilename\u001b[0m \u001b[1;33m=\u001b[0m \u001b[1;34m\"test.txt\"\u001b[0m\u001b[1;33m\u001b[0m\u001b[1;33m\u001b[0m\u001b[0m\n\u001b[0;32m      8\u001b[0m \u001b[0mfile_\u001b[0m \u001b[1;33m=\u001b[0m \u001b[0mopen\u001b[0m\u001b[1;33m(\u001b[0m\u001b[0mfilename\u001b[0m\u001b[1;33m,\u001b[0m \u001b[1;34m'w'\u001b[0m\u001b[1;33m)\u001b[0m\u001b[1;33m\u001b[0m\u001b[1;33m\u001b[0m\u001b[0m\n\u001b[1;32m----> 9\u001b[1;33m \u001b[0mfile_\u001b[0m\u001b[1;33m.\u001b[0m\u001b[0mwrite\u001b[0m\u001b[1;33m(\u001b[0m\u001b[0mdata\u001b[0m\u001b[1;33m)\u001b[0m\u001b[1;33m\u001b[0m\u001b[1;33m\u001b[0m\u001b[0m\n\u001b[0m\u001b[0;32m     10\u001b[0m \u001b[0mfile_\u001b[0m\u001b[1;33m.\u001b[0m\u001b[0mclose\u001b[0m\u001b[1;33m(\u001b[0m\u001b[1;33m)\u001b[0m\u001b[1;33m\u001b[0m\u001b[1;33m\u001b[0m\u001b[0m\n",
      "\u001b[1;31mTypeError\u001b[0m: write() argument must be str, not bytes"
     ]
    }
   ],
   "source": [
    "#import urllib2\n",
    "from urllib.request import urlopen\n",
    "response = urlopen(links_for_coords[1])\n",
    "data = response.read()\n",
    "\n",
    "# Write data to file\n",
    "filename = \"test.txt\"\n",
    "file_ = open(filename, 'w')\n",
    "file_.write(data)\n",
    "file_.close()"
   ]
  },
  {
   "cell_type": "code",
   "execution_count": 27,
   "metadata": {},
   "outputs": [
    {
     "name": "stdout",
     "output_type": "stream",
     "text": [
      "4496\n",
      "b'55.904941,  37.986355'\n",
      "b'22:43:24\\r'\n",
      "22:43:24\\r'\n",
      "55.904941\n",
      "37.986355\n"
     ]
    }
   ],
   "source": [
    "\n",
    "url = 'http://maashey.me/php/2019-04-26_Shelkovo/20190426-Lisa31.plt'\n",
    "#url = 'http://maashey.me/php/2016-03-14_Butovo/20160315-Murzik.plt'\n",
    "\n",
    "response = urlopen(url)\n",
    "webContent = response.read()\n",
    "print(len(webContent))\n",
    "print(webContent[len(webContent)-68:len(webContent)-47])\n",
    "print(webContent[len(webContent)-10:len(webContent)-1])\n",
    "hyna = str(webContent[len(webContent)-10:len(webContent)-1])\n",
    "print(hyna[2:])\n",
    "\n",
    "coords = str(webContent[len(webContent)-68:len(webContent)-47])[2:]\n",
    "if coords[0] == ' ':\n",
    "    x = coords[1:9]\n",
    "    y = coords[13:21]\n",
    "else:\n",
    "    x = coords[0:9]\n",
    "    y = coords[12:21]\n",
    "    \n",
    "    \n",
    "print(x)\n",
    "print(y)"
   ]
  },
  {
   "cell_type": "markdown",
   "metadata": {},
   "source": [
    "P.S. ЧЕКНИ ВРЕМЯ КОНЦА ПОИСКА В ЧАСАХ, ОНО ВЛИЯЕТ НА КОД - САМЫЕ ПОСЛЕДНИЕ ЦИФРЫ ЛИБО ДВУЗНАЧНЫЕ И МОЙ КОД РОБИТ ХОРОШО, ЛИБО ОДНОЗНАЧНОЕ (ЧАС НАХОЖДЕНИЯ) И МОЙ КОД ПАРСИТ ПРОБЕЛ ЛИШНИЙ"
   ]
  },
  {
   "cell_type": "code",
   "execution_count": null,
   "metadata": {},
   "outputs": [],
   "source": [
    "http://history.openweathermap.org/data/2.5/history/city?lat=55.90&lon=37.98&type=hour&start=1556658000&end=1556830800&appid=c1724061b93c3457d83f6dcf0e89b498\n",
    "    \n",
    "    https://samples.openweathermap.org/data/2.5/history/city?lat=55.90&lon=37.98&type=hour&start=1556658000&end=1556830800&appid=16788f78f84f8a6e6db11769e4f893af"
   ]
  },
  {
   "cell_type": "code",
   "execution_count": 36,
   "metadata": {},
   "outputs": [
    {
     "name": "stdout",
     "output_type": "stream",
     "text": [
      "        <script type=\"text/javascript\">\r\n",
      "            $(\"#f_result\").empty().append('<a href=http://93.90.217.250/../download/files.synop/22/22550.01.10.2017.17.10.2017.1.0.0.ru.utf8.00000000.xls.gz>Скачать</a>').css(\"display\", \"none\").css('opacity', 0).css(\"display\", \"block\").animate({opacity: \"1\"}, 1500);\r\n",
      "        </script>\r\n",
      "        \n",
      "<class 'str'>\n"
     ]
    }
   ],
   "source": [
    "myUrl = \"https://rp5.ru/responses/reFileSynop.php\"\n",
    "myHeader = {}\n",
    "myHeader[\"Accept\"] = \"text/html, */*; q=0.01\"\n",
    "myHeader[\"Accept-Encoding\"] = \"gzip, deflate, br\"\n",
    "myHeader[\"Accept-Language\"] = \"ru-RU,ru;q=0.8,en-US;q=0.6,en;q=0.4\"\n",
    "myHeader[\"Connection\"] = \"keep-alive\"\n",
    "myHeader[\"Content-Length\"] = \"110\"\n",
    "myHeader[\"Content-Type\"] = \"application/x-www-form-urlencoded\"\n",
    "myHeader[\"Host\"] = \"rp5.ru\"\n",
    "myHeader[\"Origin\"] = \"https://rp5.ru\"\n",
    "myHeader[\"Referer\"] = \"https://rp5.ru/\"\n",
    "myHeader[\"User-Agent\"] = \"Mozilla/5.0 (Windows NT 10.0; Win64; x64) AppleWebKit/537.36 (KHTML, like Gecko) Chrome/61.0.3163.100 Safari/537.36\"\n",
    "myHeader[\"X-Requested-With\"] = \"XMLHttpRequest\"\n",
    "myData = {'wmo_id':'22550','a_date1':'01.10.2017','a_date2':'17.10.2017','f_ed3':'10','f_ed4':'10','f_ed5':'17','f_pe':'1','f_pe1':'1','lng_id':'2','type':'xls'} \n",
    "response = requests.post(myUrl, data=myData, headers=myHeader)\n",
    "print(response.text)\n",
    "print(type(response.text))\n",
    "\n"
   ]
  },
  {
   "cell_type": "code",
   "execution_count": null,
   "metadata": {},
   "outputs": [],
   "source": []
  }
 ],
 "metadata": {
  "kernelspec": {
   "display_name": "Python 3",
   "language": "python",
   "name": "python3"
  },
  "language_info": {
   "codemirror_mode": {
    "name": "ipython",
    "version": 3
   },
   "file_extension": ".py",
   "mimetype": "text/x-python",
   "name": "python",
   "nbconvert_exporter": "python",
   "pygments_lexer": "ipython3",
   "version": "3.7.3"
  }
 },
 "nbformat": 4,
 "nbformat_minor": 2
}
