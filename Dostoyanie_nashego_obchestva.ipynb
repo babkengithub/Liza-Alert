{
 "cells": [
  {
   "cell_type": "code",
   "execution_count": 213,
   "metadata": {},
   "outputs": [],
   "source": [
    "import numpy as np\n",
    "import pandas as pd\n",
    "import re\n",
    "import bs4\n",
    "from urllib.request import urlopen as uReq\n",
    "from bs4 import BeautifulSoup as soup\n",
    "from scrapy import Selector\n",
    "from nltk import word_tokenize"
   ]
  },
  {
   "cell_type": "code",
   "execution_count": 214,
   "metadata": {},
   "outputs": [
    {
     "name": "stdout",
     "output_type": "stream",
     "text": [
      "ALOOOOOOOOOOOO ['2', '2']\n",
      "22\n",
      "[<Selector xpath='//a[contains(@class,\"right-box right\")]' data='<a href=\"./viewforum.php?f=213&amp;sid=5'>]\n",
      "<Selector xpath='descendant-or-self::*/@href' data='./viewforum.php?f=213&sid=5ccd4d13a313b3'>]\n",
      "ссылка= https://lizaalert.org/forum/viewforum.php?f=213&sid=5ccd4d13a313b3d49787cf80957d7cca&start=25\n",
      "\"https://lizaalert.org/forum/viewforum.php?f=213&sid=5ccd4d13a313b3d49787cf80957d7cca&start=25\"\n",
      "/viewforum.php?f=213&sid=5ccd4d13a313b3d49787cf80957d7cca&start=\n",
      "['/viewforum.php?f=213&sid=5ccd4d13a313b3d49787cf80957d7cca&start=', '/viewforum.php?f=213&sid=5ccd4d13a313b3d49787cf80957d7cca&start=', '/viewforum.php?f=213&sid=5ccd4d13a313b3d49787cf80957d7cca&start=', '/viewforum.php?f=213&sid=5ccd4d13a313b3d49787cf80957d7cca&start=', '/viewforum.php?f=213&sid=5ccd4d13a313b3d49787cf80957d7cca&start=', '/viewforum.php?f=213&sid=5ccd4d13a313b3d49787cf80957d7cca&start=', '/viewforum.php?f=213&sid=5ccd4d13a313b3d49787cf80957d7cca&start=', '/viewforum.php?f=213&sid=5ccd4d13a313b3d49787cf80957d7cca&start=', '/viewforum.php?f=213&sid=5ccd4d13a313b3d49787cf80957d7cca&start=', '/viewforum.php?f=213&sid=5ccd4d13a313b3d49787cf80957d7cca&start=', '/viewforum.php?f=213&sid=5ccd4d13a313b3d49787cf80957d7cca&start=', '/viewforum.php?f=213&sid=5ccd4d13a313b3d49787cf80957d7cca&start=', '/viewforum.php?f=213&sid=5ccd4d13a313b3d49787cf80957d7cca&start=', '/viewforum.php?f=213&sid=5ccd4d13a313b3d49787cf80957d7cca&start=', '/viewforum.php?f=213&sid=5ccd4d13a313b3d49787cf80957d7cca&start=', '/viewforum.php?f=213&sid=5ccd4d13a313b3d49787cf80957d7cca&start=', '/viewforum.php?f=213&sid=5ccd4d13a313b3d49787cf80957d7cca&start=', '/viewforum.php?f=213&sid=5ccd4d13a313b3d49787cf80957d7cca&start=', '/viewforum.php?f=213&sid=5ccd4d13a313b3d49787cf80957d7cca&start=', '/viewforum.php?f=213&sid=5ccd4d13a313b3d49787cf80957d7cca&start=', '/viewforum.php?f=213&sid=5ccd4d13a313b3d49787cf80957d7cca&start=']\n",
      "[25, 50, 75, 100, 125, 150, 175, 200, 225, 250, 275, 300, 325, 350, 375, 400, 425, 450, 475, 500, 525]\n",
      "['https://lizaalert.org/forum/viewforum.php?f=213&sid=5ccd4d13a313b3d49787cf80957d7cca&start=25', 'https://lizaalert.org/forum/viewforum.php?f=213&sid=5ccd4d13a313b3d49787cf80957d7cca&start=50', 'https://lizaalert.org/forum/viewforum.php?f=213&sid=5ccd4d13a313b3d49787cf80957d7cca&start=75', 'https://lizaalert.org/forum/viewforum.php?f=213&sid=5ccd4d13a313b3d49787cf80957d7cca&start=100', 'https://lizaalert.org/forum/viewforum.php?f=213&sid=5ccd4d13a313b3d49787cf80957d7cca&start=125', 'https://lizaalert.org/forum/viewforum.php?f=213&sid=5ccd4d13a313b3d49787cf80957d7cca&start=150', 'https://lizaalert.org/forum/viewforum.php?f=213&sid=5ccd4d13a313b3d49787cf80957d7cca&start=175', 'https://lizaalert.org/forum/viewforum.php?f=213&sid=5ccd4d13a313b3d49787cf80957d7cca&start=200', 'https://lizaalert.org/forum/viewforum.php?f=213&sid=5ccd4d13a313b3d49787cf80957d7cca&start=225', 'https://lizaalert.org/forum/viewforum.php?f=213&sid=5ccd4d13a313b3d49787cf80957d7cca&start=250', 'https://lizaalert.org/forum/viewforum.php?f=213&sid=5ccd4d13a313b3d49787cf80957d7cca&start=275', 'https://lizaalert.org/forum/viewforum.php?f=213&sid=5ccd4d13a313b3d49787cf80957d7cca&start=300', 'https://lizaalert.org/forum/viewforum.php?f=213&sid=5ccd4d13a313b3d49787cf80957d7cca&start=325', 'https://lizaalert.org/forum/viewforum.php?f=213&sid=5ccd4d13a313b3d49787cf80957d7cca&start=350', 'https://lizaalert.org/forum/viewforum.php?f=213&sid=5ccd4d13a313b3d49787cf80957d7cca&start=375', 'https://lizaalert.org/forum/viewforum.php?f=213&sid=5ccd4d13a313b3d49787cf80957d7cca&start=400', 'https://lizaalert.org/forum/viewforum.php?f=213&sid=5ccd4d13a313b3d49787cf80957d7cca&start=425', 'https://lizaalert.org/forum/viewforum.php?f=213&sid=5ccd4d13a313b3d49787cf80957d7cca&start=450', 'https://lizaalert.org/forum/viewforum.php?f=213&sid=5ccd4d13a313b3d49787cf80957d7cca&start=475', 'https://lizaalert.org/forum/viewforum.php?f=213&sid=5ccd4d13a313b3d49787cf80957d7cca&start=500', 'https://lizaalert.org/forum/viewforum.php?f=213&sid=5ccd4d13a313b3d49787cf80957d7cca&start=525']\n"
     ]
    }
   ],
   "source": [
    "\n",
    "# Import requests\n",
    "import requests\n",
    "\n",
    "# Create the string html containing the HTML source\n",
    "html = requests.get('https://lizaalert.org/forum/viewforum.php?f=213').content #url='google.com'\n",
    "\n",
    "# Create the Selector object sel from html\n",
    "sel = Selector(text=html)\n",
    "\n",
    "\n",
    "uClient = uReq('https://lizaalert.org/forum/viewforum.php?f=213')\n",
    "page_html = uClient.read()\n",
    "uClient.close()\n",
    "page_soup = soup(page_html, \"html.parser\")\n",
    "containers2 = page_soup.findAll(\"div\", {\"class\":\"pagination\"})\n",
    "containers22 = str(containers2)\n",
    "#print(containers22)\n",
    "\n",
    "def page12(containers22):\n",
    "    page1 = list()\n",
    "    c = containers22.find(\"из \")\n",
    "    page1.append(containers22[c+11])\n",
    "    page1.append(containers22[c+12])\n",
    "    if containers22[c+12] == \"<\":\n",
    "        page1.pop()\n",
    "    return page1\n",
    "\n",
    "print('ALOOOOOOOOOOOO', page12(containers22))\n",
    "if len(page12(containers22)) == 2:\n",
    "    page_real = int(page12(containers22)[0] + page12(containers22)[1])\n",
    "else:\n",
    "    page_real = int(page12(containers22)[0])\n",
    "print(page_real)\n",
    "\n",
    "# Парсим\n",
    "course_as = sel.xpath('//a[contains(@class,\"right-box right\")]')\n",
    "print(course_as)\n",
    "hrefs_from_css = course_as.css('::attr(href)')\n",
    "print(str(hrefs_from_css)[1:])\n",
    "next1 = \"https://lizaalert.org/forum\" + str(hrefs_from_css.extract()[0])[1:]\n",
    "print(\"ссылка=\", next1)\n",
    "links_to_follow = \"\\\"https://lizaalert.org/forum\" + str(hrefs_from_css.extract()[0])[1:] + \"\\\"\"\n",
    "print(links_to_follow)\n",
    "\n",
    "clean_link = str(hrefs_from_css.extract()[0])[1:len(hrefs_from_css.extract()[0])-2]\n",
    "print(clean_link)\n",
    "list_links = list()\n",
    "for i in range((page_real)-1):\n",
    "    list_links.append(clean_link)\n",
    "print(list_links)\n",
    "\n",
    "#За 500 надо пояснить! Но это вроде несложно\n",
    "i=0\n",
    "list1 = list()\n",
    "for i in range(0,(page_real-1)*25, 25):\n",
    "    i = i + 25\n",
    "    list1.append(i)\n",
    "print(list1)\n",
    "\n",
    "result = [str(item) for item in list1]\n",
    "\n",
    "#print(type(result[2]))\n",
    "\n",
    "for i in range(len(list1)):\n",
    "    list_links[i] += result[i]\n",
    "#print(list_links)\n",
    "\n",
    "for i in range(len(list_links)):\n",
    "    list_links[i] = \"https://lizaalert.org/forum\" + list_links[i]\n",
    "#print(list_links[10])\n",
    "print(list_links)\n"
   ]
  },
  {
   "cell_type": "code",
   "execution_count": 215,
   "metadata": {},
   "outputs": [
    {
     "name": "stdout",
     "output_type": "stream",
     "text": [
      "533\n"
     ]
    }
   ],
   "source": [
    "list_full = list()\n",
    "#url = \"'\" + list_links[5] + \"'\"\n",
    "#url1 = list_links[7]\n",
    "for i in range((page_real)-1):\n",
    "    html = requests.get(list_links[i]).content #url='google.com'\n",
    "    sel = Selector(text=html)\n",
    "\n",
    "    course_as1 = sel.css('a.topictitle')\n",
    "    hrefs1_from_css = course_as1.css('::attr(href)')\n",
    "#syka\n",
    "    list0 = list()\n",
    "    for i in range(0, len(hrefs1_from_css.extract())):\n",
    "        list0.append(\"https://lizaalert.org/forum\" + str(hrefs1_from_css.extract()[i])[1:])\n",
    "        list_full.append(list0[i])\n",
    "#print(list_full)\n",
    "print(len(list_full))"
   ]
  },
  {
   "cell_type": "code",
   "execution_count": 216,
   "metadata": {},
   "outputs": [],
   "source": [
    "my_list = list_full[1:]"
   ]
  },
  {
   "cell_type": "code",
   "execution_count": null,
   "metadata": {},
   "outputs": [],
   "source": []
  },
  {
   "cell_type": "markdown",
   "metadata": {},
   "source": [
    "# Здесь соберем все вспомогательные перменные"
   ]
  },
  {
   "cell_type": "code",
   "execution_count": 217,
   "metadata": {},
   "outputs": [],
   "source": [
    "list_photo = []\n",
    "list_state1 = []\n",
    "list_sex1 = []\n",
    "list_age11 = []\n",
    "list_posts = []\n",
    "list_height = []\n",
    "list_help1 = []\n",
    "list_hair_color = []\n",
    "list_bodytype = []\n",
    "list_of_lists = []  ## Здесь нужно додумать"
   ]
  },
  {
   "cell_type": "code",
   "execution_count": 218,
   "metadata": {},
   "outputs": [],
   "source": [
    "english_stops = ['.', ',', ':', ';', \"!\", \"?\"]"
   ]
  },
  {
   "cell_type": "markdown",
   "metadata": {},
   "source": [
    "# Напишем все функции, которые нам понадобятся в сборе признаков "
   ]
  },
  {
   "cell_type": "code",
   "execution_count": 219,
   "metadata": {
    "scrolled": true
   },
   "outputs": [],
   "source": [
    "def photo1(containers11):\n",
    "    if containers11.find(\"Изображение\") != -1:\n",
    "        photo =  'присутствует'\n",
    "    else:\n",
    "        photo = 'отсутствует'\n",
    "    return photo"
   ]
  },
  {
   "cell_type": "code",
   "execution_count": 220,
   "metadata": {},
   "outputs": [],
   "source": [
    "def state1(title1):\n",
    "    if title1.find(\"Жив\") != -1 or title1.find(\"ЖИВ\") != -1:\n",
    "        state = \"живой\"\n",
    "    elif title1.find(\"Пропал\") != -1 or title1.find(\"ПРОПАЛ\") != -1:\n",
    "        state = 'ищется'\n",
    "    else:\n",
    "        state = \"мертвый\"\n",
    "    return state"
   ]
  },
  {
   "cell_type": "code",
   "execution_count": 221,
   "metadata": {},
   "outputs": [],
   "source": [
    "def sex1(title1):\n",
    "    if title1.find(\"Жив \") != -1 or title1.find(\"Жив,\") != -1 or title1.find(\"ЖИВ \") != -1 or title1.find(\"жив \") != -1 or title1.find(\"Погиб \") != -1 or title1.find(\"ПОГИБ \") != -1:\n",
    "        sex = 'мужской'\n",
    "    elif title1.find(\"Жива\") != -1 or title1.find(\"ЖИВА\") != -1 or title1.find(\"Погибла\") != -1 or title1.find(\"ПОГИБЛА\") != -1:\n",
    "        sex = 'женский'\n",
    "    elif title1.find(\"Живы\") != -1 or title1.find(\"ЖИВЫ\") != -1 or title1.find(\"Погибли\") != -1 or title1.find(\"ПОГИБЛИ\") != -1:\n",
    "        sex = 'несколько человек'\n",
    "    else:\n",
    "        sex = 'sboi'\n",
    "    return sex\n"
   ]
  },
  {
   "cell_type": "code",
   "execution_count": null,
   "metadata": {},
   "outputs": [],
   "source": [
    "def age11(title1):\n",
    "    c = title1.find(\"лет\")\n",
    "    if title1.find(\"лет\") == -1:\n",
    "        c = title1.find(\"года\")\n",
    "        if title1.find(\"года\") == -1:\n",
    "            c = title1.find(\"год\")\n",
    "    if title1[c-1] ==' ':\n",
    "        age = list()\n",
    "        age.append(title1[c-3])\n",
    "        age.append(title1[c-2])\n",
    "    else:\n",
    "        age = list()\n",
    "        age.append(title1[c-2])\n",
    "        age.append(title1[c-1])\n",
    "\n",
    "    if age[0] == ' ':\n",
    "        age1 = age[1]\n",
    "    else:\n",
    "        age1 = age\n",
    "\n",
    "    age1 = age[0] + age[1]  \n",
    "    return age1"
   ]
  },
  {
   "cell_type": "code",
   "execution_count": null,
   "metadata": {},
   "outputs": [],
   "source": [
    "## Этот код работает некоректно [ALOOOOOOOO]\n",
    "def posts1(containers22):\n",
    "    a = containers22.find(\"Сообщений\")\n",
    "    posts = containers22[a+11] + containers22[a+12]\n",
    "    return posts"
   ]
  },
  {
   "cell_type": "code",
   "execution_count": null,
   "metadata": {},
   "outputs": [],
   "source": [
    "def data1(containers88):\n",
    "    d = containers88.find(\"Инфорг\")\n",
    "    if d == -1:\n",
    "        data1, data2 = 'не','редактировали'\n",
    "    else:\n",
    "        data1 = containers88[d+11] + containers88[d+12] + containers88[d+13] + containers88[d+14] + containers88[d+15] + containers88[d+16] + containers88[d+17] + containers88[d+18] + containers88[d+19] + containers88[d+20] + containers88[d+21]\n",
    "        data2 = containers88[d+24] + containers88[d+25] + containers88[d+26] + containers88[d+27] + containers88[d+28]\n",
    "        data = data1 + ' ' + data2\n",
    "    return data"
   ]
  },
  {
   "cell_type": "code",
   "execution_count": null,
   "metadata": {},
   "outputs": [],
   "source": [
    "def height(containers11):\n",
    "    b = containers11.find(\"Рост\")\n",
    "    if containers11.find(\"Рост\") == -1:\n",
    "        b = containers11.find(\"рост\") \n",
    "    if containers11[b+4] == \":\":\n",
    "        height = containers11[b+6] + containers11[b+7] + containers11[b+8]\n",
    "    else:\n",
    "        height = containers11[b+5] + containers11[b+6] + containers11[b+7]\n",
    "    return height"
   ]
  },
  {
   "cell_type": "code",
   "execution_count": null,
   "metadata": {},
   "outputs": [],
   "source": [
    "def help1(containers11):\n",
    "    if containers11.find(\"В МЕДИЦИНСКОЙ ПОМОЩИ\") == -1 and containers11.find(\"в медицинской помощи\") == -1:\n",
    "        help1 = 'здоров'\n",
    "    else:\n",
    "        help1 = 'требуется мед. помощь'\n",
    "    return help1"
   ]
  },
  {
   "cell_type": "code",
   "execution_count": null,
   "metadata": {},
   "outputs": [],
   "source": [
    "def hair_color(contents):\n",
    "    for string in contents:\n",
    "        if \"олосы\" in string:\n",
    "            no_stops_string_1 = ''.join([t for t in string if t not in english_stops])\n",
    "        tokens_1 = word_tokenize(no_stops_string_1)\n",
    "    for i in range(len(tokens_1)):\n",
    "        if \"олосы\" in tokens_1[i]:\n",
    "            hc = tokens_1[i + 1]\n",
    "    return hc"
   ]
  },
  {
   "cell_type": "code",
   "execution_count": null,
   "metadata": {},
   "outputs": [],
   "source": [
    "def body_type(contents):\n",
    "    for string in contents:\n",
    "        if \"елосложени\" in string:\n",
    "            no_stops_string = ''.join([t for t in string if t not in english_stops])\n",
    "        tokens = word_tokenize(no_stops_string)\n",
    "    for i in range(len(tokens)):\n",
    "        if \"елосложени\" in tokens[i]:\n",
    "            if tokens[i][-1] == \"я\":\n",
    "                body = tokens[i - 1]\n",
    "            else:\n",
    "                body = tokens[i + 1]\n",
    "    body.lower()\n",
    "    return body"
   ]
  },
  {
   "cell_type": "markdown",
   "metadata": {},
   "source": [
    "# Перейдем к сбору признаков"
   ]
  },
  {
   "cell_type": "code",
   "execution_count": null,
   "metadata": {},
   "outputs": [],
   "source": [
    "for i in range(len(my_list)):\n",
    "    my_url = my_list[i]  \n",
    "    uClient = uReq(my_url)\n",
    "    page_html = uClient.read()\n",
    "    uClient.close()\n",
    "    page_soup = soup(page_html, \"html.parser\")\n",
    "    title = page_soup.title\n",
    "    title1 = str(title)\n",
    "    containers = page_soup.findAll(\"div\", {\"class\":\"content\"})\n",
    "    #contents = list(map(str, page_soup.findAll(\"div\", {\"class\":\"content\"})[0].contents))\n",
    "    containers11 = str(containers)\n",
    "    containers2 = page_soup.findAll(\"div\", {\"class\":\"pagination\"})\n",
    "    containers22 = str(containers2)\n",
    "    containers8 = page_soup.findAll(\"div\", {\"class\":\"notice\"})\n",
    "    containers88 = str(containers8) \n",
    "    \n",
    "    list_photo.append(photo1(containers11))\n",
    "    list_state1.append(state1(title1))\n",
    "    list_sex1.append(sex1(title1))\n",
    "    list_age11.append(age11(title1))\n",
    "    list_posts.append(posts1(containers22))\n",
    "    #list_hair_color.append(hair_color(contents))\n",
    "    #list_bodytype.append(body_type(contents))\n",
    "    \n",
    "    containers = page_soup.findAll(\"div\", {\"class\":\"content\"})\n",
    "    containers11 = str(containers)\n",
    "    list_height.append(height(containers11))\n",
    "    list_help1.append(help1(containers11))"
   ]
  },
  {
   "cell_type": "code",
   "execution_count": null,
   "metadata": {},
   "outputs": [],
   "source": [
    "list_of_lists.append(list_age11)\n",
    "list_of_lists.append(list_height)\n",
    "list_of_lists.append(list_help1)\n",
    "list_of_lists.append(list_photo)\n",
    "list_of_lists.append(list_posts)\n",
    "list_of_lists.append(list_sex1)\n",
    "list_of_lists.append(list_state1)\n",
    "#list_of_lists.append(list_hair_color)\n",
    "#list_of_lists.append(list_bodytype)"
   ]
  },
  {
   "cell_type": "code",
   "execution_count": null,
   "metadata": {},
   "outputs": [],
   "source": [
    "df1 = pd.DataFrame(columns = ['Возраст', 'Рост', 'Мед. Состояние', 'Фото', 'Посты', 'Гендер', 'Состояние'])"
   ]
  },
  {
   "cell_type": "code",
   "execution_count": null,
   "metadata": {},
   "outputs": [],
   "source": [
    "for i, j in zip(list_of_lists, list(df1.columns)):\n",
    "    df1[j] = pd.Series(i)"
   ]
  },
  {
   "cell_type": "markdown",
   "metadata": {},
   "source": [
    "# Тадаам ! Вот , что мы получили"
   ]
  },
  {
   "cell_type": "code",
   "execution_count": null,
   "metadata": {},
   "outputs": [],
   "source": [
    "df1.head()"
   ]
  },
  {
   "cell_type": "code",
   "execution_count": null,
   "metadata": {
    "scrolled": true
   },
   "outputs": [],
   "source": [
    "df1"
   ]
  },
  {
   "cell_type": "markdown",
   "metadata": {},
   "source": [
    "Пока дальше не нужно смотреть ( Славе)"
   ]
  },
  {
   "cell_type": "code",
   "execution_count": null,
   "metadata": {},
   "outputs": [],
   "source": []
  },
  {
   "cell_type": "code",
   "execution_count": null,
   "metadata": {},
   "outputs": [],
   "source": [
    "df1.shape"
   ]
  },
  {
   "cell_type": "markdown",
   "metadata": {},
   "source": [
    "TRY EXCEL"
   ]
  },
  {
   "cell_type": "code",
   "execution_count": null,
   "metadata": {},
   "outputs": [],
   "source": [
    "filename = \"post7.csv\"\n",
    "f = open(filename, \"w\")\n",
    "headers = \"age1, height, posts\\n\"\n",
    "f.write(headers)"
   ]
  },
  {
   "cell_type": "markdown",
   "metadata": {},
   "source": [
    "Так, осталось выпарсить (хотя бы ублюдочно):\n",
    "1) время пропажи\n",
    "2) телосложение\n",
    "3) цвет глаз\n",
    "4) волосы\n",
    "5) одежда???\n",
    "\n",
    "А сейчас PPPPANDA, PPPAND, PPPPPPPANDA:"
   ]
  },
  {
   "cell_type": "code",
   "execution_count": null,
   "metadata": {},
   "outputs": [],
   "source": [
    "df = pd.DataFrame({'сообщения к посту': [posts], 'рост': [height], 'возраст': [age1], 'пол': [sex], 'состояние': [state], 'здоровье': [help1], 'фото': [photo]})\n",
    "df\n",
    "\n",
    "df.to_csv('pondaass.csv', index=True)\n",
    "print(df)"
   ]
  },
  {
   "cell_type": "code",
   "execution_count": null,
   "metadata": {},
   "outputs": [],
   "source": [
    "# ДЛЯ КОЛИ!!!!!!!!!!!!!!!!!!!!!\n",
    "html1 = requests.get('https://lizaalert.org/forum/viewforum.php?f=183').content #url='google.com'\n",
    "sel1 = Selector(text=html1)\n",
    "course_as11 = sel1.xpath('//a[contains(@class,\"forumtitle\")]')\n",
    "print(course_as11)\n",
    "hrefs11_from_css = course_as11.css('::attr(href)')\n",
    "print(hrefs11_from_css.extract())\n",
    "hrefz = list()\n",
    "#print(\"\\\"https://lizaalert.org/forum\" + str(hrefs11_from_css.extract()[4])[1:] + \"\\\"\")\n",
    "for i in range(len(hrefs11_from_css.extract())):\n",
    "    clean_link1 = \"\\\"https://lizaalert.org/forum\" + str(hrefs11_from_css.extract()[i])[1:] + \"\\\"\"\n",
    "    hrefz.append(clean_link1)\n",
    "#for i in hrefs11_from_css.extract():\n",
    " #   hrefs11_from_css.extract()[i] = \"\\\"https://lizaalert.org/forum\" + str(hrefs11_from_css.extract()[i])[1:] + \"\\\"\"\n",
    "print(hrefz[2])"
   ]
  },
  {
   "cell_type": "code",
   "execution_count": null,
   "metadata": {},
   "outputs": [],
   "source": []
  },
  {
   "cell_type": "code",
   "execution_count": null,
   "metadata": {},
   "outputs": [],
   "source": [
    "my_list[1]"
   ]
  },
  {
   "cell_type": "code",
   "execution_count": null,
   "metadata": {},
   "outputs": [],
   "source": []
  }
 ],
 "metadata": {
  "kernelspec": {
   "display_name": "Python 3",
   "language": "python",
   "name": "python3"
  },
  "language_info": {
   "codemirror_mode": {
    "name": "ipython",
    "version": 3
   },
   "file_extension": ".py",
   "mimetype": "text/x-python",
   "name": "python",
   "nbconvert_exporter": "python",
   "pygments_lexer": "ipython3",
   "version": "3.7.1"
  }
 },
 "nbformat": 4,
 "nbformat_minor": 2
}
