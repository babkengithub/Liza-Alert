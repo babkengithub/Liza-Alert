{
 "cells": [
  {
   "cell_type": "code",
   "execution_count": 35,
   "metadata": {},
   "outputs": [
    {
     "name": "stderr",
     "output_type": "stream",
     "text": [
      "[nltk_data] Downloading package punkt to\n",
      "[nltk_data]     C:\\Users\\1\\AppData\\Roaming\\nltk_data...\n",
      "[nltk_data]   Package punkt is already up-to-date!\n"
     ]
    }
   ],
   "source": [
    "import numpy as np\n",
    "import pandas as pd\n",
    "import re\n",
    "import bs4\n",
    "from urllib.request import urlopen as uReq\n",
    "from bs4 import BeautifulSoup as soup\n",
    "from scrapy import Selector\n",
    "from nltk import word_tokenize\n",
    "import nltk\n",
    "nltk.download('punkt') #winlocker\n",
    "pd.set_option(\"display.max_rows\", 100)\n",
    "pd.set_option('display.max_colwidth',-1)"
   ]
  },
  {
   "cell_type": "code",
   "execution_count": 36,
   "metadata": {},
   "outputs": [
    {
     "name": "stdout",
     "output_type": "stream",
     "text": [
      "[]\n",
      "[]\n",
      "0\n"
     ]
    }
   ],
   "source": [
    "# ДЛЯ КОЛИ!!!!!!!!!!!!!!!!!!!!!\n",
    "import requests\n",
    "#ssylka = 'https://lizaalert.org/forum/viewforum.php?f=182'\n",
    "ssylka = 'https://lizaalert.org/forum/viewforum.php?f=171'\n",
    "html1 = requests.get(ssylka).content #url='google.com'\n",
    "sel1 = Selector(text=html1)\n",
    "course_as11 = sel1.xpath('//a[contains(@class,\"forumtitle\")]')\n",
    "print(course_as11)\n",
    "hrefs11_from_css = course_as11.css('::attr(href)')\n",
    "print(hrefs11_from_css.extract())\n",
    "hrefz = list()\n",
    "#print(\"\\\"https://lizaalert.org/forum\" + str(hrefs11_from_css.extract()[4])[1:] + \"\\\"\")\n",
    "for i in range(len(hrefs11_from_css.extract())):\n",
    "    clean_link1 = \"https://lizaalert.org/forum\" + str(hrefs11_from_css.extract()[i])[1:]\n",
    "    hrefz.append(clean_link1)\n",
    "#for i in hrefs11_from_css.extract():\n",
    " #   hrefs11_from_css.extract()[i] = \"\\\"https://lizaalert.org/forum\" + str(hrefs11_from_css.extract()[i])[1:] + \"\\\"\"\n",
    "print(len(hrefz))"
   ]
  },
  {
   "cell_type": "code",
   "execution_count": 37,
   "metadata": {},
   "outputs": [
    {
     "name": "stdout",
     "output_type": "stream",
     "text": [
      "[] ГДЕ Я БЛЯТЬ\n"
     ]
    }
   ],
   "source": [
    "# Import requests\n",
    "import requests\n",
    "\n",
    "list_of_all_pages = list()\n",
    "# Create the string html containing the HTML source\n",
    "for i in range(len(hrefz)):\n",
    "    html = requests.get(hrefz[i]).content #url='google.com'\n",
    "\n",
    "    # Create the Selector object sel from html\n",
    "    sel = Selector(text=html)\n",
    "\n",
    "\n",
    "    uClient = uReq(hrefz[i])\n",
    "    page_html = uClient.read()\n",
    "    uClient.close()\n",
    "    page_soup = soup(page_html, \"html.parser\")\n",
    "    containers2 = page_soup.findAll(\"div\", {\"class\":\"pagination\"})\n",
    "    containers22 = str(containers2)\n",
    "    #print(containers22)\n",
    "\n",
    "    def page12(containers22):\n",
    "        page1 = list()\n",
    "        c = containers22.find(\"из \")\n",
    "        page1.append(containers22[c+11])\n",
    "        page1.append(containers22[c+12])\n",
    "        if containers22[c+12] == \"<\":\n",
    "            page1.pop()\n",
    "        return page1\n",
    "\n",
    "    print('ALOOOOOOOOOOOO', page12(containers22))\n",
    "    if len(page12(containers22)) == 2:\n",
    "        page_real = int(page12(containers22)[0] + page12(containers22)[1])\n",
    "    else:\n",
    "        page_real = int(page12(containers22)[0])\n",
    "    print(page_real)\n",
    "\n",
    "    # Парсим\n",
    "    course_as = sel.xpath('//a[contains(@class,\"right-box right\")]')\n",
    "    print(course_as)\n",
    "    hrefs_from_css = course_as.css('::attr(href)')\n",
    "    print(len(str(hrefs_from_css.extract())[1:]))\n",
    "    #next1 = \"https://lizaalert.org/forum\" + str(hrefs_from_css.extract()[0])[1:]\n",
    "    #print(\"ссылка=\", next1)\n",
    "    if len(str(hrefs_from_css.extract())[1:]) == 1:\n",
    "        links_to_follow = ssylka\n",
    "        clean_link = ssylka\n",
    "    else:\n",
    "        links_to_follow = \"\\\"https://lizaalert.org/forum\" + str(hrefs_from_css.extract()[0])[1:] + \"\\\"\"\n",
    "        clean_link = str(hrefs_from_css.extract()[0])[1:len(hrefs_from_css.extract()[0])-2]\n",
    "    print(clean_link)\n",
    "    list_links = list()\n",
    "    for i in range((page_real)-1):\n",
    "        list_links.append(clean_link)\n",
    "    print(list_links)\n",
    "\n",
    "    #За 500 надо пояснить! Но это вроде несложно\n",
    "    i=0\n",
    "    list1 = list()\n",
    "    for i in range(0,(page_real-1)*25, 25):\n",
    "        i = i + 25\n",
    "        list1.append(i)\n",
    "    print(list1)\n",
    "\n",
    "    result = [str(item) for item in list1]\n",
    "\n",
    "    #print(type(result[2]))\n",
    "\n",
    "    for i in range(len(list1)):\n",
    "        list_links[i] += result[i]\n",
    "    #print(list_links)\n",
    "\n",
    "    for i in range(len(list_links)):\n",
    "        list_links[i] = \"https://lizaalert.org/forum\" + list_links[i]\n",
    "    list_of_all_pages.append(list_links)\n",
    "    print(list_of_all_pages)\n",
    "    print(list_links)\n",
    "    \n",
    "print(list_of_all_pages, \"ГДЕ Я БЛЯТЬ\")"
   ]
  },
  {
   "cell_type": "code",
   "execution_count": 38,
   "metadata": {},
   "outputs": [
    {
     "name": "stdout",
     "output_type": "stream",
     "text": [
      "0\n",
      "[]\n",
      "[]\n",
      "1\n",
      "['https://lizaalert.org/forum/viewforum.php?f=171']\n"
     ]
    }
   ],
   "source": [
    "print(len(list_of_all_pages))\n",
    "listSYKA = list()\n",
    "for i in range(len(list_of_all_pages)):\n",
    "    for j in range(len(list_of_all_pages[i])):\n",
    "        listSYKA.append(list_of_all_pages[i][j])\n",
    "print(listSYKA)\n",
    "print(hrefz)\n",
    "for j in range(len(hrefz)):\n",
    "    listSYKA.append(hrefz[j])\n",
    "listSYKA.append(ssylka)\n",
    "print(len(listSYKA))\n",
    "print(listSYKA)"
   ]
  },
  {
   "cell_type": "code",
   "execution_count": 39,
   "metadata": {},
   "outputs": [
    {
     "name": "stdout",
     "output_type": "stream",
     "text": [
      "26\n",
      "https://lizaalert.org/forum/viewtopic.php?f=171&t=5452&sid=55229755e9c60361d1195d00bf9e9701\n"
     ]
    }
   ],
   "source": [
    "list_full = list()\n",
    "for i in range(len(listSYKA)):\n",
    "    #html = requests.get(list_links[i]).content #url='google.com'\n",
    "    html = requests.get(listSYKA[i]).content #url='google.com'\n",
    "    sel = Selector(text=html)\n",
    "\n",
    "    course_as1 = sel.css('a.topictitle')\n",
    "    hrefs1_from_css = course_as1.css('::attr(href)')\n",
    "#syka\n",
    "    list0 = list()\n",
    "    for i in range(0, len(hrefs1_from_css.extract())):\n",
    "        list0.append(\"https://lizaalert.org/forum\" + str(hrefs1_from_css.extract()[i])[1:])\n",
    "        list_full.append(list0[i])\n",
    "#print(list_full)\n",
    "print(len(list_full))\n",
    "print(list_full[17])"
   ]
  },
  {
   "cell_type": "code",
   "execution_count": 40,
   "metadata": {},
   "outputs": [],
   "source": [
    "my_list = list_full"
   ]
  },
  {
   "cell_type": "code",
   "execution_count": null,
   "metadata": {},
   "outputs": [],
   "source": []
  },
  {
   "cell_type": "markdown",
   "metadata": {},
   "source": [
    "# Здесь соберем все вспомогательные перменные"
   ]
  },
  {
   "cell_type": "code",
   "execution_count": 41,
   "metadata": {},
   "outputs": [],
   "source": [
    "list_photo = []\n",
    "list_state1 = []\n",
    "list_sex1 = []\n",
    "list_age11 = []\n",
    "list_posts = []\n",
    "list_height = []\n",
    "list_help1 = []\n",
    "list_hair_color = []\n",
    "list_bodytype = []\n",
    "list_eye = []\n",
    "list_place = []\n",
    "list_color_of_clothes = [] # Бабкен Вставил\n",
    "list_of_lists = []  ## Здесь нужно додумать"
   ]
  },
  {
   "cell_type": "code",
   "execution_count": 42,
   "metadata": {},
   "outputs": [],
   "source": [
    "english_stops = ['.', ',', ':', ';', \"!\", \"?\", '-', ')', '(']"
   ]
  },
  {
   "cell_type": "markdown",
   "metadata": {},
   "source": [
    "# Напишем все функции, которые нам понадобятся в сборе признаков "
   ]
  },
  {
   "cell_type": "code",
   "execution_count": 43,
   "metadata": {
    "scrolled": true
   },
   "outputs": [],
   "source": [
    "def photo1(containers11):\n",
    "    if containers11.find(\"Изображение\") != -1:\n",
    "        photo =  'присутствует'\n",
    "    else:\n",
    "        photo = 'отсутствует'\n",
    "    return photo"
   ]
  },
  {
   "cell_type": "code",
   "execution_count": 44,
   "metadata": {},
   "outputs": [],
   "source": [
    "def state1(title1): # Слава вставил 8 мая \n",
    "    sit = re.search(r'[Жж]ива|[Жж]ив|[Пп]огиб|[Пп]огибла|[Нн]айден|[Нн]айдена',title1)\n",
    "    if sit is None:\n",
    "        return \"Ищут\"\n",
    "    sit = str(sit.group(0))\n",
    "    if sit == 'Жива' or sit == 'Жив' or sit == 'жива' or sit == 'жив' or sit == 'Найден' or sit == 'найден' or sit == 'найдена'or sit == 'Найдена':\n",
    "        sit = 'Живой'\n",
    "    else:\n",
    "        sit = 'Погиб'\n",
    "    return sit"
   ]
  },
  {
   "cell_type": "code",
   "execution_count": 45,
   "metadata": {},
   "outputs": [],
   "source": [
    "def sex1(title1): # Слава вставил 8 мая \n",
    "    sex = re.search(r'[Вв]ышел|[Вв]ышла|[Уу]шла|[Уу]шёл|[Уу]шел|[Пп]ропал|[Пп]ропала|[Нн]айден|[Нн]айдена|[Жж]ива|[Жж]ив|[Ее]го|[Ее]ё|[Ее]е|[Уу]ехал|[Уу]ехала|[Пп]огибла|[Пп]огиб', title1)\n",
    "    if sex is None:\n",
    "        return \"Er\"\n",
    "    sex = str(sex.group(0))\n",
    "    if sex == \"вышел\" or sex == \"Вышел\" or sex == \"ушел\" or sex == \"Ушел\" or sex == 'ушёл' or sex == 'пропал' or sex == 'Пропал' or sex == 'Найден' or sex == 'найден' or sex == 'ушел'or sex == 'пропал'or sex == 'найден'or sex == 'Найден'or sex == 'вышел' or sex == 'Жив'or sex == 'жив' or sex == 'уехал'or sex == 'Погиб'or sex == 'погиб':\n",
    "        sex = \"Мужчина\"\n",
    "    elif sex == \"вышла\" or sex == \"Вышла\" or sex == \"ушла\" or sex == \"Ушла\" or sex == 'ушла' or sex == 'пропала' or sex == 'Пропала' or sex == 'Найдена' or sex == 'найдена' or sex == 'пропала' or sex == 'Найдена'or sex == 'вышла' or sex == 'Жива'or sex == 'жива' or sex == 'уехала'or sex == 'Погибла' or sex == 'погибла':\n",
    "        sex = 'Женщина'\n",
    "    return sex\n"
   ]
  },
  {
   "cell_type": "code",
   "execution_count": 46,
   "metadata": {},
   "outputs": [],
   "source": [
    "def age11(title1):\n",
    "    age = re.search(r'\\d+ ',title1)\n",
    "    if age is None:\n",
    "        return \"Er\"\n",
    "    age = int(age.group(0)) # эТО уже у нас число)) Ура!!!!\n",
    "    if age < 100:\n",
    "            age = age\n",
    "    else:\n",
    "            age = 2019 - age\n",
    "    return age"
   ]
  },
  {
   "cell_type": "code",
   "execution_count": 47,
   "metadata": {},
   "outputs": [],
   "source": [
    "def posts1(containers2):\n",
    "    posts = re.search(r'\\d+', str(containers2)).group()\n",
    "    return posts"
   ]
  },
  {
   "cell_type": "code",
   "execution_count": 48,
   "metadata": {},
   "outputs": [],
   "source": [
    "def data1(containers88):\n",
    "    d = containers88.find(\"Инфорг\")\n",
    "    if d == -1:\n",
    "        data1, data2 = 'не','редактировали'\n",
    "    else:\n",
    "        data1 = containers88[d+11] + containers88[d+12] + containers88[d+13] + containers88[d+14] + containers88[d+15] + containers88[d+16] + containers88[d+17] + containers88[d+18] + containers88[d+19] + containers88[d+20] + containers88[d+21]\n",
    "        data2 = containers88[d+24] + containers88[d+25] + containers88[d+26] + containers88[d+27] + containers88[d+28]\n",
    "        data = data1 + ' ' + data2\n",
    "    return data"
   ]
  },
  {
   "cell_type": "code",
   "execution_count": 49,
   "metadata": {},
   "outputs": [],
   "source": [
    "def height(containers11): # Вставил Слава 8.05.2019\n",
    "    high = re.search(r'[Рр]ост \\d{3}|[Рр]оста \\d{3}|[Рр]оста\\d{3}|[Рр]ост: \\d{3}|[Рр]ост - \\d{3}', containers11 )\n",
    "    if high is None:\n",
    "        return \"Er\"\n",
    "    high = str(high.group(0))\n",
    "\n",
    "    height = re.findall(r'\\d+',high)\n",
    "    height = int(\" \".join(height))\n",
    "    return height"
   ]
  },
  {
   "cell_type": "code",
   "execution_count": 50,
   "metadata": {},
   "outputs": [],
   "source": [
    "def help1(containers11):\n",
    "    if containers11.find(\"В МЕДИЦИНСКОЙ ПОМОЩИ\") == -1 and containers11.find(\"в медицинской помощи\") == -1:\n",
    "        help1 = 'здоров'\n",
    "    else:\n",
    "        help1 = 'требуется мед. помощь'\n",
    "    return help1"
   ]
  },
  {
   "cell_type": "code",
   "execution_count": 51,
   "metadata": {},
   "outputs": [],
   "source": [
    "def hair_color(contents):\n",
    "    hc = 'Не указано'\n",
    "    for string in contents:\n",
    "        if \"олосы\" in string:\n",
    "            no_stops_string_1 = ''.join([t for t in string if t not in english_stops])\n",
    "            tokens_1 = word_tokenize(no_stops_string_1)\n",
    "            for i in range(len(tokens_1)):\n",
    "                if \"олосы\" in tokens_1[i]:\n",
    "                    hc = tokens_1[i + 1]\n",
    "    return hc"
   ]
  },
  {
   "cell_type": "code",
   "execution_count": 52,
   "metadata": {},
   "outputs": [],
   "source": [
    "## Нужно доработать код! Или сделать заново\n",
    "def body_type(contents):\n",
    "    body = \"Не указано\"\n",
    "    for string in contents:\n",
    "        if \"елосложени\" in string:\n",
    "            no_stops_string = ''.join([t for t in string if t not in english_stops])\n",
    "            tokens = word_tokenize(no_stops_string)\n",
    "            tokens.append(\"Ты объебался\")\n",
    "            for i in range(len(tokens)):\n",
    "                if \"елосложени\" in tokens[i]:\n",
    "                    if tokens[i][-1] == \"я\":\n",
    "                        body = tokens[i - 1]\n",
    "                        break\n",
    "                    else:\n",
    "                        body = tokens[i + 1]\n",
    "                        break\n",
    "    return body"
   ]
  },
  {
   "cell_type": "code",
   "execution_count": 53,
   "metadata": {},
   "outputs": [],
   "source": [
    "## Нужно доработать код! Или сделать заново\n",
    "def eyes_color(contents):\n",
    "    ec = \"Не указано\"\n",
    "    for string in contents:\n",
    "        if \"лаз\" in string:\n",
    "            no_stops_string = ''.join([t for t in string if t not in english_stops])\n",
    "            tokens = word_tokenize(no_stops_string)\n",
    "            tokens.append(\"Кто-то объебался\")\n",
    "            for i in range(len(tokens)):\n",
    "                if \"лаз\" in tokens[i]:\n",
    "                    ec = tokens[i + 1]\n",
    "                if ec == \"Кто-то объебался\":\n",
    "                    ec = tokens[i-1]\n",
    "                    break\n",
    "    return ec"
   ]
  },
  {
   "cell_type": "code",
   "execution_count": 54,
   "metadata": {},
   "outputs": [],
   "source": [
    "def yebanskii(sel):\n",
    "    p = sel.css(\"div.content\").xpath('./span[@style=\"font-size: 140%; line-height: 116%;\"]/span[@style=\"font-weight: bold\"]/text()').extract()\n",
    "    a = str(p)\n",
    "    b = re.split('\\s+', a)\n",
    "    b1 = b[5:]\n",
    "    t = str(b1)\n",
    "    p = t.replace(\"\\'\", \"\")\n",
    "    p1 = p.replace(']', '')\n",
    "    p2 = p1.replace('[', '')\n",
    "    p3 = p2.replace('\"', '')\n",
    "    p4 = p3.replace(', ', \" \")\n",
    "    p5 = p4.replace('- ','-')\n",
    "    return p5\n",
    "    "
   ]
  },
  {
   "cell_type": "code",
   "execution_count": 55,
   "metadata": {},
   "outputs": [],
   "source": [
    "# Бабкен вставил\n",
    "def color_cloth(containers11):\n",
    "    containers1 = re.split('<span style=\"font-weight: bold\">', containers11)\n",
    "    if len(containers1) < 4:\n",
    "        return \"Не указано\"\n",
    "    else:\n",
    "        containers_new = containers1[3]\n",
    "        black = len(re.findall(r'черн', containers_new))\n",
    "        white = len(re.findall(r'бел', containers_new))\n",
    "        yellow = len(re.findall(r'желт', containers_new))\n",
    "        orange = len(re.findall(r'оранж', containers_new))\n",
    "        br_grey = len(re.findall(r'тло-сер', containers_new))\n",
    "        grey = len(re.findall(r'сер', containers_new))\n",
    "        beg = len(re.findall(r'бежев', containers_new))\n",
    "        br_blue = len(re.findall(r'тло-син', containers_new))\n",
    "        blue = len(re.findall(r'син', containers_new))\n",
    "        green = len(re.findall(r'зелен', containers_new))\n",
    "        violent = len(re.findall(r'фиол', containers_new))\n",
    "        black1 = len(re.findall(r'чёрн', containers_new))\n",
    "        brown = len(re.findall(r'коричн', containers_new))\n",
    "        al_colors = black + yellow + orange + grey + beg + blue + green + violent + black1\n",
    "        br_colors1 = white + yellow + orange + br_grey + beg + br_blue + green + violent\n",
    "        br_colors2 = white + yellow + orange + beg + br_blue + green + violent\n",
    "        br_colors3 = white + yellow + orange + br_grey + beg + green + violent\n",
    "        br_colors4 = white + yellow + orange + beg + green + violent\n",
    "        dk_colors1 = black + black1 + brown\n",
    "        dk_colors2 = black + grey + black1 + brown\n",
    "        dk_colors3 = black + blue + black1 + brown\n",
    "        dk_colors4 = black + blue + grey + black1 + brown\n",
    "        if al_colors == 0:\n",
    "            return \"Не указано\" \n",
    "        elif (br_grey == 0 and br_blue == 0) and br_colors4 >= dk_colors4:\n",
    "            return \"Яркая\"\n",
    "        elif (br_grey == 0 and br_blue == 0) and br_colors4 < dk_colors4:\n",
    "            return \"Темная\"\n",
    "        elif ((br_grey != 0 and grey != 0) or (br_blue != 0 and blue != 0 )) and br_colors1 >= dk_colors4:\n",
    "            return \"Яркая\"\n",
    "        elif ((br_grey != 0 and grey != 0) or (br_blue != 0 and blue != 0 )) and br_colors1 < dk_colors4:\n",
    "            return \"Темная\"\n",
    "        elif (br_grey == 0) and br_colors2 >= dk_colors2:\n",
    "            return \"Яркая\" \n",
    "        elif (br_grey == 0) and br_colors2 < dk_colors2:\n",
    "            return \"Темная\" \n",
    "        elif (br_blue == 0) and br_colors3 >= dk_colors3:\n",
    "            return \"Яркая\""
   ]
  },
  {
   "cell_type": "markdown",
   "metadata": {},
   "source": [
    "# Перейдем к сбору признаков"
   ]
  },
  {
   "cell_type": "code",
   "execution_count": 56,
   "metadata": {},
   "outputs": [],
   "source": [
    "for i in my_list:\n",
    "    my_url = i\n",
    "    uClient = uReq(my_url)\n",
    "    page_html = uClient.read()\n",
    "    uClient.close()\n",
    "    page_soup = soup(page_html, \"html.parser\")\n",
    "    title = page_soup.title\n",
    "    title1 = str(title)\n",
    "    html = requests.get(my_url).content\n",
    "    sel = Selector(text=html)\n",
    "    containers = page_soup.findAll(\"div\", {\"class\":\"content\"})\n",
    "    contents = page_soup.findAll(\"div\", {\"class\":\"content\"})[0].contents\n",
    "    containers11 = str(containers)\n",
    "    containers2 = page_soup.findAll(\"div\", {\"class\":\"pagination\"})\n",
    "    containers22 = str(containers2)\n",
    "    containers8 = page_soup.findAll(\"div\", {\"class\":\"notice\"})\n",
    "    containers88 = str(containers8)\n",
    "    containers1 = re.split('<span style=\"font-weight: bold\">', containers11)\n",
    "    containers1\n",
    "    \n",
    "    list_photo.append(photo1(containers11))\n",
    "    list_state1.append(state1(title1))\n",
    "    list_sex1.append(sex1(title1))\n",
    "    list_age11.append(age11(title1))\n",
    "    list_posts.append(posts1(containers22))\n",
    "    list_hair_color.append(hair_color(contents))\n",
    "    list_bodytype.append(body_type(contents))\n",
    "    list_eye.append(eyes_color(contents))\n",
    "    containers = page_soup.findAll(\"div\", {\"class\":\"content\"})\n",
    "    containers11 = str(containers)\n",
    "    list_height.append(height(containers11))\n",
    "    list_help1.append(help1(containers11))\n",
    "    list_place.append(yebanskii(sel))\n",
    "    list_color_of_clothes.append(color_cloth(containers11)) # Бабкен вставил\n"
   ]
  },
  {
   "cell_type": "code",
   "execution_count": 57,
   "metadata": {},
   "outputs": [],
   "source": [
    "list_of_lists.append(list_age11)\n",
    "list_of_lists.append(list_height)\n",
    "list_of_lists.append(list_help1)\n",
    "list_of_lists.append(list_photo)\n",
    "list_of_lists.append(list_posts)\n",
    "list_of_lists.append(list_sex1)\n",
    "list_of_lists.append(list_state1)\n",
    "list_of_lists.append(list_hair_color)\n",
    "list_of_lists.append(list_bodytype)\n",
    "list_of_lists.append(list_eye)\n",
    "list_of_lists.append(list_place)\n",
    "list_of_lists.append(list_color_of_clothes) # Бабкен вставил"
   ]
  },
  {
   "cell_type": "code",
   "execution_count": 58,
   "metadata": {},
   "outputs": [],
   "source": [
    "df1 = pd.DataFrame(columns = ['Возраст', 'Рост', 'Мед. Состояние', 'Фото', 'Посты', 'Гендер', 'Состояние', 'Цвет волос', 'Телосложение', 'Цвет глаз', 'Место', 'Одежда'])"
   ]
  },
  {
   "cell_type": "code",
   "execution_count": 59,
   "metadata": {},
   "outputs": [],
   "source": [
    "for i, j in zip(list_of_lists, list(df1.columns)):\n",
    "    df1[j] = pd.Series(i)"
   ]
  },
  {
   "cell_type": "markdown",
   "metadata": {},
   "source": [
    "# Тадаам ! Вот , что мы получили"
   ]
  },
  {
   "cell_type": "code",
   "execution_count": 60,
   "metadata": {},
   "outputs": [
    {
     "data": {
      "text/html": [
       "<div>\n",
       "<style scoped>\n",
       "    .dataframe tbody tr th:only-of-type {\n",
       "        vertical-align: middle;\n",
       "    }\n",
       "\n",
       "    .dataframe tbody tr th {\n",
       "        vertical-align: top;\n",
       "    }\n",
       "\n",
       "    .dataframe thead th {\n",
       "        text-align: right;\n",
       "    }\n",
       "</style>\n",
       "<table border=\"1\" class=\"dataframe\">\n",
       "  <thead>\n",
       "    <tr style=\"text-align: right;\">\n",
       "      <th></th>\n",
       "      <th>Возраст</th>\n",
       "      <th>Рост</th>\n",
       "      <th>Мед. Состояние</th>\n",
       "      <th>Фото</th>\n",
       "      <th>Посты</th>\n",
       "      <th>Гендер</th>\n",
       "      <th>Состояние</th>\n",
       "      <th>Цвет волос</th>\n",
       "      <th>Телосложение</th>\n",
       "      <th>Цвет глаз</th>\n",
       "      <th>Место</th>\n",
       "      <th>Одежда</th>\n",
       "    </tr>\n",
       "  </thead>\n",
       "  <tbody>\n",
       "    <tr>\n",
       "      <th>0</th>\n",
       "      <td>Er</td>\n",
       "      <td>Er</td>\n",
       "      <td>здоров</td>\n",
       "      <td>отсутствует</td>\n",
       "      <td>1</td>\n",
       "      <td>Er</td>\n",
       "      <td>Ищут</td>\n",
       "      <td>Не указано</td>\n",
       "      <td>Не указано</td>\n",
       "      <td>Не указано</td>\n",
       "      <td></td>\n",
       "      <td>Не указано</td>\n",
       "    </tr>\n",
       "    <tr>\n",
       "      <th>1</th>\n",
       "      <td>80</td>\n",
       "      <td>170</td>\n",
       "      <td>здоров</td>\n",
       "      <td>присутствует</td>\n",
       "      <td>3</td>\n",
       "      <td>Мужчина</td>\n",
       "      <td>Ищут</td>\n",
       "      <td>Не указано</td>\n",
       "      <td>худощавое</td>\n",
       "      <td>зеленые</td>\n",
       "      <td></td>\n",
       "      <td>Не указано</td>\n",
       "    </tr>\n",
       "    <tr>\n",
       "      <th>2</th>\n",
       "      <td>15</td>\n",
       "      <td>Er</td>\n",
       "      <td>здоров</td>\n",
       "      <td>отсутствует</td>\n",
       "      <td>7</td>\n",
       "      <td>Мужчина</td>\n",
       "      <td>Живой</td>\n",
       "      <td>Не указано</td>\n",
       "      <td>худощавое</td>\n",
       "      <td>карие</td>\n",
       "      <td></td>\n",
       "      <td>Не указано</td>\n",
       "    </tr>\n",
       "    <tr>\n",
       "      <th>3</th>\n",
       "      <td>77</td>\n",
       "      <td>Er</td>\n",
       "      <td>здоров</td>\n",
       "      <td>отсутствует</td>\n",
       "      <td>4</td>\n",
       "      <td>Мужчина</td>\n",
       "      <td>Ищут</td>\n",
       "      <td>Не указано</td>\n",
       "      <td>Не указано</td>\n",
       "      <td>Не указано</td>\n",
       "      <td></td>\n",
       "      <td>Не указано</td>\n",
       "    </tr>\n",
       "    <tr>\n",
       "      <th>4</th>\n",
       "      <td>Er</td>\n",
       "      <td>Er</td>\n",
       "      <td>здоров</td>\n",
       "      <td>отсутствует</td>\n",
       "      <td>1</td>\n",
       "      <td>Женщина</td>\n",
       "      <td>Погиб</td>\n",
       "      <td>Не указано</td>\n",
       "      <td>Не указано</td>\n",
       "      <td>Не указано</td>\n",
       "      <td></td>\n",
       "      <td>Не указано</td>\n",
       "    </tr>\n",
       "  </tbody>\n",
       "</table>\n",
       "</div>"
      ],
      "text/plain": [
       "  Возраст Рост Мед. Состояние          Фото Посты   Гендер Состояние  \\\n",
       "0  Er      Er   здоров         отсутствует   1     Er       Ищут       \n",
       "1  80      170  здоров         присутствует  3     Мужчина  Ищут       \n",
       "2  15      Er   здоров         отсутствует   7     Мужчина  Живой      \n",
       "3  77      Er   здоров         отсутствует   4     Мужчина  Ищут       \n",
       "4  Er      Er   здоров         отсутствует   1     Женщина  Погиб      \n",
       "\n",
       "   Цвет волос Телосложение   Цвет глаз Место      Одежда  \n",
       "0  Не указано  Не указано   Не указано        Не указано  \n",
       "1  Не указано  худощавое    зеленые           Не указано  \n",
       "2  Не указано  худощавое    карие             Не указано  \n",
       "3  Не указано  Не указано   Не указано        Не указано  \n",
       "4  Не указано  Не указано   Не указано        Не указано  "
      ]
     },
     "execution_count": 60,
     "metadata": {},
     "output_type": "execute_result"
    }
   ],
   "source": [
    "df1.head()"
   ]
  },
  {
   "cell_type": "code",
   "execution_count": 61,
   "metadata": {
    "scrolled": true
   },
   "outputs": [
    {
     "ename": "AttributeError",
     "evalue": "'DataFrame' object has no attribute 'set_option'",
     "output_type": "error",
     "traceback": [
      "\u001b[1;31m---------------------------------------------------------------------------\u001b[0m",
      "\u001b[1;31mAttributeError\u001b[0m                            Traceback (most recent call last)",
      "\u001b[1;32m<ipython-input-61-c4c9dd1d1787>\u001b[0m in \u001b[0;36m<module>\u001b[1;34m\u001b[0m\n\u001b[1;32m----> 1\u001b[1;33m \u001b[0mdf1\u001b[0m\u001b[1;33m.\u001b[0m\u001b[0mset_option\u001b[0m\u001b[1;33m(\u001b[0m\u001b[1;34m\"display.max_rows\"\u001b[0m\u001b[1;33m,\u001b[0m \u001b[1;36m100\u001b[0m\u001b[1;33m)\u001b[0m\u001b[1;33m\u001b[0m\u001b[1;33m\u001b[0m\u001b[0m\n\u001b[0m",
      "\u001b[1;32m~\\Anaconda3\\lib\\site-packages\\pandas\\core\\generic.py\u001b[0m in \u001b[0;36m__getattr__\u001b[1;34m(self, name)\u001b[0m\n\u001b[0;32m   4374\u001b[0m             \u001b[1;32mif\u001b[0m \u001b[0mself\u001b[0m\u001b[1;33m.\u001b[0m\u001b[0m_info_axis\u001b[0m\u001b[1;33m.\u001b[0m\u001b[0m_can_hold_identifiers_and_holds_name\u001b[0m\u001b[1;33m(\u001b[0m\u001b[0mname\u001b[0m\u001b[1;33m)\u001b[0m\u001b[1;33m:\u001b[0m\u001b[1;33m\u001b[0m\u001b[1;33m\u001b[0m\u001b[0m\n\u001b[0;32m   4375\u001b[0m                 \u001b[1;32mreturn\u001b[0m \u001b[0mself\u001b[0m\u001b[1;33m[\u001b[0m\u001b[0mname\u001b[0m\u001b[1;33m]\u001b[0m\u001b[1;33m\u001b[0m\u001b[1;33m\u001b[0m\u001b[0m\n\u001b[1;32m-> 4376\u001b[1;33m             \u001b[1;32mreturn\u001b[0m \u001b[0mobject\u001b[0m\u001b[1;33m.\u001b[0m\u001b[0m__getattribute__\u001b[0m\u001b[1;33m(\u001b[0m\u001b[0mself\u001b[0m\u001b[1;33m,\u001b[0m \u001b[0mname\u001b[0m\u001b[1;33m)\u001b[0m\u001b[1;33m\u001b[0m\u001b[1;33m\u001b[0m\u001b[0m\n\u001b[0m\u001b[0;32m   4377\u001b[0m \u001b[1;33m\u001b[0m\u001b[0m\n\u001b[0;32m   4378\u001b[0m     \u001b[1;32mdef\u001b[0m \u001b[0m__setattr__\u001b[0m\u001b[1;33m(\u001b[0m\u001b[0mself\u001b[0m\u001b[1;33m,\u001b[0m \u001b[0mname\u001b[0m\u001b[1;33m,\u001b[0m \u001b[0mvalue\u001b[0m\u001b[1;33m)\u001b[0m\u001b[1;33m:\u001b[0m\u001b[1;33m\u001b[0m\u001b[1;33m\u001b[0m\u001b[0m\n",
      "\u001b[1;31mAttributeError\u001b[0m: 'DataFrame' object has no attribute 'set_option'"
     ]
    }
   ],
   "source": [
    "df1.set_option(\"display.max_rows\", 100)"
   ]
  },
  {
   "cell_type": "markdown",
   "metadata": {},
   "source": [
    "Пока дальше не нужно смотреть ( Славе)"
   ]
  },
  {
   "cell_type": "code",
   "execution_count": null,
   "metadata": {},
   "outputs": [],
   "source": [
    "df1.shape"
   ]
  },
  {
   "cell_type": "code",
   "execution_count": null,
   "metadata": {},
   "outputs": [],
   "source": [
    "count = 0\n",
    "for element in  df1[\"Телосложение\"][:19]:\n",
    "    if element == \"Не указано\":\n",
    "        count += 1\n",
    "count/len(df1[\"Телосложение\"][:19])"
   ]
  },
  {
   "cell_type": "markdown",
   "metadata": {},
   "source": [
    "TRY EXCEL"
   ]
  },
  {
   "cell_type": "code",
   "execution_count": null,
   "metadata": {},
   "outputs": [],
   "source": [
    "filename = \"post7.csv\"\n",
    "f = open(filename, \"w\")\n",
    "headers = \"age1, height, posts\\n\"\n",
    "f.write(headers)"
   ]
  },
  {
   "cell_type": "markdown",
   "metadata": {},
   "source": [
    "Так, осталось выпарсить (хотя бы ублюдочно):\n",
    "1) время пропажи\n",
    "2) телосложение\n",
    "3) цвет глаз\n",
    "4) волосы\n",
    "5) одежда???\n",
    "\n",
    "А сейчас PPPPANDA, PPPAND, PPPPPPPANDA:"
   ]
  },
  {
   "cell_type": "code",
   "execution_count": null,
   "metadata": {},
   "outputs": [],
   "source": [
    "# PAAAANDA, PPPPANDA, LADDDNO (c) illumate & obladaet"
   ]
  },
  {
   "cell_type": "code",
   "execution_count": null,
   "metadata": {},
   "outputs": [],
   "source": [
    "# ДЛЯ КОЛИ!!!!!!!!!!!!!!!!!!!!!\n",
    "html1 = requests.get('https://lizaalert.org/forum/viewforum.php?f=184').content #url='google.com'\n",
    "sel1 = Selector(text=html1)\n",
    "course_as11 = sel1.xpath('//a[contains(@class,\"forumtitle\")]')\n",
    "print(course_as11)\n",
    "hrefs11_from_css = course_as11.css('::attr(href)')\n",
    "print(hrefs11_from_css.extract())\n",
    "hrefz = list()\n",
    "#print(\"\\\"https://lizaalert.org/forum\" + str(hrefs11_from_css.extract()[4])[1:] + \"\\\"\")\n",
    "for i in range(len(hrefs11_from_css.extract())):\n",
    "    clean_link1 = \"\\\"https://lizaalert.org/forum\" + str(hrefs11_from_css.extract()[i])[1:] + \"\\\"\"\n",
    "    hrefz.append(clean_link1)\n",
    "#for i in hrefs11_from_css.extract():\n",
    " #   hrefs11_from_css.extract()[i] = \"\\\"https://lizaalert.org/forum\" + str(hrefs11_from_css.extract()[i])[1:] + \"\\\"\"\n",
    "print(hrefz[0])"
   ]
  },
  {
   "cell_type": "code",
   "execution_count": null,
   "metadata": {},
   "outputs": [],
   "source": [
    "page_soup.findAll(\"div\", {\"class\":\"content\"})[0].contents"
   ]
  },
  {
   "cell_type": "code",
   "execution_count": null,
   "metadata": {},
   "outputs": [],
   "source": [
    "body_type(contents)"
   ]
  },
  {
   "cell_type": "code",
   "execution_count": null,
   "metadata": {},
   "outputs": [],
   "source": [
    "contents"
   ]
  },
  {
   "cell_type": "code",
   "execution_count": null,
   "metadata": {},
   "outputs": [],
   "source": [
    "container2"
   ]
  },
  {
   "cell_type": "code",
   "execution_count": null,
   "metadata": {},
   "outputs": [],
   "source": [
    "df1[\"Телосложение\"]"
   ]
  }
 ],
 "metadata": {
  "kernelspec": {
   "display_name": "Python 3",
   "language": "python",
   "name": "python3"
  },
  "language_info": {
   "codemirror_mode": {
    "name": "ipython",
    "version": 3
   },
   "file_extension": ".py",
   "mimetype": "text/x-python",
   "name": "python",
   "nbconvert_exporter": "python",
   "pygments_lexer": "ipython3",
   "version": "3.7.1"
  }
 },
 "nbformat": 4,
 "nbformat_minor": 2
}
