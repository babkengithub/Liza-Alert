{
 "cells": [
  {
   "cell_type": "code",
   "execution_count": 2,
   "metadata": {},
   "outputs": [],
   "source": [
    "import numpy as np\n",
    "import pandas as pd\n",
    "import re\n",
    "import bs4\n",
    "from urllib.request import urlopen as uReq\n",
    "from bs4 import BeautifulSoup as soup\n",
    "from scrapy import Selector\n",
    "from nltk import word_tokenize\n",
    "import nltk\n",
    "from datetime import datetime, time, date\n",
    "import scrapy\n",
    "from scrapy.selector import Selector\n",
    "import requests"
   ]
  },
  {
   "cell_type": "code",
   "execution_count": 3,
   "metadata": {},
   "outputs": [],
   "source": [
    "# ДЛЯ КОЛИ!!!!!!!!!!!!!!!!!!!!!\n",
    "import requests\n",
    "#ssylka = 'https://lizaalert.org/forum/viewforum.php?f=180'\n",
    "#ssylka = 'https://lizaalert.org/forum/viewforum.php?f=179'# центральный регион\n",
    "ssylka = 'https://lizaalert.org/forum/viewforum.php?f=184'\n",
    "html1 = requests.get(ssylka).content #url='google.com'\n",
    "sel1 = Selector(text=html1)\n",
    "course_as11 = sel1.xpath('//a[contains(@class,\"forumtitle\")]')\n",
    "hrefs11_from_css = course_as11.css('::attr(href)')\n",
    "\n",
    "\n",
    "hrefz = list()\n",
    "for i in range(len(hrefs11_from_css.extract())):\n",
    "    clean_link1 = \"https://lizaalert.org/forum\" + str(hrefs11_from_css.extract()[i])[1:]\n",
    "    hrefz.append(clean_link1)"
   ]
  },
  {
   "cell_type": "code",
   "execution_count": 4,
   "metadata": {},
   "outputs": [],
   "source": [
    "hrefzz = []\n",
    "for i in range(len(hrefz)):\n",
    "    html = requests.get(hrefz[i]).content #url='google.com'\n",
    "    selka = Selector(text=html)\n",
    "    course90 = selka.xpath('//a[contains(@class,\"forumtitle\")]')\n",
    "    hrefs90_from_css = course90.css('::attr(href)')\n",
    "    for i in range(len(hrefs90_from_css.extract())):\n",
    "        clean_link11 = \"https://lizaalert.org/forum\" + str(hrefs90_from_css.extract()[i])[1:]\n",
    "        hrefzz.append(clean_link1)\n",
    "for i in range(len(hrefz)):\n",
    "    hrefzz.append(hrefz[i])\n",
    "# Import requests\n",
    "import requests\n",
    "\n",
    "list_of_all_pages = list()\n",
    "# Create the string html containing the HTML source\n",
    "for i in range(len(hrefz)):\n",
    "    html = requests.get(hrefz[i]).content #url='google.com'\n",
    "    sel = Selector(text=html)\n",
    "\n",
    "\n",
    "    uClient = uReq(hrefz[i])\n",
    "    page_html = uClient.read()\n",
    "    uClient.close()\n",
    "    page_soup = soup(page_html, \"html.parser\")\n",
    "    containers2 = page_soup.findAll(\"div\", {\"class\":\"pagination\"})\n",
    "    containers22 = str(containers2)\n",
    "\n",
    "    def page12(containers22):\n",
    "        page1 = list()\n",
    "        c = containers22.find(\"из \")\n",
    "        page1.append(containers22[c+11])\n",
    "        page1.append(containers22[c+12])\n",
    "        if containers22[c+12] == \"<\":\n",
    "            page1.pop()\n",
    "        return page1\n",
    "\n",
    "    if len(page12(containers22)) == 2:\n",
    "        page_real = int(page12(containers22)[0] + page12(containers22)[1])\n",
    "    else:\n",
    "        page_real = int(page12(containers22)[0])\n",
    "\n",
    "    # Парсим\n",
    "    course_as = sel.xpath('//a[contains(@class,\"right-box right\")]')\n",
    "    hrefs_from_css = course_as.css('::attr(href)')\n",
    "    \n",
    "    if len(str(hrefs_from_css.extract())[1:]) == 1:\n",
    "        links_to_follow = ssylka\n",
    "        clean_link = ssylka\n",
    "    else:\n",
    "        links_to_follow = \"\\\"https://lizaalert.org/forum\" + str(hrefs_from_css.extract()[0])[1:] + \"\\\"\"\n",
    "        clean_link = str(hrefs_from_css.extract()[0])[1:len(hrefs_from_css.extract()[0])-2]\n",
    "    list_links = list()\n",
    "    for i in range((page_real)-1):\n",
    "        list_links.append(clean_link)\n",
    "\n",
    "    #За 500 надо пояснить! Но это вроде несложно\n",
    "    i=0\n",
    "    list1 = list()\n",
    "    for i in range(0,(page_real-1)*25, 25):\n",
    "        i = i + 25\n",
    "        list1.append(i)\n",
    "\n",
    "    result = [str(item) for item in list1]\n",
    "\n",
    "    for i in range(len(list1)):\n",
    "        list_links[i] += result[i]\n",
    "\n",
    "    for i in range(len(list_links)):\n",
    "        list_links[i] = \"https://lizaalert.org/forum\" + list_links[i]\n",
    "    list_of_all_pages.append(list_links)"
   ]
  },
  {
   "cell_type": "code",
   "execution_count": 5,
   "metadata": {},
   "outputs": [
    {
     "name": "stdout",
     "output_type": "stream",
     "text": [
      "3\n"
     ]
    }
   ],
   "source": [
    "print(len(list_of_all_pages))\n",
    "listSYKA = list()\n",
    "for i in range(len(list_of_all_pages)):\n",
    "    for j in range(len(list_of_all_pages[i])):\n",
    "        listSYKA.append(list_of_all_pages[i][j])\n",
    "\n",
    "for j in range(len(hrefz)):\n",
    "    listSYKA.append(hrefz[j])\n",
    "listSYKA.append(ssylka)"
   ]
  },
  {
   "cell_type": "code",
   "execution_count": 6,
   "metadata": {},
   "outputs": [
    {
     "name": "stdout",
     "output_type": "stream",
     "text": [
      "114\n"
     ]
    }
   ],
   "source": [
    "list_full = list()\n",
    "for i in range(len(listSYKA)):\n",
    "    #html = requests.get(list_links[i]).content #url='google.com'\n",
    "    html = requests.get(listSYKA[i]).content #url='google.com'\n",
    "    sel = Selector(text=html)\n",
    "\n",
    "    course_as1 = sel.css('a.topictitle')\n",
    "    hrefs1_from_css = course_as1.css('::attr(href)')\n",
    "\n",
    "    list0 = list()\n",
    "    for i in range(0, len(hrefs1_from_css.extract())):\n",
    "        list0.append(\"https://lizaalert.org/forum\" + str(hrefs1_from_css.extract()[i])[1:])\n",
    "        list_full.append(list0[i])\n",
    "#print(list_full)\n",
    "print(len(list_full))"
   ]
  },
  {
   "cell_type": "code",
   "execution_count": 7,
   "metadata": {},
   "outputs": [],
   "source": [
    "my_list = list_full"
   ]
  },
  {
   "cell_type": "code",
   "execution_count": 8,
   "metadata": {},
   "outputs": [],
   "source": [
    "def lost_timing(x, y):\n",
    "    if re.search(r'\\d+ \\w+ \\d{4}|\\d{2}[.]\\d{2}[.]\\d{4}', x) == None:\n",
    "        if re.search(r'\\d+\\s\\w+\\s\\d+', y) != None:\n",
    "            lost_time = re.search(r'\\d+\\s\\w+\\s\\d+', y).group()\n",
    "            lts = lost_time.split()\n",
    "            lts[1] = months_num[lts[1][:3]]\n",
    "            lts = list(map(int, lts))\n",
    "            lost_time = date(lts[-1], lts[-2], lts[-3])\n",
    "            return lost_time\n",
    "        else:\n",
    "            return \"Сбой\"\n",
    "    else:\n",
    "        lost_time = re.search(r'\\d+ \\w+ \\d{4}|\\d{2}[.]\\d{2}[.]\\d{4}', x).group()\n",
    "        if \"я\" in lost_time or \"т\" in lost_time:\n",
    "            lts = lost_time.split()\n",
    "            lts[1] = months_num[lts[1][:3]]\n",
    "            lts = list(map(int, lts))\n",
    "            lost_time = date(lts[-1], lts[-2], lts[-3])\n",
    "            return lost_time\n",
    "        else:\n",
    "            lts = lost_time.split('.')\n",
    "            lts = list(map(int, lts))\n",
    "            lost_time = date(lts[-1], lts[-2], lts[-3])\n",
    "            return lost_time"
   ]
  },
  {
   "cell_type": "code",
   "execution_count": 9,
   "metadata": {},
   "outputs": [],
   "source": [
    "def find_timing(x, y):\n",
    "    if re.search(r'\\d+ \\w+ \\d{4}|\\d{2}[.]\\d{2}[.]\\d{4}', x) == None:\n",
    "        if re.search(r'\\d+\\s\\w+\\s\\d{4}', y) != None:\n",
    "            find_time = re.search(r'\\d+\\s\\w+\\s\\d{4}', y).group()\n",
    "            fts = find_time.split()\n",
    "            fts[1] = months_num[fts[1]]\n",
    "            fts = list(map(int, fts))\n",
    "            find_time = date(fts[-1], fts[-2], fts[-3])\n",
    "            return find_time\n",
    "        else:\n",
    "            return \"Сбой\"\n",
    "    else:\n",
    "        find_time = re.search(r'\\d+ \\w+ \\d{4}|\\d{2}[.]\\d{2}[.]\\d{4}', x).group()\n",
    "        fts = find_time.split()\n",
    "        fts[1] = months_num[fts[1]]\n",
    "        fts = list(map(int, fts))\n",
    "        find_time = date(fts[-1], fts[-2], fts[-3])\n",
    "        return find_time"
   ]
  },
  {
   "cell_type": "code",
   "execution_count": 10,
   "metadata": {},
   "outputs": [],
   "source": [
    "def search_timing(x, y, babken, slava):\n",
    "    return (find_timing(y, slava) - lost_timing(x, babken)).days"
   ]
  },
  {
   "cell_type": "code",
   "execution_count": 11,
   "metadata": {},
   "outputs": [],
   "source": [
    "def super_format(function, x, y):\n",
    "    if len(str(function(x, y).day)) == 1:\n",
    "        day = \"0\" + str(function(x, y).day)\n",
    "    else:\n",
    "        day = str(function(x, y).day)\n",
    "    if len(str(function(x, y).month)) == 1:\n",
    "        month = \"0\" + str(function(x, y).month)\n",
    "    else:\n",
    "        month = str(function(x, y).month)\n",
    "    return day + \".\" + month + \".\" + str(function(x, y).year)"
   ]
  },
  {
   "cell_type": "code",
   "execution_count": 20,
   "metadata": {},
   "outputs": [],
   "source": [
    "list_search_time = []\n",
    "list_lost_time = []\n",
    "list_find_time = []\n",
    "list_month = []\n",
    "list_year = []\n",
    "match_months = {'01': 'Январь', '02': ' Февраль', '03': 'Март', '04': 'Апрель', '05': 'Май', '06': 'Июнь', '07': 'Июль', '08': 'Август', '09': 'Сентябрь', '10': 'Октябрь', '11': 'Ноябрь', '12': 'Декабрь'}\n",
    "months_num = {\"янв\": 1, \"фев\": 2, \"мар\": 3,\"апр\": 4,\"мая\": 5, \"май\": 5,\"июн\": 6,\"июл\": 7,\"авг\": 8,\"сен\": 9,\"окт\": 10,\"ноя\": 11,\"дек\": 12}"
   ]
  },
  {
   "cell_type": "code",
   "execution_count": 21,
   "metadata": {},
   "outputs": [],
   "source": [
    "for i in my_list:\n",
    "    my_url = i\n",
    "    vanya_url = requests.get(my_url).content\n",
    "    vanya_selector = Selector(text=vanya_url)\n",
    "    uClient = uReq(my_url)\n",
    "    page_html = uClient.read()\n",
    "    uClient.close()\n",
    "    page_soup = soup(page_html, \"html.parser\")\n",
    "    babken = page_soup.find('p', {'class': 'author'}).text\n",
    "    if vanya_selector.xpath('//p[@class=\"author\"]/text()').extract_first() != None:\n",
    "        juk_slava = vanya_selector.xpath('//p[@class=\"author\"]/text()').extract()[-1]\n",
    "    else:\n",
    "        juk_slava = 'Сбой'\n",
    "    if vanya_selector.xpath('//div[@class=\"content\"]/text()').extract_first() != None:\n",
    "        main = vanya_selector.xpath('//div[@class=\"content\"]/text()').extract_first()\n",
    "    else:\n",
    "        main = \"Сбой\"\n",
    "    if lost_timing(main, babken) != \"Сбой\":\n",
    "        list_lost_time.append(super_format(lost_timing, main, babken))\n",
    "    else:\n",
    "        list_lost_time.append(\"Ошибка\")\n",
    "        \n",
    "    if vanya_selector.xpath('//div[@class=\"notice\"]/text()').extract_first() != None:\n",
    "        notmain = vanya_selector.xpath('//div[@class=\"notice\"]/text()').extract()[1]\n",
    "    else:\n",
    "        notmain = \"Сбой\"\n",
    "    if find_timing(notmain, juk_slava) != \"Сбой\":\n",
    "            list_find_time.append(super_format(find_timing, notmain, juk_slava))\n",
    "    else:\n",
    "        list_find_time.append(\"Ошибка\")\n",
    "\n",
    "        \n",
    "        \n",
    "    if lost_timing(main, babken) != \"Сбой\" and find_timing(notmain, juk_slava) != \"Сбой\":\n",
    "        list_search_time.append(search_timing(main, notmain, babken, juk_slava))\n",
    "    else:\n",
    "        list_search_time.append(\"Ошибка\")\n",
    "        \n",
    "    list_month.append(match_months[super_format(lost_timing, main, babken)[3:5]])\n",
    "    list_year.append(super_format(lost_timing, main, babken)[-4:])\n"
   ]
  },
  {
   "cell_type": "code",
   "execution_count": null,
   "metadata": {},
   "outputs": [],
   "source": [
    "my_list[5]"
   ]
  },
  {
   "cell_type": "code",
   "execution_count": null,
   "metadata": {},
   "outputs": [],
   "source": [
    "i"
   ]
  },
  {
   "cell_type": "code",
   "execution_count": null,
   "metadata": {},
   "outputs": [],
   "source": [
    "my_list.index(i)"
   ]
  },
  {
   "cell_type": "code",
   "execution_count": null,
   "metadata": {},
   "outputs": [],
   "source": [
    "page_soup.find()"
   ]
  },
  {
   "cell_type": "code",
   "execution_count": 14,
   "metadata": {},
   "outputs": [
    {
     "data": {
      "text/plain": [
       "0.0"
      ]
     },
     "execution_count": 14,
     "metadata": {},
     "output_type": "execute_result"
    }
   ],
   "source": [
    "list_search_time.count('Ошибка')/ len(list_search_time)"
   ]
  },
  {
   "cell_type": "code",
   "execution_count": 15,
   "metadata": {},
   "outputs": [
    {
     "data": {
      "text/plain": [
       "0.0"
      ]
     },
     "execution_count": 15,
     "metadata": {},
     "output_type": "execute_result"
    }
   ],
   "source": [
    "list_find_time.count(\"Ошибка\")/ len(list_find_time)"
   ]
  },
  {
   "cell_type": "code",
   "execution_count": 16,
   "metadata": {},
   "outputs": [
    {
     "data": {
      "text/plain": [
       "0"
      ]
     },
     "execution_count": 16,
     "metadata": {},
     "output_type": "execute_result"
    }
   ],
   "source": [
    "list_lost_time.count('Ошибка')"
   ]
  },
  {
   "cell_type": "code",
   "execution_count": null,
   "metadata": {},
   "outputs": [],
   "source": [
    "list_lost_time[:10]"
   ]
  },
  {
   "cell_type": "code",
   "execution_count": null,
   "metadata": {},
   "outputs": [],
   "source": [
    "list_find_time"
   ]
  },
  {
   "cell_type": "code",
   "execution_count": null,
   "metadata": {},
   "outputs": [],
   "source": [
    "my_list[-2]"
   ]
  },
  {
   "cell_type": "code",
   "execution_count": null,
   "metadata": {},
   "outputs": [],
   "source": [
    "my_list[100]"
   ]
  },
  {
   "cell_type": "code",
   "execution_count": 17,
   "metadata": {},
   "outputs": [
    {
     "data": {
      "text/plain": [
       "'Сбой'"
      ]
     },
     "execution_count": 17,
     "metadata": {},
     "output_type": "execute_result"
    }
   ],
   "source": [
    "main"
   ]
  },
  {
   "cell_type": "code",
   "execution_count": 18,
   "metadata": {},
   "outputs": [
    {
     "data": {
      "text/plain": [
       "'https://lizaalert.org/forum/viewtopic.php?f=184&t=4276&sid=677c225e472ea5b080951f5a1a743624'"
      ]
     },
     "execution_count": 18,
     "metadata": {},
     "output_type": "execute_result"
    }
   ],
   "source": [
    "i\n"
   ]
  },
  {
   "cell_type": "code",
   "execution_count": 23,
   "metadata": {},
   "outputs": [
    {
     "data": {
      "text/plain": [
       "[]"
      ]
     },
     "execution_count": 23,
     "metadata": {},
     "output_type": "execute_result"
    }
   ],
   "source": [
    "vanya_selector.xpath('//p[@class=\"author\"]').extract()"
   ]
  },
  {
   "cell_type": "code",
   "execution_count": 31,
   "metadata": {},
   "outputs": [
    {
     "data": {
      "text/plain": [
       "[0, 176, 0, -23, 81, 1, 72, 6, 1, 6]"
      ]
     },
     "execution_count": 31,
     "metadata": {},
     "output_type": "execute_result"
    }
   ],
   "source": [
    "list_search_time[:10]"
   ]
  },
  {
   "cell_type": "code",
   "execution_count": 32,
   "metadata": {},
   "outputs": [
    {
     "data": {
      "text/plain": [
       "'https://lizaalert.org/forum/viewtopic.php?f=173&t=24353&sid=bb623adad069bf2f61ec4e1d8fffa4f7'"
      ]
     },
     "execution_count": 32,
     "metadata": {},
     "output_type": "execute_result"
    }
   ],
   "source": [
    "my_list[3]"
   ]
  },
  {
   "cell_type": "code",
   "execution_count": 19,
   "metadata": {
    "scrolled": true
   },
   "outputs": [
    {
     "data": {
      "text/plain": [
       "'2019'"
      ]
     },
     "execution_count": 19,
     "metadata": {},
     "output_type": "execute_result"
    }
   ],
   "source": [
    "list_lost_time[10][-4:]"
   ]
  },
  {
   "cell_type": "code",
   "execution_count": 22,
   "metadata": {},
   "outputs": [
    {
     "data": {
      "text/plain": [
       "['Март',\n",
       " 'Август',\n",
       " ' Февраль',\n",
       " 'Март',\n",
       " 'Ноябрь',\n",
       " 'Январь',\n",
       " 'Ноябрь',\n",
       " 'Январь',\n",
       " 'Январь',\n",
       " 'Январь',\n",
       " 'Январь',\n",
       " 'Декабрь',\n",
       " 'Декабрь',\n",
       " 'Август',\n",
       " 'Декабрь',\n",
       " 'Декабрь',\n",
       " 'Ноябрь',\n",
       " 'Ноябрь',\n",
       " 'Ноябрь',\n",
       " 'Октябрь',\n",
       " 'Октябрь',\n",
       " 'Октябрь',\n",
       " 'Сентябрь',\n",
       " 'Сентябрь',\n",
       " 'Октябрь',\n",
       " 'Сентябрь',\n",
       " 'Март',\n",
       " 'Август',\n",
       " 'Март',\n",
       " 'Май',\n",
       " 'Апрель',\n",
       " 'Январь',\n",
       " 'Март',\n",
       " ' Февраль',\n",
       " 'Январь',\n",
       " 'Сентябрь',\n",
       " 'Ноябрь',\n",
       " 'Январь',\n",
       " 'Январь',\n",
       " 'Ноябрь',\n",
       " 'Октябрь',\n",
       " 'Октябрь',\n",
       " 'Сентябрь',\n",
       " 'Август',\n",
       " 'Май',\n",
       " 'Май',\n",
       " 'Июль',\n",
       " 'Апрель',\n",
       " 'Июль',\n",
       " 'Май',\n",
       " 'Июль',\n",
       " 'Апрель',\n",
       " 'Март',\n",
       " 'Июнь',\n",
       " 'Июнь',\n",
       " 'Июнь',\n",
       " 'Июнь',\n",
       " 'Май',\n",
       " 'Май',\n",
       " 'Апрель',\n",
       " 'Апрель',\n",
       " 'Апрель',\n",
       " 'Апрель',\n",
       " ' Февраль',\n",
       " 'Март',\n",
       " 'Апрель',\n",
       " 'Март',\n",
       " ' Февраль',\n",
       " ' Февраль',\n",
       " 'Сентябрь',\n",
       " 'Март',\n",
       " 'Май',\n",
       " 'Май',\n",
       " 'Май',\n",
       " 'Апрель',\n",
       " 'Апрель',\n",
       " 'Декабрь',\n",
       " 'Июнь',\n",
       " 'Май',\n",
       " 'Март',\n",
       " 'Май',\n",
       " 'Май',\n",
       " 'Май',\n",
       " 'Май',\n",
       " 'Май',\n",
       " 'Май',\n",
       " 'Апрель',\n",
       " 'Март',\n",
       " 'Май',\n",
       " 'Апрель',\n",
       " 'Апрель',\n",
       " ' Февраль',\n",
       " 'Январь',\n",
       " 'Апрель',\n",
       " ' Февраль',\n",
       " ' Февраль',\n",
       " 'Март',\n",
       " 'Март',\n",
       " 'Март',\n",
       " 'Март',\n",
       " ' Февраль',\n",
       " ' Февраль',\n",
       " 'Июль',\n",
       " ' Февраль',\n",
       " ' Февраль',\n",
       " 'Март',\n",
       " 'Декабрь',\n",
       " 'Март',\n",
       " 'Апрель',\n",
       " 'Январь',\n",
       " 'Сентябрь',\n",
       " 'Март',\n",
       " 'Август',\n",
       " 'Март']"
      ]
     },
     "execution_count": 22,
     "metadata": {},
     "output_type": "execute_result"
    }
   ],
   "source": [
    "list_month"
   ]
  },
  {
   "cell_type": "code",
   "execution_count": 23,
   "metadata": {},
   "outputs": [
    {
     "data": {
      "text/plain": [
       "['2016',\n",
       " '2018',\n",
       " '2019',\n",
       " '2019',\n",
       " '2018',\n",
       " '2019',\n",
       " '2018',\n",
       " '2019',\n",
       " '2019',\n",
       " '2019',\n",
       " '2019',\n",
       " '2018',\n",
       " '2018',\n",
       " '2018',\n",
       " '2018',\n",
       " '2018',\n",
       " '2018',\n",
       " '2018',\n",
       " '2018',\n",
       " '2018',\n",
       " '2018',\n",
       " '2018',\n",
       " '2018',\n",
       " '2018',\n",
       " '2018',\n",
       " '2018',\n",
       " '2016',\n",
       " '2018',\n",
       " '2018',\n",
       " '2018',\n",
       " '2018',\n",
       " '2018',\n",
       " '2018',\n",
       " '2018',\n",
       " '2018',\n",
       " '2017',\n",
       " '2013',\n",
       " '2014',\n",
       " '2014',\n",
       " '2013',\n",
       " '2013',\n",
       " '2013',\n",
       " '2013',\n",
       " '2013',\n",
       " '2013',\n",
       " '2013',\n",
       " '2013',\n",
       " '2013',\n",
       " '2013',\n",
       " '2013',\n",
       " '2013',\n",
       " '2013',\n",
       " '2016',\n",
       " '2013',\n",
       " '2013',\n",
       " '2013',\n",
       " '2013',\n",
       " '2013',\n",
       " '2013',\n",
       " '2001',\n",
       " '2013',\n",
       " '2013',\n",
       " '2013',\n",
       " '1976',\n",
       " '2013',\n",
       " '2013',\n",
       " '2013',\n",
       " '2013',\n",
       " '2013',\n",
       " '2012',\n",
       " '2016',\n",
       " '2019',\n",
       " '2019',\n",
       " '2019',\n",
       " '2019',\n",
       " '2019',\n",
       " '2018',\n",
       " '2017',\n",
       " '2014',\n",
       " '2016',\n",
       " '2019',\n",
       " '2019',\n",
       " '2019',\n",
       " '2019',\n",
       " '2019',\n",
       " '2019',\n",
       " '2019',\n",
       " '2019',\n",
       " '2019',\n",
       " '2019',\n",
       " '2019',\n",
       " '2019',\n",
       " '2019',\n",
       " '2019',\n",
       " '2019',\n",
       " '2019',\n",
       " '2019',\n",
       " '2019',\n",
       " '2019',\n",
       " '2019',\n",
       " '2019',\n",
       " '2019',\n",
       " '2012',\n",
       " '2019',\n",
       " '2019',\n",
       " '2016',\n",
       " '2018',\n",
       " '2016',\n",
       " '2019',\n",
       " '2019',\n",
       " '2017',\n",
       " '2014',\n",
       " '2013',\n",
       " '2013']"
      ]
     },
     "execution_count": 23,
     "metadata": {},
     "output_type": "execute_result"
    }
   ],
   "source": [
    "list_year"
   ]
  },
  {
   "cell_type": "code",
   "execution_count": null,
   "metadata": {},
   "outputs": [],
   "source": []
  }
 ],
 "metadata": {
  "kernelspec": {
   "display_name": "Python 3",
   "language": "python",
   "name": "python3"
  },
  "language_info": {
   "codemirror_mode": {
    "name": "ipython",
    "version": 3
   },
   "file_extension": ".py",
   "mimetype": "text/x-python",
   "name": "python",
   "nbconvert_exporter": "python",
   "pygments_lexer": "ipython3",
   "version": "3.7.1"
  }
 },
 "nbformat": 4,
 "nbformat_minor": 2
}
