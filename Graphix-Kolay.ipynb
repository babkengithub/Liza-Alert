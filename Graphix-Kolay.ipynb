{
 "cells": [
  {
   "cell_type": "code",
   "execution_count": 1,
   "metadata": {},
   "outputs": [],
   "source": [
    "import pandas as pd\n",
    "import seaborn as sns\n",
    "import numpy as np\n",
    "pd.set_option('display.max_colwidth', -1)\n",
    "pd.set_option('display.max_rows', 1000)\n",
    "pd.set_option(\"display.max_columns\", 1000)\n",
    "from numpy import median\n",
    "from numpy import mean\n",
    "import matplotlib.pyplot as plt"
   ]
  },
  {
   "cell_type": "code",
   "execution_count": 2,
   "metadata": {
    "scrolled": true
   },
   "outputs": [
    {
     "data": {
      "text/html": [
       "<div>\n",
       "<style scoped>\n",
       "    .dataframe tbody tr th:only-of-type {\n",
       "        vertical-align: middle;\n",
       "    }\n",
       "\n",
       "    .dataframe tbody tr th {\n",
       "        vertical-align: top;\n",
       "    }\n",
       "\n",
       "    .dataframe thead th {\n",
       "        text-align: right;\n",
       "    }\n",
       "</style>\n",
       "<table border=\"1\" class=\"dataframe\">\n",
       "  <thead>\n",
       "    <tr style=\"text-align: right;\">\n",
       "      <th></th>\n",
       "      <th>Unnamed: 0</th>\n",
       "      <th>Готовые</th>\n",
       "      <th>Искатели</th>\n",
       "      <th>Сила искателей</th>\n",
       "      <th>Репосты_вк</th>\n",
       "      <th>Репосты_одн</th>\n",
       "      <th>Возраст</th>\n",
       "      <th>Рост</th>\n",
       "      <th>Мед. Состояние</th>\n",
       "      <th>Фото</th>\n",
       "      <th>Посты</th>\n",
       "      <th>Гендер</th>\n",
       "      <th>Состояние</th>\n",
       "      <th>Цвет волос</th>\n",
       "      <th>Телосложение</th>\n",
       "      <th>Цвет глаз</th>\n",
       "      <th>Одежда_ярк</th>\n",
       "      <th>Одежда_колво</th>\n",
       "      <th>Приметы_колво</th>\n",
       "      <th>Время поиска</th>\n",
       "      <th>Время пропажи</th>\n",
       "      <th>Время нахождения</th>\n",
       "      <th>Координаты пропажи</th>\n",
       "      <th>url_tracks</th>\n",
       "      <th>km</th>\n",
       "      <th>teams</th>\n",
       "      <th>date1</th>\n",
       "      <th>date2</th>\n",
       "      <th>delta_dates</th>\n",
       "      <th>Месяц</th>\n",
       "      <th>Год</th>\n",
       "      <th>Регион</th>\n",
       "      <th>День недели</th>\n",
       "      <th>Сезон</th>\n",
       "      <th>Локация</th>\n",
       "    </tr>\n",
       "  </thead>\n",
       "  <tbody>\n",
       "    <tr>\n",
       "      <th>0</th>\n",
       "      <td>0</td>\n",
       "      <td>0</td>\n",
       "      <td>4</td>\n",
       "      <td>0</td>\n",
       "      <td>0</td>\n",
       "      <td>0</td>\n",
       "      <td>80</td>\n",
       "      <td>170</td>\n",
       "      <td>здоров</td>\n",
       "      <td>присутствует</td>\n",
       "      <td>3</td>\n",
       "      <td>Мужчина</td>\n",
       "      <td>ищется</td>\n",
       "      <td>-</td>\n",
       "      <td>худ</td>\n",
       "      <td>зеленые</td>\n",
       "      <td>Не указано</td>\n",
       "      <td>0</td>\n",
       "      <td>0</td>\n",
       "      <td>1012</td>\n",
       "      <td>21.08.2013</td>\n",
       "      <td>29.05.2016</td>\n",
       "      <td>0.0</td>\n",
       "      <td>0</td>\n",
       "      <td>0</td>\n",
       "      <td>0</td>\n",
       "      <td>0</td>\n",
       "      <td>0</td>\n",
       "      <td>0.0</td>\n",
       "      <td>Август</td>\n",
       "      <td>2013</td>\n",
       "      <td>Белоруссия</td>\n",
       "      <td>Среда</td>\n",
       "      <td>Лето</td>\n",
       "      <td>город</td>\n",
       "    </tr>\n",
       "    <tr>\n",
       "      <th>1</th>\n",
       "      <td>1</td>\n",
       "      <td>0</td>\n",
       "      <td>2</td>\n",
       "      <td>0</td>\n",
       "      <td>1</td>\n",
       "      <td>0</td>\n",
       "      <td>14</td>\n",
       "      <td>160</td>\n",
       "      <td>здоров</td>\n",
       "      <td>присутствует</td>\n",
       "      <td>7</td>\n",
       "      <td>Женщина</td>\n",
       "      <td>ищется</td>\n",
       "      <td>русые</td>\n",
       "      <td>-</td>\n",
       "      <td>голубые</td>\n",
       "      <td>Не указано</td>\n",
       "      <td>Не указано</td>\n",
       "      <td>Не указано</td>\n",
       "      <td>5403</td>\n",
       "      <td>15.01.1999</td>\n",
       "      <td>31.10.2013</td>\n",
       "      <td>0.0</td>\n",
       "      <td>0</td>\n",
       "      <td>0</td>\n",
       "      <td>0</td>\n",
       "      <td>0</td>\n",
       "      <td>0</td>\n",
       "      <td>0.0</td>\n",
       "      <td>Январь</td>\n",
       "      <td>1999</td>\n",
       "      <td>Белоруссия</td>\n",
       "      <td>Пятница</td>\n",
       "      <td>Зима</td>\n",
       "      <td>город</td>\n",
       "    </tr>\n",
       "    <tr>\n",
       "      <th>2</th>\n",
       "      <td>2</td>\n",
       "      <td>0</td>\n",
       "      <td>0</td>\n",
       "      <td>0</td>\n",
       "      <td>0</td>\n",
       "      <td>0</td>\n",
       "      <td>48</td>\n",
       "      <td>178</td>\n",
       "      <td>здоров</td>\n",
       "      <td>присутствует</td>\n",
       "      <td>1</td>\n",
       "      <td>Er</td>\n",
       "      <td>Не указано</td>\n",
       "      <td>серые</td>\n",
       "      <td>норм</td>\n",
       "      <td>Не указано</td>\n",
       "      <td>Не указано</td>\n",
       "      <td>Не указано</td>\n",
       "      <td>Не указано</td>\n",
       "      <td>0</td>\n",
       "      <td>31.10.2013</td>\n",
       "      <td>31.10.2013</td>\n",
       "      <td>0.0</td>\n",
       "      <td>0</td>\n",
       "      <td>0</td>\n",
       "      <td>0</td>\n",
       "      <td>0</td>\n",
       "      <td>0</td>\n",
       "      <td>0.0</td>\n",
       "      <td>Октябрь</td>\n",
       "      <td>2013</td>\n",
       "      <td>Белоруссия</td>\n",
       "      <td>Четверг</td>\n",
       "      <td>Осень</td>\n",
       "      <td>город</td>\n",
       "    </tr>\n",
       "    <tr>\n",
       "      <th>3</th>\n",
       "      <td>3</td>\n",
       "      <td>0</td>\n",
       "      <td>2</td>\n",
       "      <td>0</td>\n",
       "      <td>0</td>\n",
       "      <td>0</td>\n",
       "      <td>69</td>\n",
       "      <td>180</td>\n",
       "      <td>здоров</td>\n",
       "      <td>присутствует</td>\n",
       "      <td>2</td>\n",
       "      <td>Мужчина</td>\n",
       "      <td>мертвый</td>\n",
       "      <td>Не указано</td>\n",
       "      <td>-</td>\n",
       "      <td>серые</td>\n",
       "      <td>Не указано</td>\n",
       "      <td>Не указано</td>\n",
       "      <td>Не указано</td>\n",
       "      <td>23294</td>\n",
       "      <td>21.01.1950</td>\n",
       "      <td>31.10.2013</td>\n",
       "      <td>0.0</td>\n",
       "      <td>0</td>\n",
       "      <td>0</td>\n",
       "      <td>0</td>\n",
       "      <td>0</td>\n",
       "      <td>0</td>\n",
       "      <td>0.0</td>\n",
       "      <td>Январь</td>\n",
       "      <td>1950</td>\n",
       "      <td>Белоруссия</td>\n",
       "      <td>Суббота</td>\n",
       "      <td>Зима</td>\n",
       "      <td>город</td>\n",
       "    </tr>\n",
       "    <tr>\n",
       "      <th>4</th>\n",
       "      <td>4</td>\n",
       "      <td>0</td>\n",
       "      <td>5</td>\n",
       "      <td>0</td>\n",
       "      <td>0</td>\n",
       "      <td>0</td>\n",
       "      <td>26</td>\n",
       "      <td>173</td>\n",
       "      <td>здоров</td>\n",
       "      <td>присутствует</td>\n",
       "      <td>6</td>\n",
       "      <td>Мужчина</td>\n",
       "      <td>мертвый</td>\n",
       "      <td>русые</td>\n",
       "      <td>-</td>\n",
       "      <td>зеленые</td>\n",
       "      <td>Не указано</td>\n",
       "      <td>Не указано</td>\n",
       "      <td>Не указано</td>\n",
       "      <td>9698</td>\n",
       "      <td>13.04.1987</td>\n",
       "      <td>31.10.2013</td>\n",
       "      <td>0.0</td>\n",
       "      <td>0</td>\n",
       "      <td>0</td>\n",
       "      <td>0</td>\n",
       "      <td>0</td>\n",
       "      <td>0</td>\n",
       "      <td>0.0</td>\n",
       "      <td>Апрель</td>\n",
       "      <td>1987</td>\n",
       "      <td>Белоруссия</td>\n",
       "      <td>Понедельник</td>\n",
       "      <td>Весна</td>\n",
       "      <td>город</td>\n",
       "    </tr>\n",
       "  </tbody>\n",
       "</table>\n",
       "</div>"
      ],
      "text/plain": [
       "   Unnamed: 0  Готовые  Искатели  Сила искателей  Репосты_вк  Репосты_одн  \\\n",
       "0  0           0        4         0               0           0             \n",
       "1  1           0        2         0               1           0             \n",
       "2  2           0        0         0               0           0             \n",
       "3  3           0        2         0               0           0             \n",
       "4  4           0        5         0               0           0             \n",
       "\n",
       "   Возраст  Рост Мед. Состояние          Фото  Посты   Гендер   Состояние  \\\n",
       "0  80       170   здоров         присутствует  3      Мужчина  ищется       \n",
       "1  14       160   здоров         присутствует  7      Женщина  ищется       \n",
       "2  48       178   здоров         присутствует  1      Er       Не указано   \n",
       "3  69       180   здоров         присутствует  2      Мужчина  мертвый      \n",
       "4  26       173   здоров         присутствует  6      Мужчина  мертвый      \n",
       "\n",
       "   Цвет волос Телосложение   Цвет глаз  Одежда_ярк Одежда_колво Приметы_колво  \\\n",
       "0  -           худ          зеленые     Не указано  0            0              \n",
       "1  русые       -            голубые     Не указано  Не указано   Не указано     \n",
       "2  серые       норм         Не указано  Не указано  Не указано   Не указано     \n",
       "3  Не указано  -            серые       Не указано  Не указано   Не указано     \n",
       "4  русые       -            зеленые     Не указано  Не указано   Не указано     \n",
       "\n",
       "   Время поиска Время пропажи Время нахождения  Координаты пропажи url_tracks  \\\n",
       "0  1012          21.08.2013    29.05.2016       0.0                 0           \n",
       "1  5403          15.01.1999    31.10.2013       0.0                 0           \n",
       "2  0             31.10.2013    31.10.2013       0.0                 0           \n",
       "3  23294         21.01.1950    31.10.2013       0.0                 0           \n",
       "4  9698          13.04.1987    31.10.2013       0.0                 0           \n",
       "\n",
       "   km  teams date1 date2  delta_dates    Месяц   Год      Регион  День недели  \\\n",
       "0  0   0      0     0     0.0          Август   2013  Белоруссия  Среда         \n",
       "1  0   0      0     0     0.0          Январь   1999  Белоруссия  Пятница       \n",
       "2  0   0      0     0     0.0          Октябрь  2013  Белоруссия  Четверг       \n",
       "3  0   0      0     0     0.0          Январь   1950  Белоруссия  Суббота       \n",
       "4  0   0      0     0     0.0          Апрель   1987  Белоруссия  Понедельник   \n",
       "\n",
       "   Сезон Локация  \n",
       "0  Лето   город   \n",
       "1  Зима   город   \n",
       "2  Осень  город   \n",
       "3  Зима   город   \n",
       "4  Весна  город   "
      ]
     },
     "execution_count": 2,
     "metadata": {},
     "output_type": "execute_result"
    }
   ],
   "source": [
    "df = pd.read_excel('Dataset_final.xlsx')\n",
    "df.head()"
   ]
  },
  {
   "cell_type": "markdown",
   "metadata": {},
   "source": [
    "## Блок 1"
   ]
  },
  {
   "cell_type": "code",
   "execution_count": 3,
   "metadata": {},
   "outputs": [],
   "source": [
    "df = df[df['Год'] > 2010]\n",
    "df = df[df['Год'] < 2019]\n",
    "df = df[df[\"Время поиска\"] < 90]\n",
    "df = df[df[\"Время поиска\"] > 0]\n",
    "df = df[df[\"Одежда_колво\"] != 'Не указано']\n",
    "df = df[df[\"Приметы_колво\"] != 'Не указано']\n",
    "df = df[df[\"Состояние\"] != 'Не указано']\n",
    "df = df.rename(columns={'Состояние': 'Исход поиска', 'Репосты_вк': 'Репосты в вк (среднее)','Репосты_одн': 'Репосты в одн (среднее)'})"
   ]
  },
  {
   "cell_type": "code",
   "execution_count": 4,
   "metadata": {},
   "outputs": [],
   "source": [
    "df = df[df[\"Одежда_колво\"] > 0]"
   ]
  },
  {
   "cell_type": "code",
   "execution_count": 5,
   "metadata": {},
   "outputs": [
    {
     "data": {
      "text/plain": [
       "<matplotlib.axes._subplots.AxesSubplot at 0x19b32fd9da0>"
      ]
     },
     "execution_count": 5,
     "metadata": {},
     "output_type": "execute_result"
    },
    {
     "data": {
      "image/png": "[encoded data removed]",
      "text/plain": [
       "<Figure size 432x288 with 1 Axes>"
      ]
     },
     "metadata": {
      "needs_background": "light"
     },
     "output_type": "display_data"
    }
   ],
   "source": [
    "sns.countplot(x = 'Исход поиска', hue = 'Гендер', data = df)"
   ]
  },
  {
   "cell_type": "code",
   "execution_count": 6,
   "metadata": {},
   "outputs": [
    {
     "data": {
      "image/png": "[encoded data removed]",
      "text/plain": [
       "<Figure size 432x288 with 1 Axes>"
      ]
     },
     "metadata": {
      "needs_background": "light"
     },
     "output_type": "display_data"
    }
   ],
   "source": [
    "sns.countplot(x = 'Год', hue ='Исход поиска', data = df)\n",
    "plt.ylabel(\"Количество пропавших\")\n",
    "plt.title('Динамика количества пропавших с форума LizaAlert')\n",
    "plt.savefig('block1_losted.png')"
   ]
  },
  {
   "cell_type": "code",
   "execution_count": 191,
   "metadata": {
    "scrolled": true
   },
   "outputs": [
    {
     "data": {
      "text/plain": [
       "<matplotlib.axes._subplots.AxesSubplot at 0x24f92560d30>"
      ]
     },
     "execution_count": 191,
     "metadata": {},
     "output_type": "execute_result"
    },
    {
     "data": {
      "image/png": "[encoded data removed]",
      "text/plain": [
       "<Figure size 360x324 with 1 Axes>"
      ]
     },
     "metadata": {},
     "output_type": "display_data"
    }
   ],
   "source": [
    "sns.set(rc={'figure.figsize':(5,4.5)})\n",
    "#sns.set(rc={'figure.figsize':(8,7.5)})\n",
    "sns.barplot(y = 'Приметы_колво', x = 'Год', data = df, ci = None)"
   ]
  },
  {
   "cell_type": "code",
   "execution_count": 8,
   "metadata": {},
   "outputs": [
    {
     "data": {
      "image/png": "[encoded data removed]",
      "text/plain": [
       "<Figure size 432x288 with 1 Axes>"
      ]
     },
     "metadata": {
      "needs_background": "light"
     },
     "output_type": "display_data"
    }
   ],
   "source": [
    "sns.lineplot(y = 'Искатели', x = 'Год', hue = 'Сезон', ci = None, data = df)\n",
    "plt.title('Динамика количества искателей - пользователей форума LizaAlert')\n",
    "plt.savefig('block1_foxes.png')"
   ]
  },
  {
   "cell_type": "code",
   "execution_count": 142,
   "metadata": {},
   "outputs": [
    {
     "data": {
      "text/plain": [
       "<matplotlib.axes._subplots.AxesSubplot at 0x24f89cba2e8>"
      ]
     },
     "execution_count": 142,
     "metadata": {},
     "output_type": "execute_result"
    },
    {
     "data": {
      "image/png": "[encoded data removed]",
      "text/plain": [
       "<Figure size 432x288 with 1 Axes>"
      ]
     },
     "metadata": {
      "needs_background": "light"
     },
     "output_type": "display_data"
    }
   ],
   "source": [
    "#sns.lineplot(y = 'Сила искателей', x = 'Год', ci = None, data = df, color = 'black')\n",
    "#plt.twinx()\n",
    "sns.lineplot(y = 'Искатели', x = 'Год', ci = None, data = df)"
   ]
  },
  {
   "cell_type": "code",
   "execution_count": 19,
   "metadata": {},
   "outputs": [
    {
     "data": {
      "image/png": "[encoded data removed]",
      "text/plain": [
       "<Figure size 432x288 with 2 Axes>"
      ]
     },
     "metadata": {
      "needs_background": "light"
     },
     "output_type": "display_data"
    }
   ],
   "source": [
    "ax = plt.subplots()\n",
    "sns.lineplot(y = 'Репосты в одн (среднее)', x = 'Год', data = df, color = 'red', ci = None)\n",
    "plt.twinx()\n",
    "sns.lineplot(y = 'Репосты в вк (среднее)', x = 'Год', ci = None, data = df, color = 'green')\n",
    "plt.grid(b=None)\n",
    "#plt.ylabel('Репосты вк. (среднее)')\n",
    "#plt.ylabel('Репосты одн. (среднее)')\n",
    "plt.title('Количество репостов о пропавших в соц. сетях с форума LizaAlert')\n",
    "plt.savefig('block1_reposts.png')"
   ]
  },
  {
   "cell_type": "code",
   "execution_count": 66,
   "metadata": {},
   "outputs": [
    {
     "data": {
      "text/plain": [
       "<matplotlib.axes._subplots.AxesSubplot at 0x24f8546b160>"
      ]
     },
     "execution_count": 66,
     "metadata": {},
     "output_type": "execute_result"
    },
    {
     "data": {
      "image/png": "[encoded data removed]",
      "text/plain": [
       "<Figure size 432x288 with 1 Axes>"
      ]
     },
     "metadata": {
      "needs_background": "light"
     },
     "output_type": "display_data"
    }
   ],
   "source": [
    "sns.lineplot(y = 'Искатели', x = 'Год', hue = 'Сезон', ci = None, data = df)"
   ]
  },
  {
   "cell_type": "code",
   "execution_count": 38,
   "metadata": {},
   "outputs": [
    {
     "data": {
      "text/plain": [
       "<matplotlib.axes._subplots.AxesSubplot at 0x24f856abc18>"
      ]
     },
     "execution_count": 38,
     "metadata": {},
     "output_type": "execute_result"
    },
    {
     "data": {
      "image/png": "[encoded data removed]",
      "text/plain": [
       "<Figure size 432x288 with 1 Axes>"
      ]
     },
     "metadata": {
      "needs_background": "light"
     },
     "output_type": "display_data"
    }
   ],
   "source": [
    "sns.lineplot(y = 'Сила искателей', x = 'Год', ci = None, data = df)"
   ]
  },
  {
   "cell_type": "code",
   "execution_count": 64,
   "metadata": {},
   "outputs": [
    {
     "data": {
      "text/plain": [
       "<matplotlib.axes._subplots.AxesSubplot at 0x24f85b74748>"
      ]
     },
     "execution_count": 64,
     "metadata": {},
     "output_type": "execute_result"
    },
    {
     "data": {
      "image/png": "[encoded data removed]",
      "text/plain": [
       "<Figure size 432x288 with 1 Axes>"
      ]
     },
     "metadata": {
      "needs_background": "light"
     },
     "output_type": "display_data"
    }
   ],
   "source": [
    "sns.lineplot(y = 'Возраст', x = 'Год', hue = 'Мед. Состояние', ci = None, data = df)"
   ]
  },
  {
   "cell_type": "code",
   "execution_count": null,
   "metadata": {},
   "outputs": [],
   "source": []
  },
  {
   "cell_type": "code",
   "execution_count": null,
   "metadata": {},
   "outputs": [],
   "source": []
  },
  {
   "cell_type": "code",
   "execution_count": null,
   "metadata": {},
   "outputs": [],
   "source": []
  },
  {
   "cell_type": "code",
   "execution_count": null,
   "metadata": {},
   "outputs": [],
   "source": []
  },
  {
   "cell_type": "code",
   "execution_count": 4,
   "metadata": {},
   "outputs": [],
   "source": [
    "dfnew = df[df['Приметы_колво'] != 'Не указано']"
   ]
  },
  {
   "cell_type": "code",
   "execution_count": 7,
   "metadata": {
    "scrolled": true
   },
   "outputs": [
    {
     "data": {
      "text/plain": [
       "<matplotlib.axes._subplots.AxesSubplot at 0x17cfe004c50>"
      ]
     },
     "execution_count": 7,
     "metadata": {},
     "output_type": "execute_result"
    },
    {
     "data": {
      "image/png": "[encoded data removed]",
      "text/plain": [
       "<Figure size 432x288 with 1 Axes>"
      ]
     },
     "metadata": {
      "needs_background": "light"
     },
     "output_type": "display_data"
    }
   ],
   "source": [
    "sns.barplot(x=\"Состояние\", y=\"Искатели\", data=df)"
   ]
  },
  {
   "cell_type": "code",
   "execution_count": 8,
   "metadata": {},
   "outputs": [
    {
     "data": {
      "text/plain": [
       "<matplotlib.axes._subplots.AxesSubplot at 0x17cff190208>"
      ]
     },
     "execution_count": 8,
     "metadata": {},
     "output_type": "execute_result"
    },
    {
     "data": {
      "image/png": "[encoded data removed]",
      "text/plain": [
       "<Figure size 432x288 with 1 Axes>"
      ]
     },
     "metadata": {
      "needs_background": "light"
     },
     "output_type": "display_data"
    }
   ],
   "source": [
    "sns.barplot(x=\"Состояние\", y=\"Искатели\", data=df, estimator = median)"
   ]
  },
  {
   "cell_type": "code",
   "execution_count": 14,
   "metadata": {},
   "outputs": [
    {
     "ename": "TypeError",
     "evalue": "'>' not supported between instances of 'list' and 'int'",
     "output_type": "error",
     "traceback": [
      "\u001b[1;31m---------------------------------------------------------------------------\u001b[0m",
      "\u001b[1;31mTypeError\u001b[0m                                 Traceback (most recent call last)",
      "\u001b[1;32m<ipython-input-14-22494811d465>\u001b[0m in \u001b[0;36m<module>\u001b[1;34m\u001b[0m\n\u001b[0;32m      2\u001b[0m \u001b[0msns\u001b[0m\u001b[1;33m.\u001b[0m\u001b[0mcatplot\u001b[0m\u001b[1;33m(\u001b[0m\u001b[0mx\u001b[0m\u001b[1;33m=\u001b[0m\u001b[1;34m\"Состояние\"\u001b[0m\u001b[1;33m,\u001b[0m \u001b[0my\u001b[0m\u001b[1;33m=\u001b[0m\u001b[1;34m\"Репосты_вк\"\u001b[0m\u001b[1;33m,\u001b[0m \u001b[0mdata\u001b[0m\u001b[1;33m=\u001b[0m\u001b[0mdf\u001b[0m\u001b[1;33m)\u001b[0m\u001b[1;33m\u001b[0m\u001b[1;33m\u001b[0m\u001b[0m\n\u001b[0;32m      3\u001b[0m \u001b[0mdf\u001b[0m\u001b[1;33m.\u001b[0m\u001b[0mgroupby\u001b[0m\u001b[1;33m(\u001b[0m\u001b[1;33m[\u001b[0m\u001b[1;34m\"Состояние\"\u001b[0m\u001b[1;33m]\u001b[0m\u001b[1;33m)\u001b[0m\u001b[1;33m[\u001b[0m\u001b[1;34m\"Репосты_вк\"\u001b[0m\u001b[1;33m]\u001b[0m\u001b[1;33m.\u001b[0m\u001b[0mdescribe\u001b[0m\u001b[1;33m(\u001b[0m\u001b[1;33m)\u001b[0m\u001b[1;33m\u001b[0m\u001b[1;33m\u001b[0m\u001b[0m\n\u001b[1;32m----> 4\u001b[1;33m \u001b[0mdf\u001b[0m\u001b[1;33m.\u001b[0m\u001b[0mgroupby\u001b[0m\u001b[1;33m(\u001b[0m\u001b[1;33m[\u001b[0m\u001b[1;34m\"Состояние\"\u001b[0m\u001b[1;33m]\u001b[0m\u001b[1;33m)\u001b[0m\u001b[1;33m[\u001b[0m\u001b[1;33m[\u001b[0m\u001b[1;34m\"Сила искателей\"\u001b[0m\u001b[1;33m]\u001b[0m \u001b[1;33m>\u001b[0m \u001b[1;36m2000\u001b[0m\u001b[1;33m]\u001b[0m\u001b[1;33m.\u001b[0m\u001b[0mdescribe\u001b[0m\u001b[1;33m(\u001b[0m\u001b[1;33m)\u001b[0m\u001b[1;33m\u001b[0m\u001b[1;33m\u001b[0m\u001b[0m\n\u001b[0m\u001b[0;32m      5\u001b[0m \u001b[1;31m#df.groupby([\"Состояние\"])[\"Время поиска\"].describe()\u001b[0m\u001b[1;33m\u001b[0m\u001b[1;33m\u001b[0m\u001b[1;33m\u001b[0m\u001b[0m\n\u001b[0;32m      6\u001b[0m \u001b[1;31m#df.groupby([\"Состояние\"])[\"Регион\"].describe()\u001b[0m\u001b[1;33m\u001b[0m\u001b[1;33m\u001b[0m\u001b[1;33m\u001b[0m\u001b[0m\n",
      "\u001b[1;31mTypeError\u001b[0m: '>' not supported between instances of 'list' and 'int'"
     ]
    },
    {
     "data": {
      "image/png": "[encoded data removed]",
      "text/plain": [
       "<Figure size 360x360 with 1 Axes>"
      ]
     },
     "metadata": {
      "needs_background": "light"
     },
     "output_type": "display_data"
    },
    {
     "data": {
      "image/png": "[encoded data removed]",
      "text/plain": [
       "<Figure size 360x360 with 1 Axes>"
      ]
     },
     "metadata": {
      "needs_background": "light"
     },
     "output_type": "display_data"
    }
   ],
   "source": [
    "sns.catplot(x=\"Состояние\", y=\"Возраст\", data=df)\n",
    "sns.catplot(x=\"Состояние\", y=\"Репосты_вк\", data=df)\n",
    "df.groupby([\"Состояние\"])[\"Репосты_вк\"].describe()\n",
    "df.groupby([\"Состояние\"])[\"Сила искателей\"].describe()\n",
    "#df.groupby([\"Состояние\"])[\"Время поиска\"].describe()\n",
    "#df.groupby([\"Состояние\"])[\"Регион\"].describe()"
   ]
  },
  {
   "cell_type": "code",
   "execution_count": 13,
   "metadata": {},
   "outputs": [
    {
     "name": "stderr",
     "output_type": "stream",
     "text": [
      "C:\\Users\\nikzo\\Anaconda3\\lib\\site-packages\\pandas\\core\\ops.py:1649: FutureWarning: elementwise comparison failed; returning scalar instead, but in the future will perform elementwise comparison\n",
      "  result = method(y)\n"
     ]
    },
    {
     "ename": "TypeError",
     "evalue": "unsupported operand type(s) for +: 'float' and 'str'",
     "output_type": "error",
     "traceback": [
      "\u001b[1;31m---------------------------------------------------------------------------\u001b[0m",
      "\u001b[1;31mTypeError\u001b[0m                                 Traceback (most recent call last)",
      "\u001b[1;32m<ipython-input-13-792c1f4537b3>\u001b[0m in \u001b[0;36m<module>\u001b[1;34m\u001b[0m\n\u001b[1;32m----> 1\u001b[1;33m \u001b[0msns\u001b[0m\u001b[1;33m.\u001b[0m\u001b[0mdistplot\u001b[0m\u001b[1;33m(\u001b[0m\u001b[0mdf\u001b[0m\u001b[1;33m[\u001b[0m\u001b[0mdf\u001b[0m\u001b[1;33m[\u001b[0m\u001b[1;34m\"Сила искателей\"\u001b[0m\u001b[1;33m]\u001b[0m \u001b[1;33m!=\u001b[0m \u001b[1;34m\"0\"\u001b[0m\u001b[1;33m]\u001b[0m\u001b[1;33m)\u001b[0m\u001b[1;33m\u001b[0m\u001b[1;33m\u001b[0m\u001b[0m\n\u001b[0m",
      "\u001b[1;32m~\\Anaconda3\\lib\\site-packages\\seaborn\\distributions.py\u001b[0m in \u001b[0;36mdistplot\u001b[1;34m(a, bins, hist, kde, rug, fit, hist_kws, kde_kws, rug_kws, fit_kws, color, vertical, norm_hist, axlabel, label, ax)\u001b[0m\n\u001b[0;32m    196\u001b[0m             \u001b[0mline\u001b[0m\u001b[1;33m,\u001b[0m \u001b[1;33m=\u001b[0m \u001b[0max\u001b[0m\u001b[1;33m.\u001b[0m\u001b[0mplot\u001b[0m\u001b[1;33m(\u001b[0m\u001b[1;36m0\u001b[0m\u001b[1;33m,\u001b[0m \u001b[0ma\u001b[0m\u001b[1;33m.\u001b[0m\u001b[0mmean\u001b[0m\u001b[1;33m(\u001b[0m\u001b[1;33m)\u001b[0m\u001b[1;33m)\u001b[0m\u001b[1;33m\u001b[0m\u001b[1;33m\u001b[0m\u001b[0m\n\u001b[0;32m    197\u001b[0m         \u001b[1;32melse\u001b[0m\u001b[1;33m:\u001b[0m\u001b[1;33m\u001b[0m\u001b[1;33m\u001b[0m\u001b[0m\n\u001b[1;32m--> 198\u001b[1;33m             \u001b[0mline\u001b[0m\u001b[1;33m,\u001b[0m \u001b[1;33m=\u001b[0m \u001b[0max\u001b[0m\u001b[1;33m.\u001b[0m\u001b[0mplot\u001b[0m\u001b[1;33m(\u001b[0m\u001b[0ma\u001b[0m\u001b[1;33m.\u001b[0m\u001b[0mmean\u001b[0m\u001b[1;33m(\u001b[0m\u001b[1;33m)\u001b[0m\u001b[1;33m,\u001b[0m \u001b[1;36m0\u001b[0m\u001b[1;33m)\u001b[0m\u001b[1;33m\u001b[0m\u001b[1;33m\u001b[0m\u001b[0m\n\u001b[0m\u001b[0;32m    199\u001b[0m         \u001b[0mcolor\u001b[0m \u001b[1;33m=\u001b[0m \u001b[0mline\u001b[0m\u001b[1;33m.\u001b[0m\u001b[0mget_color\u001b[0m\u001b[1;33m(\u001b[0m\u001b[1;33m)\u001b[0m\u001b[1;33m\u001b[0m\u001b[1;33m\u001b[0m\u001b[0m\n\u001b[0;32m    200\u001b[0m         \u001b[0mline\u001b[0m\u001b[1;33m.\u001b[0m\u001b[0mremove\u001b[0m\u001b[1;33m(\u001b[0m\u001b[1;33m)\u001b[0m\u001b[1;33m\u001b[0m\u001b[1;33m\u001b[0m\u001b[0m\n",
      "\u001b[1;32m~\\Anaconda3\\lib\\site-packages\\numpy\\core\\_methods.py\u001b[0m in \u001b[0;36m_mean\u001b[1;34m(a, axis, dtype, out, keepdims)\u001b[0m\n\u001b[0;32m     73\u001b[0m             \u001b[0mis_float16_result\u001b[0m \u001b[1;33m=\u001b[0m \u001b[1;32mTrue\u001b[0m\u001b[1;33m\u001b[0m\u001b[1;33m\u001b[0m\u001b[0m\n\u001b[0;32m     74\u001b[0m \u001b[1;33m\u001b[0m\u001b[0m\n\u001b[1;32m---> 75\u001b[1;33m     \u001b[0mret\u001b[0m \u001b[1;33m=\u001b[0m \u001b[0mumr_sum\u001b[0m\u001b[1;33m(\u001b[0m\u001b[0marr\u001b[0m\u001b[1;33m,\u001b[0m \u001b[0maxis\u001b[0m\u001b[1;33m,\u001b[0m \u001b[0mdtype\u001b[0m\u001b[1;33m,\u001b[0m \u001b[0mout\u001b[0m\u001b[1;33m,\u001b[0m \u001b[0mkeepdims\u001b[0m\u001b[1;33m)\u001b[0m\u001b[1;33m\u001b[0m\u001b[1;33m\u001b[0m\u001b[0m\n\u001b[0m\u001b[0;32m     76\u001b[0m     \u001b[1;32mif\u001b[0m \u001b[0misinstance\u001b[0m\u001b[1;33m(\u001b[0m\u001b[0mret\u001b[0m\u001b[1;33m,\u001b[0m \u001b[0mmu\u001b[0m\u001b[1;33m.\u001b[0m\u001b[0mndarray\u001b[0m\u001b[1;33m)\u001b[0m\u001b[1;33m:\u001b[0m\u001b[1;33m\u001b[0m\u001b[1;33m\u001b[0m\u001b[0m\n\u001b[0;32m     77\u001b[0m         ret = um.true_divide(\n",
      "\u001b[1;31mTypeError\u001b[0m: unsupported operand type(s) for +: 'float' and 'str'"
     ]
    },
    {
     "data": {
      "image/png": "[encoded data removed]",
      "text/plain": [
       "<Figure size 432x288 with 1 Axes>"
      ]
     },
     "metadata": {
      "needs_background": "light"
     },
     "output_type": "display_data"
    }
   ],
   "source": [
    "sns.distplot(df[df[\"Сила искателей\"] != \"0\"])"
   ]
  },
  {
   "cell_type": "code",
   "execution_count": 67,
   "metadata": {},
   "outputs": [
    {
     "data": {
      "text/html": [
       "<div>\n",
       "<style scoped>\n",
       "    .dataframe tbody tr th:only-of-type {\n",
       "        vertical-align: middle;\n",
       "    }\n",
       "\n",
       "    .dataframe tbody tr th {\n",
       "        vertical-align: top;\n",
       "    }\n",
       "\n",
       "    .dataframe thead th {\n",
       "        text-align: right;\n",
       "    }\n",
       "</style>\n",
       "<table border=\"1\" class=\"dataframe\">\n",
       "  <thead>\n",
       "    <tr style=\"text-align: right;\">\n",
       "      <th></th>\n",
       "      <th>count</th>\n",
       "      <th>mean</th>\n",
       "      <th>std</th>\n",
       "      <th>min</th>\n",
       "      <th>25%</th>\n",
       "      <th>50%</th>\n",
       "      <th>75%</th>\n",
       "      <th>max</th>\n",
       "    </tr>\n",
       "    <tr>\n",
       "      <th>Мед. Состояние</th>\n",
       "      <th></th>\n",
       "      <th></th>\n",
       "      <th></th>\n",
       "      <th></th>\n",
       "      <th></th>\n",
       "      <th></th>\n",
       "      <th></th>\n",
       "      <th></th>\n",
       "    </tr>\n",
       "  </thead>\n",
       "  <tbody>\n",
       "    <tr>\n",
       "      <th>здоров</th>\n",
       "      <td>11733.0</td>\n",
       "      <td>9.007671</td>\n",
       "      <td>24.108060</td>\n",
       "      <td>0.0</td>\n",
       "      <td>1.0</td>\n",
       "      <td>1.0</td>\n",
       "      <td>7.0</td>\n",
       "      <td>754.0</td>\n",
       "    </tr>\n",
       "    <tr>\n",
       "      <th>требуется мед. помощь</th>\n",
       "      <td>1740.0</td>\n",
       "      <td>12.304023</td>\n",
       "      <td>23.282723</td>\n",
       "      <td>0.0</td>\n",
       "      <td>1.0</td>\n",
       "      <td>2.0</td>\n",
       "      <td>14.0</td>\n",
       "      <td>176.0</td>\n",
       "    </tr>\n",
       "  </tbody>\n",
       "</table>\n",
       "</div>"
      ],
      "text/plain": [
       "                         count       mean        std  min  25%  50%   75%  \\\n",
       "Мед. Состояние                                                              \n",
       "здоров                 11733.0  9.007671   24.108060  0.0  1.0  1.0  7.0    \n",
       "требуется мед. помощь  1740.0   12.304023  23.282723  0.0  1.0  2.0  14.0   \n",
       "\n",
       "                         max  \n",
       "Мед. Состояние                \n",
       "здоров                 754.0  \n",
       "требуется мед. помощь  176.0  "
      ]
     },
     "execution_count": 67,
     "metadata": {},
     "output_type": "execute_result"
    }
   ],
   "source": [
    "df.groupby([\"Год\"])[\"Искатели\"].describe()\n",
    "df.groupby([\"День недели\"])[\"Искатели\"].describe()\n",
    "df.groupby([\"Регион\"])[\"Искатели\"].describe()\n",
    "df.groupby([\"Локация\"])[\"Искатели\"].describe()\n",
    "df.groupby([\"Состояние\"])[\"Сила искателей\"].describe()\n",
    "df.groupby([\"Гендер\"])[\"Искатели\"].describe()\n",
    "df.groupby([\"Мед. Состояние\"])[\"Искатели\"].describe()"
   ]
  },
  {
   "cell_type": "code",
   "execution_count": 88,
   "metadata": {},
   "outputs": [
    {
     "data": {
      "text/plain": [
       "0.5509554140127388"
      ]
     },
     "execution_count": 88,
     "metadata": {},
     "output_type": "execute_result"
    }
   ],
   "source": [
    "a = df[df['Регион'] == 'Урал']\n",
    "(len(a[a['Состояние'] == 'живой']))/len(a)"
   ]
  },
  {
   "cell_type": "code",
   "execution_count": 19,
   "metadata": {},
   "outputs": [
    {
     "data": {
      "text/html": [
       "<div>\n",
       "<style scoped>\n",
       "    .dataframe tbody tr th:only-of-type {\n",
       "        vertical-align: middle;\n",
       "    }\n",
       "\n",
       "    .dataframe tbody tr th {\n",
       "        vertical-align: top;\n",
       "    }\n",
       "\n",
       "    .dataframe thead th {\n",
       "        text-align: right;\n",
       "    }\n",
       "</style>\n",
       "<table border=\"1\" class=\"dataframe\">\n",
       "  <thead>\n",
       "    <tr style=\"text-align: right;\">\n",
       "      <th></th>\n",
       "      <th>count</th>\n",
       "      <th>mean</th>\n",
       "      <th>std</th>\n",
       "      <th>min</th>\n",
       "      <th>25%</th>\n",
       "      <th>50%</th>\n",
       "      <th>75%</th>\n",
       "      <th>max</th>\n",
       "    </tr>\n",
       "    <tr>\n",
       "      <th>Состояние</th>\n",
       "      <th></th>\n",
       "      <th></th>\n",
       "      <th></th>\n",
       "      <th></th>\n",
       "      <th></th>\n",
       "      <th></th>\n",
       "      <th></th>\n",
       "      <th></th>\n",
       "    </tr>\n",
       "  </thead>\n",
       "  <tbody>\n",
       "    <tr>\n",
       "      <th>Не указано</th>\n",
       "      <td>488.0</td>\n",
       "      <td>5.211066</td>\n",
       "      <td>15.455923</td>\n",
       "      <td>0.0</td>\n",
       "      <td>1.0</td>\n",
       "      <td>1.0</td>\n",
       "      <td>2.0</td>\n",
       "      <td>141.0</td>\n",
       "    </tr>\n",
       "    <tr>\n",
       "      <th>живой</th>\n",
       "      <td>8598.0</td>\n",
       "      <td>9.308676</td>\n",
       "      <td>21.128230</td>\n",
       "      <td>0.0</td>\n",
       "      <td>1.0</td>\n",
       "      <td>1.0</td>\n",
       "      <td>8.0</td>\n",
       "      <td>263.0</td>\n",
       "    </tr>\n",
       "    <tr>\n",
       "      <th>ищется</th>\n",
       "      <td>1899.0</td>\n",
       "      <td>11.225382</td>\n",
       "      <td>36.215922</td>\n",
       "      <td>0.0</td>\n",
       "      <td>1.0</td>\n",
       "      <td>1.0</td>\n",
       "      <td>6.0</td>\n",
       "      <td>754.0</td>\n",
       "    </tr>\n",
       "    <tr>\n",
       "      <th>мертвый</th>\n",
       "      <td>2488.0</td>\n",
       "      <td>9.324759</td>\n",
       "      <td>23.032569</td>\n",
       "      <td>0.0</td>\n",
       "      <td>1.0</td>\n",
       "      <td>1.0</td>\n",
       "      <td>8.0</td>\n",
       "      <td>337.0</td>\n",
       "    </tr>\n",
       "  </tbody>\n",
       "</table>\n",
       "</div>"
      ],
      "text/plain": [
       "             count       mean        std  min  25%  50%  75%    max\n",
       "Состояние                                                          \n",
       "Не указано  488.0   5.211066   15.455923  0.0  1.0  1.0  2.0  141.0\n",
       "живой       8598.0  9.308676   21.128230  0.0  1.0  1.0  8.0  263.0\n",
       "ищется      1899.0  11.225382  36.215922  0.0  1.0  1.0  6.0  754.0\n",
       "мертвый     2488.0  9.324759   23.032569  0.0  1.0  1.0  8.0  337.0"
      ]
     },
     "execution_count": 19,
     "metadata": {},
     "output_type": "execute_result"
    }
   ],
   "source": [
    "df.groupby([\"Состояние\"])[\"Искатели\"].describe() #в сложных условиях уже ничего не спасет: даже сила искателей!"
   ]
  },
  {
   "cell_type": "code",
   "execution_count": 56,
   "metadata": {},
   "outputs": [
    {
     "data": {
      "text/html": [
       "<div>\n",
       "<style scoped>\n",
       "    .dataframe tbody tr th:only-of-type {\n",
       "        vertical-align: middle;\n",
       "    }\n",
       "\n",
       "    .dataframe tbody tr th {\n",
       "        vertical-align: top;\n",
       "    }\n",
       "\n",
       "    .dataframe thead th {\n",
       "        text-align: right;\n",
       "    }\n",
       "</style>\n",
       "<table border=\"1\" class=\"dataframe\">\n",
       "  <thead>\n",
       "    <tr style=\"text-align: right;\">\n",
       "      <th></th>\n",
       "      <th>count</th>\n",
       "      <th>unique</th>\n",
       "      <th>top</th>\n",
       "      <th>freq</th>\n",
       "    </tr>\n",
       "    <tr>\n",
       "      <th>Состояние</th>\n",
       "      <th></th>\n",
       "      <th></th>\n",
       "      <th></th>\n",
       "      <th></th>\n",
       "    </tr>\n",
       "  </thead>\n",
       "  <tbody>\n",
       "    <tr>\n",
       "      <th>Не указано</th>\n",
       "      <td>488</td>\n",
       "      <td>3</td>\n",
       "      <td>Мужчина</td>\n",
       "      <td>223</td>\n",
       "    </tr>\n",
       "    <tr>\n",
       "      <th>живой</th>\n",
       "      <td>8598</td>\n",
       "      <td>3</td>\n",
       "      <td>Мужчина</td>\n",
       "      <td>4867</td>\n",
       "    </tr>\n",
       "    <tr>\n",
       "      <th>ищется</th>\n",
       "      <td>1899</td>\n",
       "      <td>3</td>\n",
       "      <td>Мужчина</td>\n",
       "      <td>1322</td>\n",
       "    </tr>\n",
       "    <tr>\n",
       "      <th>мертвый</th>\n",
       "      <td>2488</td>\n",
       "      <td>3</td>\n",
       "      <td>Мужчина</td>\n",
       "      <td>1715</td>\n",
       "    </tr>\n",
       "  </tbody>\n",
       "</table>\n",
       "</div>"
      ],
      "text/plain": [
       "           count unique      top  freq\n",
       "Состояние                             \n",
       "Не указано  488   3      Мужчина  223 \n",
       "живой       8598  3      Мужчина  4867\n",
       "ищется      1899  3      Мужчина  1322\n",
       "мертвый     2488  3      Мужчина  1715"
      ]
     },
     "execution_count": 56,
     "metadata": {},
     "output_type": "execute_result"
    }
   ],
   "source": [
    "df.groupby([\"Состояние\"])[\"Локация\"].describe()"
   ]
  },
  {
   "cell_type": "code",
   "execution_count": 44,
   "metadata": {},
   "outputs": [
    {
     "data": {
      "text/plain": [
       "<matplotlib.axes._subplots.AxesSubplot at 0x20aade357b8>"
      ]
     },
     "execution_count": 44,
     "metadata": {},
     "output_type": "execute_result"
    },
    {
     "data": {
      "image/png": "[encoded data removed]",
      "text/plain": [
       "<Figure size 432x288 with 1 Axes>"
      ]
     },
     "metadata": {
      "needs_background": "light"
     },
     "output_type": "display_data"
    }
   ],
   "source": [
    "sns.scatterplot(x = 'Искатели', y = 'Возраст', data = df)"
   ]
  },
  {
   "cell_type": "code",
   "execution_count": 15,
   "metadata": {},
   "outputs": [
    {
     "data": {
      "text/plain": [
       "<matplotlib.axes._subplots.AxesSubplot at 0x17cfe1edfd0>"
      ]
     },
     "execution_count": 15,
     "metadata": {},
     "output_type": "execute_result"
    },
    {
     "data": {
      "image/png": "[encoded data removed]",
      "text/plain": [
       "<Figure size 432x288 with 1 Axes>"
      ]
     },
     "metadata": {
      "needs_background": "light"
     },
     "output_type": "display_data"
    }
   ],
   "source": [
    "sns.barplot(x=\"Состояние\", y=\"Возраст\", data=df)"
   ]
  },
  {
   "cell_type": "code",
   "execution_count": 65,
   "metadata": {},
   "outputs": [
    {
     "data": {
      "text/plain": [
       "0.6695402298850575"
      ]
     },
     "execution_count": 65,
     "metadata": {},
     "output_type": "execute_result"
    }
   ],
   "source": [
    "a = df[df['Мед. Состояние'] == 'требуется мед. помощь']\n",
    "(len(a[a['Состояние'] == 'живой']))/len(a)"
   ]
  },
  {
   "cell_type": "code",
   "execution_count": 66,
   "metadata": {},
   "outputs": [
    {
     "data": {
      "text/plain": [
       "0.6335123156907867"
      ]
     },
     "execution_count": 66,
     "metadata": {},
     "output_type": "execute_result"
    }
   ],
   "source": [
    "a = df[df['Мед. Состояние'] == 'здоров']\n",
    "(len(a[a['Состояние'] == 'живой']))/len(a)"
   ]
  },
  {
   "cell_type": "code",
   "execution_count": 59,
   "metadata": {},
   "outputs": [
    {
     "data": {
      "text/plain": [
       "0.625"
      ]
     },
     "execution_count": 59,
     "metadata": {},
     "output_type": "execute_result"
    }
   ],
   "source": [
    "a = df[df['Сезон'] == 'Лето']\n",
    "(len(a[a['Состояние'] == 'живой']))/len(a)"
   ]
  },
  {
   "cell_type": "code",
   "execution_count": 60,
   "metadata": {},
   "outputs": [
    {
     "data": {
      "text/plain": [
       "0.6612734864300627"
      ]
     },
     "execution_count": 60,
     "metadata": {},
     "output_type": "execute_result"
    }
   ],
   "source": [
    "a = df[df['Сезон'] == 'Весна']\n",
    "(len(a[a['Состояние'] == 'живой']))/len(a)"
   ]
  },
  {
   "cell_type": "code",
   "execution_count": 61,
   "metadata": {},
   "outputs": [
    {
     "data": {
      "text/plain": [
       "0.6521505376344086"
      ]
     },
     "execution_count": 61,
     "metadata": {},
     "output_type": "execute_result"
    }
   ],
   "source": [
    "a = df[df['Сезон'] == 'Зима']\n",
    "(len(a[a['Состояние'] == 'живой']))/len(a)"
   ]
  },
  {
   "cell_type": "code",
   "execution_count": 146,
   "metadata": {},
   "outputs": [
    {
     "name": "stdout",
     "output_type": "stream",
     "text": [
      "8127\n"
     ]
    },
    {
     "data": {
      "text/plain": [
       "0.5988679709609942"
      ]
     },
     "execution_count": 146,
     "metadata": {},
     "output_type": "execute_result"
    }
   ],
   "source": [
    "a = df[df['Гендер'] == 'Мужчина']\n",
    "print(len(a))\n",
    "(len(a[a['Состояние'] == 'живой']))/len(a)"
   ]
  },
  {
   "cell_type": "code",
   "execution_count": 147,
   "metadata": {},
   "outputs": [
    {
     "name": "stdout",
     "output_type": "stream",
     "text": [
      "4581\n"
     ]
    },
    {
     "data": {
      "text/plain": [
       "0.711416721239904"
      ]
     },
     "execution_count": 147,
     "metadata": {},
     "output_type": "execute_result"
    }
   ],
   "source": [
    "a = df[df['Гендер'] == 'Женщина']\n",
    "print(len(a))\n",
    "(len(a[a['Состояние'] == 'живой']))/len(a)"
   ]
  },
  {
   "cell_type": "code",
   "execution_count": 9,
   "metadata": {},
   "outputs": [
    {
     "data": {
      "text/plain": [
       "0.623989218328841"
      ]
     },
     "execution_count": 9,
     "metadata": {},
     "output_type": "execute_result"
    }
   ],
   "source": [
    "a = df[df['Год'] == 2018]\n",
    "(len(a[a['Состояние'] == 'живой']))/len(a)"
   ]
  },
  {
   "cell_type": "code",
   "execution_count": 11,
   "metadata": {},
   "outputs": [
    {
     "data": {
      "text/plain": [
       "0.6940222897669707"
      ]
     },
     "execution_count": 11,
     "metadata": {},
     "output_type": "execute_result"
    }
   ],
   "source": [
    "a = df[df['Год'] == 2015]\n",
    "(len(a[a['Состояние'] == 'живой']))/len(a)"
   ]
  },
  {
   "cell_type": "code",
   "execution_count": 19,
   "metadata": {},
   "outputs": [
    {
     "data": {
      "text/plain": [
       "0.6732186732186732"
      ]
     },
     "execution_count": 19,
     "metadata": {},
     "output_type": "execute_result"
    }
   ],
   "source": [
    "a = df[df['Год'] == 2019]\n",
    "(len(a[a['Состояние'] == 'живой']))/len(a)"
   ]
  },
  {
   "cell_type": "code",
   "execution_count": 57,
   "metadata": {},
   "outputs": [
    {
     "data": {
      "text/plain": [
       "0.6466785744662754"
      ]
     },
     "execution_count": 57,
     "metadata": {},
     "output_type": "execute_result"
    }
   ],
   "source": [
    "a = df[df['Локация'] == 'город']\n",
    "(len(a[a['Состояние'] == 'живой']))/len(a)"
   ]
  },
  {
   "cell_type": "code",
   "execution_count": 58,
   "metadata": {},
   "outputs": [
    {
     "data": {
      "text/plain": [
       "0.5798368298368298"
      ]
     },
     "execution_count": 58,
     "metadata": {},
     "output_type": "execute_result"
    }
   ],
   "source": [
    "a = df[df['Локация'] == 'деревня']\n",
    "(len(a[a['Состояние'] == 'живой']))/len(a)"
   ]
  },
  {
   "cell_type": "code",
   "execution_count": 40,
   "metadata": {},
   "outputs": [
    {
     "data": {
      "text/plain": [
       "0.8699460916442049"
      ]
     },
     "execution_count": 40,
     "metadata": {},
     "output_type": "execute_result"
    }
   ],
   "source": [
    "a = df[df['Год'] == 2018]\n",
    "(len(a) - len(a[a['Состояние'] == 'ищется']))/len(a)"
   ]
  },
  {
   "cell_type": "code",
   "execution_count": 41,
   "metadata": {},
   "outputs": [
    {
     "data": {
      "text/plain": [
       "0.8518518518518519"
      ]
     },
     "execution_count": 41,
     "metadata": {},
     "output_type": "execute_result"
    }
   ],
   "source": [
    "a = df[df['Год'] == 2017]\n",
    "(len(a) - len(a[a['Состояние'] == 'ищется']))/len(a)"
   ]
  },
  {
   "cell_type": "code",
   "execution_count": 42,
   "metadata": {},
   "outputs": [
    {
     "data": {
      "text/plain": [
       "0.8404255319148937"
      ]
     },
     "execution_count": 42,
     "metadata": {},
     "output_type": "execute_result"
    }
   ],
   "source": [
    "a = df[df['Год'] == 2016]\n",
    "(len(a) - len(a[a['Состояние'] == 'ищется']))/len(a)"
   ]
  },
  {
   "cell_type": "code",
   "execution_count": 43,
   "metadata": {},
   "outputs": [
    {
     "data": {
      "text/plain": [
       "0.8875379939209727"
      ]
     },
     "execution_count": 43,
     "metadata": {},
     "output_type": "execute_result"
    }
   ],
   "source": [
    "a = df[df['Год'] == 2015]\n",
    "(len(a) - len(a[a['Состояние'] == 'ищется']))/len(a)"
   ]
  },
  {
   "cell_type": "code",
   "execution_count": 44,
   "metadata": {},
   "outputs": [
    {
     "data": {
      "text/plain": [
       "0.8727735368956743"
      ]
     },
     "execution_count": 44,
     "metadata": {},
     "output_type": "execute_result"
    }
   ],
   "source": [
    "a = df[df['Год'] == 2014]\n",
    "(len(a) - len(a[a['Состояние'] == 'ищется']))/len(a)"
   ]
  },
  {
   "cell_type": "code",
   "execution_count": 46,
   "metadata": {},
   "outputs": [
    {
     "data": {
      "text/plain": [
       "0.8734353268428373"
      ]
     },
     "execution_count": 46,
     "metadata": {},
     "output_type": "execute_result"
    }
   ],
   "source": [
    "a = df[df['Год'] == 2013]\n",
    "(len(a) - len(a[a['Состояние'] == 'ищется']))/len(a)"
   ]
  },
  {
   "cell_type": "code",
   "execution_count": 48,
   "metadata": {},
   "outputs": [
    {
     "data": {
      "text/plain": [
       "0.8471744471744471"
      ]
     },
     "execution_count": 48,
     "metadata": {},
     "output_type": "execute_result"
    }
   ],
   "source": [
    "a = df[df['Год'] == 2019]\n",
    "(len(a) - len(a[a['Состояние'] == 'ищется']))/len(a)"
   ]
  },
  {
   "cell_type": "code",
   "execution_count": 48,
   "metadata": {},
   "outputs": [
    {
     "data": {
      "text/plain": [
       "0.6542593433197156"
      ]
     },
     "execution_count": 48,
     "metadata": {},
     "output_type": "execute_result"
    }
   ],
   "source": [
    "a = dfnew[dfnew['Одежда_ярк'] == 'Темная']\n",
    "(len(a[a['Состояние'] == 'живой']))/len(a)"
   ]
  },
  {
   "cell_type": "code",
   "execution_count": 52,
   "metadata": {},
   "outputs": [
    {
     "data": {
      "text/plain": [
       "0.6251413068053358"
      ]
     },
     "execution_count": 52,
     "metadata": {},
     "output_type": "execute_result"
    }
   ],
   "source": [
    "a = dfnew[dfnew['Телосложение'] == 'худ']\n",
    "(len(a[a['Состояние'] == 'живой']))/len(a)"
   ]
  },
  {
   "cell_type": "code",
   "execution_count": 54,
   "metadata": {},
   "outputs": [
    {
     "data": {
      "text/plain": [
       "0.6788732394366197"
      ]
     },
     "execution_count": 54,
     "metadata": {},
     "output_type": "execute_result"
    }
   ],
   "source": [
    "a = dfnew[dfnew['Телосложение'] == 'круп']\n",
    "(len(a[a['Состояние'] == 'живой']))/len(a)"
   ]
  },
  {
   "cell_type": "code",
   "execution_count": 49,
   "metadata": {},
   "outputs": [
    {
     "data": {
      "text/plain": [
       "0.7070175438596491"
      ]
     },
     "execution_count": 49,
     "metadata": {},
     "output_type": "execute_result"
    }
   ],
   "source": [
    "a = dfnew[dfnew['Одежда_ярк'] == 'Яркая']\n",
    "(len(a[a['Состояние'] == 'живой']))/len(a)"
   ]
  },
  {
   "cell_type": "code",
   "execution_count": 45,
   "metadata": {},
   "outputs": [
    {
     "data": {
      "text/plain": [
       "0.6477541371158393"
      ]
     },
     "execution_count": 45,
     "metadata": {},
     "output_type": "execute_result"
    }
   ],
   "source": [
    "a = dfnew[dfnew['Одежда_колво'] == 0]\n",
    "(len(a[a['Состояние'] == 'живой']))/len(a)"
   ]
  },
  {
   "cell_type": "code",
   "execution_count": 16,
   "metadata": {},
   "outputs": [
    {
     "data": {
      "text/plain": [
       "0.6258671952428146"
      ]
     },
     "execution_count": 16,
     "metadata": {},
     "output_type": "execute_result"
    }
   ],
   "source": [
    "a = dfnew[dfnew['Приметы_колво'] == 4]\n",
    "(len(a[a['Состояние'] == 'живой']))/len(a)"
   ]
  },
  {
   "cell_type": "code",
   "execution_count": 17,
   "metadata": {},
   "outputs": [
    {
     "data": {
      "text/plain": [
       "0.6655922643029815"
      ]
     },
     "execution_count": 17,
     "metadata": {},
     "output_type": "execute_result"
    }
   ],
   "source": [
    "a = dfnew[dfnew['Приметы_колво'] == 2]\n",
    "(len(a[a['Состояние'] == 'живой']))/len(a)"
   ]
  },
  {
   "cell_type": "code",
   "execution_count": 18,
   "metadata": {},
   "outputs": [
    {
     "data": {
      "text/plain": [
       "0.6506169852407452"
      ]
     },
     "execution_count": 18,
     "metadata": {},
     "output_type": "execute_result"
    }
   ],
   "source": [
    "a = dfnew[dfnew['Приметы_колво'] == 0]\n",
    "(len(a[a['Состояние'] == 'живой']))/len(a)"
   ]
  },
  {
   "cell_type": "code",
   "execution_count": 3,
   "metadata": {},
   "outputs": [
    {
     "data": {
      "text/plain": [
       "count    13473.000000\n",
       "mean     248.604097  \n",
       "std      2087.621546 \n",
       "min     -670.000000  \n",
       "25%      1.000000    \n",
       "50%      3.000000    \n",
       "75%      16.000000   \n",
       "max      32186.000000\n",
       "Name: Время поиска, dtype: float64"
      ]
     },
     "execution_count": 3,
     "metadata": {},
     "output_type": "execute_result"
    }
   ],
   "source": [
    "df[\"Время поиска\"].describe()"
   ]
  },
  {
   "cell_type": "code",
   "execution_count": 4,
   "metadata": {},
   "outputs": [],
   "source": [
    "year_list = [ 2011, 2012, 2013, 2014, 2015, 2016, 2017, 2018, 2019]"
   ]
  },
  {
   "cell_type": "code",
   "execution_count": 5,
   "metadata": {},
   "outputs": [],
   "source": [
    "month_list = [\"Январь\", \"Февраль\", \"Март\", \"Апрель\", \"Май\", \"Июнь\", \"Июль\", \"Август\", \"Сентябрь\", \"Октябрь\",\"Ноябрь\", \"Декабрь\"]"
   ]
  },
  {
   "cell_type": "code",
   "execution_count": 193,
   "metadata": {},
   "outputs": [
    {
     "data": {
      "text/plain": [
       "Сезон\n",
       "Весна    0.368743\n",
       "Зима     0.380508\n",
       "Лето     0.429137\n",
       "Осень    0.424908\n",
       "dtype: object"
      ]
     },
     "execution_count": 193,
     "metadata": {},
     "output_type": "execute_result"
    }
   ],
   "source": [
    "1 - df1.groupby([\"Сезон\"])[\"Состояние\"].describe()[\"freq\"] / df1.groupby([\"Сезон\"])[\"Состояние\"].describe()[\"count\"]"
   ]
  },
  {
   "cell_type": "code",
   "execution_count": 212,
   "metadata": {},
   "outputs": [
    {
     "data": {
      "text/plain": [
       "Локация  Состояние \n",
       "город    Не указано    226 \n",
       "         живой         4315\n",
       "         ищется        1225\n",
       "         мертвый       1350\n",
       "деревня  Не указано    4   \n",
       "         живой         581 \n",
       "         ищется        253 \n",
       "         мертвый       282 \n",
       "Name: Состояние, dtype: int64"
      ]
     },
     "execution_count": 212,
     "metadata": {},
     "output_type": "execute_result"
    }
   ],
   "source": [
    "df1[df1[\"Гендер\"]!=\"Er\"].groupby([\"Локация\",\"Состояние\"])[\"Состояние\"].count()"
   ]
  },
  {
   "cell_type": "markdown",
   "metadata": {},
   "source": [
    "# Блок 2"
   ]
  },
  {
   "cell_type": "code",
   "execution_count": 240,
   "metadata": {},
   "outputs": [],
   "source": [
    "df2 = df1[df1[\"Время поиска\"] < 100]\n",
    "df22 = df2[df2[\"Время поиска\"] > -1]\n",
    "df22 = df22[df22[\"Искатели\"] < 150]"
   ]
  },
  {
   "cell_type": "code",
   "execution_count": 241,
   "metadata": {},
   "outputs": [
    {
     "data": {
      "text/plain": [
       "<matplotlib.axes._subplots.AxesSubplot at 0x1a2326bf60>"
      ]
     },
     "execution_count": 241,
     "metadata": {},
     "output_type": "execute_result"
    },
    {
     "data": {
      "image/png": "[encoded data removed]",
      "text/plain": [
       "<Figure size 432x288 with 1 Axes>"
      ]
     },
     "metadata": {
      "needs_background": "light"
     },
     "output_type": "display_data"
    }
   ],
   "source": [
    "sns.scatterplot(x=\"Искатели\", y=\"Время поиска\", data=df22)"
   ]
  },
  {
   "cell_type": "code",
   "execution_count": 242,
   "metadata": {},
   "outputs": [
    {
     "data": {
      "text/plain": [
       "Состояние\n",
       "Не указано    4.909091\n",
       "живой         8.629806\n",
       "ищется        8.295840\n",
       "мертвый       6.789512\n",
       "Name: Искатели, dtype: float64"
      ]
     },
     "execution_count": 242,
     "metadata": {},
     "output_type": "execute_result"
    }
   ],
   "source": [
    "df22.groupby([\"Состояние\"])[\"Искатели\"].mean()"
   ]
  },
  {
   "cell_type": "code",
   "execution_count": 243,
   "metadata": {},
   "outputs": [
    {
     "data": {
      "text/html": [
       "<div>\n",
       "<style scoped>\n",
       "    .dataframe tbody tr th:only-of-type {\n",
       "        vertical-align: middle;\n",
       "    }\n",
       "\n",
       "    .dataframe tbody tr th {\n",
       "        vertical-align: top;\n",
       "    }\n",
       "\n",
       "    .dataframe thead th {\n",
       "        text-align: right;\n",
       "    }\n",
       "</style>\n",
       "<table border=\"1\" class=\"dataframe\">\n",
       "  <thead>\n",
       "    <tr style=\"text-align: right;\">\n",
       "      <th></th>\n",
       "      <th>count</th>\n",
       "      <th>unique</th>\n",
       "      <th>top</th>\n",
       "      <th>freq</th>\n",
       "    </tr>\n",
       "    <tr>\n",
       "      <th>Искатели</th>\n",
       "      <th></th>\n",
       "      <th></th>\n",
       "      <th></th>\n",
       "      <th></th>\n",
       "    </tr>\n",
       "  </thead>\n",
       "  <tbody>\n",
       "    <tr>\n",
       "      <th>0</th>\n",
       "      <td>519</td>\n",
       "      <td>4</td>\n",
       "      <td>ищется</td>\n",
       "      <td>260</td>\n",
       "    </tr>\n",
       "    <tr>\n",
       "      <th>1</th>\n",
       "      <td>4245</td>\n",
       "      <td>4</td>\n",
       "      <td>живой</td>\n",
       "      <td>2823</td>\n",
       "    </tr>\n",
       "    <tr>\n",
       "      <th>2</th>\n",
       "      <td>576</td>\n",
       "      <td>4</td>\n",
       "      <td>живой</td>\n",
       "      <td>378</td>\n",
       "    </tr>\n",
       "    <tr>\n",
       "      <th>3</th>\n",
       "      <td>346</td>\n",
       "      <td>4</td>\n",
       "      <td>живой</td>\n",
       "      <td>247</td>\n",
       "    </tr>\n",
       "    <tr>\n",
       "      <th>4</th>\n",
       "      <td>221</td>\n",
       "      <td>4</td>\n",
       "      <td>живой</td>\n",
       "      <td>105</td>\n",
       "    </tr>\n",
       "    <tr>\n",
       "      <th>5</th>\n",
       "      <td>167</td>\n",
       "      <td>4</td>\n",
       "      <td>живой</td>\n",
       "      <td>102</td>\n",
       "    </tr>\n",
       "    <tr>\n",
       "      <th>6</th>\n",
       "      <td>121</td>\n",
       "      <td>4</td>\n",
       "      <td>живой</td>\n",
       "      <td>54</td>\n",
       "    </tr>\n",
       "    <tr>\n",
       "      <th>7</th>\n",
       "      <td>128</td>\n",
       "      <td>4</td>\n",
       "      <td>живой</td>\n",
       "      <td>62</td>\n",
       "    </tr>\n",
       "    <tr>\n",
       "      <th>8</th>\n",
       "      <td>125</td>\n",
       "      <td>4</td>\n",
       "      <td>живой</td>\n",
       "      <td>77</td>\n",
       "    </tr>\n",
       "    <tr>\n",
       "      <th>9</th>\n",
       "      <td>112</td>\n",
       "      <td>3</td>\n",
       "      <td>живой</td>\n",
       "      <td>72</td>\n",
       "    </tr>\n",
       "    <tr>\n",
       "      <th>10</th>\n",
       "      <td>93</td>\n",
       "      <td>4</td>\n",
       "      <td>живой</td>\n",
       "      <td>62</td>\n",
       "    </tr>\n",
       "    <tr>\n",
       "      <th>11</th>\n",
       "      <td>110</td>\n",
       "      <td>3</td>\n",
       "      <td>живой</td>\n",
       "      <td>67</td>\n",
       "    </tr>\n",
       "    <tr>\n",
       "      <th>12</th>\n",
       "      <td>90</td>\n",
       "      <td>3</td>\n",
       "      <td>живой</td>\n",
       "      <td>48</td>\n",
       "    </tr>\n",
       "    <tr>\n",
       "      <th>13</th>\n",
       "      <td>105</td>\n",
       "      <td>4</td>\n",
       "      <td>живой</td>\n",
       "      <td>62</td>\n",
       "    </tr>\n",
       "    <tr>\n",
       "      <th>14</th>\n",
       "      <td>62</td>\n",
       "      <td>4</td>\n",
       "      <td>живой</td>\n",
       "      <td>44</td>\n",
       "    </tr>\n",
       "    <tr>\n",
       "      <th>15</th>\n",
       "      <td>62</td>\n",
       "      <td>4</td>\n",
       "      <td>живой</td>\n",
       "      <td>40</td>\n",
       "    </tr>\n",
       "    <tr>\n",
       "      <th>16</th>\n",
       "      <td>70</td>\n",
       "      <td>4</td>\n",
       "      <td>живой</td>\n",
       "      <td>37</td>\n",
       "    </tr>\n",
       "    <tr>\n",
       "      <th>17</th>\n",
       "      <td>48</td>\n",
       "      <td>4</td>\n",
       "      <td>живой</td>\n",
       "      <td>36</td>\n",
       "    </tr>\n",
       "    <tr>\n",
       "      <th>18</th>\n",
       "      <td>38</td>\n",
       "      <td>3</td>\n",
       "      <td>живой</td>\n",
       "      <td>27</td>\n",
       "    </tr>\n",
       "    <tr>\n",
       "      <th>19</th>\n",
       "      <td>39</td>\n",
       "      <td>4</td>\n",
       "      <td>живой</td>\n",
       "      <td>25</td>\n",
       "    </tr>\n",
       "    <tr>\n",
       "      <th>20</th>\n",
       "      <td>23</td>\n",
       "      <td>3</td>\n",
       "      <td>живой</td>\n",
       "      <td>9</td>\n",
       "    </tr>\n",
       "    <tr>\n",
       "      <th>21</th>\n",
       "      <td>16</td>\n",
       "      <td>3</td>\n",
       "      <td>живой</td>\n",
       "      <td>9</td>\n",
       "    </tr>\n",
       "    <tr>\n",
       "      <th>22</th>\n",
       "      <td>42</td>\n",
       "      <td>4</td>\n",
       "      <td>живой</td>\n",
       "      <td>32</td>\n",
       "    </tr>\n",
       "    <tr>\n",
       "      <th>23</th>\n",
       "      <td>36</td>\n",
       "      <td>4</td>\n",
       "      <td>живой</td>\n",
       "      <td>31</td>\n",
       "    </tr>\n",
       "    <tr>\n",
       "      <th>24</th>\n",
       "      <td>25</td>\n",
       "      <td>4</td>\n",
       "      <td>живой</td>\n",
       "      <td>17</td>\n",
       "    </tr>\n",
       "    <tr>\n",
       "      <th>25</th>\n",
       "      <td>32</td>\n",
       "      <td>3</td>\n",
       "      <td>ищется</td>\n",
       "      <td>13</td>\n",
       "    </tr>\n",
       "    <tr>\n",
       "      <th>26</th>\n",
       "      <td>11</td>\n",
       "      <td>3</td>\n",
       "      <td>живой</td>\n",
       "      <td>5</td>\n",
       "    </tr>\n",
       "    <tr>\n",
       "      <th>27</th>\n",
       "      <td>9</td>\n",
       "      <td>3</td>\n",
       "      <td>ищется</td>\n",
       "      <td>4</td>\n",
       "    </tr>\n",
       "    <tr>\n",
       "      <th>28</th>\n",
       "      <td>10</td>\n",
       "      <td>2</td>\n",
       "      <td>ищется</td>\n",
       "      <td>5</td>\n",
       "    </tr>\n",
       "    <tr>\n",
       "      <th>29</th>\n",
       "      <td>22</td>\n",
       "      <td>3</td>\n",
       "      <td>живой</td>\n",
       "      <td>14</td>\n",
       "    </tr>\n",
       "    <tr>\n",
       "      <th>30</th>\n",
       "      <td>22</td>\n",
       "      <td>3</td>\n",
       "      <td>живой</td>\n",
       "      <td>16</td>\n",
       "    </tr>\n",
       "    <tr>\n",
       "      <th>31</th>\n",
       "      <td>13</td>\n",
       "      <td>3</td>\n",
       "      <td>живой</td>\n",
       "      <td>8</td>\n",
       "    </tr>\n",
       "    <tr>\n",
       "      <th>32</th>\n",
       "      <td>12</td>\n",
       "      <td>3</td>\n",
       "      <td>мертвый</td>\n",
       "      <td>6</td>\n",
       "    </tr>\n",
       "    <tr>\n",
       "      <th>33</th>\n",
       "      <td>17</td>\n",
       "      <td>3</td>\n",
       "      <td>живой</td>\n",
       "      <td>12</td>\n",
       "    </tr>\n",
       "    <tr>\n",
       "      <th>34</th>\n",
       "      <td>16</td>\n",
       "      <td>3</td>\n",
       "      <td>мертвый</td>\n",
       "      <td>8</td>\n",
       "    </tr>\n",
       "    <tr>\n",
       "      <th>35</th>\n",
       "      <td>15</td>\n",
       "      <td>3</td>\n",
       "      <td>живой</td>\n",
       "      <td>11</td>\n",
       "    </tr>\n",
       "    <tr>\n",
       "      <th>36</th>\n",
       "      <td>11</td>\n",
       "      <td>3</td>\n",
       "      <td>мертвый</td>\n",
       "      <td>5</td>\n",
       "    </tr>\n",
       "    <tr>\n",
       "      <th>37</th>\n",
       "      <td>7</td>\n",
       "      <td>3</td>\n",
       "      <td>живой</td>\n",
       "      <td>5</td>\n",
       "    </tr>\n",
       "    <tr>\n",
       "      <th>38</th>\n",
       "      <td>8</td>\n",
       "      <td>3</td>\n",
       "      <td>живой</td>\n",
       "      <td>5</td>\n",
       "    </tr>\n",
       "    <tr>\n",
       "      <th>39</th>\n",
       "      <td>4</td>\n",
       "      <td>2</td>\n",
       "      <td>живой</td>\n",
       "      <td>3</td>\n",
       "    </tr>\n",
       "    <tr>\n",
       "      <th>40</th>\n",
       "      <td>7</td>\n",
       "      <td>1</td>\n",
       "      <td>живой</td>\n",
       "      <td>7</td>\n",
       "    </tr>\n",
       "    <tr>\n",
       "      <th>41</th>\n",
       "      <td>15</td>\n",
       "      <td>3</td>\n",
       "      <td>живой</td>\n",
       "      <td>8</td>\n",
       "    </tr>\n",
       "    <tr>\n",
       "      <th>42</th>\n",
       "      <td>8</td>\n",
       "      <td>3</td>\n",
       "      <td>живой</td>\n",
       "      <td>6</td>\n",
       "    </tr>\n",
       "    <tr>\n",
       "      <th>43</th>\n",
       "      <td>4</td>\n",
       "      <td>1</td>\n",
       "      <td>живой</td>\n",
       "      <td>4</td>\n",
       "    </tr>\n",
       "    <tr>\n",
       "      <th>44</th>\n",
       "      <td>7</td>\n",
       "      <td>3</td>\n",
       "      <td>ищется</td>\n",
       "      <td>3</td>\n",
       "    </tr>\n",
       "    <tr>\n",
       "      <th>45</th>\n",
       "      <td>10</td>\n",
       "      <td>2</td>\n",
       "      <td>живой</td>\n",
       "      <td>9</td>\n",
       "    </tr>\n",
       "    <tr>\n",
       "      <th>46</th>\n",
       "      <td>13</td>\n",
       "      <td>3</td>\n",
       "      <td>живой</td>\n",
       "      <td>10</td>\n",
       "    </tr>\n",
       "    <tr>\n",
       "      <th>47</th>\n",
       "      <td>9</td>\n",
       "      <td>3</td>\n",
       "      <td>живой</td>\n",
       "      <td>6</td>\n",
       "    </tr>\n",
       "    <tr>\n",
       "      <th>48</th>\n",
       "      <td>4</td>\n",
       "      <td>2</td>\n",
       "      <td>ищется</td>\n",
       "      <td>2</td>\n",
       "    </tr>\n",
       "    <tr>\n",
       "      <th>49</th>\n",
       "      <td>6</td>\n",
       "      <td>3</td>\n",
       "      <td>живой</td>\n",
       "      <td>3</td>\n",
       "    </tr>\n",
       "    <tr>\n",
       "      <th>50</th>\n",
       "      <td>5</td>\n",
       "      <td>2</td>\n",
       "      <td>живой</td>\n",
       "      <td>4</td>\n",
       "    </tr>\n",
       "    <tr>\n",
       "      <th>51</th>\n",
       "      <td>4</td>\n",
       "      <td>3</td>\n",
       "      <td>живой</td>\n",
       "      <td>2</td>\n",
       "    </tr>\n",
       "    <tr>\n",
       "      <th>52</th>\n",
       "      <td>6</td>\n",
       "      <td>3</td>\n",
       "      <td>живой</td>\n",
       "      <td>3</td>\n",
       "    </tr>\n",
       "    <tr>\n",
       "      <th>53</th>\n",
       "      <td>10</td>\n",
       "      <td>4</td>\n",
       "      <td>живой</td>\n",
       "      <td>7</td>\n",
       "    </tr>\n",
       "    <tr>\n",
       "      <th>54</th>\n",
       "      <td>11</td>\n",
       "      <td>2</td>\n",
       "      <td>живой</td>\n",
       "      <td>10</td>\n",
       "    </tr>\n",
       "    <tr>\n",
       "      <th>55</th>\n",
       "      <td>3</td>\n",
       "      <td>2</td>\n",
       "      <td>живой</td>\n",
       "      <td>2</td>\n",
       "    </tr>\n",
       "    <tr>\n",
       "      <th>56</th>\n",
       "      <td>5</td>\n",
       "      <td>2</td>\n",
       "      <td>живой</td>\n",
       "      <td>4</td>\n",
       "    </tr>\n",
       "    <tr>\n",
       "      <th>57</th>\n",
       "      <td>6</td>\n",
       "      <td>1</td>\n",
       "      <td>живой</td>\n",
       "      <td>6</td>\n",
       "    </tr>\n",
       "    <tr>\n",
       "      <th>58</th>\n",
       "      <td>8</td>\n",
       "      <td>2</td>\n",
       "      <td>живой</td>\n",
       "      <td>6</td>\n",
       "    </tr>\n",
       "    <tr>\n",
       "      <th>59</th>\n",
       "      <td>6</td>\n",
       "      <td>2</td>\n",
       "      <td>живой</td>\n",
       "      <td>5</td>\n",
       "    </tr>\n",
       "    <tr>\n",
       "      <th>60</th>\n",
       "      <td>4</td>\n",
       "      <td>2</td>\n",
       "      <td>живой</td>\n",
       "      <td>3</td>\n",
       "    </tr>\n",
       "    <tr>\n",
       "      <th>61</th>\n",
       "      <td>6</td>\n",
       "      <td>2</td>\n",
       "      <td>живой</td>\n",
       "      <td>4</td>\n",
       "    </tr>\n",
       "    <tr>\n",
       "      <th>62</th>\n",
       "      <td>6</td>\n",
       "      <td>2</td>\n",
       "      <td>живой</td>\n",
       "      <td>5</td>\n",
       "    </tr>\n",
       "    <tr>\n",
       "      <th>63</th>\n",
       "      <td>3</td>\n",
       "      <td>1</td>\n",
       "      <td>живой</td>\n",
       "      <td>3</td>\n",
       "    </tr>\n",
       "    <tr>\n",
       "      <th>64</th>\n",
       "      <td>5</td>\n",
       "      <td>3</td>\n",
       "      <td>живой</td>\n",
       "      <td>3</td>\n",
       "    </tr>\n",
       "    <tr>\n",
       "      <th>65</th>\n",
       "      <td>3</td>\n",
       "      <td>2</td>\n",
       "      <td>живой</td>\n",
       "      <td>2</td>\n",
       "    </tr>\n",
       "    <tr>\n",
       "      <th>66</th>\n",
       "      <td>7</td>\n",
       "      <td>3</td>\n",
       "      <td>живой</td>\n",
       "      <td>5</td>\n",
       "    </tr>\n",
       "    <tr>\n",
       "      <th>67</th>\n",
       "      <td>4</td>\n",
       "      <td>2</td>\n",
       "      <td>живой</td>\n",
       "      <td>3</td>\n",
       "    </tr>\n",
       "    <tr>\n",
       "      <th>68</th>\n",
       "      <td>2</td>\n",
       "      <td>2</td>\n",
       "      <td>ищется</td>\n",
       "      <td>1</td>\n",
       "    </tr>\n",
       "    <tr>\n",
       "      <th>69</th>\n",
       "      <td>5</td>\n",
       "      <td>2</td>\n",
       "      <td>живой</td>\n",
       "      <td>4</td>\n",
       "    </tr>\n",
       "    <tr>\n",
       "      <th>70</th>\n",
       "      <td>6</td>\n",
       "      <td>3</td>\n",
       "      <td>живой</td>\n",
       "      <td>3</td>\n",
       "    </tr>\n",
       "    <tr>\n",
       "      <th>71</th>\n",
       "      <td>3</td>\n",
       "      <td>2</td>\n",
       "      <td>живой</td>\n",
       "      <td>2</td>\n",
       "    </tr>\n",
       "    <tr>\n",
       "      <th>72</th>\n",
       "      <td>3</td>\n",
       "      <td>2</td>\n",
       "      <td>живой</td>\n",
       "      <td>2</td>\n",
       "    </tr>\n",
       "    <tr>\n",
       "      <th>73</th>\n",
       "      <td>4</td>\n",
       "      <td>2</td>\n",
       "      <td>живой</td>\n",
       "      <td>3</td>\n",
       "    </tr>\n",
       "    <tr>\n",
       "      <th>74</th>\n",
       "      <td>7</td>\n",
       "      <td>3</td>\n",
       "      <td>живой</td>\n",
       "      <td>3</td>\n",
       "    </tr>\n",
       "    <tr>\n",
       "      <th>75</th>\n",
       "      <td>4</td>\n",
       "      <td>2</td>\n",
       "      <td>живой</td>\n",
       "      <td>3</td>\n",
       "    </tr>\n",
       "    <tr>\n",
       "      <th>76</th>\n",
       "      <td>7</td>\n",
       "      <td>2</td>\n",
       "      <td>живой</td>\n",
       "      <td>6</td>\n",
       "    </tr>\n",
       "    <tr>\n",
       "      <th>77</th>\n",
       "      <td>3</td>\n",
       "      <td>3</td>\n",
       "      <td>ищется</td>\n",
       "      <td>1</td>\n",
       "    </tr>\n",
       "    <tr>\n",
       "      <th>78</th>\n",
       "      <td>4</td>\n",
       "      <td>2</td>\n",
       "      <td>живой</td>\n",
       "      <td>3</td>\n",
       "    </tr>\n",
       "    <tr>\n",
       "      <th>79</th>\n",
       "      <td>3</td>\n",
       "      <td>2</td>\n",
       "      <td>живой</td>\n",
       "      <td>2</td>\n",
       "    </tr>\n",
       "    <tr>\n",
       "      <th>80</th>\n",
       "      <td>2</td>\n",
       "      <td>1</td>\n",
       "      <td>живой</td>\n",
       "      <td>2</td>\n",
       "    </tr>\n",
       "    <tr>\n",
       "      <th>81</th>\n",
       "      <td>4</td>\n",
       "      <td>2</td>\n",
       "      <td>живой</td>\n",
       "      <td>3</td>\n",
       "    </tr>\n",
       "    <tr>\n",
       "      <th>82</th>\n",
       "      <td>5</td>\n",
       "      <td>1</td>\n",
       "      <td>живой</td>\n",
       "      <td>5</td>\n",
       "    </tr>\n",
       "    <tr>\n",
       "      <th>83</th>\n",
       "      <td>6</td>\n",
       "      <td>2</td>\n",
       "      <td>живой</td>\n",
       "      <td>5</td>\n",
       "    </tr>\n",
       "    <tr>\n",
       "      <th>84</th>\n",
       "      <td>3</td>\n",
       "      <td>2</td>\n",
       "      <td>живой</td>\n",
       "      <td>2</td>\n",
       "    </tr>\n",
       "    <tr>\n",
       "      <th>85</th>\n",
       "      <td>2</td>\n",
       "      <td>2</td>\n",
       "      <td>Не указано</td>\n",
       "      <td>1</td>\n",
       "    </tr>\n",
       "    <tr>\n",
       "      <th>86</th>\n",
       "      <td>9</td>\n",
       "      <td>3</td>\n",
       "      <td>живой</td>\n",
       "      <td>7</td>\n",
       "    </tr>\n",
       "    <tr>\n",
       "      <th>87</th>\n",
       "      <td>3</td>\n",
       "      <td>2</td>\n",
       "      <td>живой</td>\n",
       "      <td>2</td>\n",
       "    </tr>\n",
       "    <tr>\n",
       "      <th>88</th>\n",
       "      <td>2</td>\n",
       "      <td>1</td>\n",
       "      <td>живой</td>\n",
       "      <td>2</td>\n",
       "    </tr>\n",
       "    <tr>\n",
       "      <th>89</th>\n",
       "      <td>5</td>\n",
       "      <td>1</td>\n",
       "      <td>живой</td>\n",
       "      <td>5</td>\n",
       "    </tr>\n",
       "    <tr>\n",
       "      <th>90</th>\n",
       "      <td>11</td>\n",
       "      <td>2</td>\n",
       "      <td>живой</td>\n",
       "      <td>8</td>\n",
       "    </tr>\n",
       "    <tr>\n",
       "      <th>91</th>\n",
       "      <td>3</td>\n",
       "      <td>1</td>\n",
       "      <td>живой</td>\n",
       "      <td>3</td>\n",
       "    </tr>\n",
       "    <tr>\n",
       "      <th>92</th>\n",
       "      <td>2</td>\n",
       "      <td>1</td>\n",
       "      <td>живой</td>\n",
       "      <td>2</td>\n",
       "    </tr>\n",
       "    <tr>\n",
       "      <th>93</th>\n",
       "      <td>4</td>\n",
       "      <td>1</td>\n",
       "      <td>живой</td>\n",
       "      <td>4</td>\n",
       "    </tr>\n",
       "    <tr>\n",
       "      <th>94</th>\n",
       "      <td>6</td>\n",
       "      <td>2</td>\n",
       "      <td>живой</td>\n",
       "      <td>4</td>\n",
       "    </tr>\n",
       "    <tr>\n",
       "      <th>95</th>\n",
       "      <td>2</td>\n",
       "      <td>2</td>\n",
       "      <td>живой</td>\n",
       "      <td>1</td>\n",
       "    </tr>\n",
       "    <tr>\n",
       "      <th>96</th>\n",
       "      <td>2</td>\n",
       "      <td>2</td>\n",
       "      <td>ищется</td>\n",
       "      <td>1</td>\n",
       "    </tr>\n",
       "    <tr>\n",
       "      <th>97</th>\n",
       "      <td>6</td>\n",
       "      <td>2</td>\n",
       "      <td>живой</td>\n",
       "      <td>4</td>\n",
       "    </tr>\n",
       "    <tr>\n",
       "      <th>98</th>\n",
       "      <td>5</td>\n",
       "      <td>2</td>\n",
       "      <td>живой</td>\n",
       "      <td>3</td>\n",
       "    </tr>\n",
       "    <tr>\n",
       "      <th>99</th>\n",
       "      <td>2</td>\n",
       "      <td>1</td>\n",
       "      <td>живой</td>\n",
       "      <td>2</td>\n",
       "    </tr>\n",
       "    <tr>\n",
       "      <th>100</th>\n",
       "      <td>2</td>\n",
       "      <td>1</td>\n",
       "      <td>живой</td>\n",
       "      <td>2</td>\n",
       "    </tr>\n",
       "    <tr>\n",
       "      <th>101</th>\n",
       "      <td>3</td>\n",
       "      <td>2</td>\n",
       "      <td>ищется</td>\n",
       "      <td>2</td>\n",
       "    </tr>\n",
       "    <tr>\n",
       "      <th>102</th>\n",
       "      <td>1</td>\n",
       "      <td>1</td>\n",
       "      <td>ищется</td>\n",
       "      <td>1</td>\n",
       "    </tr>\n",
       "    <tr>\n",
       "      <th>103</th>\n",
       "      <td>8</td>\n",
       "      <td>3</td>\n",
       "      <td>живой</td>\n",
       "      <td>6</td>\n",
       "    </tr>\n",
       "    <tr>\n",
       "      <th>104</th>\n",
       "      <td>2</td>\n",
       "      <td>1</td>\n",
       "      <td>живой</td>\n",
       "      <td>2</td>\n",
       "    </tr>\n",
       "    <tr>\n",
       "      <th>105</th>\n",
       "      <td>2</td>\n",
       "      <td>1</td>\n",
       "      <td>живой</td>\n",
       "      <td>2</td>\n",
       "    </tr>\n",
       "    <tr>\n",
       "      <th>106</th>\n",
       "      <td>6</td>\n",
       "      <td>1</td>\n",
       "      <td>живой</td>\n",
       "      <td>6</td>\n",
       "    </tr>\n",
       "    <tr>\n",
       "      <th>107</th>\n",
       "      <td>2</td>\n",
       "      <td>1</td>\n",
       "      <td>живой</td>\n",
       "      <td>2</td>\n",
       "    </tr>\n",
       "    <tr>\n",
       "      <th>108</th>\n",
       "      <td>1</td>\n",
       "      <td>1</td>\n",
       "      <td>ищется</td>\n",
       "      <td>1</td>\n",
       "    </tr>\n",
       "    <tr>\n",
       "      <th>109</th>\n",
       "      <td>3</td>\n",
       "      <td>2</td>\n",
       "      <td>мертвый</td>\n",
       "      <td>2</td>\n",
       "    </tr>\n",
       "    <tr>\n",
       "      <th>110</th>\n",
       "      <td>3</td>\n",
       "      <td>2</td>\n",
       "      <td>живой</td>\n",
       "      <td>2</td>\n",
       "    </tr>\n",
       "    <tr>\n",
       "      <th>111</th>\n",
       "      <td>5</td>\n",
       "      <td>3</td>\n",
       "      <td>живой</td>\n",
       "      <td>3</td>\n",
       "    </tr>\n",
       "    <tr>\n",
       "      <th>113</th>\n",
       "      <td>1</td>\n",
       "      <td>1</td>\n",
       "      <td>живой</td>\n",
       "      <td>1</td>\n",
       "    </tr>\n",
       "    <tr>\n",
       "      <th>114</th>\n",
       "      <td>2</td>\n",
       "      <td>2</td>\n",
       "      <td>ищется</td>\n",
       "      <td>1</td>\n",
       "    </tr>\n",
       "    <tr>\n",
       "      <th>116</th>\n",
       "      <td>3</td>\n",
       "      <td>2</td>\n",
       "      <td>ищется</td>\n",
       "      <td>2</td>\n",
       "    </tr>\n",
       "    <tr>\n",
       "      <th>118</th>\n",
       "      <td>1</td>\n",
       "      <td>1</td>\n",
       "      <td>живой</td>\n",
       "      <td>1</td>\n",
       "    </tr>\n",
       "    <tr>\n",
       "      <th>119</th>\n",
       "      <td>6</td>\n",
       "      <td>1</td>\n",
       "      <td>живой</td>\n",
       "      <td>6</td>\n",
       "    </tr>\n",
       "    <tr>\n",
       "      <th>120</th>\n",
       "      <td>3</td>\n",
       "      <td>2</td>\n",
       "      <td>живой</td>\n",
       "      <td>2</td>\n",
       "    </tr>\n",
       "    <tr>\n",
       "      <th>121</th>\n",
       "      <td>2</td>\n",
       "      <td>1</td>\n",
       "      <td>живой</td>\n",
       "      <td>2</td>\n",
       "    </tr>\n",
       "    <tr>\n",
       "      <th>122</th>\n",
       "      <td>6</td>\n",
       "      <td>2</td>\n",
       "      <td>живой</td>\n",
       "      <td>5</td>\n",
       "    </tr>\n",
       "    <tr>\n",
       "      <th>123</th>\n",
       "      <td>3</td>\n",
       "      <td>3</td>\n",
       "      <td>ищется</td>\n",
       "      <td>1</td>\n",
       "    </tr>\n",
       "    <tr>\n",
       "      <th>124</th>\n",
       "      <td>5</td>\n",
       "      <td>1</td>\n",
       "      <td>живой</td>\n",
       "      <td>5</td>\n",
       "    </tr>\n",
       "    <tr>\n",
       "      <th>125</th>\n",
       "      <td>1</td>\n",
       "      <td>1</td>\n",
       "      <td>живой</td>\n",
       "      <td>1</td>\n",
       "    </tr>\n",
       "    <tr>\n",
       "      <th>127</th>\n",
       "      <td>3</td>\n",
       "      <td>2</td>\n",
       "      <td>живой</td>\n",
       "      <td>2</td>\n",
       "    </tr>\n",
       "    <tr>\n",
       "      <th>128</th>\n",
       "      <td>2</td>\n",
       "      <td>2</td>\n",
       "      <td>живой</td>\n",
       "      <td>1</td>\n",
       "    </tr>\n",
       "    <tr>\n",
       "      <th>129</th>\n",
       "      <td>1</td>\n",
       "      <td>1</td>\n",
       "      <td>ищется</td>\n",
       "      <td>1</td>\n",
       "    </tr>\n",
       "    <tr>\n",
       "      <th>130</th>\n",
       "      <td>1</td>\n",
       "      <td>1</td>\n",
       "      <td>живой</td>\n",
       "      <td>1</td>\n",
       "    </tr>\n",
       "    <tr>\n",
       "      <th>131</th>\n",
       "      <td>3</td>\n",
       "      <td>1</td>\n",
       "      <td>живой</td>\n",
       "      <td>3</td>\n",
       "    </tr>\n",
       "    <tr>\n",
       "      <th>134</th>\n",
       "      <td>3</td>\n",
       "      <td>2</td>\n",
       "      <td>ищется</td>\n",
       "      <td>2</td>\n",
       "    </tr>\n",
       "    <tr>\n",
       "      <th>135</th>\n",
       "      <td>1</td>\n",
       "      <td>1</td>\n",
       "      <td>мертвый</td>\n",
       "      <td>1</td>\n",
       "    </tr>\n",
       "    <tr>\n",
       "      <th>136</th>\n",
       "      <td>5</td>\n",
       "      <td>2</td>\n",
       "      <td>живой</td>\n",
       "      <td>3</td>\n",
       "    </tr>\n",
       "    <tr>\n",
       "      <th>137</th>\n",
       "      <td>1</td>\n",
       "      <td>1</td>\n",
       "      <td>ищется</td>\n",
       "      <td>1</td>\n",
       "    </tr>\n",
       "    <tr>\n",
       "      <th>138</th>\n",
       "      <td>2</td>\n",
       "      <td>2</td>\n",
       "      <td>ищется</td>\n",
       "      <td>1</td>\n",
       "    </tr>\n",
       "    <tr>\n",
       "      <th>139</th>\n",
       "      <td>1</td>\n",
       "      <td>1</td>\n",
       "      <td>живой</td>\n",
       "      <td>1</td>\n",
       "    </tr>\n",
       "    <tr>\n",
       "      <th>140</th>\n",
       "      <td>1</td>\n",
       "      <td>1</td>\n",
       "      <td>ищется</td>\n",
       "      <td>1</td>\n",
       "    </tr>\n",
       "    <tr>\n",
       "      <th>141</th>\n",
       "      <td>1</td>\n",
       "      <td>1</td>\n",
       "      <td>Не указано</td>\n",
       "      <td>1</td>\n",
       "    </tr>\n",
       "    <tr>\n",
       "      <th>142</th>\n",
       "      <td>3</td>\n",
       "      <td>1</td>\n",
       "      <td>живой</td>\n",
       "      <td>3</td>\n",
       "    </tr>\n",
       "    <tr>\n",
       "      <th>144</th>\n",
       "      <td>1</td>\n",
       "      <td>1</td>\n",
       "      <td>ищется</td>\n",
       "      <td>1</td>\n",
       "    </tr>\n",
       "    <tr>\n",
       "      <th>145</th>\n",
       "      <td>2</td>\n",
       "      <td>1</td>\n",
       "      <td>живой</td>\n",
       "      <td>2</td>\n",
       "    </tr>\n",
       "    <tr>\n",
       "      <th>146</th>\n",
       "      <td>2</td>\n",
       "      <td>1</td>\n",
       "      <td>живой</td>\n",
       "      <td>2</td>\n",
       "    </tr>\n",
       "    <tr>\n",
       "      <th>147</th>\n",
       "      <td>3</td>\n",
       "      <td>2</td>\n",
       "      <td>живой</td>\n",
       "      <td>2</td>\n",
       "    </tr>\n",
       "    <tr>\n",
       "      <th>148</th>\n",
       "      <td>2</td>\n",
       "      <td>2</td>\n",
       "      <td>ищется</td>\n",
       "      <td>1</td>\n",
       "    </tr>\n",
       "    <tr>\n",
       "      <th>149</th>\n",
       "      <td>1</td>\n",
       "      <td>1</td>\n",
       "      <td>живой</td>\n",
       "      <td>1</td>\n",
       "    </tr>\n",
       "  </tbody>\n",
       "</table>\n",
       "</div>"
      ],
      "text/plain": [
       "         count unique         top  freq\n",
       "Искатели                               \n",
       "0         519   4      ищется      260 \n",
       "1         4245  4      живой       2823\n",
       "2         576   4      живой       378 \n",
       "3         346   4      живой       247 \n",
       "4         221   4      живой       105 \n",
       "5         167   4      живой       102 \n",
       "6         121   4      живой       54  \n",
       "7         128   4      живой       62  \n",
       "8         125   4      живой       77  \n",
       "9         112   3      живой       72  \n",
       "10        93    4      живой       62  \n",
       "11        110   3      живой       67  \n",
       "12        90    3      живой       48  \n",
       "13        105   4      живой       62  \n",
       "14        62    4      живой       44  \n",
       "15        62    4      живой       40  \n",
       "16        70    4      живой       37  \n",
       "17        48    4      живой       36  \n",
       "18        38    3      живой       27  \n",
       "19        39    4      живой       25  \n",
       "20        23    3      живой       9   \n",
       "21        16    3      живой       9   \n",
       "22        42    4      живой       32  \n",
       "23        36    4      живой       31  \n",
       "24        25    4      живой       17  \n",
       "25        32    3      ищется      13  \n",
       "26        11    3      живой       5   \n",
       "27        9     3      ищется      4   \n",
       "28        10    2      ищется      5   \n",
       "29        22    3      живой       14  \n",
       "30        22    3      живой       16  \n",
       "31        13    3      живой       8   \n",
       "32        12    3      мертвый     6   \n",
       "33        17    3      живой       12  \n",
       "34        16    3      мертвый     8   \n",
       "35        15    3      живой       11  \n",
       "36        11    3      мертвый     5   \n",
       "37        7     3      живой       5   \n",
       "38        8     3      живой       5   \n",
       "39        4     2      живой       3   \n",
       "40        7     1      живой       7   \n",
       "41        15    3      живой       8   \n",
       "42        8     3      живой       6   \n",
       "43        4     1      живой       4   \n",
       "44        7     3      ищется      3   \n",
       "45        10    2      живой       9   \n",
       "46        13    3      живой       10  \n",
       "47        9     3      живой       6   \n",
       "48        4     2      ищется      2   \n",
       "49        6     3      живой       3   \n",
       "50        5     2      живой       4   \n",
       "51        4     3      живой       2   \n",
       "52        6     3      живой       3   \n",
       "53        10    4      живой       7   \n",
       "54        11    2      живой       10  \n",
       "55        3     2      живой       2   \n",
       "56        5     2      живой       4   \n",
       "57        6     1      живой       6   \n",
       "58        8     2      живой       6   \n",
       "59        6     2      живой       5   \n",
       "60        4     2      живой       3   \n",
       "61        6     2      живой       4   \n",
       "62        6     2      живой       5   \n",
       "63        3     1      живой       3   \n",
       "64        5     3      живой       3   \n",
       "65        3     2      живой       2   \n",
       "66        7     3      живой       5   \n",
       "67        4     2      живой       3   \n",
       "68        2     2      ищется      1   \n",
       "69        5     2      живой       4   \n",
       "70        6     3      живой       3   \n",
       "71        3     2      живой       2   \n",
       "72        3     2      живой       2   \n",
       "73        4     2      живой       3   \n",
       "74        7     3      живой       3   \n",
       "75        4     2      живой       3   \n",
       "76        7     2      живой       6   \n",
       "77        3     3      ищется      1   \n",
       "78        4     2      живой       3   \n",
       "79        3     2      живой       2   \n",
       "80        2     1      живой       2   \n",
       "81        4     2      живой       3   \n",
       "82        5     1      живой       5   \n",
       "83        6     2      живой       5   \n",
       "84        3     2      живой       2   \n",
       "85        2     2      Не указано  1   \n",
       "86        9     3      живой       7   \n",
       "87        3     2      живой       2   \n",
       "88        2     1      живой       2   \n",
       "89        5     1      живой       5   \n",
       "90        11    2      живой       8   \n",
       "91        3     1      живой       3   \n",
       "92        2     1      живой       2   \n",
       "93        4     1      живой       4   \n",
       "94        6     2      живой       4   \n",
       "95        2     2      живой       1   \n",
       "96        2     2      ищется      1   \n",
       "97        6     2      живой       4   \n",
       "98        5     2      живой       3   \n",
       "99        2     1      живой       2   \n",
       "100       2     1      живой       2   \n",
       "101       3     2      ищется      2   \n",
       "102       1     1      ищется      1   \n",
       "103       8     3      живой       6   \n",
       "104       2     1      живой       2   \n",
       "105       2     1      живой       2   \n",
       "106       6     1      живой       6   \n",
       "107       2     1      живой       2   \n",
       "108       1     1      ищется      1   \n",
       "109       3     2      мертвый     2   \n",
       "110       3     2      живой       2   \n",
       "111       5     3      живой       3   \n",
       "113       1     1      живой       1   \n",
       "114       2     2      ищется      1   \n",
       "116       3     2      ищется      2   \n",
       "118       1     1      живой       1   \n",
       "119       6     1      живой       6   \n",
       "120       3     2      живой       2   \n",
       "121       2     1      живой       2   \n",
       "122       6     2      живой       5   \n",
       "123       3     3      ищется      1   \n",
       "124       5     1      живой       5   \n",
       "125       1     1      живой       1   \n",
       "127       3     2      живой       2   \n",
       "128       2     2      живой       1   \n",
       "129       1     1      ищется      1   \n",
       "130       1     1      живой       1   \n",
       "131       3     1      живой       3   \n",
       "134       3     2      ищется      2   \n",
       "135       1     1      мертвый     1   \n",
       "136       5     2      живой       3   \n",
       "137       1     1      ищется      1   \n",
       "138       2     2      ищется      1   \n",
       "139       1     1      живой       1   \n",
       "140       1     1      ищется      1   \n",
       "141       1     1      Не указано  1   \n",
       "142       3     1      живой       3   \n",
       "144       1     1      ищется      1   \n",
       "145       2     1      живой       2   \n",
       "146       2     1      живой       2   \n",
       "147       3     2      живой       2   \n",
       "148       2     2      ищется      1   \n",
       "149       1     1      живой       1   "
      ]
     },
     "execution_count": 243,
     "metadata": {},
     "output_type": "execute_result"
    }
   ],
   "source": [
    "df22.groupby([\"Искатели\"])[\"Состояние\"].describe()"
   ]
  },
  {
   "cell_type": "code",
   "execution_count": 244,
   "metadata": {},
   "outputs": [],
   "source": [
    "kolya_chilit = df22.groupby([\"Искатели\"])[\"Состояние\"].describe()[\"freq\"] / df22.groupby([\"Искатели\"])[\"Состояние\"].describe()[\"count\"]"
   ]
  },
  {
   "cell_type": "code",
   "execution_count": 245,
   "metadata": {},
   "outputs": [
    {
     "data": {
      "text/plain": [
       "[0.5009633911368016,\n",
       " 0.665017667844523,\n",
       " 0.65625,\n",
       " 0.7138728323699421,\n",
       " 0.4751131221719457,\n",
       " 0.6107784431137725,\n",
       " 0.4462809917355372,\n",
       " 0.484375,\n",
       " 0.616,\n",
       " 0.6428571428571429,\n",
       " 0.6666666666666666,\n",
       " 0.6090909090909091,\n",
       " 0.5333333333333333,\n",
       " 0.5904761904761905,\n",
       " 0.7096774193548387,\n",
       " 0.6451612903225806,\n",
       " 0.5285714285714286,\n",
       " 0.75,\n",
       " 0.7105263157894737,\n",
       " 0.6410256410256411,\n",
       " 0.391304347826087,\n",
       " 0.5625,\n",
       " 0.7619047619047619,\n",
       " 0.8611111111111112,\n",
       " 0.68,\n",
       " 0.40625,\n",
       " 0.45454545454545453,\n",
       " 0.4444444444444444,\n",
       " 0.5,\n",
       " 0.6363636363636364,\n",
       " 0.7272727272727273,\n",
       " 0.6153846153846154,\n",
       " 0.5,\n",
       " 0.7058823529411765,\n",
       " 0.5,\n",
       " 0.7333333333333333,\n",
       " 0.45454545454545453,\n",
       " 0.7142857142857143,\n",
       " 0.625,\n",
       " 0.75,\n",
       " 1.0,\n",
       " 0.5333333333333333,\n",
       " 0.75,\n",
       " 1.0,\n",
       " 0.42857142857142855,\n",
       " 0.9,\n",
       " 0.7692307692307693,\n",
       " 0.6666666666666666,\n",
       " 0.5,\n",
       " 0.5,\n",
       " 0.8,\n",
       " 0.5,\n",
       " 0.5,\n",
       " 0.7,\n",
       " 0.9090909090909091,\n",
       " 0.6666666666666666,\n",
       " 0.8,\n",
       " 1.0,\n",
       " 0.75,\n",
       " 0.8333333333333334,\n",
       " 0.75,\n",
       " 0.6666666666666666,\n",
       " 0.8333333333333334,\n",
       " 1.0,\n",
       " 0.6,\n",
       " 0.6666666666666666,\n",
       " 0.7142857142857143,\n",
       " 0.75,\n",
       " 0.5,\n",
       " 0.8,\n",
       " 0.5,\n",
       " 0.6666666666666666,\n",
       " 0.6666666666666666,\n",
       " 0.75,\n",
       " 0.42857142857142855,\n",
       " 0.75,\n",
       " 0.8571428571428571,\n",
       " 0.3333333333333333,\n",
       " 0.75,\n",
       " 0.6666666666666666,\n",
       " 1.0,\n",
       " 0.75,\n",
       " 1.0,\n",
       " 0.8333333333333334,\n",
       " 0.6666666666666666,\n",
       " 0.5,\n",
       " 0.7777777777777778,\n",
       " 0.6666666666666666,\n",
       " 1.0,\n",
       " 1.0,\n",
       " 0.7272727272727273,\n",
       " 1.0,\n",
       " 1.0,\n",
       " 1.0,\n",
       " 0.6666666666666666,\n",
       " 0.5,\n",
       " 0.5,\n",
       " 0.6666666666666666,\n",
       " 0.6,\n",
       " 1.0,\n",
       " 1.0,\n",
       " 0.6666666666666666,\n",
       " 1.0,\n",
       " 0.75,\n",
       " 1.0,\n",
       " 1.0,\n",
       " 1.0,\n",
       " 1.0,\n",
       " 1.0,\n",
       " 0.6666666666666666,\n",
       " 0.6666666666666666,\n",
       " 0.6,\n",
       " 1.0,\n",
       " 0.5,\n",
       " 0.6666666666666666,\n",
       " 1.0,\n",
       " 1.0,\n",
       " 0.6666666666666666,\n",
       " 1.0,\n",
       " 0.8333333333333334,\n",
       " 0.3333333333333333,\n",
       " 1.0,\n",
       " 1.0,\n",
       " 0.6666666666666666,\n",
       " 0.5,\n",
       " 1.0,\n",
       " 1.0,\n",
       " 1.0,\n",
       " 0.6666666666666666,\n",
       " 1.0,\n",
       " 0.6,\n",
       " 1.0,\n",
       " 0.5,\n",
       " 1.0,\n",
       " 1.0,\n",
       " 1.0,\n",
       " 1.0,\n",
       " 1.0,\n",
       " 1.0,\n",
       " 1.0,\n",
       " 0.6666666666666666,\n",
       " 0.5,\n",
       " 1.0]"
      ]
     },
     "execution_count": 245,
     "metadata": {},
     "output_type": "execute_result"
    }
   ],
   "source": [
    "list(kolya_chilit.values)"
   ]
  },
  {
   "cell_type": "code",
   "execution_count": 246,
   "metadata": {},
   "outputs": [
    {
     "data": {
      "text/plain": [
       "<matplotlib.axes._subplots.AxesSubplot at 0x1a232594e0>"
      ]
     },
     "execution_count": 246,
     "metadata": {},
     "output_type": "execute_result"
    },
    {
     "data": {
      "image/png": "[encoded data removed]",
      "text/plain": [
       "<Figure size 432x288 with 1 Axes>"
      ]
     },
     "metadata": {
      "needs_background": "light"
     },
     "output_type": "display_data"
    }
   ],
   "source": [
    "sns.scatterplot(y = list(kolya_chilit.values), x = list(kolya_chilit.index))"
   ]
  },
  {
   "cell_type": "markdown",
   "metadata": {},
   "source": [
    "Искатели, пидорасы, твари, дома не сидят, но не работают\n"
   ]
  },
  {
   "cell_type": "code",
   "execution_count": 250,
   "metadata": {},
   "outputs": [
    {
     "data": {
      "text/plain": [
       "<matplotlib.axes._subplots.AxesSubplot at 0x1a236e36a0>"
      ]
     },
     "execution_count": 250,
     "metadata": {},
     "output_type": "execute_result"
    },
    {
     "data": {
      "image/png": "[encoded data removed]",
      "text/plain": [
       "<Figure size 432x288 with 1 Axes>"
      ]
     },
     "metadata": {
      "needs_background": "light"
     },
     "output_type": "display_data"
    }
   ],
   "source": [
    "sns.scatterplot(x = \"Сила искателей\", y = \"Время поиска\", data=df22)"
   ]
  },
  {
   "cell_type": "code",
   "execution_count": 260,
   "metadata": {},
   "outputs": [],
   "source": [
    "df_23 = df22[df22[\"Приметы_колво\"]!= \"Не указано\"]"
   ]
  },
  {
   "cell_type": "code",
   "execution_count": 261,
   "metadata": {},
   "outputs": [
    {
     "data": {
      "text/plain": [
       "<matplotlib.axes._subplots.AxesSubplot at 0x1a22026438>"
      ]
     },
     "execution_count": 261,
     "metadata": {},
     "output_type": "execute_result"
    },
    {
     "data": {
      "image/png": "[encoded data removed]",
      "text/plain": [
       "<Figure size 432x288 with 1 Axes>"
      ]
     },
     "metadata": {
      "needs_background": "light"
     },
     "output_type": "display_data"
    }
   ],
   "source": [
    "sns.lineplot(x = \"Приметы_колво\", y = \"Время поиска\", data=df_23)"
   ]
  },
  {
   "cell_type": "markdown",
   "metadata": {},
   "source": [
    "Categorical plots"
   ]
  },
  {
   "cell_type": "code",
   "execution_count": 262,
   "metadata": {},
   "outputs": [
    {
     "data": {
      "text/plain": [
       "<matplotlib.axes._subplots.AxesSubplot at 0x1a1fac4da0>"
      ]
     },
     "execution_count": 262,
     "metadata": {},
     "output_type": "execute_result"
    },
    {
     "data": {
      "image/png": "[encoded data removed]",
      "text/plain": [
       "<Figure size 432x288 with 1 Axes>"
      ]
     },
     "metadata": {
      "needs_background": "light"
     },
     "output_type": "display_data"
    }
   ],
   "source": [
    "sns.barplot(y = \"Время поиска\", x = 'Локация', data=df_23)"
   ]
  },
  {
   "cell_type": "code",
   "execution_count": 267,
   "metadata": {},
   "outputs": [
    {
     "data": {
      "text/plain": [
       "<matplotlib.axes._subplots.AxesSubplot at 0x1a200e7ba8>"
      ]
     },
     "execution_count": 267,
     "metadata": {},
     "output_type": "execute_result"
    },
    {
     "data": {
      "image/png": "[encoded data removed]",
      "text/plain": [
       "<Figure size 432x288 with 1 Axes>"
      ]
     },
     "metadata": {
      "needs_background": "light"
     },
     "output_type": "display_data"
    }
   ],
   "source": [
    "sns.barplot(y = \"Время поиска\", x = 'Сезон', data=df_23, estimator=median)"
   ]
  },
  {
   "cell_type": "code",
   "execution_count": 270,
   "metadata": {},
   "outputs": [
    {
     "data": {
      "text/plain": [
       "<matplotlib.axes._subplots.AxesSubplot at 0x1a1ea12d68>"
      ]
     },
     "execution_count": 270,
     "metadata": {},
     "output_type": "execute_result"
    },
    {
     "data": {
      "image/png": "[encoded data removed]",
      "text/plain": [
       "<Figure size 432x288 with 1 Axes>"
      ]
     },
     "metadata": {
      "needs_background": "light"
     },
     "output_type": "display_data"
    }
   ],
   "source": [
    "sns.barplot(y = \"Время поиска\", x = 'Сезон', data=df_23, estimator=mean)"
   ]
  },
  {
   "cell_type": "code",
   "execution_count": 277,
   "metadata": {},
   "outputs": [],
   "source": [
    "loc_and_state = df_23[['Локация', \"Состояние\"]]"
   ]
  },
  {
   "cell_type": "code",
   "execution_count": 286,
   "metadata": {},
   "outputs": [],
   "source": [
    "lns = loc_and_state[loc_and_state[\"Локация\"] == \"город\"]"
   ]
  },
  {
   "cell_type": "code",
   "execution_count": 289,
   "metadata": {},
   "outputs": [
    {
     "data": {
      "text/plain": [
       "0.6391184573002755"
      ]
     },
     "execution_count": 289,
     "metadata": {},
     "output_type": "execute_result"
    }
   ],
   "source": [
    "len(lns[lns[\"Состояние\"] == \"живой\"])/len(lns)"
   ]
  },
  {
   "cell_type": "code",
   "execution_count": 291,
   "metadata": {},
   "outputs": [],
   "source": [
    "lms = loc_and_state[loc_and_state[\"Локация\"] == \"деревня\"]"
   ]
  },
  {
   "cell_type": "code",
   "execution_count": 292,
   "metadata": {},
   "outputs": [
    {
     "data": {
      "text/plain": [
       "0.5630585898709036"
      ]
     },
     "execution_count": 292,
     "metadata": {},
     "output_type": "execute_result"
    }
   ],
   "source": [
    "len(lms[lms[\"Состояние\"] == \"живой\"])/len(lms)"
   ]
  },
  {
   "cell_type": "code",
   "execution_count": 20,
   "metadata": {},
   "outputs": [
    {
     "data": {
      "text/plain": [
       "<matplotlib.axes._subplots.AxesSubplot at 0x17cfe0a19e8>"
      ]
     },
     "execution_count": 20,
     "metadata": {},
     "output_type": "execute_result"
    },
    {
     "data": {
      "image/png": "[encoded data removed]",
      "text/plain": [
       "<Figure size 432x288 with 1 Axes>"
      ]
     },
     "metadata": {
      "needs_background": "light"
     },
     "output_type": "display_data"
    }
   ],
   "source": [
    "sns.barplot(x = \"Состояние\", y = \"Искатели\", data = df)"
   ]
  },
  {
   "cell_type": "code",
   "execution_count": 21,
   "metadata": {},
   "outputs": [
    {
     "data": {
      "text/plain": [
       "<matplotlib.axes._subplots.AxesSubplot at 0x17cfe456a20>"
      ]
     },
     "execution_count": 21,
     "metadata": {},
     "output_type": "execute_result"
    },
    {
     "data": {
      "image/png": "[encoded data removed]",
      "text/plain": [
       "<Figure size 432x288 with 1 Axes>"
      ]
     },
     "metadata": {
      "needs_background": "light"
     },
     "output_type": "display_data"
    }
   ],
   "source": [
    "sns.barplot(x = \"Состояние\", y = \"Искатели\", data = df, estimator =)"
   ]
  },
  {
   "cell_type": "code",
   "execution_count": 29,
   "metadata": {
    "scrolled": true
   },
   "outputs": [
    {
     "data": {
      "text/plain": [
       "<matplotlib.axes._subplots.AxesSubplot at 0x17cfe522400>"
      ]
     },
     "execution_count": 29,
     "metadata": {},
     "output_type": "execute_result"
    },
    {
     "data": {
      "image/png": "[encoded data removed]",
      "text/plain": [
       "<Figure size 432x288 with 1 Axes>"
      ]
     },
     "metadata": {
      "needs_background": "light"
     },
     "output_type": "display_data"
    }
   ],
   "source": [
    "sns.distplot(df[df[\"Искатели\"] > 0][\"Искатели\"])"
   ]
  },
  {
   "cell_type": "code",
   "execution_count": 31,
   "metadata": {},
   "outputs": [
    {
     "data": {
      "text/plain": [
       "0        4  \n",
       "1        2  \n",
       "3        2  \n",
       "4        5  \n",
       "5        4  \n",
       "6        3  \n",
       "7        2  \n",
       "9        5  \n",
       "10       5  \n",
       "11       1  \n",
       "12       4  \n",
       "13       4  \n",
       "14       2  \n",
       "15       5  \n",
       "16       3  \n",
       "17       4  \n",
       "18       45 \n",
       "19       1  \n",
       "20       3  \n",
       "21       1  \n",
       "22       1  \n",
       "23       12 \n",
       "24       1  \n",
       "25       1  \n",
       "26       3  \n",
       "27       21 \n",
       "28       3  \n",
       "29       15 \n",
       "30       5  \n",
       "31       20 \n",
       "33       18 \n",
       "34       1  \n",
       "35       1  \n",
       "36       14 \n",
       "37       1  \n",
       "38       73 \n",
       "39       4  \n",
       "40       39 \n",
       "41       55 \n",
       "42       19 \n",
       "43       3  \n",
       "44       4  \n",
       "45       148\n",
       "48       4  \n",
       "50       10 \n",
       "51       1  \n",
       "52       4  \n",
       "53       8  \n",
       "54       4  \n",
       "55       1  \n",
       "56       21 \n",
       "57       1  \n",
       "60       6  \n",
       "61       1  \n",
       "62       1  \n",
       "64       24 \n",
       "67       11 \n",
       "69       101\n",
       "70       1  \n",
       "72       8  \n",
       "73       55 \n",
       "74       19 \n",
       "76       8  \n",
       "77       1  \n",
       "78       1  \n",
       "79       33 \n",
       "80       1  \n",
       "81       14 \n",
       "82       1  \n",
       "83       1  \n",
       "84       1  \n",
       "85       19 \n",
       "86       15 \n",
       "87       13 \n",
       "88       1  \n",
       "89       123\n",
       "90       12 \n",
       "91       27 \n",
       "92       1  \n",
       "93       1  \n",
       "94       90 \n",
       "95       1  \n",
       "96       1  \n",
       "97       1  \n",
       "98       10 \n",
       "99       1  \n",
       "100      4  \n",
       "101      2  \n",
       "102      1  \n",
       "103      4  \n",
       "104      5  \n",
       "107      9  \n",
       "109      1  \n",
       "111      1  \n",
       "112      2  \n",
       "113      12 \n",
       "114      1  \n",
       "115      1  \n",
       "116      1  \n",
       "117      1  \n",
       "118      1  \n",
       "119      1  \n",
       "120      1  \n",
       "122      1  \n",
       "123      1  \n",
       "124      1  \n",
       "125      3  \n",
       "126      28 \n",
       "127      1  \n",
       "128      1  \n",
       "130      2  \n",
       "131      1  \n",
       "132      2  \n",
       "133      1  \n",
       "134      6  \n",
       "135      1  \n",
       "136      1  \n",
       "137      1  \n",
       "138      3  \n",
       "139      1  \n",
       "141      1  \n",
       "142      1  \n",
       "143      1  \n",
       "144      4  \n",
       "145      2  \n",
       "146      31 \n",
       "147      15 \n",
       "149      2  \n",
       "150      4  \n",
       "151      2  \n",
       "152      2  \n",
       "154      2  \n",
       "155      2  \n",
       "156      2  \n",
       "157      2  \n",
       "158      2  \n",
       "159      2  \n",
       "160      2  \n",
       "161      2  \n",
       "162      2  \n",
       "163      2  \n",
       "164      2  \n",
       "165      2  \n",
       "166      2  \n",
       "167      2  \n",
       "168      2  \n",
       "169      1  \n",
       "171      1  \n",
       "172      1  \n",
       "173      1  \n",
       "174      1  \n",
       "175      2  \n",
       "177      2  \n",
       "178      2  \n",
       "179      2  \n",
       "180      1  \n",
       "181      1  \n",
       "182      41 \n",
       "183      1  \n",
       "184      1  \n",
       "185      1  \n",
       "186      1  \n",
       "187      8  \n",
       "188      1  \n",
       "189      22 \n",
       "190      1  \n",
       "191      2  \n",
       "192      1  \n",
       "193      1  \n",
       "195      1  \n",
       "196      6  \n",
       "197      1  \n",
       "198      1  \n",
       "199      1  \n",
       "200      1  \n",
       "201      1  \n",
       "202      1  \n",
       "203      1  \n",
       "204      56 \n",
       "205      1  \n",
       "206      1  \n",
       "207      1  \n",
       "208      1  \n",
       "209      1  \n",
       "210      1  \n",
       "211      1  \n",
       "213      46 \n",
       "214      1  \n",
       "215      1  \n",
       "216      1  \n",
       "217      6  \n",
       "218      1  \n",
       "219      1  \n",
       "220      1  \n",
       "221      1  \n",
       "222      1  \n",
       "223      1  \n",
       "224      1  \n",
       "225      1  \n",
       "226      1  \n",
       "227      1  \n",
       "228      1  \n",
       "229      1  \n",
       "230      1  \n",
       "231      1  \n",
       "232      1  \n",
       "233      1  \n",
       "234      1  \n",
       "235      35 \n",
       "236      1  \n",
       "237      33 \n",
       "238      1  \n",
       "239      13 \n",
       "240      1  \n",
       "241      9  \n",
       "242      1  \n",
       "243      1  \n",
       "244      1  \n",
       "245      1  \n",
       "246      30 \n",
       "247      1  \n",
       "248      1  \n",
       "249      1  \n",
       "250      1  \n",
       "251      1  \n",
       "252      31 \n",
       "254      1  \n",
       "255      1  \n",
       "256      1  \n",
       "257      1  \n",
       "258      1  \n",
       "259      52 \n",
       "260      1  \n",
       "261      1  \n",
       "262      2  \n",
       "263      1  \n",
       "264      2  \n",
       "265      1  \n",
       "266      1  \n",
       "267      1  \n",
       "268      1  \n",
       "269      1  \n",
       "270      1  \n",
       "271      1  \n",
       "272      1  \n",
       "273      1  \n",
       "274      1  \n",
       "275      1  \n",
       "277      1  \n",
       "278      2  \n",
       "279      1  \n",
       "280      1  \n",
       "281      1  \n",
       "282      1  \n",
       "283      1  \n",
       "284      1  \n",
       "285      1  \n",
       "286      1  \n",
       "287      1  \n",
       "288      1  \n",
       "289      1  \n",
       "290      86 \n",
       "291      1  \n",
       "292      1  \n",
       "293      76 \n",
       "294      1  \n",
       "295      1  \n",
       "296      11 \n",
       "297      1  \n",
       "298      22 \n",
       "299      42 \n",
       "300      1  \n",
       "301      1  \n",
       "302      1  \n",
       "303      1  \n",
       "304      1  \n",
       "305      1  \n",
       "306      1  \n",
       "307      1  \n",
       "308      31 \n",
       "309      1  \n",
       "310      1  \n",
       "311      1  \n",
       "312      1  \n",
       "313      1  \n",
       "314      1  \n",
       "315      37 \n",
       "316      1  \n",
       "317      1  \n",
       "318      65 \n",
       "319      40 \n",
       "320      1  \n",
       "321      3  \n",
       "322      1  \n",
       "324      1  \n",
       "325      85 \n",
       "326      1  \n",
       "327      1  \n",
       "328      7  \n",
       "329      1  \n",
       "330      22 \n",
       "331      1  \n",
       "333      1  \n",
       "334      1  \n",
       "335      1  \n",
       "336      1  \n",
       "337      1  \n",
       "338      50 \n",
       "339      1  \n",
       "340      97 \n",
       "341      5  \n",
       "342      1  \n",
       "343      1  \n",
       "344      78 \n",
       "345      36 \n",
       "346      111\n",
       "347      16 \n",
       "348      23 \n",
       "349      1  \n",
       "350      62 \n",
       "351      1  \n",
       "352      1  \n",
       "353      50 \n",
       "354      1  \n",
       "355      1  \n",
       "356      44 \n",
       "357      1  \n",
       "358      1  \n",
       "359      1  \n",
       "360      1  \n",
       "361      27 \n",
       "363      1  \n",
       "365      1  \n",
       "366      1  \n",
       "367      1  \n",
       "368      1  \n",
       "369      1  \n",
       "370      1  \n",
       "371      1  \n",
       "372      1  \n",
       "373      14 \n",
       "374      1  \n",
       "375      1  \n",
       "376      1  \n",
       "377      1  \n",
       "378      1  \n",
       "379      1  \n",
       "380      1  \n",
       "381      16 \n",
       "382      1  \n",
       "383      1  \n",
       "384      1  \n",
       "385      1  \n",
       "386      1  \n",
       "387      1  \n",
       "389      1  \n",
       "391      1  \n",
       "392      1  \n",
       "393      1  \n",
       "394      1  \n",
       "395      1  \n",
       "396      1  \n",
       "397      1  \n",
       "398      1  \n",
       "399      1  \n",
       "400      1  \n",
       "401      1  \n",
       "402      1  \n",
       "403      1  \n",
       "404      1  \n",
       "405      1  \n",
       "406      1  \n",
       "407      1  \n",
       "408      1  \n",
       "410      1  \n",
       "411      1  \n",
       "412      1  \n",
       "413      36 \n",
       "414      1  \n",
       "415      10 \n",
       "416      11 \n",
       "417      1  \n",
       "418      1  \n",
       "419      1  \n",
       "420      1  \n",
       "421      1  \n",
       "422      1  \n",
       "423      1  \n",
       "424      1  \n",
       "425      1  \n",
       "426      1  \n",
       "427      1  \n",
       "428      1  \n",
       "429      9  \n",
       "430      1  \n",
       "431      1  \n",
       "432      1  \n",
       "433      1  \n",
       "434      1  \n",
       "435      1  \n",
       "436      1  \n",
       "437      13 \n",
       "438      25 \n",
       "439      1  \n",
       "440      1  \n",
       "441      1  \n",
       "442      1  \n",
       "443      7  \n",
       "444      1  \n",
       "445      73 \n",
       "446      1  \n",
       "447      21 \n",
       "448      1  \n",
       "449      1  \n",
       "450      18 \n",
       "451      1  \n",
       "452      1  \n",
       "453      1  \n",
       "454      49 \n",
       "455      1  \n",
       "456      54 \n",
       "457      1  \n",
       "458      1  \n",
       "459      13 \n",
       "460      1  \n",
       "461      1  \n",
       "462      1  \n",
       "463      22 \n",
       "464      1  \n",
       "465      2  \n",
       "466      46 \n",
       "467      1  \n",
       "468      1  \n",
       "469      2  \n",
       "470      1  \n",
       "471      1  \n",
       "472      1  \n",
       "473      24 \n",
       "474      1  \n",
       "475      1  \n",
       "477      15 \n",
       "478      1  \n",
       "479      16 \n",
       "481      1  \n",
       "482      1  \n",
       "483      1  \n",
       "485      1  \n",
       "486      1  \n",
       "487      1  \n",
       "488      1  \n",
       "489      1  \n",
       "490      1  \n",
       "491      1  \n",
       "492      1  \n",
       "493      1  \n",
       "494      18 \n",
       "495      1  \n",
       "496      1  \n",
       "497      19 \n",
       "498      75 \n",
       "499      1  \n",
       "500      1  \n",
       "501      1  \n",
       "502      1  \n",
       "503      7  \n",
       "504      1  \n",
       "506      1  \n",
       "507      24 \n",
       "508      1  \n",
       "509      1  \n",
       "510      1  \n",
       "511      10 \n",
       "512      1  \n",
       "514      1  \n",
       "516      1  \n",
       "517      1  \n",
       "518      1  \n",
       "519      1  \n",
       "520      1  \n",
       "521      45 \n",
       "522      1  \n",
       "523      1  \n",
       "524      18 \n",
       "526      1  \n",
       "527      6  \n",
       "529      1  \n",
       "530      3  \n",
       "531      32 \n",
       "532      8  \n",
       "533      1  \n",
       "534      8  \n",
       "535      1  \n",
       "536      1  \n",
       "538      19 \n",
       "539      111\n",
       "541      1  \n",
       "542      1  \n",
       "543      1  \n",
       "544      1  \n",
       "545      1  \n",
       "        ..  \n",
       "12968    24 \n",
       "12969    1  \n",
       "12970    2  \n",
       "12971    8  \n",
       "12972    1  \n",
       "12973    1  \n",
       "12974    15 \n",
       "12975    1  \n",
       "12976    1  \n",
       "12977    1  \n",
       "12978    1  \n",
       "12979    127\n",
       "12980    1  \n",
       "12981    1  \n",
       "12982    1  \n",
       "12983    1  \n",
       "12984    1  \n",
       "12985    14 \n",
       "12986    2  \n",
       "12987    1  \n",
       "12988    2  \n",
       "12989    1  \n",
       "12990    1  \n",
       "12991    1  \n",
       "12992    1  \n",
       "12993    1  \n",
       "12994    1  \n",
       "12995    1  \n",
       "12996    1  \n",
       "12997    1  \n",
       "12998    1  \n",
       "12999    1  \n",
       "13000    1  \n",
       "13001    5  \n",
       "13002    1  \n",
       "13003    1  \n",
       "13004    2  \n",
       "13005    1  \n",
       "13006    1  \n",
       "13007    1  \n",
       "13009    1  \n",
       "13010    1  \n",
       "13011    1  \n",
       "13012    1  \n",
       "13013    2  \n",
       "13014    1  \n",
       "13015    3  \n",
       "13016    1  \n",
       "13017    1  \n",
       "13018    19 \n",
       "13019    1  \n",
       "13020    4  \n",
       "13021    1  \n",
       "13022    1  \n",
       "13023    1  \n",
       "13024    1  \n",
       "13025    1  \n",
       "13026    1  \n",
       "13027    2  \n",
       "13028    1  \n",
       "13029    1  \n",
       "13030    1  \n",
       "13031    6  \n",
       "13032    1  \n",
       "13033    2  \n",
       "13034    1  \n",
       "13035    1  \n",
       "13036    3  \n",
       "13037    1  \n",
       "13038    1  \n",
       "13039    1  \n",
       "13040    1  \n",
       "13041    1  \n",
       "13042    1  \n",
       "13043    1  \n",
       "13046    19 \n",
       "13047    4  \n",
       "13048    4  \n",
       "13049    1  \n",
       "13050    3  \n",
       "13051    1  \n",
       "13052    1  \n",
       "13053    4  \n",
       "13054    2  \n",
       "13055    1  \n",
       "13056    43 \n",
       "13057    1  \n",
       "13058    2  \n",
       "13059    2  \n",
       "13060    3  \n",
       "13061    1  \n",
       "13062    6  \n",
       "13063    36 \n",
       "13064    1  \n",
       "13065    1  \n",
       "13066    2  \n",
       "13067    28 \n",
       "13068    4  \n",
       "13069    3  \n",
       "13070    1  \n",
       "13071    1  \n",
       "13072    16 \n",
       "13073    2  \n",
       "13074    6  \n",
       "13075    12 \n",
       "13076    1  \n",
       "13077    34 \n",
       "13078    4  \n",
       "13079    1  \n",
       "13080    1  \n",
       "13081    5  \n",
       "13082    1  \n",
       "13083    2  \n",
       "13084    1  \n",
       "13085    1  \n",
       "13086    5  \n",
       "13088    25 \n",
       "13089    26 \n",
       "13090    1  \n",
       "13091    111\n",
       "13092    2  \n",
       "13093    2  \n",
       "13094    1  \n",
       "13095    15 \n",
       "13096    2  \n",
       "13097    5  \n",
       "13098    8  \n",
       "13099    15 \n",
       "13100    23 \n",
       "13101    1  \n",
       "13102    14 \n",
       "13103    7  \n",
       "13104    3  \n",
       "13105    8  \n",
       "13106    1  \n",
       "13107    4  \n",
       "13108    1  \n",
       "13109    2  \n",
       "13110    60 \n",
       "13111    4  \n",
       "13112    4  \n",
       "13113    50 \n",
       "13114    29 \n",
       "13115    1  \n",
       "13116    12 \n",
       "13117    10 \n",
       "13118    153\n",
       "13119    17 \n",
       "13120    25 \n",
       "13121    20 \n",
       "13122    2  \n",
       "13123    4  \n",
       "13124    16 \n",
       "13125    19 \n",
       "13126    8  \n",
       "13127    7  \n",
       "13128    65 \n",
       "13129    47 \n",
       "13130    22 \n",
       "13131    1  \n",
       "13132    40 \n",
       "13133    1  \n",
       "13134    7  \n",
       "13135    1  \n",
       "13136    1  \n",
       "13137    24 \n",
       "13138    26 \n",
       "13139    84 \n",
       "13140    1  \n",
       "13141    7  \n",
       "13142    20 \n",
       "13143    48 \n",
       "13144    2  \n",
       "13145    1  \n",
       "13146    36 \n",
       "13147    1  \n",
       "13148    17 \n",
       "13149    63 \n",
       "13150    1  \n",
       "13151    32 \n",
       "13152    1  \n",
       "13153    1  \n",
       "13154    1  \n",
       "13155    23 \n",
       "13156    1  \n",
       "13157    20 \n",
       "13158    9  \n",
       "13159    24 \n",
       "13160    1  \n",
       "13161    1  \n",
       "13162    46 \n",
       "13163    7  \n",
       "13164    12 \n",
       "13165    1  \n",
       "13166    1  \n",
       "13167    1  \n",
       "13168    16 \n",
       "13169    9  \n",
       "13170    1  \n",
       "13171    44 \n",
       "13172    28 \n",
       "13173    32 \n",
       "13174    14 \n",
       "13175    5  \n",
       "13176    30 \n",
       "13177    1  \n",
       "13178    1  \n",
       "13179    2  \n",
       "13180    1  \n",
       "13181    38 \n",
       "13182    1  \n",
       "13183    10 \n",
       "13184    1  \n",
       "13185    47 \n",
       "13186    1  \n",
       "13187    16 \n",
       "13188    14 \n",
       "13189    10 \n",
       "13190    14 \n",
       "13191    1  \n",
       "13192    54 \n",
       "13193    23 \n",
       "13194    1  \n",
       "13195    7  \n",
       "13196    17 \n",
       "13197    5  \n",
       "13198    10 \n",
       "13199    1  \n",
       "13200    2  \n",
       "13201    12 \n",
       "13202    7  \n",
       "13203    9  \n",
       "13204    1  \n",
       "13205    8  \n",
       "13206    17 \n",
       "13207    10 \n",
       "13208    11 \n",
       "13209    30 \n",
       "13210    3  \n",
       "13211    7  \n",
       "13212    2  \n",
       "13213    17 \n",
       "13214    1  \n",
       "13215    6  \n",
       "13216    3  \n",
       "13217    23 \n",
       "13218    1  \n",
       "13219    8  \n",
       "13220    37 \n",
       "13221    1  \n",
       "13222    13 \n",
       "13223    68 \n",
       "13224    4  \n",
       "13225    1  \n",
       "13226    36 \n",
       "13227    7  \n",
       "13228    1  \n",
       "13229    10 \n",
       "13230    1  \n",
       "13231    50 \n",
       "13232    9  \n",
       "13233    24 \n",
       "13234    86 \n",
       "13235    263\n",
       "13236    60 \n",
       "13237    1  \n",
       "13238    1  \n",
       "13239    3  \n",
       "13240    1  \n",
       "13241    28 \n",
       "13242    1  \n",
       "13243    65 \n",
       "13244    16 \n",
       "13245    39 \n",
       "13246    11 \n",
       "13247    1  \n",
       "13248    5  \n",
       "13249    22 \n",
       "13250    21 \n",
       "13251    2  \n",
       "13252    10 \n",
       "13253    5  \n",
       "13254    5  \n",
       "13255    1  \n",
       "13256    4  \n",
       "13257    4  \n",
       "13258    6  \n",
       "13259    11 \n",
       "13260    24 \n",
       "13261    14 \n",
       "13262    21 \n",
       "13263    1  \n",
       "13264    2  \n",
       "13265    14 \n",
       "13266    2  \n",
       "13267    23 \n",
       "13268    22 \n",
       "13269    25 \n",
       "13270    11 \n",
       "13271    1  \n",
       "13272    7  \n",
       "13273    42 \n",
       "13274    28 \n",
       "13275    67 \n",
       "13276    25 \n",
       "13277    49 \n",
       "13278    70 \n",
       "13279    75 \n",
       "13280    279\n",
       "13281    38 \n",
       "13282    45 \n",
       "13283    4  \n",
       "13284    13 \n",
       "13285    1  \n",
       "13286    2  \n",
       "13287    3  \n",
       "13288    1  \n",
       "13289    38 \n",
       "13290    1  \n",
       "13291    52 \n",
       "13292    6  \n",
       "13293    160\n",
       "13294    15 \n",
       "13295    1  \n",
       "13296    6  \n",
       "13297    16 \n",
       "13298    1  \n",
       "13299    1  \n",
       "13300    86 \n",
       "13301    1  \n",
       "13302    40 \n",
       "13303    3  \n",
       "13304    17 \n",
       "13305    8  \n",
       "13306    6  \n",
       "13307    16 \n",
       "13308    16 \n",
       "13309    2  \n",
       "13310    10 \n",
       "13311    72 \n",
       "13312    4  \n",
       "13313    1  \n",
       "13314    10 \n",
       "13315    20 \n",
       "13316    5  \n",
       "13317    37 \n",
       "13318    1  \n",
       "13319    1  \n",
       "13320    9  \n",
       "13321    1  \n",
       "13322    18 \n",
       "13323    46 \n",
       "13324    2  \n",
       "13325    14 \n",
       "13326    15 \n",
       "13327    6  \n",
       "13328    31 \n",
       "13329    3  \n",
       "13330    30 \n",
       "13331    9  \n",
       "13332    8  \n",
       "13333    23 \n",
       "13334    1  \n",
       "13335    42 \n",
       "13336    15 \n",
       "13337    10 \n",
       "13338    239\n",
       "13339    1  \n",
       "13340    3  \n",
       "13341    4  \n",
       "13342    1  \n",
       "13343    1  \n",
       "13344    1  \n",
       "13345    1  \n",
       "13346    3  \n",
       "13347    1  \n",
       "13348    1  \n",
       "13349    1  \n",
       "13350    1  \n",
       "13351    1  \n",
       "13352    1  \n",
       "13353    1  \n",
       "13354    1  \n",
       "13355    1  \n",
       "13356    2  \n",
       "13357    1  \n",
       "13358    2  \n",
       "13359    1  \n",
       "13360    1  \n",
       "13361    32 \n",
       "13362    24 \n",
       "13363    71 \n",
       "13364    5  \n",
       "13365    13 \n",
       "13366    10 \n",
       "13367    16 \n",
       "13368    15 \n",
       "13369    9  \n",
       "13370    13 \n",
       "13371    8  \n",
       "13372    2  \n",
       "13373    43 \n",
       "13374    1  \n",
       "13375    2  \n",
       "13376    2  \n",
       "13377    15 \n",
       "13378    19 \n",
       "13379    57 \n",
       "13380    11 \n",
       "13381    11 \n",
       "13382    19 \n",
       "13383    6  \n",
       "13384    18 \n",
       "13385    51 \n",
       "13386    29 \n",
       "13387    37 \n",
       "13388    1  \n",
       "13389    1  \n",
       "13390    1  \n",
       "13391    79 \n",
       "13392    2  \n",
       "13393    2  \n",
       "13394    1  \n",
       "13395    1  \n",
       "13396    1  \n",
       "13397    18 \n",
       "13398    1  \n",
       "13399    1  \n",
       "13400    13 \n",
       "13401    5  \n",
       "13402    14 \n",
       "13403    1  \n",
       "13404    4  \n",
       "13405    1  \n",
       "13406    16 \n",
       "13407    1  \n",
       "13408    1  \n",
       "13409    52 \n",
       "13410    55 \n",
       "13411    53 \n",
       "13412    1  \n",
       "13413    29 \n",
       "13414    3  \n",
       "13415    32 \n",
       "13416    11 \n",
       "13417    31 \n",
       "13418    1  \n",
       "13419    15 \n",
       "13420    3  \n",
       "13421    98 \n",
       "13422    27 \n",
       "13423    9  \n",
       "13424    30 \n",
       "13425    27 \n",
       "13426    29 \n",
       "13427    1  \n",
       "13428    29 \n",
       "13429    14 \n",
       "13431    1  \n",
       "13432    106\n",
       "13433    5  \n",
       "13434    1  \n",
       "13435    1  \n",
       "13436    6  \n",
       "13437    1  \n",
       "13438    11 \n",
       "13439    5  \n",
       "13440    1  \n",
       "13441    1  \n",
       "13442    5  \n",
       "13443    2  \n",
       "13444    1  \n",
       "13445    8  \n",
       "13446    3  \n",
       "13447    7  \n",
       "13448    1  \n",
       "13449    754\n",
       "13450    11 \n",
       "13451    5  \n",
       "13452    1  \n",
       "13453    1  \n",
       "13454    1  \n",
       "13455    1  \n",
       "13456    1  \n",
       "13457    1  \n",
       "13458    3  \n",
       "13459    1  \n",
       "13460    1  \n",
       "13461    1  \n",
       "13462    1  \n",
       "13463    1  \n",
       "13464    1  \n",
       "13465    1  \n",
       "13466    1  \n",
       "13467    1  \n",
       "13468    2  \n",
       "13469    1  \n",
       "13470    2  \n",
       "13471    1  \n",
       "13472    1  \n",
       "Name: Искатели, Length: 12880, dtype: int64"
      ]
     },
     "execution_count": 31,
     "metadata": {},
     "output_type": "execute_result"
    }
   ],
   "source": [
    "s = df[df[\"Искатели\"] > 0][\"Искатели\"]\n",
    "s"
   ]
  },
  {
   "cell_type": "code",
   "execution_count": 35,
   "metadata": {},
   "outputs": [
    {
     "data": {
      "text/plain": [
       "46.0"
      ]
     },
     "execution_count": 35,
     "metadata": {},
     "output_type": "execute_result"
    }
   ],
   "source": [
    "np.percentile(np.array(s), 95)"
   ]
  },
  {
   "cell_type": "code",
   "execution_count": 36,
   "metadata": {},
   "outputs": [
    {
     "data": {
      "text/plain": [
       "9.867701863354037"
      ]
     },
     "execution_count": 36,
     "metadata": {},
     "output_type": "execute_result"
    }
   ],
   "source": [
    "s.mean()"
   ]
  },
  {
   "cell_type": "code",
   "execution_count": 37,
   "metadata": {},
   "outputs": [
    {
     "data": {
      "text/plain": [
       "<matplotlib.axes._subplots.AxesSubplot at 0x17cfe7e9240>"
      ]
     },
     "execution_count": 37,
     "metadata": {},
     "output_type": "execute_result"
    },
    {
     "data": {
      "image/png": "[encoded data removed]",
      "text/plain": [
       "<Figure size 432x288 with 1 Axes>"
      ]
     },
     "metadata": {
      "needs_background": "light"
     },
     "output_type": "display_data"
    }
   ],
   "source": [
    "sns.barplot(x = \"Состояние\", y = \"Сила искателей\", data=df)"
   ]
  },
  {
   "cell_type": "code",
   "execution_count": 56,
   "metadata": {},
   "outputs": [
    {
     "data": {
      "text/plain": [
       "<matplotlib.axes._subplots.AxesSubplot at 0x17cfebfc9b0>"
      ]
     },
     "execution_count": 56,
     "metadata": {},
     "output_type": "execute_result"
    },
    {
     "data": {
      "image/png": "[encoded data removed]",
      "text/plain": [
       "<Figure size 432x288 with 2 Axes>"
      ]
     },
     "metadata": {
      "needs_background": "light"
     },
     "output_type": "display_data"
    }
   ],
   "source": [
    "corr = df.corr()\n",
    "sns.heatmap(corr, \n",
    "            xticklabels=corr.columns.values,\n",
    "            yticklabels=corr.columns.values)"
   ]
  },
  {
   "cell_type": "code",
   "execution_count": 57,
   "metadata": {},
   "outputs": [
    {
     "data": {
      "text/html": [
       "<div>\n",
       "<style scoped>\n",
       "    .dataframe tbody tr th:only-of-type {\n",
       "        vertical-align: middle;\n",
       "    }\n",
       "\n",
       "    .dataframe tbody tr th {\n",
       "        vertical-align: top;\n",
       "    }\n",
       "\n",
       "    .dataframe thead th {\n",
       "        text-align: right;\n",
       "    }\n",
       "</style>\n",
       "<table border=\"1\" class=\"dataframe\">\n",
       "  <thead>\n",
       "    <tr style=\"text-align: right;\">\n",
       "      <th></th>\n",
       "      <th>Unnamed: 0</th>\n",
       "      <th>Готовые</th>\n",
       "      <th>Искатели</th>\n",
       "      <th>Сила искателей</th>\n",
       "      <th>Репосты_вк</th>\n",
       "      <th>Репосты_одн</th>\n",
       "      <th>Возраст</th>\n",
       "      <th>Рост</th>\n",
       "      <th>Посты</th>\n",
       "      <th>Время поиска</th>\n",
       "      <th>Координаты пропажи</th>\n",
       "      <th>km</th>\n",
       "      <th>teams</th>\n",
       "      <th>delta_dates</th>\n",
       "      <th>Год</th>\n",
       "    </tr>\n",
       "  </thead>\n",
       "  <tbody>\n",
       "    <tr>\n",
       "      <th>Unnamed: 0</th>\n",
       "      <td>1.000000</td>\n",
       "      <td>0.374910</td>\n",
       "      <td>0.048580</td>\n",
       "      <td>0.023565</td>\n",
       "      <td>-0.077083</td>\n",
       "      <td>-0.051514</td>\n",
       "      <td>-0.015434</td>\n",
       "      <td>-0.049296</td>\n",
       "      <td>0.300691</td>\n",
       "      <td>0.005531</td>\n",
       "      <td>0.004488</td>\n",
       "      <td>0.014718</td>\n",
       "      <td>0.004859</td>\n",
       "      <td>0.007954</td>\n",
       "      <td>-0.103212</td>\n",
       "    </tr>\n",
       "    <tr>\n",
       "      <th>Готовые</th>\n",
       "      <td>0.374910</td>\n",
       "      <td>1.000000</td>\n",
       "      <td>0.162209</td>\n",
       "      <td>0.065969</td>\n",
       "      <td>-0.041699</td>\n",
       "      <td>-0.027667</td>\n",
       "      <td>0.036465</td>\n",
       "      <td>-0.132120</td>\n",
       "      <td>0.492684</td>\n",
       "      <td>-0.001416</td>\n",
       "      <td>0.074709</td>\n",
       "      <td>0.046276</td>\n",
       "      <td>0.047806</td>\n",
       "      <td>0.069311</td>\n",
       "      <td>-0.060353</td>\n",
       "    </tr>\n",
       "    <tr>\n",
       "      <th>Искатели</th>\n",
       "      <td>0.048580</td>\n",
       "      <td>0.162209</td>\n",
       "      <td>1.000000</td>\n",
       "      <td>0.437838</td>\n",
       "      <td>0.185192</td>\n",
       "      <td>0.060891</td>\n",
       "      <td>0.032658</td>\n",
       "      <td>-0.091392</td>\n",
       "      <td>0.263406</td>\n",
       "      <td>0.003123</td>\n",
       "      <td>0.132496</td>\n",
       "      <td>0.104162</td>\n",
       "      <td>0.067231</td>\n",
       "      <td>0.103163</td>\n",
       "      <td>0.019831</td>\n",
       "    </tr>\n",
       "    <tr>\n",
       "      <th>Сила искателей</th>\n",
       "      <td>0.023565</td>\n",
       "      <td>0.065969</td>\n",
       "      <td>0.437838</td>\n",
       "      <td>1.000000</td>\n",
       "      <td>-0.005376</td>\n",
       "      <td>-0.001313</td>\n",
       "      <td>-0.009105</td>\n",
       "      <td>-0.063554</td>\n",
       "      <td>0.081414</td>\n",
       "      <td>-0.003848</td>\n",
       "      <td>0.207835</td>\n",
       "      <td>0.191620</td>\n",
       "      <td>0.085174</td>\n",
       "      <td>0.149700</td>\n",
       "      <td>0.009998</td>\n",
       "    </tr>\n",
       "    <tr>\n",
       "      <th>Репосты_вк</th>\n",
       "      <td>-0.077083</td>\n",
       "      <td>-0.041699</td>\n",
       "      <td>0.185192</td>\n",
       "      <td>-0.005376</td>\n",
       "      <td>1.000000</td>\n",
       "      <td>0.124336</td>\n",
       "      <td>-0.037698</td>\n",
       "      <td>-0.070464</td>\n",
       "      <td>0.017652</td>\n",
       "      <td>-0.000878</td>\n",
       "      <td>-0.007368</td>\n",
       "      <td>-0.003808</td>\n",
       "      <td>-0.004672</td>\n",
       "      <td>-0.005896</td>\n",
       "      <td>0.014788</td>\n",
       "    </tr>\n",
       "    <tr>\n",
       "      <th>Репосты_одн</th>\n",
       "      <td>-0.051514</td>\n",
       "      <td>-0.027667</td>\n",
       "      <td>0.060891</td>\n",
       "      <td>-0.001313</td>\n",
       "      <td>0.124336</td>\n",
       "      <td>1.000000</td>\n",
       "      <td>-0.020672</td>\n",
       "      <td>-0.006123</td>\n",
       "      <td>-0.011124</td>\n",
       "      <td>0.010297</td>\n",
       "      <td>0.032773</td>\n",
       "      <td>0.047308</td>\n",
       "      <td>0.041357</td>\n",
       "      <td>0.011773</td>\n",
       "      <td>-0.008193</td>\n",
       "    </tr>\n",
       "    <tr>\n",
       "      <th>Возраст</th>\n",
       "      <td>-0.015434</td>\n",
       "      <td>0.036465</td>\n",
       "      <td>0.032658</td>\n",
       "      <td>-0.009105</td>\n",
       "      <td>-0.037698</td>\n",
       "      <td>-0.020672</td>\n",
       "      <td>1.000000</td>\n",
       "      <td>0.067752</td>\n",
       "      <td>0.016807</td>\n",
       "      <td>0.017392</td>\n",
       "      <td>0.031082</td>\n",
       "      <td>0.004496</td>\n",
       "      <td>0.028378</td>\n",
       "      <td>0.014649</td>\n",
       "      <td>0.006800</td>\n",
       "    </tr>\n",
       "    <tr>\n",
       "      <th>Рост</th>\n",
       "      <td>-0.049296</td>\n",
       "      <td>-0.132120</td>\n",
       "      <td>-0.091392</td>\n",
       "      <td>-0.063554</td>\n",
       "      <td>-0.070464</td>\n",
       "      <td>-0.006123</td>\n",
       "      <td>0.067752</td>\n",
       "      <td>1.000000</td>\n",
       "      <td>-0.118928</td>\n",
       "      <td>0.020160</td>\n",
       "      <td>-0.016785</td>\n",
       "      <td>0.000146</td>\n",
       "      <td>-0.004759</td>\n",
       "      <td>-0.020762</td>\n",
       "      <td>-0.006221</td>\n",
       "    </tr>\n",
       "    <tr>\n",
       "      <th>Посты</th>\n",
       "      <td>0.300691</td>\n",
       "      <td>0.492684</td>\n",
       "      <td>0.263406</td>\n",
       "      <td>0.081414</td>\n",
       "      <td>0.017652</td>\n",
       "      <td>-0.011124</td>\n",
       "      <td>0.016807</td>\n",
       "      <td>-0.118928</td>\n",
       "      <td>1.000000</td>\n",
       "      <td>-0.001364</td>\n",
       "      <td>0.060419</td>\n",
       "      <td>0.034657</td>\n",
       "      <td>0.037599</td>\n",
       "      <td>0.049681</td>\n",
       "      <td>-0.069796</td>\n",
       "    </tr>\n",
       "    <tr>\n",
       "      <th>Время поиска</th>\n",
       "      <td>0.005531</td>\n",
       "      <td>-0.001416</td>\n",
       "      <td>0.003123</td>\n",
       "      <td>-0.003848</td>\n",
       "      <td>-0.000878</td>\n",
       "      <td>0.010297</td>\n",
       "      <td>0.017392</td>\n",
       "      <td>0.020160</td>\n",
       "      <td>-0.001364</td>\n",
       "      <td>1.000000</td>\n",
       "      <td>-0.007324</td>\n",
       "      <td>-0.003955</td>\n",
       "      <td>-0.005110</td>\n",
       "      <td>-0.004918</td>\n",
       "      <td>-0.952324</td>\n",
       "    </tr>\n",
       "    <tr>\n",
       "      <th>Координаты пропажи</th>\n",
       "      <td>0.004488</td>\n",
       "      <td>0.074709</td>\n",
       "      <td>0.132496</td>\n",
       "      <td>0.207835</td>\n",
       "      <td>-0.007368</td>\n",
       "      <td>0.032773</td>\n",
       "      <td>0.031082</td>\n",
       "      <td>-0.016785</td>\n",
       "      <td>0.060419</td>\n",
       "      <td>-0.007324</td>\n",
       "      <td>1.000000</td>\n",
       "      <td>0.547120</td>\n",
       "      <td>0.706778</td>\n",
       "      <td>0.675214</td>\n",
       "      <td>0.025640</td>\n",
       "    </tr>\n",
       "    <tr>\n",
       "      <th>km</th>\n",
       "      <td>0.014718</td>\n",
       "      <td>0.046276</td>\n",
       "      <td>0.104162</td>\n",
       "      <td>0.191620</td>\n",
       "      <td>-0.003808</td>\n",
       "      <td>0.047308</td>\n",
       "      <td>0.004496</td>\n",
       "      <td>0.000146</td>\n",
       "      <td>0.034657</td>\n",
       "      <td>-0.003955</td>\n",
       "      <td>0.547120</td>\n",
       "      <td>1.000000</td>\n",
       "      <td>0.836099</td>\n",
       "      <td>0.467188</td>\n",
       "      <td>0.014858</td>\n",
       "    </tr>\n",
       "    <tr>\n",
       "      <th>teams</th>\n",
       "      <td>0.004859</td>\n",
       "      <td>0.047806</td>\n",
       "      <td>0.067231</td>\n",
       "      <td>0.085174</td>\n",
       "      <td>-0.004672</td>\n",
       "      <td>0.041357</td>\n",
       "      <td>0.028378</td>\n",
       "      <td>-0.004759</td>\n",
       "      <td>0.037599</td>\n",
       "      <td>-0.005110</td>\n",
       "      <td>0.706778</td>\n",
       "      <td>0.836099</td>\n",
       "      <td>1.000000</td>\n",
       "      <td>0.587539</td>\n",
       "      <td>0.019332</td>\n",
       "    </tr>\n",
       "    <tr>\n",
       "      <th>delta_dates</th>\n",
       "      <td>0.007954</td>\n",
       "      <td>0.069311</td>\n",
       "      <td>0.103163</td>\n",
       "      <td>0.149700</td>\n",
       "      <td>-0.005896</td>\n",
       "      <td>0.011773</td>\n",
       "      <td>0.014649</td>\n",
       "      <td>-0.020762</td>\n",
       "      <td>0.049681</td>\n",
       "      <td>-0.004918</td>\n",
       "      <td>0.675214</td>\n",
       "      <td>0.467188</td>\n",
       "      <td>0.587539</td>\n",
       "      <td>1.000000</td>\n",
       "      <td>0.016056</td>\n",
       "    </tr>\n",
       "    <tr>\n",
       "      <th>Год</th>\n",
       "      <td>-0.103212</td>\n",
       "      <td>-0.060353</td>\n",
       "      <td>0.019831</td>\n",
       "      <td>0.009998</td>\n",
       "      <td>0.014788</td>\n",
       "      <td>-0.008193</td>\n",
       "      <td>0.006800</td>\n",
       "      <td>-0.006221</td>\n",
       "      <td>-0.069796</td>\n",
       "      <td>-0.952324</td>\n",
       "      <td>0.025640</td>\n",
       "      <td>0.014858</td>\n",
       "      <td>0.019332</td>\n",
       "      <td>0.016056</td>\n",
       "      <td>1.000000</td>\n",
       "    </tr>\n",
       "  </tbody>\n",
       "</table>\n",
       "</div>"
      ],
      "text/plain": [
       "                    Unnamed: 0   Готовые  Искатели  Сила искателей  \\\n",
       "Unnamed: 0          1.000000    0.374910  0.048580  0.023565         \n",
       "Готовые             0.374910    1.000000  0.162209  0.065969         \n",
       "Искатели            0.048580    0.162209  1.000000  0.437838         \n",
       "Сила искателей      0.023565    0.065969  0.437838  1.000000         \n",
       "Репосты_вк         -0.077083   -0.041699  0.185192 -0.005376         \n",
       "Репосты_одн        -0.051514   -0.027667  0.060891 -0.001313         \n",
       "Возраст            -0.015434    0.036465  0.032658 -0.009105         \n",
       "Рост               -0.049296   -0.132120 -0.091392 -0.063554         \n",
       "Посты               0.300691    0.492684  0.263406  0.081414         \n",
       "Время поиска        0.005531   -0.001416  0.003123 -0.003848         \n",
       "Координаты пропажи  0.004488    0.074709  0.132496  0.207835         \n",
       "km                  0.014718    0.046276  0.104162  0.191620         \n",
       "teams               0.004859    0.047806  0.067231  0.085174         \n",
       "delta_dates         0.007954    0.069311  0.103163  0.149700         \n",
       "Год                -0.103212   -0.060353  0.019831  0.009998         \n",
       "\n",
       "                    Репосты_вк  Репосты_одн   Возраст      Рост     Посты  \\\n",
       "Unnamed: 0         -0.077083   -0.051514    -0.015434 -0.049296  0.300691   \n",
       "Готовые            -0.041699   -0.027667     0.036465 -0.132120  0.492684   \n",
       "Искатели            0.185192    0.060891     0.032658 -0.091392  0.263406   \n",
       "Сила искателей     -0.005376   -0.001313    -0.009105 -0.063554  0.081414   \n",
       "Репосты_вк          1.000000    0.124336    -0.037698 -0.070464  0.017652   \n",
       "Репосты_одн         0.124336    1.000000    -0.020672 -0.006123 -0.011124   \n",
       "Возраст            -0.037698   -0.020672     1.000000  0.067752  0.016807   \n",
       "Рост               -0.070464   -0.006123     0.067752  1.000000 -0.118928   \n",
       "Посты               0.017652   -0.011124     0.016807 -0.118928  1.000000   \n",
       "Время поиска       -0.000878    0.010297     0.017392  0.020160 -0.001364   \n",
       "Координаты пропажи -0.007368    0.032773     0.031082 -0.016785  0.060419   \n",
       "km                 -0.003808    0.047308     0.004496  0.000146  0.034657   \n",
       "teams              -0.004672    0.041357     0.028378 -0.004759  0.037599   \n",
       "delta_dates        -0.005896    0.011773     0.014649 -0.020762  0.049681   \n",
       "Год                 0.014788   -0.008193     0.006800 -0.006221 -0.069796   \n",
       "\n",
       "                    Время поиска  Координаты пропажи        km     teams  \\\n",
       "Unnamed: 0          0.005531      0.004488            0.014718  0.004859   \n",
       "Готовые            -0.001416      0.074709            0.046276  0.047806   \n",
       "Искатели            0.003123      0.132496            0.104162  0.067231   \n",
       "Сила искателей     -0.003848      0.207835            0.191620  0.085174   \n",
       "Репосты_вк         -0.000878     -0.007368           -0.003808 -0.004672   \n",
       "Репосты_одн         0.010297      0.032773            0.047308  0.041357   \n",
       "Возраст             0.017392      0.031082            0.004496  0.028378   \n",
       "Рост                0.020160     -0.016785            0.000146 -0.004759   \n",
       "Посты              -0.001364      0.060419            0.034657  0.037599   \n",
       "Время поиска        1.000000     -0.007324           -0.003955 -0.005110   \n",
       "Координаты пропажи -0.007324      1.000000            0.547120  0.706778   \n",
       "km                 -0.003955      0.547120            1.000000  0.836099   \n",
       "teams              -0.005110      0.706778            0.836099  1.000000   \n",
       "delta_dates        -0.004918      0.675214            0.467188  0.587539   \n",
       "Год                -0.952324      0.025640            0.014858  0.019332   \n",
       "\n",
       "                    delta_dates       Год  \n",
       "Unnamed: 0          0.007954    -0.103212  \n",
       "Готовые             0.069311    -0.060353  \n",
       "Искатели            0.103163     0.019831  \n",
       "Сила искателей      0.149700     0.009998  \n",
       "Репосты_вк         -0.005896     0.014788  \n",
       "Репосты_одн         0.011773    -0.008193  \n",
       "Возраст             0.014649     0.006800  \n",
       "Рост               -0.020762    -0.006221  \n",
       "Посты               0.049681    -0.069796  \n",
       "Время поиска       -0.004918    -0.952324  \n",
       "Координаты пропажи  0.675214     0.025640  \n",
       "km                  0.467188     0.014858  \n",
       "teams               0.587539     0.019332  \n",
       "delta_dates         1.000000     0.016056  \n",
       "Год                 0.016056     1.000000  "
      ]
     },
     "execution_count": 57,
     "metadata": {},
     "output_type": "execute_result"
    }
   ],
   "source": [
    "corr"
   ]
  },
  {
   "cell_type": "code",
   "execution_count": null,
   "metadata": {},
   "outputs": [],
   "source": []
  }
 ],
 "metadata": {
  "kernelspec": {
   "display_name": "Python 3",
   "language": "python",
   "name": "python3"
  },
  "language_info": {
   "codemirror_mode": {
    "name": "ipython",
    "version": 3
   },
   "file_extension": ".py",
   "mimetype": "text/x-python",
   "name": "python",
   "nbconvert_exporter": "python",
   "pygments_lexer": "ipython3",
   "version": "3.7.3"
  }
 },
 "nbformat": 4,
 "nbformat_minor": 2
}
