{
 "cells": [
  {
   "cell_type": "code",
   "execution_count": 148,
   "metadata": {
    "scrolled": false
   },
   "outputs": [
    {
     "name": "stdout",
     "output_type": "stream",
     "text": [
      "<title>Погибла Артемишина Вера Михайловна 25лет, СПб • Форум lizaalert.org</title>\n",
      "л\n",
      "25\n",
      "<class 'bs4.element.ResultSet'>\n",
      "[<div class=\"content\"><span style=\"font-size: 140%; line-height: 116%;\"><span style=\"font-weight: bold\">Артемишина Вера Михайловна 25 лет, г. Санкт- Петербург </span></span><br/><br/>13 декабря 2018 г. видели в последний раз, с тех пор местонахождение неизвестно<br/><br/><img alt=\"Изображение\" src=\"https://a.radikal.ru/a23/1812/e2/d95d7fd85dfa.jpg\"/><br/><br/><span style=\"font-weight: bold\">Приметы:</span><br/>Рост: 168 см.<br/>Телосложение: xудощавое<br/>Цвет глаз: серые<br/>Волосы: русые<br/><br/><span style=\"font-weight: bold\">Была одета:</span> тёмно-синяя куртка с капюшоном, тёмно-синие джинсы, черные короткие сапоги<br/><br/><span style=\"font-weight: bold\">С собой:</span> черная сумка<br/><br/><span style=\"font-weight: bold\"><a href=\"https://docs.google.com/spreadsheets/d/1fovjYPC5KwByn-37-DmHrb7gVd_jppqayeS1BWuIYeo/edit?usp=sharing\" rel=\"nofollow\" target=\"_blank\">Таблица прозвона больниц и ОВД</a></span><br/><br/><span style=\"font-weight: bold\"><a href=\"https://vk.com/away.php?utf=1&amp;to=http%3A%2F%2Fla-org.ru%2Fimages%2F2018%2F12%2Fad13a4ca7f2d3e42503067b65fe860ff1.jpg\" rel=\"nofollow\" target=\"_blank\">Ориентировка на печать</a></span><br/><br/><span style=\"font-weight: bold\"><a href=\"https://vk.com/away.php?utf=1&amp;to=http%3A%2F%2Fla-org.ru%2Fimages%2F2018%2F12%2Fad13a4ca7f2d3e42503067b65fe860ff2.jpg\" rel=\"nofollow\" target=\"_blank\">Ориентировка на репост</a></span><br/><br/><span style=\"text-decoration: line-through;\"><span style=\"color: #0000FF\">ВНИМАНИЕ! ВЫЕЗД! <br/>Артемишина В. М., 25 лет <br/>Сбор с 02:00<br/>Санкт-Петербург, Юнтоловский пр., д. 47, к.2<br/>Координаты штаба: 60.030770,30.140494<br/>Одежда: город<br/>С собой: фонари, скотч, ориентировки<br/>Координатор: Настя Фортуна <br/>Инфорг: Ира Кукла 89046314648</span></span></div>, <div class=\"content\">Найдена. Погибла. Приносим соболезнования родным и близким.<br/><br/><dl class=\"codebox\"><dt><a href=\"javascript:void(0);\" onclick=\"var el = this.parentNode.parentNode.getElementsByTagName('dd')[0]; var v = el.style.display != 'none'; el.style.display = v ? 'none' : 'block'; this.innerHTML = (v ? '[+]' : '[−]') + ' Выезд 15.12'; \">[+] Выезд 15.12</a></dt><dd style=\"display: none;\"><span style=\"font-weight: bold\">Дома:</span><br/>Китти<br/>Танцор<br/>Борман<br/>Химера<br/>Цветик<br/>Поля-Поля<br/>Фонарь<br/>Данилыч<br/>Ганс<br/>Аркадий<br/>Фортуна<br/>Кроха<br/>Топор<br/>Snow</dd></dl></div>, <div class=\"content\">Цветик забирает Фортуну и едет в штаб.</div>, <div class=\"content\">Поля-Поля и Китти в экипаже со Снегом. Кудрово, Московский по., центр, штаб. 2 места. 89118117333</div>, <div class=\"content\">Химера, экипаж, 4 места с Комендантского проспекта. Выезд в 01:20.<br/>898175562996</div>, <div class=\"content\">Ганс, Дыбенко, авто, 3 места, старт в 1:05.<br/>89500477125</div>, <div class=\"content\">Танцор и Кроха в экипаже с Топором.<br/><br/>+79994951945 - Танцор, если что</div>, <div class=\"content\">Борман+авто 4 места с Площади Мужества 1:15 +79052756331</div>, <div class=\"content\">Аркадий, +авто 4 места, с Богатырского 1:30</div>, <div class=\"content\">Данилыч,сейчас,авто,старая деревня,орки 500</div>]\n",
      "414\n",
      "Р\n",
      "168\n",
      "[<div class=\"pagination\">\n",
      "\t\t\tСообщений: 23\n",
      "\t\t\t • <a href=\"#\" onclick=\"jumpto(); return false;\" title=\"Перейти на страницу…\">Страница <strong>1</strong> из <strong>3</strong></a> • <span><strong>1</strong><span class=\"page-sep\">, </span><a href=\"./viewtopic.php?f=120&amp;t=23673&amp;sid=a952f17ac3d68b6cfc95ac287d631858&amp;start=10\">2</a><span class=\"page-sep\">, </span><a href=\"./viewtopic.php?f=120&amp;t=23673&amp;sid=a952f17ac3d68b6cfc95ac287d631858&amp;start=20\">3</a></span>\n",
      "</div>, <div class=\"pagination\">\n",
      "\t\t\tСообщений: 23\n",
      "\t\t\t • <a href=\"#\" onclick=\"jumpto(); return false;\" title=\"Перейти на страницу…\">Страница <strong>1</strong> из <strong>3</strong></a> • <span><strong>1</strong><span class=\"page-sep\">, </span><a href=\"./viewtopic.php?f=120&amp;t=23673&amp;sid=a952f17ac3d68b6cfc95ac287d631858&amp;start=10\">2</a><span class=\"page-sep\">, </span><a href=\"./viewtopic.php?f=120&amp;t=23673&amp;sid=a952f17ac3d68b6cfc95ac287d631858&amp;start=20\">3</a></span>\n",
      "</div>]\n",
      "23\n"
     ]
    }
   ],
   "source": [
    "import re\n",
    "import bs4\n",
    "from urllib.request import urlopen as uReq\n",
    "from bs4 import BeautifulSoup as soup\n",
    "\n",
    "my_url = 'https://lizaalert.org/forum/viewtopic.php?f=120&t=23673'\n",
    "#my_url = 'https://lizaalert.org/forum/viewtopic.php?f=120&t=23928'!!!\n",
    "#my_url = 'https://lizaalert.org/forum/viewtopic.php?f=120&t=25066'\n",
    "#my_url = 'https://lizaalert.org/forum/viewtopic.php?f=120&t=25139'\n",
    "#my_url = 'https://lizaalert.org/forum/viewtopic.php?f=189&t=4292' \n",
    "#my_url = 'https://lizaalert.org/forum/viewtopic.php?f=189&t=23654'\n",
    "#my_url = 'https://lizaalert.org/forum/viewtopic.php?f=187&t=8495'\n",
    "#my_url = 'https://lizaalert.org/forum/viewtopic.php?f=187&t=18999'\n",
    "#my_url = 'https://lizaalert.org/forum/viewtopic.php?f=187&t=18845'\n",
    "#my_url = 'https://lizaalert.org/forum/viewtopic.php?f=123&t=23194'\n",
    "#my_url = 'https://lizaalert.org/forum/viewtopic.php?f=287&t=23834'\n",
    "\n",
    "uClient = uReq(my_url)\n",
    "page_html = uClient.read()\n",
    "uClient.close()\n",
    "\n",
    "page_soup = soup(page_html, \"html.parser\")\n",
    "title = page_soup.title\n",
    "print(title)\n",
    "title1 = str(title)\n",
    "c = title1.find(\"лет\")\n",
    "if title1.find(\"лет\") == -1:\n",
    "    c = title1.find(\"года\")\n",
    "print(title1[c])\n",
    "if title1[c-1] ==' ':\n",
    "    print(title1[c-3], title1[c-2], sep='')\n",
    "else:\n",
    "    print(title1[c-2], title1[c-1], sep='')\n",
    "\n",
    "filename = \"post6.csv\"\n",
    "f = open(filename, \"w\")\n",
    "headers = \"title1\", \"title2\\n\"\n",
    "title2 = \"hallo\"\n",
    "f.write(\"title1, title2\\n\")\n",
    "\n",
    "containers = page_soup.findAll(\"div\", {\"class\":\"content\"})\n",
    "print(type(containers))\n",
    "containers11 = str(containers)\n",
    "print(containers11)\n",
    "b = containers11.find(\"Рост\")\n",
    "if containers11.find(\"Рост\") == -1:\n",
    "   b = containers11.find(\"рост\") \n",
    "print(b)\n",
    "print(containers11[b])\n",
    "    \n",
    "if containers11[b+4] == \":\":\n",
    "        print(containers11[b+6],containers11[b+7],containers11[b+8], sep ='')\n",
    "else:\n",
    "        print(containers11[b+5],containers11[b+6],containers11[b+7], sep ='')\n",
    "containers111 = containers11[0]\n",
    "containers2 = page_soup.findAll(\"div\", {\"class\":\"pagination\"})\n",
    "containers22 = str(containers2)\n",
    "print(containers22)\n",
    "a = containers22.find(\"Сообщений\")\n",
    "print(containers22[a+11], containers22[a+12], sep ='')\n",
    "\n",
    "#if re.search(r'\\bрост\\b', 'рост'):\n",
    " #print(\"Привет\")\n",
    "    \n",
    "s = 'hi my name is ryan, and i am new to python and would like to learn more'\n",
    "m = re.search('name\\s\\w+\\s(\\w+)',s)\n",
    "m.group(1)\n",
    "\n",
    "f.write(title1 + title2 + \"\\n\")\n",
    "f.close()\n",
    "\n",
    "#print(containers2)\n",
    "#print(containers)\n",
    "\n",
    "\n",
    "\n",
    "\n",
    "\n",
    "\n"
   ]
  },
  {
   "cell_type": "code",
   "execution_count": null,
   "metadata": {},
   "outputs": [],
   "source": []
  },
  {
   "cell_type": "code",
   "execution_count": null,
   "metadata": {},
   "outputs": [],
   "source": []
  },
  {
   "cell_type": "code",
   "execution_count": null,
   "metadata": {},
   "outputs": [],
   "source": []
  }
 ],
 "metadata": {
  "kernelspec": {
   "display_name": "Python 3",
   "language": "python",
   "name": "python3"
  },
  "language_info": {
   "codemirror_mode": {
    "name": "ipython",
    "version": 3
   },
   "file_extension": ".py",
   "mimetype": "text/x-python",
   "name": "python",
   "nbconvert_exporter": "python",
   "pygments_lexer": "ipython3",
   "version": "3.7.3"
  }
 },
 "nbformat": 4,
 "nbformat_minor": 2
}
