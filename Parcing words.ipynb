{
 "cells": [
  {
   "cell_type": "code",
   "execution_count": 92,
   "metadata": {},
   "outputs": [],
   "source": [
    "import bs4\n",
    "from urllib.request import urlopen as urll\n",
    "from bs4 import BeautifulSoup as soup\n",
    "import requests\n",
    "from bs4 import BeautifulSoup\n",
    "import pandas as pd\n",
    "import re"
   ]
  },
  {
   "cell_type": "code",
   "execution_count": 93,
   "metadata": {},
   "outputs": [],
   "source": [
    "my_url = 'https://lizaalert.org/forum/viewtopic.php?f=276&t=25317&sid=c4089532e406e15ef9b44033c8aaee49'"
   ]
  },
  {
   "cell_type": "code",
   "execution_count": 104,
   "metadata": {},
   "outputs": [
    {
     "name": "stdout",
     "output_type": "stream",
     "text": [
      "['около', 'Рост', 'см', 'телосложение', 'седые', 'стрижка', 'очки', 'одет', 'рубашкаТемно', 'серые', 'репост', 'ожидается', 'сбор']\n"
     ]
    }
   ],
   "source": [
    "    uClient = urll(my_url)\n",
    "    page_html = uClient.read()\n",
    "    uClient.close()\n",
    "    page_soup = soup(page_html,\"html.parser\")\n",
    "    #div = page.find('div', class_ ='one-full')\n",
    "    main = page_soup.find('div', {'class':'content'}).text\n",
    "    #info = main.find('span', {'style':'font-size: 140%; line-height: 116%;'})\n",
    "    #info\n",
    "    #de = str(main)\n",
    "    resul = re.findall(r'\\b[ростРост]\\w+', 'Филатенко Анатолий Николаевич 81 год, ЗАО, г. Москва. 16 апреля 2019 около 9:30 ушёл в неизвестном направленииПриметы: Рост: 170 см,худощавое телосложение,глаза голубые,волосы  седые, короткая стрижка.Особые приметы: носит бороду и очки.Был одет: Голубая рубашкаТемно-серые брюкиЧерные ботинкиЧерная кепкаТаблица прозвона больниц и ОВДОриентировка на печатьОриентировка на репост--------------------------------------------------Внимание ожидается выезд.Идет сбор информации.--------------------------------------------------Координатор: ВолёнаИнфорг: Бусинка Катерина +79045231666' )\n",
    "    print(resul)"
   ]
  },
  {
   "cell_type": "code",
   "execution_count": null,
   "metadata": {},
   "outputs": [],
   "source": []
  },
  {
   "cell_type": "code",
   "execution_count": null,
   "metadata": {},
   "outputs": [],
   "source": []
  }
 ],
 "metadata": {
  "kernelspec": {
   "display_name": "Python 3",
   "language": "python",
   "name": "python3"
  },
  "language_info": {
   "codemirror_mode": {
    "name": "ipython",
    "version": 3
   },
   "file_extension": ".py",
   "mimetype": "text/x-python",
   "name": "python",
   "nbconvert_exporter": "python",
   "pygments_lexer": "ipython3",
   "version": "3.7.3"
  }
 },
 "nbformat": 4,
 "nbformat_minor": 2
}
