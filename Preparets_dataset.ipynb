{
 "cells": [
  {
   "cell_type": "code",
   "execution_count": 1,
   "metadata": {},
   "outputs": [],
   "source": [
    "import bs4\n",
    "from urllib.request import urlopen as urll\n",
    "from bs4 import BeautifulSoup as soup\n",
    "import requests\n",
    "from bs4 import BeautifulSoup\n",
    "import pandas as pd\n",
    "import re\n",
    "import seaborn as sns\n",
    "import datetime # сейчас я пасрю с 1 странице поиска, можно забить юрл, чтобы понимать , где это находит\n",
    "from pandas.plotting import register_matplotlib_converters\n",
    "register_matplotlib_converters()\n",
    "from datetime import datetime\n",
    "from numpy import mean\n",
    "import numpy as np\n",
    "pd.set_option(\"display.max_rows\", 2500)\n",
    "pd.set_option('display.max_colwidth', -1)"
   ]
  },
  {
   "cell_type": "code",
   "execution_count": 2,
   "metadata": {},
   "outputs": [],
   "source": [
    "a = pd.read_excel(\"BeloR.xlsx\")\n",
    "b = pd.read_excel(\"Kavkaz.xlsx\")\n",
    "c = pd.read_excel(\"kaza.xlsx\")\n",
    "d = pd.read_excel(\"LongEast.xlsx\")\n",
    "e = pd.read_excel(\"NorthWest.xlsx\")\n",
    "f = pd.read_excel(\"Other.xlsx\")\n",
    "g = pd.read_excel(\"South.xlsx\")\n",
    "h = pd.read_excel(\"Ural.xlsx\")\n",
    "k = pd.read_excel(\"Сentral.xlsx\")\n",
    "l = pd.read_excel(\"Volga.xlsx\")\n",
    "n = pd.read_excel(\"sibb.xlsx\")\n",
    "m = pd.read_excel(\"Moscow.xlsx\")"
   ]
  },
  {
   "cell_type": "code",
   "execution_count": 3,
   "metadata": {},
   "outputs": [
    {
     "data": {
      "text/plain": [
       "2209"
      ]
     },
     "execution_count": 3,
     "metadata": {},
     "output_type": "execute_result"
    }
   ],
   "source": [
    "len(n)"
   ]
  },
  {
   "cell_type": "code",
   "execution_count": 4,
   "metadata": {},
   "outputs": [
    {
     "data": {
      "text/plain": [
       "5805"
      ]
     },
     "execution_count": 4,
     "metadata": {},
     "output_type": "execute_result"
    }
   ],
   "source": [
    "len(m)"
   ]
  },
  {
   "cell_type": "code",
   "execution_count": 5,
   "metadata": {},
   "outputs": [],
   "source": [
    "df = pd.concat([a,b,c,d,e,f,g,h,k,l,n,m])"
   ]
  },
  {
   "cell_type": "code",
   "execution_count": 6,
   "metadata": {},
   "outputs": [
    {
     "data": {
      "text/plain": [
       "(16716, 33)"
      ]
     },
     "execution_count": 6,
     "metadata": {},
     "output_type": "execute_result"
    }
   ],
   "source": [
    "df.shape"
   ]
  },
  {
   "cell_type": "code",
   "execution_count": 7,
   "metadata": {},
   "outputs": [],
   "source": [
    "list_region = []\n",
    "for i in range(len(a)):\n",
    "    list_region.append('Белоруссия')\n",
    "for i in range(len(b)):\n",
    "    list_region.append('Кавказ')\n",
    "for i in range(len(c)):\n",
    "    list_region.append('Казахстан')\n",
    "for i in range(len(d)):\n",
    "    list_region.append('Дальний Восток')\n",
    "for i in range(len(e)):\n",
    "    list_region.append('Северо-Запад')\n",
    "for i in range(len(f)):\n",
    "    list_region.append('Другие')\n",
    "for i in range(len(g)):\n",
    "    list_region.append('Юг')\n",
    "for i in range(len(h)):\n",
    "    list_region.append('Урал')\n",
    "for i in range(len(k)):\n",
    "    list_region.append('Центр')\n",
    "for i in range(len(l)):\n",
    "    list_region.append('Приволжский')\n",
    "for i in range(len(n)):\n",
    "    list_region.append('Сибирь')\n",
    "for i in range(len(m)):\n",
    "    list_region.append('Москва')"
   ]
  },
  {
   "cell_type": "code",
   "execution_count": 8,
   "metadata": {},
   "outputs": [
    {
     "data": {
      "text/plain": [
       "16716"
      ]
     },
     "execution_count": 8,
     "metadata": {},
     "output_type": "execute_result"
    }
   ],
   "source": [
    "len(list_region)"
   ]
  },
  {
   "cell_type": "code",
   "execution_count": 9,
   "metadata": {},
   "outputs": [],
   "source": [
    "se = pd.Series(list_region)\n",
    "df['Регион'] = se.values"
   ]
  },
  {
   "cell_type": "code",
   "execution_count": 10,
   "metadata": {},
   "outputs": [],
   "source": [
    "a1 = df['Цвет глаз']\n",
    "b1 = df[\"Телосложение\"]\n",
    "c1 = df['Цвет волос']"
   ]
  },
  {
   "cell_type": "code",
   "execution_count": 11,
   "metadata": {},
   "outputs": [],
   "source": [
    "def change_name_hair(x):\n",
    "    if \"лыс\" in  x:\n",
    "        x = x.replace(x, \"лысый\")\n",
    "    elif \"седые\" in x:\n",
    "        x = x.replace(x, \"седые\")   \n",
    "    elif \"рус\" in x or \"светлорус\" in  x or \"кашта\" in  x or \"рыж\" in  x or \"све\" in  x:\n",
    "        x = x.replace(x, \"русые\")\n",
    "    elif \"тем\" in x or \"шокол\" in x or \"черн\" in x or \"чёрн\" in x:\n",
    "        x = x.replace(x, \"серые\")    \n",
    "    elif \"Не указано\" in x or \"Ты объе\" in x:\n",
    "        x = x.replace(x, \"-\") \n",
    "    else:\n",
    "        x = x.replace(x, \"Не указано\")\n",
    "    return x "
   ]
  },
  {
   "cell_type": "code",
   "execution_count": 12,
   "metadata": {},
   "outputs": [],
   "source": [
    "def change_name_eye(x):\n",
    "    if \"cероголубые\" in x or \"голубые\" in x or \"сероси\" in x:\n",
    "        x = x.replace(x, \"голубые\")\n",
    "    elif \"кар\" in x  or \"зелёнокар\" in x:\n",
    "        x = x.replace(x, \"карие\")   \n",
    "    elif \"зеле\" in x or \"светлозеле\" in x or \"серозеленые\" in x:\n",
    "        x = x.replace(x, \"зеленые\")\n",
    "    elif \"Сер\" in x or \"светлосер\" in x or \"сер\" in x:\n",
    "        x = x.replace(x, \"серые\")    \n",
    "    elif \"Не указано\" in x or \"Ты объе\" in x:\n",
    "        x = x.replace(x, \"-\")  \n",
    "    else:\n",
    "        x = x.replace(x, \"Не указано\") \n",
    "    return x "
   ]
  },
  {
   "cell_type": "code",
   "execution_count": 13,
   "metadata": {},
   "outputs": [],
   "source": [
    "def change_name_body(x):\n",
    "    if \"норм\" in x or \"сред\" in x or \"обыч\" in x:\n",
    "        x = x.replace(x, \"норм\")\n",
    "    elif \"плот\" in x  or \"пол\" in x:\n",
    "        x = x.replace(x, \"круп\")   \n",
    "    elif \"худощ\" in x or \"Xуд\" in x or \"xудощавое\" in x:\n",
    "        x = x.replace(x, \"худ\")   \n",
    "    elif \"Не указано\" in x or \"Ты объе\" in x:\n",
    "        x = x.replace(x, \"-\")\n",
    "    else:\n",
    "        x = x.replace(x, \"Не указано\")\n",
    "        \n",
    "    return x "
   ]
  },
  {
   "cell_type": "code",
   "execution_count": 14,
   "metadata": {},
   "outputs": [],
   "source": [
    "df['Телосложение'] = b1.apply(change_name_body)\n",
    "df['Цвет глаз'] = a1.apply(change_name_eye)\n",
    "df['Цвет волос'] = c1.apply(change_name_hair)\n"
   ]
  },
  {
   "cell_type": "code",
   "execution_count": 15,
   "metadata": {},
   "outputs": [],
   "source": [
    "mm = df[df['Возраст'] != \"Коля объебался\"]\n",
    "dfnew = mm[mm['Рост'] != \"Er\"]"
   ]
  },
  {
   "cell_type": "code",
   "execution_count": 17,
   "metadata": {},
   "outputs": [],
   "source": [
    "dfnew.to_excel(\"Dataset_final.xlsx\")"
   ]
  },
  {
   "cell_type": "code",
   "execution_count": 18,
   "metadata": {},
   "outputs": [
    {
     "data": {
      "text/plain": [
       "pandas.core.frame.DataFrame"
      ]
     },
     "execution_count": 18,
     "metadata": {},
     "output_type": "execute_result"
    }
   ],
   "source": [
    "type(df[df[\"km\"] != 0])"
   ]
  },
  {
   "cell_type": "code",
   "execution_count": 19,
   "metadata": {},
   "outputs": [],
   "source": [
    "(dfnew[dfnew[\"km\"] != 0]).to_excel(\"Dataset_final_Kolya.xlsx\")"
   ]
  },
  {
   "cell_type": "code",
   "execution_count": null,
   "metadata": {},
   "outputs": [],
   "source": []
  }
 ],
 "metadata": {
  "kernelspec": {
   "display_name": "Python 3",
   "language": "python",
   "name": "python3"
  },
  "language_info": {
   "codemirror_mode": {
    "name": "ipython",
    "version": 3
   },
   "file_extension": ".py",
   "mimetype": "text/x-python",
   "name": "python",
   "nbconvert_exporter": "python",
   "pygments_lexer": "ipython3",
   "version": "3.7.3"
  }
 },
 "nbformat": 4,
 "nbformat_minor": 2
}
