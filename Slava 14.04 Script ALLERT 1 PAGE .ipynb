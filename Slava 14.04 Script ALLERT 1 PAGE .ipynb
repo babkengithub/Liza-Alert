{
 "cells": [
  {
   "cell_type": "code",
   "execution_count": 102,
   "metadata": {},
   "outputs": [],
   "source": [
    "import requests\n",
    "r = requests.get('https://lizaalert.org/otryadnye-nuzhdy/')"
   ]
  },
  {
   "cell_type": "code",
   "execution_count": 103,
   "metadata": {},
   "outputs": [
    {
     "name": "stdout",
     "output_type": "stream",
     "text": [
      "<!DOCTYPE HTML>\r\n",
      "<html class=\"\" lang=\"ru-RU\" prefix=\"og: http://ogp.me/ns#\">\r\n",
      "<head>\r\n",
      "\t<meta charset=\"UTF-8\">\r\n",
      "\r\n",
      "\t<title>Отрядные нужды - Лиза Алерт</title>\n",
      "\n",
      "<!-- This site is optimized with the Yoast SEO Premium plugin v9.2.1 - https://yoast.com/wordpress/plugins/seo/ -->\n",
      "<link rel=\"canonical\" href=\"https://lizaalert.org/otryadnye-nuzhdy/\" />\n",
      "<meta property=\"og:locale\" content=\"ru_RU\" />\n",
      "<meta property=\"og:type\" content=\"article\" />\n",
      "<meta property=\"og:title\" content=\"Отрядные нужды - Лиза Алерт\n"
     ]
    }
   ],
   "source": [
    "print(r.text[0:500])"
   ]
  },
  {
   "cell_type": "code",
   "execution_count": 104,
   "metadata": {},
   "outputs": [
    {
     "data": {
      "text/plain": [
       "'Помощь отряду и поисковые нужды.ПСО «Лиза Алерт» не принимает денежную помощь, не имеет расчетных счетов и виртуальных кошельков. Это принципиальная и неизменная позиция отряда. Вы можете помочь распространением и/или сбором информации, передав в дар или оказав содействие в обеспечении отряда необходимым для поисков оборудованием. Любая помощь равно неоценима. Мы будем благодарны за Ваше добровольное и посильное участие.\\xa0Спасибо, thank you '"
      ]
     },
     "execution_count": 104,
     "metadata": {},
     "output_type": "execute_result"
    }
   ],
   "source": [
    "from bs4 import BeautifulSoup\n",
    "soup = BeautifulSoup(r.text, 'html.parser')\n",
    "results = soup.findAll('section',class_='l-section wpb_row height_medium')\n",
    "len(results)\n",
    "results[1]\n",
    "first_result = results[-2]\n",
    "#first_result\n",
    "first_result.find('div').text[0:-1] + ', thank you '\n"
   ]
  },
  {
   "cell_type": "code",
   "execution_count": 108,
   "metadata": {},
   "outputs": [
    {
     "data": {
      "text/plain": [
       "<div class=\"l-section-h i-cf\"><div class=\"g-cols vc_row type_default valign_top\"><div class=\"vc_col-sm-12 wpb_column vc_column_container\"><div class=\"vc_column-inner\"><div class=\"wpb_wrapper\"><div class=\"uvc-heading ult-adjust-bottom-margin ultimate-heading-10305cb2359819be3 uvc-6509\" data-halign=\"center\" data-hspacer=\"no_spacer\" id=\"ultimate-heading-10305cb2359819be3\" style=\"text-align:center\"><div class=\"uvc-heading-spacer no_spacer\" style=\"top\"></div><div class=\"uvc-main-heading ult-responsive\" data-responsive-json-new='{\"font-size\":\"\",\"line-height\":\"\"}' data-ultimate-target=\".uvc-heading.ultimate-heading-10305cb2359819be3 h2\"><h2 style=\"font-weight:normal;\">Помощь отряду и поисковые нужды.</h2></div><div class=\"uvc-sub-heading ult-responsive\" data-responsive-json-new='{\"font-size\":\"\",\"line-height\":\"\"}' data-ultimate-target=\".uvc-heading.ultimate-heading-10305cb2359819be3 .uvc-sub-heading \" style=\"font-weight:normal;\">ПСО «Лиза Алерт» не принимает денежную помощь, не имеет расчетных счетов и виртуальных кошельков. Это принципиальная и неизменная позиция отряда. Вы можете помочь распространением и/или сбором информации, передав в дар или оказав содействие в обеспечении отряда необходимым для поисков оборудованием. Любая помощь равно неоценима. Мы будем благодарны за Ваше добровольное и посильное участие. <strong>Спасибо!</strong></div></div></div></div></div></div></div>"
      ]
     },
     "execution_count": 108,
     "metadata": {},
     "output_type": "execute_result"
    }
   ],
   "source": [
    "first_result.contents[0]"
   ]
  },
  {
   "cell_type": "code",
   "execution_count": null,
   "metadata": {},
   "outputs": [],
   "source": []
  }
 ],
 "metadata": {
  "kernelspec": {
   "display_name": "Python 3",
   "language": "python",
   "name": "python3"
  },
  "language_info": {
   "codemirror_mode": {
    "name": "ipython",
    "version": 3
   },
   "file_extension": ".py",
   "mimetype": "text/x-python",
   "name": "python",
   "nbconvert_exporter": "python",
   "pygments_lexer": "ipython3",
   "version": "3.7.3"
  }
 },
 "nbformat": 4,
 "nbformat_minor": 2
}
