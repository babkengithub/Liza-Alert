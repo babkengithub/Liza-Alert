{
 "cells": [
  {
   "cell_type": "code",
   "execution_count": 46,
   "metadata": {},
   "outputs": [],
   "source": [
    "import urllib.request # Этой строкой посылаем запрос на возможность получения url страниц.Request обязательна, она дает возможность получить страницу в Интернете\n",
    "from bs4 import BeautifulSoup # bs4 содержит не только суп, поэтому необходимо именно его загрузить.Сам суп даёт возможность работать с html файлами, то есть превращать более читабельнй вид\n",
    "import re\n",
    "\n",
    "page = urllib.request.urlopen(\"https://lizaalert.org/forum/viewforum.php?f=276&sid=77f734cb1fc11635f9faa41851544905\",\n",
    "                             )\n",
    "soup = BeautifulSoup(page)\n"
   ]
  },
  {
   "cell_type": "code",
   "execution_count": 47,
   "metadata": {},
   "outputs": [],
   "source": [
    "allnames = soup.findAll('a',class_ = \"topictitle\")"
   ]
  },
  {
   "cell_type": "code",
   "execution_count": 49,
   "metadata": {},
   "outputs": [
    {
     "name": "stdout",
     "output_type": "stream",
     "text": [
      "[]\n",
      "['13']\n",
      "['80']\n",
      "['74']\n",
      "['39', '11']\n",
      "['79']\n",
      "['86']\n",
      "[]\n",
      "['13']\n",
      "['78']\n",
      "['70', '19', '48']\n",
      "['79']\n",
      "[]\n",
      "['73']\n",
      "['39']\n",
      "['79']\n",
      "['78']\n",
      "['10']\n",
      "['25']\n",
      "['10']\n",
      "['63']\n",
      "[]\n",
      "['87']\n",
      "['81']\n",
      "['10']\n",
      "['83']\n"
     ]
    }
   ],
   "source": [
    "for i in range (0,len(allnames)):\n",
    "     age = re.findall(r'\\d{2}' ,  allnames[i].text)\n",
    "     wer = str(age)\n",
    "     print(wer)"
   ]
  },
  {
   "cell_type": "code",
   "execution_count": null,
   "metadata": {},
   "outputs": [],
   "source": []
  }
 ],
 "metadata": {
  "kernelspec": {
   "display_name": "Python 3",
   "language": "python",
   "name": "python3"
  }
 },
 "nbformat": 4,
 "nbformat_minor": 2
}
