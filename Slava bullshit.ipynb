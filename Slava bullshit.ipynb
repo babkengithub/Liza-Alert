{
 "cells": [
  {
   "cell_type": "code",
   "execution_count": 44,
   "metadata": {},
   "outputs": [],
   "source": [
    "import bs4\n",
    "from urllib.request import urlopen as urll\n",
    "from bs4 import BeautifulSoup as soup\n",
    "import requests\n",
    "from bs4 import BeautifulSoup\n",
    "import pandas as pd\n",
    "import re"
   ]
  },
  {
   "cell_type": "code",
   "execution_count": 45,
   "metadata": {},
   "outputs": [],
   "source": [
    "my_url = 'https://lizaalert.org/forum/viewforum.php?f=276&sid=77f734cb1fc11635f9faa41851544905'"
   ]
  },
  {
   "cell_type": "code",
   "execution_count": 59,
   "metadata": {},
   "outputs": [
    {
     "data": {
      "text/plain": [
       "' Инфорг » 15 апр 2019, 23:33'"
      ]
     },
     "execution_count": 59,
     "metadata": {},
     "output_type": "execute_result"
    }
   ],
   "source": [
    "    uClient = urll(my_url)\n",
    "    page_html = uClient.read()\n",
    "    uClient.close()\n",
    "    page_soup = soup(page_html,\"html.parser\")\n",
    "    #div = page.find('div', class_ ='one-full')\n",
    "    main = page_soup.find('ul', {'class':'topiclist topics'})\n",
    "    person = page_soup.findAll('li',class_='row bg1')\n",
    "    name = page_soup.findAll('a',class_='topictitle')\n",
    "    post = page_soup.findAll('dd',class_='posts')\n",
    "    #fr = page_soup.find('span', class_='for-desc').text\n",
    "    sd = person[0].findAll('span', class_='for-desc')[1].text\n",
    "    asa= person[0].findAll('a', class_='username-coloured')\n",
    "    sd\n",
    "    #First = person.findAll('span',class_ = 'for-desc').text\n",
    "    #First\n",
    "    #sd[1].text.split(\" \")[3:]\n",
    "    #print(person[0].findAll('span', class_='for-desc'))\n",
    "    #print(person)\n",
    "    #person\n",
    "    "
   ]
  },
  {
   "cell_type": "code",
   "execution_count": null,
   "metadata": {},
   "outputs": [],
   "source": []
  }
 ],
 "metadata": {
  "kernelspec": {
   "display_name": "Python 3",
   "language": "python",
   "name": "python3"
  },
  "language_info": {
   "codemirror_mode": {
    "name": "ipython",
    "version": 3
   },
   "file_extension": ".py",
   "mimetype": "text/x-python",
   "name": "python",
   "nbconvert_exporter": "python",
   "pygments_lexer": "ipython3",
   "version": "3.7.3"
  }
 },
 "nbformat": 4,
 "nbformat_minor": 2
}
