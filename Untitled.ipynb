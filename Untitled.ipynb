{
 "cells": [
  {
   "cell_type": "code",
   "execution_count": 43,
   "metadata": {
    "scrolled": true
   },
   "outputs": [
    {
     "name": "stdout",
     "output_type": "stream",
     "text": [
      "<title>Пропала Беринич С.Е. 1978 г.р., с. Новоалександрово, Сузд • Форум lizaalert.org</title>\n",
      "[<div class=\"pagination\">\n",
      "\t\t\tСообщений: 6\n",
      "\t\t\t • Страница <strong>1</strong> из <strong>1</strong>\n",
      "</div>, <div class=\"pagination\">\n",
      "\t\t\tСообщений: 6\n",
      "\t\t\t • Страница <strong>1</strong> из <strong>1</strong>\n",
      "</div>]\n",
      "[<div class=\"content\"><span style=\"font-weight: bold\"><span style=\"font-size: 140%; line-height: 116%;\">Пропала Беринич Светлана Евгеньевна 1978 г.р. (40 лет)<br/>с. Новоалександрово, Суздальский р-н, Владимирская обл.</span></span><br/><br/>С 9 ноября 2018 года её местонахождение не установлено.<br/><br/><span style=\"font-weight: bold\">Нуждается в медицинской помощи!<br/>Может находиться в вашем городе!</span><br/><br/><img alt=\"Изображение\" src=\"https://b.radikal.ru/b18/1811/6c/2f824c84c1cc.jpg\"/><br/><br/><span style=\"font-weight: bold\">Приметы:</span><br/>рост 157 см, худощавого телосложения, волосы тёмные крашеные, глаза серо-голубые.<br/><br/><span style=\"font-weight: bold\">Была одета:</span><br/>неизвестно.<br/><br/><a href=\"https://docs.google.com/spreadsheets/d/15rT1vIOP0Y7Sz4W3W3lrDwWaQSQmJgb3DLpNCv6dg8c/edit#gid=1858183626\" rel=\"nofollow\" target=\"_blank\"><span style=\"font-weight: bold\">Таблица прозвона больниц</span></a><br/><br/><a href=\"http://la-org.ru/images/2018/11/2c5fffdd2c4064f039e478b1b5712caa2.jpg\" rel=\"nofollow\" target=\"_blank\"><span style=\"font-weight: bold\">Ориентировка на репост</span></a><br/><br/><a href=\"http://la-org.ru/images/2018/11/2c5fffdd2c4064f039e478b1b5712caa1.jpg\" rel=\"nofollow\" target=\"_blank\"><span style=\"font-weight: bold\">Ориентировка на печать</span></a><br/><br/><span style=\"font-weight: bold\"><span style=\"color: #0000FF\">Имеются автономные задачи! Для уточнения связываться с инфоргом!</span></span><br/>______________________________________________________<br/><br/><span style=\"font-weight: bold\"><span style=\"color: #0000FF\">Инфорг: Кузнецова Татьяна 89042523737</span></span></div>, <div class=\"content\"><span style=\"font-weight: bold\">Автономные задачи:</span><br/>12.11.2018 - Нео + 1</div>, <div class=\"content\">Опубликовано:<br/><br/><!-- m --><a class=\"postlink\" href=\"https://vk.com/club68223893?w=wall-68223893_462%2Fall\" rel=\"nofollow\" target=\"_blank\">https://vk.com/club68223893?w=wall-68223893_462%2Fall</a><!-- m --><br/><!-- m --><a class=\"postlink\" href=\"https://vk.com/vladimir__doska?w=wall-149219176_18945%2Fall\" rel=\"nofollow\" target=\"_blank\">https://vk.com/vladimir__doska?w=wall-1 ... 8945%2Fall</a><!-- m --><br/><!-- m --><a class=\"postlink\" href=\"https://vk.com/club34609924?w=wall-34609924_19414%2Fall\" rel=\"nofollow\" target=\"_blank\">https://vk.com/club34609924?w=wall-34609924_19414%2Fall</a><!-- m --><br/><!-- m --><a class=\"postlink\" href=\"https://vk.com/club12289848?w=wall-12289848_9675%2Fall\" rel=\"nofollow\" target=\"_blank\">https://vk.com/club12289848?w=wall-12289848_9675%2Fall</a><!-- m --><br/><!-- m --><a class=\"postlink\" href=\"https://vk.com/sobinka_lakinsk_33rus?w=wall-13710386_43734%2Fall\" rel=\"nofollow\" target=\"_blank\">https://vk.com/sobinka_lakinsk_33rus?w= ... 3734%2Fall</a><!-- m --><br/><!-- m --><a class=\"postlink\" href=\"https://vk.com/taxi_raion_bogolubovo?w=wall-167336915_29%2Fall\" rel=\"nofollow\" target=\"_blank\">https://vk.com/taxi_raion_bogolubovo?w= ... 5_29%2Fall</a><!-- m --><br/><!-- m --><a class=\"postlink\" href=\"https://vk.com/club4854243?w=wall-4854243_739%2Fall\" rel=\"nofollow\" target=\"_blank\">https://vk.com/club4854243?w=wall-4854243_739%2Fall</a><!-- m --><br/><!-- m --><a class=\"postlink\" href=\"https://vk.com/club46529970?w=wall-46529970_207%2Fall\" rel=\"nofollow\" target=\"_blank\">https://vk.com/club46529970?w=wall-46529970_207%2Fall</a><!-- m --><br/><!-- m --><a class=\"postlink\" href=\"https://vk.com/club142404990?w=wall-142404990_1762%2Fall\" rel=\"nofollow\" target=\"_blank\">https://vk.com/club142404990?w=wall-142 ... 1762%2Fall</a><!-- m --><br/><!-- m --><a class=\"postlink\" href=\"https://vk.com/club163843920?w=wall-163843920_910%2Fall\" rel=\"nofollow\" target=\"_blank\">https://vk.com/club163843920?w=wall-163843920_910%2Fall</a><!-- m --><br/><!-- m --><a class=\"postlink\" href=\"https://vk.com/suzdal_33?w=wall-124912429_7636%2Fall\" rel=\"nofollow\" target=\"_blank\">https://vk.com/suzdal_33?w=wall-124912429_7636%2Fall</a><!-- m --><br/><!-- m --><a class=\"postlink\" href=\"https://ok.ru/zhiznsuzdalya/topic/69201018487018\" rel=\"nofollow\" target=\"_blank\">https://ok.ru/zhiznsuzdalya/topic/69201018487018</a><!-- m --><br/><!-- m --><a class=\"postlink\" href=\"https://ok.ru/vladimir.oblasti/topic/69215298721263\" rel=\"nofollow\" target=\"_blank\">https://ok.ru/vladimir.oblasti/topic/69215298721263</a><!-- m --><br/><!-- m --><a class=\"postlink\" href=\"https://ok.ru/group51970194931934/topic/68773718515934\" rel=\"nofollow\" target=\"_blank\">https://ok.ru/group51970194931934/topic/68773718515934</a><!-- m --><br/><!-- m --><a class=\"postlink\" href=\"https://ok.ru/orgtrud.ku/topic/69274459335632\" rel=\"nofollow\" target=\"_blank\">https://ok.ru/orgtrud.ku/topic/69274459335632</a><!-- m --><br/><!-- m --><a class=\"postlink\" href=\"https://ok.ru/group53209745588400/topic/69154869294512\" rel=\"nofollow\" target=\"_blank\">https://ok.ru/group53209745588400/topic/69154869294512</a><!-- m --><br/><!-- m --><a class=\"postlink\" href=\"https://ok.ru/group54601935814889/topic/69173782091241\" rel=\"nofollow\" target=\"_blank\">https://ok.ru/group54601935814889/topic/69173782091241</a><!-- m --><br/><!-- m --><a class=\"postlink\" href=\"https://ok.ru/group/50454056992908/topic/69091077797260\" rel=\"nofollow\" target=\"_blank\">https://ok.ru/group/50454056992908/topic/69091077797260</a><!-- m --><br/><br/><br/>Предложено:<br/><br/><!-- m --><a class=\"postlink\" href=\"https://vk.com/podslushano_vladimir33\" rel=\"nofollow\" target=\"_blank\">https://vk.com/podslushano_vladimir33</a><!-- m --><br/><!-- m --><a class=\"postlink\" href=\"https://vk.com/6tv33\" rel=\"nofollow\" target=\"_blank\">https://vk.com/6tv33</a><!-- m --><br/><!-- m --><a class=\"postlink\" href=\"https://vk.com/vladimirregpodslushano\" rel=\"nofollow\" target=\"_blank\">https://vk.com/vladimirregpodslushano</a><!-- m --><br/><!-- m --><a class=\"postlink\" href=\"https://vk.com/mutual_vladimir\" rel=\"nofollow\" target=\"_blank\">https://vk.com/mutual_vladimir</a><!-- m --><br/><!-- m --><a class=\"postlink\" href=\"https://vk.com/prizyvtv\" rel=\"nofollow\" target=\"_blank\">https://vk.com/prizyvtv</a><!-- m --><br/><!-- m --><a class=\"postlink\" href=\"https://vk.com/tvoyamoya33\" rel=\"nofollow\" target=\"_blank\">https://vk.com/tvoyamoya33</a><!-- m --><br/><!-- m --><a class=\"postlink\" href=\"https://vk.com/chpdtp33\" rel=\"nofollow\" target=\"_blank\">https://vk.com/chpdtp33</a><!-- m --><br/><!-- m --><a class=\"postlink\" href=\"https://vk.com/tipichnyi_vladimir\" rel=\"nofollow\" target=\"_blank\">https://vk.com/tipichnyi_vladimir</a><!-- m --><br/><!-- m --><a class=\"postlink\" href=\"https://vk.com/find_you_vladimir\" rel=\"nofollow\" target=\"_blank\">https://vk.com/find_you_vladimir</a><!-- m --><br/><!-- m --><a class=\"postlink\" href=\"https://vk.com/news_vladimir\" rel=\"nofollow\" target=\"_blank\">https://vk.com/news_vladimir</a><!-- m --><br/><!-- m --><a class=\"postlink\" href=\"https://vk.com/overhearauto33\" rel=\"nofollow\" target=\"_blank\">https://vk.com/overhearauto33</a><!-- m --><br/><!-- m --><a class=\"postlink\" href=\"https://vk.com/podsluhano_vo_vladimire\" rel=\"nofollow\" target=\"_blank\">https://vk.com/podsluhano_vo_vladimire</a><!-- m --><br/><!-- m --><a class=\"postlink\" href=\"https://vk.com/overhear33\" rel=\"nofollow\" target=\"_blank\">https://vk.com/overhear33</a><!-- m --><br/><!-- m --><a class=\"postlink\" href=\"https://vk.com/suzdal_33_suzdal\" rel=\"nofollow\" target=\"_blank\">https://vk.com/suzdal_33_suzdal</a><!-- m --><br/><!-- m --><a class=\"postlink\" href=\"https://vk.com/bogolubovo33\" rel=\"nofollow\" target=\"_blank\">https://vk.com/bogolubovo33</a><!-- m --><br/><!-- m --><a class=\"postlink\" href=\"https://vk.com/bogol_citi\" rel=\"nofollow\" target=\"_blank\">https://vk.com/bogol_citi</a><!-- m --><br/><!-- m --><a class=\"postlink\" href=\"https://vk.com/bogolubovo33\" rel=\"nofollow\" target=\"_blank\">https://vk.com/bogolubovo33</a><!-- m --><br/><!-- m --><a class=\"postlink\" href=\"https://vk.com/suzdalbaraholka\" rel=\"nofollow\" target=\"_blank\">https://vk.com/suzdalbaraholka</a><!-- m --><br/><!-- m --><a class=\"postlink\" href=\"https://vk.com/overhear33suzdal\" rel=\"nofollow\" target=\"_blank\">https://vk.com/overhear33suzdal</a><!-- m --><br/><!-- m --><a class=\"postlink\" href=\"https://vk.com/suzdal_33_suzdal\" rel=\"nofollow\" target=\"_blank\">https://vk.com/suzdal_33_suzdal</a><!-- m --><br/><!-- m --><a class=\"postlink\" href=\"https://vk.com/vsuzdale\" rel=\"nofollow\" target=\"_blank\">https://vk.com/vsuzdale</a><!-- m --><br/><!-- m --><a class=\"postlink\" href=\"https://ok.ru/vladimir..33/topic/69341104933870\" rel=\"nofollow\" target=\"_blank\">https://ok.ru/vladimir..33/topic/69341104933870</a><!-- m --><br/><!-- m --><a class=\"postlink\" href=\"https://ok.ru/podslushano.suzdal/topic/68558062663106\" rel=\"nofollow\" target=\"_blank\">https://ok.ru/podslushano.suzdal/topic/68558062663106</a><!-- m --><br/><!-- m --><a class=\"postlink\" href=\"https://ok.ru/poslushno.33/topic/68834016581088\" rel=\"nofollow\" target=\"_blank\">https://ok.ru/poslushno.33/topic/68834016581088</a><!-- m --><br/><!-- m --><a class=\"postlink\" href=\"https://ok.ru/vladimir.online/topic/68946869130570\" rel=\"nofollow\" target=\"_blank\">https://ok.ru/vladimir.online/topic/68946869130570</a><!-- m --><br/><!-- m --><a class=\"postlink\" href=\"https://ok.ru/narod33/topic/69515773487918\" rel=\"nofollow\" target=\"_blank\">https://ok.ru/narod33/topic/69515773487918</a><!-- m --><br/><!-- m --><a class=\"postlink\" href=\"https://ok.ru/group54458887831790/topic/69341093071854\" rel=\"nofollow\" target=\"_blank\">https://ok.ru/group54458887831790/topic/69341093071854</a><!-- m --><br/><!-- m --><a class=\"postlink\" href=\"https://ok.ru/vladimir.chronicler/topic/69515779124014\" rel=\"nofollow\" target=\"_blank\">https://ok.ru/vladimir.chronicler/topic/69515779124014</a><!-- m --><br/><!-- m --><a class=\"postlink\" href=\"https://ok.ru/prizyvru/topic/68523483239901\" rel=\"nofollow\" target=\"_blank\">https://ok.ru/prizyvru/topic/68523483239901</a><!-- m --></div>, <div class=\"content\">Опубликовано:<br/><br/><!-- m --><a class=\"postlink\" href=\"https://ok.ru/group54458887831790/topic/69348437101550\" rel=\"nofollow\" target=\"_blank\">https://ok.ru/group54458887831790/topic/69348437101550</a><!-- m --><br/><!-- m --><a class=\"postlink\" href=\"https://ok.ru/podslushano.suzdal/topic/68560622892482\" rel=\"nofollow\" target=\"_blank\">https://ok.ru/podslushano.suzdal/topic/68560622892482</a><!-- m --><br/><!-- m --><a class=\"postlink\" href=\"https://vk.com/wall-132784537_9515\" rel=\"nofollow\" target=\"_blank\">https://vk.com/wall-132784537_9515</a><!-- m --><br/><!-- m --><a class=\"postlink\" href=\"https://vk.com/wall-134538023_43378\" rel=\"nofollow\" target=\"_blank\">https://vk.com/wall-134538023_43378</a><!-- m --><br/><!-- m --><a class=\"postlink\" href=\"https://vk.com/wall-23742334_6127\" rel=\"nofollow\" target=\"_blank\">https://vk.com/wall-23742334_6127</a><!-- m --><br/><!-- m --><a class=\"postlink\" href=\"https://vk.com/feed?section=notifications&amp;w=wall-4246046_15254\" rel=\"nofollow\" target=\"_blank\">https://vk.com/feed?section=notificatio ... 6046_15254</a><!-- m --><br/><!-- m --><a class=\"postlink\" href=\"https://ok.ru/podslushano.suzdal/topic/68560622892482\" rel=\"nofollow\" target=\"_blank\">https://ok.ru/podslushano.suzdal/topic/68560622892482</a><!-- m --><br/><!-- m --><a class=\"postlink\" href=\"https://ok.ru/group54458887831790/topic/69348437101550\" rel=\"nofollow\" target=\"_blank\">https://ok.ru/group54458887831790/topic/69348437101550</a><!-- m --></div>, <div class=\"content\"><span style=\"font-weight: bold\">Автономные задачи:</span><br/>15.11.2018  Худяков<br/>                  Лачинов<br/>                  Кандалов +1</div>, <div class=\"content\"><span style=\"font-weight: bold\"><span style=\"color: #0000FF\">Поиск продолжается. Необходима помощь в прозвоне больниц.</span></span></div>]\n"
     ]
    }
   ],
   "source": [
    "import bs4\n",
    "from urllib.request import urlopen as uReq\n",
    "from bs4 import BeautifulSoup as soup\n",
    "\n",
    "my_url = 'https://lizaalert.org/forum/viewtopic.php?f=123&t=23194'\n",
    "# my_url = 'https://lizaalert.org/forum/viewtopic.php?f=287&t=23834'\n",
    "\n",
    "uClient = uReq(my_url)\n",
    "page_html = uClient.read()\n",
    "uClient.close()\n",
    "\n",
    "page_soup = soup(page_html, \"html.parser\")\n",
    "print(page_soup.title)\n",
    "\n",
    "containers = page_soup.findAll(\"div\", {\"class\":\"content\"})\n",
    "\n",
    "containers2 = page_soup.findAll(\"div\", {\"class\":\"pagination\"})\n",
    "\n",
    "print(containers2)\n",
    "print(containers)\n",
    "\n",
    "\n",
    "\n",
    "\n",
    "\n",
    "\n"
   ]
  },
  {
   "cell_type": "code",
   "execution_count": null,
   "metadata": {},
   "outputs": [],
   "source": []
  },
  {
   "cell_type": "code",
   "execution_count": null,
   "metadata": {},
   "outputs": [],
   "source": []
  },
  {
   "cell_type": "code",
   "execution_count": null,
   "metadata": {},
   "outputs": [],
   "source": []
  }
 ],
 "metadata": {
  "kernelspec": {
   "display_name": "Python 3",
   "language": "python",
   "name": "python3"
  },
  "language_info": {
   "codemirror_mode": {
    "name": "ipython",
    "version": 3
   },
   "file_extension": ".py",
   "mimetype": "text/x-python",
   "name": "python",
   "nbconvert_exporter": "python",
   "pygments_lexer": "ipython3",
   "version": "3.7.3"
  }
 },
 "nbformat": 4,
 "nbformat_minor": 2
}
