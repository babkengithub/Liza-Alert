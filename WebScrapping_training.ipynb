{
 "cells": [
  {
   "cell_type": "markdown",
   "metadata": {},
   "source": [
    "# Как достать признаки с LizaAlert и оформить это в jupyter"
   ]
  },
  {
   "cell_type": "markdown",
   "metadata": {},
   "source": [
    "Сначала импортируем необходимые пакеты из соответствующих библиотек"
   ]
  },
  {
   "cell_type": "code",
   "execution_count": null,
   "metadata": {},
   "outputs": [],
   "source": []
  },
  {
   "cell_type": "code",
   "execution_count": 34,
   "metadata": {},
   "outputs": [
    {
     "name": "stderr",
     "output_type": "stream",
     "text": [
      "[nltk_data] Downloading package wordnet to /Users/vgodie/nltk_data...\n",
      "[nltk_data]   Package wordnet is already up-to-date!\n"
     ]
    },
    {
     "data": {
      "text/plain": [
       "True"
      ]
     },
     "execution_count": 34,
     "metadata": {},
     "output_type": "execute_result"
    }
   ],
   "source": [
    "from bs4 import BeautifulSoup as soup\n",
    "from urllib.request import urlopen as uReq\n",
    "from nltk.stem import WordNetLemmatizer\n",
    "from nltk.tokenize import word_tokenize\n",
    "import re\n",
    "import scrapy\n",
    "import nltk\n",
    "from datetime import datetime, date, time\n",
    "nltk.download('wordnet')"
   ]
  },
  {
   "cell_type": "code",
   "execution_count": 2,
   "metadata": {},
   "outputs": [],
   "source": [
    "my_url = 'https://lizaalert.org/forum/viewtopic.php?f=173&t=23959&sid=46a74e963d101e46f5a373d05fee08fb'\n",
    "#my_url = \"https://lizaalert.org/forum/viewtopic.php?f=120&t=2360\"\n",
    "#my_url = \"https://lizaalert.org/forum/viewtopic.php?f=276&t=25112\"# boy and AK-47\n",
    "#my_url = \"https://lizaalert.org/forum/viewtopic.php?f=276&t=25087\" #девочка с необычным лицом\n",
    "#my_url = \"https://lizaalert.org/forum/viewtopic.php?f=276&t=25197\" #косоглазый чел\n",
    "#my_url = \"https://lizaalert.org/forum/viewtopic.php?f=276&t=25104\" #ded anisimov\n",
    "#my_url = \"https://lizaalert.org/forum/viewtopic.php?f=276&t=25098\" #ded Medvedev\n",
    "#my_url = \"https://lizaalert.org/forum/viewtopic.php?f=276&t=25109\" #дед Павлов\n",
    "#my_url = 'https://lizaalert.org/forum/viewtopic.php?f=276&t=25083'#boy Sayakbaev\n",
    "#my_url = 'https://lizaalert.org/forum/viewtopic.php?f=276&t=25078' #grandma Leandrova\n",
    "#my_url = \"https://lizaalert.org/forum/viewtopic.php?f=276&t=25077\" #girl Kamilla\n",
    "client = uReq(my_url)  # создаем документ, являющийся сырым кодом сайта"
   ]
  },
  {
   "cell_type": "code",
   "execution_count": 3,
   "metadata": {},
   "outputs": [],
   "source": [
    "page_html = client.read() # функция .read() позволяет вывести на экран все содержимое файла, а если мы это сохраним в переменную, \n",
    "                          # то получим объект, который хранит в себе все строки этого файла"
   ]
  },
  {
   "cell_type": "code",
   "execution_count": 4,
   "metadata": {},
   "outputs": [],
   "source": [
    "client.close()"
   ]
  },
  {
   "cell_type": "code",
   "execution_count": 5,
   "metadata": {},
   "outputs": [],
   "source": [
    "ps = soup(page_html, \"html.parser\")"
   ]
  },
  {
   "cell_type": "code",
   "execution_count": 6,
   "metadata": {
    "scrolled": true
   },
   "outputs": [
    {
     "data": {
      "text/plain": [
       "bs4.BeautifulSoup"
      ]
     },
     "execution_count": 6,
     "metadata": {},
     "output_type": "execute_result"
    }
   ],
   "source": [
    "type(ps)"
   ]
  },
  {
   "cell_type": "code",
   "execution_count": 7,
   "metadata": {},
   "outputs": [],
   "source": [
    "english_stops = ['.', ',', ':', ';', \"!\", \"?\", \"-\"]"
   ]
  },
  {
   "cell_type": "markdown",
   "metadata": {},
   "source": [
    "Далее, для работы понадобится открыть код страницы, которую мы хотим парсить. Для этого правой кнопки мыши нажимаем на страницу, затем выбираем просмотреть код, который затем должен появиться в правой стороне страницы."
   ]
  },
  {
   "cell_type": "code",
   "execution_count": 8,
   "metadata": {},
   "outputs": [
    {
     "data": {
      "text/plain": [
       "2"
      ]
     },
     "execution_count": 8,
     "metadata": {},
     "output_type": "execute_result"
    }
   ],
   "source": [
    "containers = ps.find_all(\"div\", {\"class\": \"content\"})\n",
    "len(containers)"
   ]
  },
  {
   "cell_type": "code",
   "execution_count": 9,
   "metadata": {},
   "outputs": [],
   "source": [
    "main = ps.find('div', {'class':'content'}).text"
   ]
  },
  {
   "cell_type": "code",
   "execution_count": 10,
   "metadata": {},
   "outputs": [
    {
     "data": {
      "text/plain": [
       "'2'"
      ]
     },
     "execution_count": 10,
     "metadata": {},
     "output_type": "execute_result"
    }
   ],
   "source": [
    "posts = ps.find('div', {'class':'pagination'})\n",
    "posts\n",
    "re.search(r'\\d+', str(posts)).group()"
   ]
  },
  {
   "cell_type": "code",
   "execution_count": 11,
   "metadata": {},
   "outputs": [
    {
     "data": {
      "text/plain": [
       "'2'"
      ]
     },
     "execution_count": 11,
     "metadata": {},
     "output_type": "execute_result"
    }
   ],
   "source": [
    "re.search(r'\\d+', str(posts)).group()"
   ]
  },
  {
   "cell_type": "markdown",
   "metadata": {},
   "source": [
    "Код для возраста "
   ]
  },
  {
   "cell_type": "code",
   "execution_count": 12,
   "metadata": {},
   "outputs": [
    {
     "data": {
      "text/plain": [
       "<title>Найден.Жив.Кисилев Анатолий Валерьевич, 28 лет, с.Шведино • Форум lizaalert.org</title>"
      ]
     },
     "execution_count": 12,
     "metadata": {},
     "output_type": "execute_result"
    }
   ],
   "source": [
    "title = ps.find(\"title\").extract()\n",
    "title"
   ]
  },
  {
   "cell_type": "code",
   "execution_count": 13,
   "metadata": {},
   "outputs": [
    {
     "data": {
      "text/plain": [
       "'28'"
      ]
     },
     "execution_count": 13,
     "metadata": {},
     "output_type": "execute_result"
    }
   ],
   "source": [
    "re.search(r'\\d+', str(title)).group()"
   ]
  },
  {
   "cell_type": "code",
   "execution_count": 14,
   "metadata": {},
   "outputs": [
    {
     "data": {
      "text/plain": [
       "<div class=\"content\"><span style=\"font-size: 140%; line-height: 116%;\"><span style=\"font-weight: bold\">Кисилев Анатолий Валерьевич 28 лет, с. Шведино, Петровский р-он, Ставропольский край </span></span><br/><br/>3 января 2019 ушёл из дома и не вернулся<br/><br/><img alt=\"Изображение\" src=\"https://a.radikal.ru/a23/1901/db/6bba3a67e9bb.jpg\"/><br/><br/><a class=\"postlink\" href=\"http://www.radikal.ru\" rel=\"nofollow\" target=\"_blank\"><img alt=\"Изображение\" src=\"https://c.radikal.ru/c23/1901/bf/8a5b12f76ed8.jpg\"/></a><br/><br/><span style=\"font-weight: bold\">Приметы:</span><br/>Рост: 186 см.<br/>Телосложение: xудощавое<br/>Цвет глаз: серо-голубые<br/>Волосы: русые, короткая стрижка, прямые<br/><br/><span style=\"font-weight: bold\">Был одет:</span> Серое  укороченное приталенное пальто, тёмно-синие джинсы, коричневые тряпочные берцы, серый длинный вязаный шарф, черная шапка.<br/><br/><span style=\"font-weight: bold\">Особые приметы:</span> рост 186 см, худощавого телосложения, волосы светлые, глаза серо-голубые, нос курносый, рыжеватая щетина.<br/><br/><span style=\"font-weight: bold\"><a href=\"https://docs.google.com/spreadsheets/d/1Xc_RHvT2LEvYTzRw6M7lsIOTptyrXRf9LybjTBPJIRQ/edit?usp=sharing\" rel=\"nofollow\" target=\"_blank\">Таблица прозвона больниц и ОВД</a></span><br/><br/><span style=\"font-weight: bold\"><a href=\"http://la-org.ru//images/2019/01/4c2be380fa791d047f4aca94c3b1d9ac1.jpg?rnd=57355763\" rel=\"nofollow\" target=\"_blank\">Ориентировка на печать</a></span><br/><br/><span style=\"font-weight: bold\"><a href=\"http://la-org.ru//images/2019/01/4c2be380fa791d047f4aca94c3b1d9ac2.jpg?rnd=38948179\" rel=\"nofollow\" target=\"_blank\">Ориентировка на репост</a></span><br/><br/>--------------------------------------------------<br/><br/><span style=\"font-weight: bold\">Координатор:</span> Войдан Дмитрий 89620955660<br/><span style=\"font-weight: bold\">Инфорг:</span> Изя Светлана 89624940466</div>"
      ]
     },
     "execution_count": 14,
     "metadata": {},
     "output_type": "execute_result"
    }
   ],
   "source": [
    "container = containers[0]\n",
    "containers[0]"
   ]
  },
  {
   "cell_type": "code",
   "execution_count": 15,
   "metadata": {},
   "outputs": [
    {
     "data": {
      "text/plain": [
       "'Изображение'"
      ]
     },
     "execution_count": 15,
     "metadata": {},
     "output_type": "execute_result"
    }
   ],
   "source": [
    "container.img[\"alt\"]  # проверили наличие или отсутствие изображения"
   ]
  },
  {
   "cell_type": "code",
   "execution_count": 16,
   "metadata": {},
   "outputs": [
    {
     "data": {
      "text/plain": [
       "[<span style=\"font-size: 140%; line-height: 116%;\"><span style=\"font-weight: bold\">Кисилев Анатолий Валерьевич 28 лет, с. Шведино, Петровский р-он, Ставропольский край </span></span>,\n",
       " <br/>,\n",
       " <br/>,\n",
       " '3 января 2019 ушёл из дома и не вернулся',\n",
       " <br/>,\n",
       " <br/>,\n",
       " <img alt=\"Изображение\" src=\"https://a.radikal.ru/a23/1901/db/6bba3a67e9bb.jpg\"/>,\n",
       " <br/>,\n",
       " <br/>,\n",
       " <a class=\"postlink\" href=\"http://www.radikal.ru\" rel=\"nofollow\" target=\"_blank\"><img alt=\"Изображение\" src=\"https://c.radikal.ru/c23/1901/bf/8a5b12f76ed8.jpg\"/></a>,\n",
       " <br/>,\n",
       " <br/>,\n",
       " <span style=\"font-weight: bold\">Приметы:</span>,\n",
       " <br/>,\n",
       " 'Рост: 186 см.',\n",
       " <br/>,\n",
       " 'Телосложение: xудощавое',\n",
       " <br/>,\n",
       " 'Цвет глаз: серо-голубые',\n",
       " <br/>,\n",
       " 'Волосы: русые, короткая стрижка, прямые',\n",
       " <br/>,\n",
       " <br/>,\n",
       " <span style=\"font-weight: bold\">Был одет:</span>,\n",
       " ' Серое  укороченное приталенное пальто, тёмно-синие джинсы, коричневые тряпочные берцы, серый длинный вязаный шарф, черная шапка.',\n",
       " <br/>,\n",
       " <br/>,\n",
       " <span style=\"font-weight: bold\">Особые приметы:</span>,\n",
       " ' рост 186 см, худощавого телосложения, волосы светлые, глаза серо-голубые, нос курносый, рыжеватая щетина.',\n",
       " <br/>,\n",
       " <br/>,\n",
       " <span style=\"font-weight: bold\"><a href=\"https://docs.google.com/spreadsheets/d/1Xc_RHvT2LEvYTzRw6M7lsIOTptyrXRf9LybjTBPJIRQ/edit?usp=sharing\" rel=\"nofollow\" target=\"_blank\">Таблица прозвона больниц и ОВД</a></span>,\n",
       " <br/>,\n",
       " <br/>,\n",
       " <span style=\"font-weight: bold\"><a href=\"http://la-org.ru//images/2019/01/4c2be380fa791d047f4aca94c3b1d9ac1.jpg?rnd=57355763\" rel=\"nofollow\" target=\"_blank\">Ориентировка на печать</a></span>,\n",
       " <br/>,\n",
       " <br/>,\n",
       " <span style=\"font-weight: bold\"><a href=\"http://la-org.ru//images/2019/01/4c2be380fa791d047f4aca94c3b1d9ac2.jpg?rnd=38948179\" rel=\"nofollow\" target=\"_blank\">Ориентировка на репост</a></span>,\n",
       " <br/>,\n",
       " <br/>,\n",
       " '--------------------------------------------------',\n",
       " <br/>,\n",
       " <br/>,\n",
       " <span style=\"font-weight: bold\">Координатор:</span>,\n",
       " ' Войдан Дмитрий 89620955660',\n",
       " <br/>,\n",
       " <span style=\"font-weight: bold\">Инфорг:</span>,\n",
       " ' Изя Светлана 89624940466']"
      ]
     },
     "execution_count": 16,
     "metadata": {},
     "output_type": "execute_result"
    }
   ],
   "source": [
    "contents = container.contents\n",
    "contents"
   ]
  },
  {
   "cell_type": "markdown",
   "metadata": {},
   "source": [
    "Код, чтобы достать телесложение"
   ]
  },
  {
   "cell_type": "code",
   "execution_count": 17,
   "metadata": {},
   "outputs": [
    {
     "data": {
      "text/plain": [
       "'худощавого'"
      ]
     },
     "execution_count": 17,
     "metadata": {},
     "output_type": "execute_result"
    }
   ],
   "source": [
    "for string in contents:\n",
    "    if \"елосложени\" in string:\n",
    "        no_stops_string = ''.join([t for t in string if t not in english_stops])\n",
    "        tokens = word_tokenize(no_stops_string)\n",
    "for i in range(len(tokens)):\n",
    "    if \"елосложени\" in tokens[i]:\n",
    "        if tokens[i][-1] == \"я\":\n",
    "            body = tokens[i - 1]\n",
    "        else:\n",
    "            body = tokens[i + 1]\n",
    "body.lower()\n",
    "a = WordNetLemmatizer()\n",
    "a.lemmatize(body)"
   ]
  },
  {
   "cell_type": "code",
   "execution_count": 18,
   "metadata": {},
   "outputs": [
    {
     "data": {
      "text/plain": [
       "'худощавого'"
      ]
     },
     "execution_count": 18,
     "metadata": {},
     "output_type": "execute_result"
    }
   ],
   "source": [
    "body"
   ]
  },
  {
   "cell_type": "code",
   "execution_count": 19,
   "metadata": {},
   "outputs": [
    {
     "data": {
      "text/plain": [
       "'сероголубые'"
      ]
     },
     "execution_count": 19,
     "metadata": {},
     "output_type": "execute_result"
    }
   ],
   "source": [
    "## Нужно доработать код! Или сделать заново\n",
    "def eyes_color(contents):\n",
    "    ec = \"Не указано\"\n",
    "    for string in contents:\n",
    "        if \"лаз\" in string:\n",
    "            no_stops_string = ''.join([t for t in string if t not in english_stops])\n",
    "            tokens = word_tokenize(no_stops_string)\n",
    "            tokens.append(\"Кто-то объебался\")\n",
    "            for i in range(len(tokens)):\n",
    "                if \"лаз\" in tokens[i]:\n",
    "                    ec = tokens[i + 1]\n",
    "                if ec == \"Кто-то объебался\":\n",
    "                    ec = tokens[i-1]\n",
    "                    break\n",
    "    return ec\n",
    "eyes_color(contents)"
   ]
  },
  {
   "cell_type": "markdown",
   "metadata": {},
   "source": [
    "Код, чтобы достать цвет волос"
   ]
  },
  {
   "cell_type": "code",
   "execution_count": 20,
   "metadata": {},
   "outputs": [
    {
     "data": {
      "text/plain": [
       "'светлые'"
      ]
     },
     "execution_count": 20,
     "metadata": {},
     "output_type": "execute_result"
    }
   ],
   "source": [
    "\n",
    "for string in contents:\n",
    "    if \"олосы\" in string:\n",
    "        no_stops_string_1 = ''.join([t for t in string if t not in english_stops])\n",
    "        tokens_1 = word_tokenize(no_stops_string_1)\n",
    "for i in range(len(tokens_1)):\n",
    "    if \"олосы\" in tokens_1[i]:\n",
    "        hair_colour = tokens_1[i + 1]\n",
    "hair_colour.lower()\n",
    "b = WordNetLemmatizer()\n",
    "b.lemmatize(hair_colour)"
   ]
  },
  {
   "cell_type": "code",
   "execution_count": 21,
   "metadata": {},
   "outputs": [],
   "source": [
    "def hair_color(contents):\n",
    "    hc = ''\n",
    "    for string in contents:\n",
    "        if \"олосы\" in string:\n",
    "            no_stops_string_1 = ''.join([t for t in string if t not in english_stops])\n",
    "            tokens_1 = word_tokenize(no_stops_string_1)\n",
    "            for i in range(len(tokens_1)):\n",
    "                if \"олосы\" in tokens_1[i]:\n",
    "                    hc = tokens_1[i + 1]\n",
    "                    break\n",
    "    return hc"
   ]
  },
  {
   "cell_type": "code",
   "execution_count": 22,
   "metadata": {},
   "outputs": [
    {
     "data": {
      "text/plain": [
       "'светлые'"
      ]
     },
     "execution_count": 22,
     "metadata": {},
     "output_type": "execute_result"
    }
   ],
   "source": [
    "hair_color(contents)"
   ]
  },
  {
   "cell_type": "code",
   "execution_count": 23,
   "metadata": {},
   "outputs": [
    {
     "data": {
      "text/plain": [
       "['рост',\n",
       " '186',\n",
       " 'см',\n",
       " 'худощавого',\n",
       " 'телосложения',\n",
       " 'волосы',\n",
       " 'светлые',\n",
       " 'глаза',\n",
       " 'сероголубые',\n",
       " 'нос',\n",
       " 'курносый',\n",
       " 'рыжеватая',\n",
       " 'щетина']"
      ]
     },
     "execution_count": 23,
     "metadata": {},
     "output_type": "execute_result"
    }
   ],
   "source": [
    "tokens_1"
   ]
  },
  {
   "cell_type": "markdown",
   "metadata": {},
   "source": [
    "Сделаем вспомогательные словари для следующего шага"
   ]
  },
  {
   "cell_type": "code",
   "execution_count": 32,
   "metadata": {},
   "outputs": [],
   "source": [
    "months_length = {\"янв\": 31, \"фев\": 28, \"мар\": 31, \"апр\": 30, \"май\": 31, \"июн\": 30, \"июл\": 31, \"авг\": 31, \"сен\": \"30\",\n",
    "                \"окт\": 31, \"ноя\": 30, \"дек\": 31}\n",
    "months_num = {\"янв\": 1, \"фев\": 2, \"мар\": 3,\"апр\": 4,\"мая\": 5, \"май\": 5,\"июн\": 6,\"июл\": 7,\"авг\": 8,\"сен\": 9,\"окт\": 10,\"ноя\": 11,\"дек\": 12}"
   ]
  },
  {
   "cell_type": "code",
   "execution_count": 25,
   "metadata": {},
   "outputs": [],
   "source": [
    "loss_find = {\"время пропажи\": \"\", \"время нахождения\": \"\"}"
   ]
  },
  {
   "cell_type": "markdown",
   "metadata": {},
   "source": [
    "Код, чтобы достать время пропажи"
   ]
  },
  {
   "cell_type": "code",
   "execution_count": 26,
   "metadata": {},
   "outputs": [],
   "source": [
    "def lost_timing(x):\n",
    "    if re.search(r'\\d+ \\w+ \\d{4}|\\d{2}.\\d{2}.\\d{4}', x).group() == None:\n",
    "        return \"Сбой\"\n",
    "    else:\n",
    "        lost_time = re.search(r'\\d+ \\w+ \\d{4}|\\d{2}.\\d{2}.\\d{4}', x).group()\n",
    "        if \".\" in lost_time:\n",
    "            lost_time = lost_time[:2] + \" \" + months_num[lost_time[3:5]]\n",
    "        elif \"я\" in lost_time or \"т\" in lost_time:\n",
    "            return re.search(r'\\d+ \\w{3}').group()\n",
    "    \n"
   ]
  },
  {
   "cell_type": "code",
   "execution_count": 27,
   "metadata": {},
   "outputs": [
    {
     "data": {
      "text/plain": [
       "'Кисилев Анатолий Валерьевич 28 лет, с. Шведино, Петровский р-он, Ставропольский край 3 января 2019 ушёл из дома и не вернулсяПриметы:Рост: 186 см.Телосложение: xудощавоеЦвет глаз: серо-голубыеВолосы: русые, короткая стрижка, прямыеБыл одет: Серое  укороченное приталенное пальто, тёмно-синие джинсы, коричневые тряпочные берцы, серый длинный вязаный шарф, черная шапка.Особые приметы: рост 186 см, худощавого телосложения, волосы светлые, глаза серо-голубые, нос курносый, рыжеватая щетина.Таблица прозвона больниц и ОВДОриентировка на печатьОриентировка на репост--------------------------------------------------Координатор: Войдан Дмитрий 89620955660Инфорг: Изя Светлана 89624940466'"
      ]
     },
     "execution_count": 27,
     "metadata": {},
     "output_type": "execute_result"
    }
   ],
   "source": [
    "main\n",
    "\n",
    "    "
   ]
  },
  {
   "cell_type": "code",
   "execution_count": 39,
   "metadata": {},
   "outputs": [
    {
     "ename": "AttributeError",
     "evalue": "'NoneType' object has no attribute 'text'",
     "output_type": "error",
     "traceback": [
      "\u001b[0;31m---------------------------------------------------------------------------\u001b[0m",
      "\u001b[0;31mAttributeError\u001b[0m                            Traceback (most recent call last)",
      "\u001b[0;32m<ipython-input-39-a235f8d98111>\u001b[0m in \u001b[0;36m<module>\u001b[0;34m\u001b[0m\n\u001b[0;32m----> 1\u001b[0;31m \u001b[0mnotmain\u001b[0m \u001b[0;34m=\u001b[0m \u001b[0mps\u001b[0m\u001b[0;34m.\u001b[0m\u001b[0mfind\u001b[0m\u001b[0;34m(\u001b[0m\u001b[0;34m'div'\u001b[0m\u001b[0;34m,\u001b[0m \u001b[0;34m{\u001b[0m\u001b[0;34m'class'\u001b[0m\u001b[0;34m:\u001b[0m\u001b[0;34m'notice'\u001b[0m\u001b[0;34m}\u001b[0m\u001b[0;34m)\u001b[0m\u001b[0;34m.\u001b[0m\u001b[0mtext\u001b[0m\u001b[0;34m\u001b[0m\u001b[0;34m\u001b[0m\u001b[0m\n\u001b[0m",
      "\u001b[0;31mAttributeError\u001b[0m: 'NoneType' object has no attribute 'text'"
     ]
    }
   ],
   "source": [
    "notmain = ps.find('div', {'class':'notice'}).text"
   ]
  },
  {
   "cell_type": "code",
   "execution_count": 28,
   "metadata": {},
   "outputs": [
    {
     "ename": "NameError",
     "evalue": "name 'lost_time' is not defined",
     "output_type": "error",
     "traceback": [
      "\u001b[0;31m---------------------------------------------------------------------------\u001b[0m",
      "\u001b[0;31mNameError\u001b[0m                                 Traceback (most recent call last)",
      "\u001b[0;32m<ipython-input-28-8315d2833ac4>\u001b[0m in \u001b[0;36m<module>\u001b[0;34m\u001b[0m\n\u001b[0;32m----> 1\u001b[0;31m \u001b[0mlost_time\u001b[0m \u001b[0;34m=\u001b[0m \u001b[0mlost_time\u001b[0m\u001b[0;34m.\u001b[0m\u001b[0mreplace\u001b[0m\u001b[0;34m(\u001b[0m\u001b[0mre\u001b[0m\u001b[0;34m.\u001b[0m\u001b[0msearch\u001b[0m\u001b[0;34m(\u001b[0m\u001b[0;34mr' \\w+'\u001b[0m\u001b[0;34m,\u001b[0m \u001b[0mlost_time\u001b[0m\u001b[0;34m)\u001b[0m\u001b[0;34m.\u001b[0m\u001b[0mgroup\u001b[0m\u001b[0;34m(\u001b[0m\u001b[0;34m)\u001b[0m\u001b[0;34m,\u001b[0m \u001b[0mre\u001b[0m\u001b[0;34m.\u001b[0m\u001b[0msearch\u001b[0m\u001b[0;34m(\u001b[0m\u001b[0;34mr' \\w{3}'\u001b[0m\u001b[0;34m,\u001b[0m \u001b[0mlost_time\u001b[0m\u001b[0;34m)\u001b[0m\u001b[0;34m.\u001b[0m\u001b[0mgroup\u001b[0m\u001b[0;34m(\u001b[0m\u001b[0;34m)\u001b[0m\u001b[0;34m)\u001b[0m\u001b[0;34m\u001b[0m\u001b[0;34m\u001b[0m\u001b[0m\n\u001b[0m\u001b[1;32m      2\u001b[0m \u001b[0mlost_time\u001b[0m\u001b[0;34m\u001b[0m\u001b[0;34m\u001b[0m\u001b[0m\n",
      "\u001b[0;31mNameError\u001b[0m: name 'lost_time' is not defined"
     ]
    }
   ],
   "source": [
    "lost_time = lost_time.replace(re.search(r' \\w+', lost_time).group(), re.search(r' \\w{3}', lost_time).group())\n",
    "lost_time"
   ]
  },
  {
   "cell_type": "code",
   "execution_count": null,
   "metadata": {},
   "outputs": [],
   "source": [
    "loss_find[\"время пропажи\"] = lost_time"
   ]
  },
  {
   "cell_type": "markdown",
   "metadata": {},
   "source": [
    "Код, чтобы достать время нахождения"
   ]
  },
  {
   "cell_type": "code",
   "execution_count": null,
   "metadata": {},
   "outputs": [],
   "source": [
    "postbody = ps.find('div', {\"class\":\"notice\"}).text"
   ]
  },
  {
   "cell_type": "code",
   "execution_count": null,
   "metadata": {},
   "outputs": [],
   "source": [
    "postbody"
   ]
  },
  {
   "cell_type": "code",
   "execution_count": null,
   "metadata": {},
   "outputs": [],
   "source": [
    "find_time = re.search(r'\\d{2} \\w+', str(postbody)).group()\n",
    "find_time"
   ]
  },
  {
   "cell_type": "code",
   "execution_count": null,
   "metadata": {},
   "outputs": [],
   "source": [
    "if \"0\" in find_time:\n",
    "    find_time = find_time.replace(\"0\", \"\")"
   ]
  },
  {
   "cell_type": "code",
   "execution_count": null,
   "metadata": {},
   "outputs": [],
   "source": [
    "loss_find[\"время нахождения\"] = find_time"
   ]
  },
  {
   "cell_type": "code",
   "execution_count": null,
   "metadata": {},
   "outputs": [],
   "source": [
    "loss_find"
   ]
  },
  {
   "cell_type": "markdown",
   "metadata": {},
   "source": [
    "# А теперь реализуем то, ради чего были найдены предыдущие два пункта: время поиска"
   ]
  },
  {
   "cell_type": "code",
   "execution_count": null,
   "metadata": {},
   "outputs": [],
   "source": [
    "ml = list(months_length.keys())\n",
    "lt = re.search(r'\\w{3}', loss_find[\"время пропажи\"]).group()\n",
    "ft = re.search(r'\\w{3}', loss_find[\"время нахождения\"]).group()"
   ]
  },
  {
   "cell_type": "code",
   "execution_count": null,
   "metadata": {},
   "outputs": [],
   "source": [
    "if lt == ft:\n",
    "    search_time = int(re.search(r'\\d+', loss_find[\"время нахождения\"]).group()) - int(re,search(r'\\d+', loss_find[\"время пропажи\"]).group())\n",
    "elif ml.index(ft) > ml.index(lt):\n",
    "    search_time = int(re.search(r'\\d+', loss_find[\"время нахождения\"]).group())\n",
    "    for i in range(ml.index(ft) - 1, ml.index(lt) - 1, -1):\n",
    "        if ml[i] != lt:\n",
    "            search_time += months_length[ml[i]]\n",
    "        else:\n",
    "            search_time += months_length[ml[i]] - int(re.search(r'\\d+', loss_find[\"время пропажи\"]).group())\n",
    "elif ml.index(ft) < ml.index(lt):\n",
    "    search_time = int(re.search(r'\\d+', loss_find[\"время нахождения\"]).group())\n",
    "    i = ml.index(ft) - 1\n",
    "    while i >= 0:\n",
    "        if ml[i] != lt:\n",
    "            search_time += months_length[ml[i]]\n",
    "        i -= 1\n",
    "    for j in range(len(ml) - 1, ml.index(lt) - 1, -1):\n",
    "        if ml[j] != lt:\n",
    "            search_time += months_length[ml[j]]\n",
    "        else:\n",
    "            search_time += months_length[ml[j]] - int(re.search(r'\\d+', loss_find[\"время пропажи\"]).group())\n",
    "        \n",
    "    \n",
    "\n",
    "            \n",
    "    \n",
    "        \n",
    "        "
   ]
  },
  {
   "cell_type": "code",
   "execution_count": null,
   "metadata": {},
   "outputs": [],
   "source": [
    "search_time"
   ]
  },
  {
   "cell_type": "code",
   "execution_count": null,
   "metadata": {},
   "outputs": [],
   "source": [
    "containers2 = ps.findAll(\"div\", {\"class\":\"content\"})[0].contents\n",
    "containers2"
   ]
  },
  {
   "cell_type": "code",
   "execution_count": null,
   "metadata": {},
   "outputs": [],
   "source": [
    "containers.contents"
   ]
  },
  {
   "cell_type": "markdown",
   "metadata": {},
   "source": [
    "Код для доставания возраста "
   ]
  },
  {
   "cell_type": "code",
   "execution_count": null,
   "metadata": {},
   "outputs": [],
   "source": []
  },
  {
   "cell_type": "code",
   "execution_count": 29,
   "metadata": {},
   "outputs": [],
   "source": [
    "def lost_timing(x):\n",
    "    if re.search(r'\\d+ \\w+ \\d{4}|\\d{2}.\\d{2}.\\d{4}', x) == None:\n",
    "        return \"Сбой\"\n",
    "    else:\n",
    "        lost_time = re.search(r'\\d+ \\w+ \\d{4}|\\d{2}.\\d{2}.\\d{4}', x).group()\n",
    "        print(lost_time)\n",
    "        if \"я\" in lost_time or \"т\" in lost_time:\n",
    "            lts = lost_time.split()\n",
    "            print(lts)\n",
    "            lts[1] = months_num[lts[1][:3]]\n",
    "            lts = list(map(int, lts))\n",
    "            lost_time = date(lts[-1], lts[-2], lts[-3])\n",
    "            return lost_time\n",
    "            #lost_time = date(lts[-1], [-2], [-3])\n",
    "        else:\n",
    "            lts = lost_time.split('.')\n",
    "            lts = list(map(int, lts))\n",
    "            lost_time = date(lts[-1], lts[-2], lts[-3])\n",
    "            return lost_time"
   ]
  },
  {
   "cell_type": "code",
   "execution_count": 35,
   "metadata": {
    "scrolled": true
   },
   "outputs": [
    {
     "name": "stdout",
     "output_type": "stream",
     "text": [
      "3 января 2019\n",
      "['3', 'января', '2019']\n"
     ]
    },
    {
     "data": {
      "text/plain": [
       "datetime.date(2019, 1, 3)"
      ]
     },
     "execution_count": 35,
     "metadata": {},
     "output_type": "execute_result"
    }
   ],
   "source": [
    "lost_timing(main)"
   ]
  },
  {
   "cell_type": "code",
   "execution_count": 36,
   "metadata": {},
   "outputs": [],
   "source": [
    "def find_timing(x):\n",
    "    if re.search(r'\\d+ \\w+ \\d{4}|\\d{2}.\\d{2}.\\d{4}', x) == None:\n",
    "        return \"Сбой\"\n",
    "    else:\n",
    "        find_time = re.search(r'\\d+ \\w+ \\d{4}|\\d{2}.\\d{2}.\\d{4}', x).group()\n",
    "        print(find_time)\n",
    "        fts = find_time.split()\n",
    "        print(fts)\n",
    "        fts[1] = months_num[fts[1]]\n",
    "        fts = list(map(int, fts))\n",
    "        find_time = date(fts[-1], fts[-2], fts[-3])\n",
    "        return find_time"
   ]
  },
  {
   "cell_type": "code",
   "execution_count": 37,
   "metadata": {},
   "outputs": [
    {
     "ename": "NameError",
     "evalue": "name 'notmain' is not defined",
     "output_type": "error",
     "traceback": [
      "\u001b[0;31m---------------------------------------------------------------------------\u001b[0m",
      "\u001b[0;31mNameError\u001b[0m                                 Traceback (most recent call last)",
      "\u001b[0;32m<ipython-input-37-e597e292c1cd>\u001b[0m in \u001b[0;36m<module>\u001b[0;34m\u001b[0m\n\u001b[0;32m----> 1\u001b[0;31m \u001b[0mfind_timing\u001b[0m\u001b[0;34m(\u001b[0m\u001b[0mnotmain\u001b[0m\u001b[0;34m)\u001b[0m\u001b[0;34m\u001b[0m\u001b[0;34m\u001b[0m\u001b[0m\n\u001b[0m",
      "\u001b[0;31mNameError\u001b[0m: name 'notmain' is not defined"
     ]
    }
   ],
   "source": [
    "find_timing(notmain)"
   ]
  },
  {
   "cell_type": "code",
   "execution_count": null,
   "metadata": {},
   "outputs": [],
   "source": []
  }
 ],
 "metadata": {
  "kernelspec": {
   "display_name": "Python 3",
   "language": "python",
   "name": "python3"
  },
  "language_info": {
   "codemirror_mode": {
    "name": "ipython",
    "version": 3
   },
   "file_extension": ".py",
   "mimetype": "text/x-python",
   "name": "python",
   "nbconvert_exporter": "python",
   "pygments_lexer": "ipython3",
   "version": "3.7.1"
  }
 },
 "nbformat": 4,
 "nbformat_minor": 2
}
