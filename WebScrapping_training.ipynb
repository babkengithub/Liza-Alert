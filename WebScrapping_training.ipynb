{
 "cells": [
  {
   "cell_type": "markdown",
   "metadata": {},
   "source": [
    "# Как достать признаки с LizaAlert и оформить это в jupyter"
   ]
  },
  {
   "cell_type": "markdown",
   "metadata": {},
   "source": [
    "Сначала импортируем необходимые пакеты из соответствующих библиотек"
   ]
  },
  {
   "cell_type": "code",
   "execution_count": 64,
   "metadata": {},
   "outputs": [
    {
     "name": "stderr",
     "output_type": "stream",
     "text": [
      "[nltk_data] Downloading package wordnet to\n",
      "[nltk_data]     C:\\Users\\nikzo\\AppData\\Roaming\\nltk_data...\n",
      "[nltk_data]   Package wordnet is already up-to-date!\n"
     ]
    },
    {
     "data": {
      "text/plain": [
       "True"
      ]
     },
     "execution_count": 64,
     "metadata": {},
     "output_type": "execute_result"
    }
   ],
   "source": [
    "from bs4 import BeautifulSoup as soup\n",
    "from urllib.request import urlopen as uReq\n",
    "from nltk.stem import WordNetLemmatizer\n",
    "from nltk.tokenize import word_tokenize\n",
    "import re\n",
    "import scrapy\n",
    "import nltk\n",
    "nltk.download('wordnet')"
   ]
  },
  {
   "cell_type": "code",
   "execution_count": 65,
   "metadata": {},
   "outputs": [],
   "source": [
    "my_url = 'https://lizaalert.org/forum/viewtopic.php?f=241&t=12498'\n",
    "#my_url = \"https://lizaalert.org/forum/viewtopic.php?f=120&t=2360\"\n",
    "#my_url = \"https://lizaalert.org/forum/viewtopic.php?f=276&t=25112\"# boy and AK-47\n",
    "#my_url = \"https://lizaalert.org/forum/viewtopic.php?f=276&t=25087\" #девочка с необычным лицом\n",
    "#my_url = \"https://lizaalert.org/forum/viewtopic.php?f=276&t=25197\" #косоглазый чел\n",
    "#my_url = \"https://lizaalert.org/forum/viewtopic.php?f=276&t=25104\" #ded anisimov\n",
    "#my_url = \"https://lizaalert.org/forum/viewtopic.php?f=276&t=25098\" #ded Medvedev\n",
    "#my_url = \"https://lizaalert.org/forum/viewtopic.php?f=276&t=25109\" #дед Павлов\n",
    "#my_url = 'https://lizaalert.org/forum/viewtopic.php?f=276&t=25083'#boy Sayakbaev\n",
    "#my_url = 'https://lizaalert.org/forum/viewtopic.php?f=276&t=25078' #grandma Leandrova\n",
    "#my_url = \"https://lizaalert.org/forum/viewtopic.php?f=276&t=25077\" #girl Kamilla\n",
    "client = uReq(my_url)  # создаем документ, являющийся сырым кодом сайта"
   ]
  },
  {
   "cell_type": "code",
   "execution_count": 66,
   "metadata": {},
   "outputs": [],
   "source": [
    "page_html = client.read() # функция .read() позволяет вывести на экран все содержимое файла, а если мы это сохраним в переменную, \n",
    "                          # то получим объект, который хранит в себе все строки этого файла"
   ]
  },
  {
   "cell_type": "code",
   "execution_count": 67,
   "metadata": {},
   "outputs": [],
   "source": [
    "client.close()"
   ]
  },
  {
   "cell_type": "code",
   "execution_count": 68,
   "metadata": {},
   "outputs": [],
   "source": [
    "ps = soup(page_html, \"html.parser\")"
   ]
  },
  {
   "cell_type": "code",
   "execution_count": 69,
   "metadata": {
    "scrolled": true
   },
   "outputs": [
    {
     "data": {
      "text/plain": [
       "bs4.BeautifulSoup"
      ]
     },
     "execution_count": 69,
     "metadata": {},
     "output_type": "execute_result"
    }
   ],
   "source": [
    "type(ps)"
   ]
  },
  {
   "cell_type": "code",
   "execution_count": 70,
   "metadata": {},
   "outputs": [],
   "source": [
    "english_stops = ['.', ',', ':', ';', \"!\", \"?\", \"-\"]"
   ]
  },
  {
   "cell_type": "markdown",
   "metadata": {},
   "source": [
    "Далее, для работы понадобится открыть код страницы, которую мы хотим парсить. Для этого правой кнопки мыши нажимаем на страницу, затем выбираем просмотреть код, который затем должен появиться в правой стороне страницы."
   ]
  },
  {
   "cell_type": "code",
   "execution_count": 71,
   "metadata": {},
   "outputs": [
    {
     "data": {
      "text/plain": [
       "3"
      ]
     },
     "execution_count": 71,
     "metadata": {},
     "output_type": "execute_result"
    }
   ],
   "source": [
    "containers = ps.find_all(\"div\", {\"class\": \"content\"})\n",
    "len(containers)"
   ]
  },
  {
   "cell_type": "code",
   "execution_count": 72,
   "metadata": {},
   "outputs": [],
   "source": [
    "main = ps.find('div', {'class':'content'}).text"
   ]
  },
  {
   "cell_type": "code",
   "execution_count": 73,
   "metadata": {},
   "outputs": [
    {
     "data": {
      "text/plain": [
       "'3'"
      ]
     },
     "execution_count": 73,
     "metadata": {},
     "output_type": "execute_result"
    }
   ],
   "source": [
    "posts = ps.find('div', {'class':'pagination'})\n",
    "posts\n",
    "re.search(r'\\d+', str(posts)).group()"
   ]
  },
  {
   "cell_type": "code",
   "execution_count": 74,
   "metadata": {},
   "outputs": [
    {
     "data": {
      "text/plain": [
       "'3'"
      ]
     },
     "execution_count": 74,
     "metadata": {},
     "output_type": "execute_result"
    }
   ],
   "source": [
    "re.search(r'\\d+', str(posts)).group()"
   ]
  },
  {
   "cell_type": "markdown",
   "metadata": {},
   "source": [
    "Код для возраста "
   ]
  },
  {
   "cell_type": "code",
   "execution_count": 75,
   "metadata": {},
   "outputs": [
    {
     "data": {
      "text/plain": [
       "<title>Жива. Пахатаева Дарья, 2009 г.р. г. Караганда • Форум lizaalert.org</title>"
      ]
     },
     "execution_count": 75,
     "metadata": {},
     "output_type": "execute_result"
    }
   ],
   "source": [
    "title = ps.find(\"title\").extract()\n",
    "title"
   ]
  },
  {
   "cell_type": "code",
   "execution_count": 76,
   "metadata": {},
   "outputs": [
    {
     "data": {
      "text/plain": [
       "'2009'"
      ]
     },
     "execution_count": 76,
     "metadata": {},
     "output_type": "execute_result"
    }
   ],
   "source": [
    "re.search(r'\\d+', str(title)).group()"
   ]
  },
  {
   "cell_type": "code",
   "execution_count": 77,
   "metadata": {},
   "outputs": [
    {
     "data": {
      "text/plain": [
       "<div class=\"content\">Внимание! Пропал ребенок! <br/>4 июля 2016 в районе шахты 33 пропала Дарья Пахатаева, 2009 года рождения. <br/><br/><span style=\"font-weight: bold\">Приметы:</span> Рост: 110-115 см., волосы светлые, короткая стрижка, серые глаза.<br/><br/><span style=\"font-weight: bold\">Была одета:</span> Синие джинсы, сандали вишневого цвета.<br/><br/><div class=\"inline-attachment\">\n",
       "<dl class=\"file\">\n",
       "<dt class=\"attach-image\"><img alt=\"ZXnw5gefOY4.jpg\" onclick=\"viewableArea(this);\" src=\"./download/file.php?id=6335&amp;sid=36bce3b9b9993ffce6e9ecd27bd829eb\"/></dt>\n",
       "<dd>ZXnw5gefOY4.jpg (104.81 Кб) Просмотров: 1218</dd>\n",
       "</dl>\n",
       "</div><br/><br/><span style=\"font-weight: bold\"><a class=\"postlink\" href=\"https://yadi.sk/i/ZONnlSq7t6zMx/\" rel=\"nofollow\" target=\"_blank\">Ориентировка на печать</a></span></div>"
      ]
     },
     "execution_count": 77,
     "metadata": {},
     "output_type": "execute_result"
    }
   ],
   "source": [
    "container = containers[0]\n",
    "containers[0]"
   ]
  },
  {
   "cell_type": "code",
   "execution_count": 78,
   "metadata": {},
   "outputs": [
    {
     "data": {
      "text/plain": [
       "'ZXnw5gefOY4.jpg'"
      ]
     },
     "execution_count": 78,
     "metadata": {},
     "output_type": "execute_result"
    }
   ],
   "source": [
    "container.img[\"alt\"]  # проверили наличие или отсутствие изображения"
   ]
  },
  {
   "cell_type": "code",
   "execution_count": 79,
   "metadata": {},
   "outputs": [
    {
     "data": {
      "text/plain": [
       "['Внимание! Пропал ребенок! ',\n",
       " <br/>,\n",
       " '4 июля 2016 в районе шахты 33 пропала Дарья Пахатаева, 2009 года рождения. ',\n",
       " <br/>,\n",
       " <br/>,\n",
       " <span style=\"font-weight: bold\">Приметы:</span>,\n",
       " ' Рост: 110-115 см., волосы светлые, короткая стрижка, серые глаза.',\n",
       " <br/>,\n",
       " <br/>,\n",
       " <span style=\"font-weight: bold\">Была одета:</span>,\n",
       " ' Синие джинсы, сандали вишневого цвета.',\n",
       " <br/>,\n",
       " <br/>,\n",
       " <div class=\"inline-attachment\">\n",
       " <dl class=\"file\">\n",
       " <dt class=\"attach-image\"><img alt=\"ZXnw5gefOY4.jpg\" onclick=\"viewableArea(this);\" src=\"./download/file.php?id=6335&amp;sid=36bce3b9b9993ffce6e9ecd27bd829eb\"/></dt>\n",
       " <dd>ZXnw5gefOY4.jpg (104.81 Кб) Просмотров: 1218</dd>\n",
       " </dl>\n",
       " </div>,\n",
       " <br/>,\n",
       " <br/>,\n",
       " <span style=\"font-weight: bold\"><a class=\"postlink\" href=\"https://yadi.sk/i/ZONnlSq7t6zMx/\" rel=\"nofollow\" target=\"_blank\">Ориентировка на печать</a></span>]"
      ]
     },
     "execution_count": 79,
     "metadata": {},
     "output_type": "execute_result"
    }
   ],
   "source": [
    "contents = container.contents\n",
    "contents"
   ]
  },
  {
   "cell_type": "markdown",
   "metadata": {},
   "source": [
    "Код, чтобы достать телесложение"
   ]
  },
  {
   "cell_type": "code",
   "execution_count": 80,
   "metadata": {},
   "outputs": [
    {
     "data": {
      "text/plain": [
       "'-'"
      ]
     },
     "execution_count": 80,
     "metadata": {},
     "output_type": "execute_result"
    }
   ],
   "source": [
    "for string in contents:\n",
    "    if \"елосложени\" in string:\n",
    "        no_stops_string = ''.join([t for t in string if t not in english_stops])\n",
    "        tokens = word_tokenize(no_stops_string)\n",
    "for i in range(len(tokens)):\n",
    "    if \"елосложени\" in tokens[i]:\n",
    "        if tokens[i][-1] == \"я\":\n",
    "            body = tokens[i - 1]\n",
    "        else:\n",
    "            body = tokens[i + 1]\n",
    "body.lower()\n",
    "a = WordNetLemmatizer()\n",
    "a.lemmatize(body)"
   ]
  },
  {
   "cell_type": "code",
   "execution_count": 81,
   "metadata": {},
   "outputs": [
    {
     "data": {
      "text/plain": [
       "'-'"
      ]
     },
     "execution_count": 81,
     "metadata": {},
     "output_type": "execute_result"
    }
   ],
   "source": [
    "body"
   ]
  },
  {
   "cell_type": "code",
   "execution_count": 90,
   "metadata": {},
   "outputs": [
    {
     "data": {
      "text/plain": [
       "'серые'"
      ]
     },
     "execution_count": 90,
     "metadata": {},
     "output_type": "execute_result"
    }
   ],
   "source": [
    "## Нужно доработать код! Или сделать заново\n",
    "def eyes_color(contents):\n",
    "    ec = \"Не указано\"\n",
    "    for string in contents:\n",
    "        if \"лаз\" in string:\n",
    "            no_stops_string = ''.join([t for t in string if t not in english_stops])\n",
    "            tokens = word_tokenize(no_stops_string)\n",
    "            tokens.append(\"Кто-то объебался\")\n",
    "            for i in range(len(tokens)):\n",
    "                if \"лаз\" in tokens[i]:\n",
    "                    ec = tokens[i + 1]\n",
    "                if ec == \"Кто-то объебался\":\n",
    "                    ec = tokens[i-1]\n",
    "                    break\n",
    "    return ec\n",
    "eyes_color(contents)"
   ]
  },
  {
   "cell_type": "markdown",
   "metadata": {},
   "source": [
    "Код, чтобы достать цвет волос"
   ]
  },
  {
   "cell_type": "code",
   "execution_count": 83,
   "metadata": {},
   "outputs": [
    {
     "data": {
      "text/plain": [
       "'светлые'"
      ]
     },
     "execution_count": 83,
     "metadata": {},
     "output_type": "execute_result"
    }
   ],
   "source": [
    "\n",
    "for string in contents:\n",
    "    if \"олосы\" in string:\n",
    "        no_stops_string_1 = ''.join([t for t in string if t not in english_stops])\n",
    "        tokens_1 = word_tokenize(no_stops_string_1)\n",
    "for i in range(len(tokens_1)):\n",
    "    if \"олосы\" in tokens_1[i]:\n",
    "        hair_colour = tokens_1[i + 1]\n",
    "hair_colour.lower()\n",
    "b = WordNetLemmatizer()\n",
    "b.lemmatize(hair_colour)"
   ]
  },
  {
   "cell_type": "code",
   "execution_count": 84,
   "metadata": {},
   "outputs": [],
   "source": [
    "def hair_color(contents):\n",
    "    hc = ''\n",
    "    for string in contents:\n",
    "        if \"олосы\" in string:\n",
    "            no_stops_string_1 = ''.join([t for t in string if t not in english_stops])\n",
    "            tokens_1 = word_tokenize(no_stops_string_1)\n",
    "            for i in range(len(tokens_1)):\n",
    "                if \"олосы\" in tokens_1[i]:\n",
    "                    hc = tokens_1[i + 1]\n",
    "                    break\n",
    "    return hc"
   ]
  },
  {
   "cell_type": "code",
   "execution_count": 85,
   "metadata": {},
   "outputs": [
    {
     "data": {
      "text/plain": [
       "'светлые'"
      ]
     },
     "execution_count": 85,
     "metadata": {},
     "output_type": "execute_result"
    }
   ],
   "source": [
    "hair_color(contents)"
   ]
  },
  {
   "cell_type": "code",
   "execution_count": 86,
   "metadata": {},
   "outputs": [
    {
     "data": {
      "text/plain": [
       "['Рост',\n",
       " '110115',\n",
       " 'см',\n",
       " 'волосы',\n",
       " 'светлые',\n",
       " 'короткая',\n",
       " 'стрижка',\n",
       " 'серые',\n",
       " 'глаза']"
      ]
     },
     "execution_count": 86,
     "metadata": {},
     "output_type": "execute_result"
    }
   ],
   "source": [
    "tokens_1"
   ]
  },
  {
   "cell_type": "markdown",
   "metadata": {},
   "source": [
    "Сделаем вспомогательные словари для следующего шага"
   ]
  },
  {
   "cell_type": "code",
   "execution_count": 87,
   "metadata": {},
   "outputs": [],
   "source": [
    "months_length = {\"янв\": 31, \"фев\": 28, \"мар\": 31, \"апр\": 30, \"май\": 31, \"июн\": 30, \"июл\": 31, \"авг\": 31, \"сен\": \"30\",\n",
    "                \"окт\": 31, \"ноя\": 30, \"дек\": 31}"
   ]
  },
  {
   "cell_type": "code",
   "execution_count": 88,
   "metadata": {},
   "outputs": [],
   "source": [
    "loss_find = {\"время пропажи\": \"\", \"время нахождения\": \"\"}"
   ]
  },
  {
   "cell_type": "markdown",
   "metadata": {},
   "source": [
    "Код, чтобы достать время пропажи"
   ]
  },
  {
   "cell_type": "code",
   "execution_count": 89,
   "metadata": {},
   "outputs": [
    {
     "ename": "NameError",
     "evalue": "name 'tokeny' is not defined",
     "output_type": "error",
     "traceback": [
      "\u001b[1;31m---------------------------------------------------------------------------\u001b[0m",
      "\u001b[1;31mNameError\u001b[0m                                 Traceback (most recent call last)",
      "\u001b[1;32m<ipython-input-89-5340a2998e3d>\u001b[0m in \u001b[0;36m<module>\u001b[1;34m\u001b[0m\n\u001b[0;32m      3\u001b[0m         \u001b[0mtokeny\u001b[0m \u001b[1;33m=\u001b[0m \u001b[0mword_tokenize\u001b[0m\u001b[1;33m(\u001b[0m\u001b[0mstring\u001b[0m\u001b[1;33m)\u001b[0m\u001b[1;33m\u001b[0m\u001b[1;33m\u001b[0m\u001b[0m\n\u001b[0;32m      4\u001b[0m         \u001b[1;32mbreak\u001b[0m\u001b[1;33m\u001b[0m\u001b[1;33m\u001b[0m\u001b[0m\n\u001b[1;32m----> 5\u001b[1;33m \u001b[0mlost_time\u001b[0m \u001b[1;33m=\u001b[0m \u001b[0mtokeny\u001b[0m\u001b[1;33m[\u001b[0m\u001b[0mtokeny\u001b[0m\u001b[1;33m.\u001b[0m\u001b[0mindex\u001b[0m\u001b[1;33m(\u001b[0m\u001b[1;34m\"2019\"\u001b[0m\u001b[1;33m)\u001b[0m \u001b[1;33m-\u001b[0m \u001b[1;36m2\u001b[0m\u001b[1;33m]\u001b[0m \u001b[1;33m+\u001b[0m \u001b[1;34m\" \"\u001b[0m \u001b[1;33m+\u001b[0m \u001b[0mtokeny\u001b[0m\u001b[1;33m[\u001b[0m\u001b[0mtokeny\u001b[0m\u001b[1;33m.\u001b[0m\u001b[0mindex\u001b[0m\u001b[1;33m(\u001b[0m\u001b[1;34m\"2019\"\u001b[0m\u001b[1;33m)\u001b[0m \u001b[1;33m-\u001b[0m \u001b[1;36m1\u001b[0m\u001b[1;33m]\u001b[0m \u001b[1;31m# здесь нужно придумать, как распространить это на все года\u001b[0m\u001b[1;33m\u001b[0m\u001b[1;33m\u001b[0m\u001b[0m\n\u001b[0m\u001b[0;32m      6\u001b[0m \u001b[1;33m\u001b[0m\u001b[0m\n",
      "\u001b[1;31mNameError\u001b[0m: name 'tokeny' is not defined"
     ]
    }
   ],
   "source": [
    "for string in contents:\n",
    "    if \"2019\" in string:\n",
    "        tokeny = word_tokenize(string)\n",
    "        break\n",
    "lost_time = tokeny[tokeny.index(\"2019\") - 2] + \" \" + tokeny[tokeny.index(\"2019\") - 1] # здесь нужно придумать, как распространить это на все года\n",
    "    "
   ]
  },
  {
   "cell_type": "code",
   "execution_count": null,
   "metadata": {},
   "outputs": [],
   "source": [
    "lost_time = lost_time.replace(re.search(r' \\w+', lost_time).group(), re.search(r' \\w{3}', lost_time).group())\n",
    "lost_time"
   ]
  },
  {
   "cell_type": "code",
   "execution_count": null,
   "metadata": {},
   "outputs": [],
   "source": [
    "loss_find[\"время пропажи\"] = lost_time"
   ]
  },
  {
   "cell_type": "markdown",
   "metadata": {},
   "source": [
    "Код, чтобы достать время нахождения"
   ]
  },
  {
   "cell_type": "code",
   "execution_count": null,
   "metadata": {},
   "outputs": [],
   "source": [
    "postbody = ps.find('div', {\"class\":\"notice\"}).text"
   ]
  },
  {
   "cell_type": "code",
   "execution_count": null,
   "metadata": {},
   "outputs": [],
   "source": [
    "postbody"
   ]
  },
  {
   "cell_type": "code",
   "execution_count": null,
   "metadata": {},
   "outputs": [],
   "source": [
    "find_time = re.search(r'\\d{2} \\w+', str(postbody)).group()\n",
    "find_time"
   ]
  },
  {
   "cell_type": "code",
   "execution_count": null,
   "metadata": {},
   "outputs": [],
   "source": [
    "if \"0\" in find_time:\n",
    "    find_time = find_time.replace(\"0\", \"\")"
   ]
  },
  {
   "cell_type": "code",
   "execution_count": null,
   "metadata": {},
   "outputs": [],
   "source": [
    "loss_find[\"время нахождения\"] = find_time"
   ]
  },
  {
   "cell_type": "code",
   "execution_count": null,
   "metadata": {},
   "outputs": [],
   "source": [
    "loss_find"
   ]
  },
  {
   "cell_type": "markdown",
   "metadata": {},
   "source": [
    "# А теперь реализуем то, ради чего были найдены предыдущие два пункта: время поиска"
   ]
  },
  {
   "cell_type": "code",
   "execution_count": null,
   "metadata": {},
   "outputs": [],
   "source": [
    "ml = list(months_length.keys())\n",
    "lt = re.search(r'\\w{3}', loss_find[\"время пропажи\"]).group()\n",
    "ft = re.search(r'\\w{3}', loss_find[\"время нахождения\"]).group()"
   ]
  },
  {
   "cell_type": "code",
   "execution_count": null,
   "metadata": {},
   "outputs": [],
   "source": [
    "if lt == ft:\n",
    "    search_time = int(re.search(r'\\d+', loss_find[\"время нахождения\"]).group()) - int(re,search(r'\\d+', loss_find[\"время пропажи\"]).group())\n",
    "elif ml.index(ft) > ml.index(lt):\n",
    "    search_time = int(re.search(r'\\d+', loss_find[\"время нахождения\"]).group())\n",
    "    for i in range(ml.index(ft) - 1, ml.index(lt) - 1, -1):\n",
    "        if ml[i] != lt:\n",
    "            search_time += months_length[ml[i]]\n",
    "        else:\n",
    "            search_time += months_length[ml[i]] - int(re.search(r'\\d+', loss_find[\"время пропажи\"]).group())\n",
    "elif ml.index(ft) < ml.index(lt):\n",
    "    search_time = int(re.search(r'\\d+', loss_find[\"время нахождения\"]).group())\n",
    "    i = ml.index(ft) - 1\n",
    "    while i >= 0:\n",
    "        if ml[i] != lt:\n",
    "            search_time += months_length[ml[i]]\n",
    "        i -= 1\n",
    "    for j in range(len(ml) - 1, ml.index(lt) - 1, -1):\n",
    "        if ml[j] != lt:\n",
    "            search_time += months_length[ml[j]]\n",
    "        else:\n",
    "            search_time += months_length[ml[j]] - int(re.search(r'\\d+', loss_find[\"время пропажи\"]).group())\n",
    "        \n",
    "    \n",
    "\n",
    "            \n",
    "    \n",
    "        \n",
    "        "
   ]
  },
  {
   "cell_type": "code",
   "execution_count": null,
   "metadata": {},
   "outputs": [],
   "source": [
    "search_time"
   ]
  },
  {
   "cell_type": "code",
   "execution_count": null,
   "metadata": {},
   "outputs": [],
   "source": [
    "containers2 = ps.findAll(\"div\", {\"class\":\"content\"})[0].contents\n",
    "containers2"
   ]
  },
  {
   "cell_type": "code",
   "execution_count": null,
   "metadata": {},
   "outputs": [],
   "source": [
    "containers.contents"
   ]
  },
  {
   "cell_type": "markdown",
   "metadata": {},
   "source": [
    "Код для доставания возраста "
   ]
  },
  {
   "cell_type": "code",
   "execution_count": null,
   "metadata": {},
   "outputs": [],
   "source": []
  },
  {
   "cell_type": "code",
   "execution_count": null,
   "metadata": {},
   "outputs": [],
   "source": []
  }
 ],
 "metadata": {
  "kernelspec": {
   "display_name": "Python 3",
   "language": "python",
   "name": "python3"
  },
  "language_info": {
   "codemirror_mode": {
    "name": "ipython",
    "version": 3
   },
   "file_extension": ".py",
   "mimetype": "text/x-python",
   "name": "python",
   "nbconvert_exporter": "python",
   "pygments_lexer": "ipython3",
   "version": "3.7.3"
  }
 },
 "nbformat": 4,
 "nbformat_minor": 2
}
