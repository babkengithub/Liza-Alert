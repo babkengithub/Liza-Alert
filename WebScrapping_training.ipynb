{
 "cells": [
  {
   "cell_type": "markdown",
   "metadata": {},
   "source": [
    "# Как достать признаки с LizaAlert и оформить это в jupyter"
   ]
  },
  {
   "cell_type": "markdown",
   "metadata": {},
   "source": [
    "Сначала импортируем необходимые пакеты из соответствующих библиотек"
   ]
  },
  {
   "cell_type": "code",
   "execution_count": 744,
   "metadata": {},
   "outputs": [],
   "source": [
    "from bs4 import BeautifulSoup as soup\n",
    "from urllib.request import urlopen as uReq\n",
    "from nltk.stem import WordNetLemmatizer\n",
    "from nltk.tokenize import word_tokenize\n",
    "import re"
   ]
  },
  {
   "cell_type": "code",
   "execution_count": 745,
   "metadata": {},
   "outputs": [],
   "source": [
    "#my_url = \"https://lizaalert.org/forum/viewtopic.php?f=276&t=25112\"# boy and AK-47\n",
    "#my_url = \"https://lizaalert.org/forum/viewtopic.php?f=276&t=25087\" #девочка с необычным лицом\n",
    "#my_url = \"https://lizaalert.org/forum/viewtopic.php?f=276&t=25197\" #косоглазый чел\n",
    "#my_url = \"https://lizaalert.org/forum/viewtopic.php?f=276&t=25104\" #ded anisimov\n",
    "#my_url = \"https://lizaalert.org/forum/viewtopic.php?f=276&t=25098\" #ded Medvedev\n",
    "#my_url = \"https://lizaalert.org/forum/viewtopic.php?f=276&t=25109\" #дед Павлов\n",
    "#my_url = 'https://lizaalert.org/forum/viewtopic.php?f=276&t=25083'#boy Sayakbaev\n",
    "#my_url = 'https://lizaalert.org/forum/viewtopic.php?f=276&t=25078' #grandma Leandrova\n",
    "#my_url = \"https://lizaalert.org/forum/viewtopic.php?f=276&t=25077\" #girl Kamilla\n",
    "client = uReq(my_url)  # создаем документ, являющийся сырым кодом сайта"
   ]
  },
  {
   "cell_type": "code",
   "execution_count": 746,
   "metadata": {},
   "outputs": [],
   "source": [
    "page_html = client.read() # функция .read() позволяет вывести на экран все содержимое файла, а если мы это сохраним в переменную, \n",
    "                          # то получим объект, который хранит в себе все строки этого файла"
   ]
  },
  {
   "cell_type": "code",
   "execution_count": 747,
   "metadata": {},
   "outputs": [],
   "source": [
    "client.close()"
   ]
  },
  {
   "cell_type": "code",
   "execution_count": 748,
   "metadata": {},
   "outputs": [],
   "source": [
    "ps = soup(page_html, \"html.parser\")"
   ]
  },
  {
   "cell_type": "code",
   "execution_count": 749,
   "metadata": {
    "scrolled": true
   },
   "outputs": [
    {
     "data": {
      "text/plain": [
       "bs4.BeautifulSoup"
      ]
     },
     "execution_count": 749,
     "metadata": {},
     "output_type": "execute_result"
    }
   ],
   "source": [
    "type(ps)"
   ]
  },
  {
   "cell_type": "code",
   "execution_count": 750,
   "metadata": {},
   "outputs": [],
   "source": [
    "english_stops = ['.', ',', ':', ';', \"!\", \"?\"]"
   ]
  },
  {
   "cell_type": "markdown",
   "metadata": {},
   "source": [
    "Далее, для работы понадобится открыть код страницы, которую мы хотим парсить. Для этого правой кнопки мыши нажимаем на страницу, затем выбираем просмотреть код, который затем должен появиться в правой стороне страницы."
   ]
  },
  {
   "cell_type": "code",
   "execution_count": 751,
   "metadata": {},
   "outputs": [
    {
     "data": {
      "text/plain": [
       "10"
      ]
     },
     "execution_count": 751,
     "metadata": {},
     "output_type": "execute_result"
    }
   ],
   "source": [
    "containers = ps.find_all(\"div\", {\"class\": \"content\"})\n",
    "len(containers)"
   ]
  },
  {
   "cell_type": "code",
   "execution_count": 752,
   "metadata": {},
   "outputs": [],
   "source": [
    "container = containers[0]"
   ]
  },
  {
   "cell_type": "code",
   "execution_count": 753,
   "metadata": {},
   "outputs": [
    {
     "data": {
      "text/plain": [
       "'Леандрова Н.П..jpeg'"
      ]
     },
     "execution_count": 753,
     "metadata": {},
     "output_type": "execute_result"
    }
   ],
   "source": [
    "container.img[\"alt\"]  # проверили наличие или отсутствие изображения"
   ]
  },
  {
   "cell_type": "code",
   "execution_count": 754,
   "metadata": {},
   "outputs": [
    {
     "data": {
      "text/plain": [
       "[<span style=\"font-size: 140%; line-height: 116%;\"><span style=\"font-weight: bold\">Леандрова (Козлова) Надежда Павловна, 66 лет, г. Москва </span></span>,\n",
       " <br/>,\n",
       " <br/>,\n",
       " '1 апреля 2019 года ушла на работу и не вернулась.',\n",
       " <br/>,\n",
       " <span style=\"font-weight: bold\">ДЕЗОРИЕНТИРОВАНА! НУЖДАЕТСЯ В МЕДИЦИНСКОЙ ПОМОЩИ!</span>,\n",
       " <br/>,\n",
       " <br/>,\n",
       " <div class=\"inline-attachment\">\n",
       " <dl class=\"file\">\n",
       " <dt class=\"attach-image\"><img alt=\"Леандрова Н.П..jpeg\" onclick=\"viewableArea(this);\" src=\"./download/file.php?id=10190&amp;sid=79e650c51f590db83218f1281403587c\"/></dt>\n",
       " <dd>Леандрова Н.П..jpeg (57.49 Кб) Просмотров: 873</dd>\n",
       " </dl>\n",
       " </div>,\n",
       " <br/>,\n",
       " <span style=\"font-weight: bold\">Приметы:</span>,\n",
       " ' рост 160 см, худощавого телосложения, волосы каштановые короткие, глаза серо-зелёные. ',\n",
       " <br/>,\n",
       " <br/>,\n",
       " <span style=\"font-weight: bold\">Была одета:</span>,\n",
       " ' укороченное коричневое пальто с белыми накладными карманами, чёрные брюки, чёрные ботинки, чёрная вязаная шляпа с бантом.',\n",
       " <br/>,\n",
       " <br/>,\n",
       " <span style=\"font-weight: bold\">С собой:</span>,\n",
       " ' серая сумка с белыми молниями.',\n",
       " <br/>,\n",
       " <br/>,\n",
       " <span style=\"font-weight: bold\"><a href=\"http://la-org.ru/images/2019/04/816a5171728faefcc1bcdfae23ffd4e21.jpg\" rel=\"nofollow\" target=\"_blank\">Ориентировка на печать</a></span>,\n",
       " <br/>,\n",
       " <span style=\"font-weight: bold\"><a href=\"http://la-org.ru/images/2019/04/816a5171728faefcc1bcdfae23ffd4e22.jpg\" rel=\"nofollow\" target=\"_blank\">Ориентировка на репост</a></span>,\n",
       " <br/>,\n",
       " <br/>,\n",
       " '--------------------------------------------------',\n",
       " <br/>,\n",
       " <br/>,\n",
       " <span style=\"color: #0000BF\">Ближайшие задачи:<br/>Оклейка/опрос/патруль:<br/>- квартал Татьянин парк, д. Говорово, Румянцево;<br/>- Боровское ш. от МКАДа до м. Солнцево; далее по ул. Авиаторов и по 50-летия Октября до Боровского ш.; <br/>- к северу от Боровского ш. 3 мкр, Сколково, Мещерский;<br/>- метро Хорошёвское, Полежаевская, Боровское шоссе, Новопеределкино, Рассказовка, Лермонтовский пр-т.<br/><br/><span style=\"font-weight: bold\">Необходимо забрать ориентировки на ст.м. Аннино и на ул. Дмитрия Ульянова!<br/>НУЖНА ПЕЧАТЬ ЦВЕТНЫХ ОРИЕНТИРОВОК</span></span>,\n",
       " <br/>,\n",
       " <br/>,\n",
       " <span style=\"font-weight: bold\">Координатор:</span>,\n",
       " ' Ольга Лемешева ',\n",
       " <br/>,\n",
       " <span style=\"font-weight: bold\">Инфорг:</span>,\n",
       " ' Маргоша 89069346403']"
      ]
     },
     "execution_count": 754,
     "metadata": {},
     "output_type": "execute_result"
    }
   ],
   "source": [
    "contents = container.contents\n",
    "contents"
   ]
  },
  {
   "cell_type": "markdown",
   "metadata": {},
   "source": [
    "Код, чтобы достать телесложение"
   ]
  },
  {
   "cell_type": "code",
   "execution_count": 755,
   "metadata": {},
   "outputs": [
    {
     "data": {
      "text/plain": [
       "'худощавого'"
      ]
     },
     "execution_count": 755,
     "metadata": {},
     "output_type": "execute_result"
    }
   ],
   "source": [
    "\n",
    "for string in contents:\n",
    "    if \"елосложени\" in string:\n",
    "        no_stops_string = ''.join([t for t in string if t not in english_stops])\n",
    "        tokens = word_tokenize(no_stops_string)\n",
    "for i in range(len(tokens)):\n",
    "    if \"елосложени\" in tokens[i]:\n",
    "        if tokens[i][-1] == \"я\":\n",
    "            body = tokens[i - 1]\n",
    "        else:\n",
    "            body = tokens[i + 1]\n",
    "body.lower()\n",
    "a = WordNetLemmatizer()\n",
    "a.lemmatize(body)"
   ]
  },
  {
   "cell_type": "code",
   "execution_count": 756,
   "metadata": {},
   "outputs": [
    {
     "data": {
      "text/plain": [
       "'худощавого'"
      ]
     },
     "execution_count": 756,
     "metadata": {},
     "output_type": "execute_result"
    }
   ],
   "source": [
    "body"
   ]
  },
  {
   "cell_type": "markdown",
   "metadata": {},
   "source": [
    "Код, чтобы достать цвет волос"
   ]
  },
  {
   "cell_type": "code",
   "execution_count": 757,
   "metadata": {},
   "outputs": [
    {
     "data": {
      "text/plain": [
       "'каштановые'"
      ]
     },
     "execution_count": 757,
     "metadata": {},
     "output_type": "execute_result"
    }
   ],
   "source": [
    "\n",
    "for string in contents:\n",
    "    if \"олосы\" in string:\n",
    "        no_stops_string_1 = ''.join([t for t in string if t not in english_stops])\n",
    "        tokens_1 = word_tokenize(no_stops_string_1)\n",
    "for i in range(len(tokens_1)):\n",
    "    if \"олосы\" in tokens_1[i]:\n",
    "        hair_colour = tokens_1[i + 1]\n",
    "hair_colour.lower()\n",
    "b = WordNetLemmatizer()\n",
    "b.lemmatize(hair_colour)"
   ]
  },
  {
   "cell_type": "code",
   "execution_count": 758,
   "metadata": {},
   "outputs": [
    {
     "data": {
      "text/plain": [
       "['рост',\n",
       " '160',\n",
       " 'см',\n",
       " 'худощавого',\n",
       " 'телосложения',\n",
       " 'волосы',\n",
       " 'каштановые',\n",
       " 'короткие',\n",
       " 'глаза',\n",
       " 'серо-зелёные']"
      ]
     },
     "execution_count": 758,
     "metadata": {},
     "output_type": "execute_result"
    }
   ],
   "source": [
    "tokens_1"
   ]
  },
  {
   "cell_type": "markdown",
   "metadata": {},
   "source": [
    "Код, чтобы достать время пропажи"
   ]
  },
  {
   "cell_type": "code",
   "execution_count": 759,
   "metadata": {},
   "outputs": [],
   "source": [
    "for string in contents:\n",
    "    if \"2019\" in string:\n",
    "        tokeny = word_tokenize(string)\n",
    "        break\n",
    "lost_time = tokeny[tokeny.index(\"2019\") - 2] + \" \" + tokeny[tokeny.index(\"2019\") - 1]\n",
    "    "
   ]
  },
  {
   "cell_type": "code",
   "execution_count": 760,
   "metadata": {},
   "outputs": [
    {
     "data": {
      "text/plain": [
       "'1 апреля'"
      ]
     },
     "execution_count": 760,
     "metadata": {},
     "output_type": "execute_result"
    }
   ],
   "source": [
    "lost_time"
   ]
  },
  {
   "cell_type": "code",
   "execution_count": 761,
   "metadata": {},
   "outputs": [
    {
     "data": {
      "text/plain": [
       "['1',\n",
       " 'апреля',\n",
       " '2019',\n",
       " 'года',\n",
       " 'ушла',\n",
       " 'на',\n",
       " 'работу',\n",
       " 'и',\n",
       " 'не',\n",
       " 'вернулась',\n",
       " '.']"
      ]
     },
     "execution_count": 761,
     "metadata": {},
     "output_type": "execute_result"
    }
   ],
   "source": [
    "tokeny"
   ]
  },
  {
   "cell_type": "code",
   "execution_count": null,
   "metadata": {},
   "outputs": [],
   "source": []
  }
 ],
 "metadata": {
  "kernelspec": {
   "display_name": "Python 3",
   "language": "python",
   "name": "python3"
  },
  "language_info": {
   "codemirror_mode": {
    "name": "ipython",
    "version": 3
   },
   "file_extension": ".py",
   "mimetype": "text/x-python",
   "name": "python",
   "nbconvert_exporter": "python",
   "pygments_lexer": "ipython3",
   "version": "3.7.1"
  }
 },
 "nbformat": 4,
 "nbformat_minor": 2
}
