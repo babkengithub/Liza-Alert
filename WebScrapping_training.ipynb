{
 "cells": [
  {
   "cell_type": "markdown",
   "metadata": {},
   "source": [
    "# Как достать признаки с LizaAlert и оформить это в jupyter"
   ]
  },
  {
   "cell_type": "markdown",
   "metadata": {},
   "source": [
    "Сначала импортируем необходимые пакеты из соответствующих библиотек"
   ]
  },
  {
   "cell_type": "code",
   "execution_count": 61,
   "metadata": {},
   "outputs": [],
   "source": [
    "from bs4 import BeautifulSoup as soup\n",
    "from urllib.request import urlopen as uReq\n",
    "from nltk.stem import WordNetLemmatizer\n",
    "from nltk.tokenize import word_tokenize\n",
    "import re\n",
    "import scrapy"
   ]
  },
  {
   "cell_type": "code",
   "execution_count": 73,
   "metadata": {},
   "outputs": [],
   "source": [
    "my_url = \"https://lizaalert.org/forum/viewtopic.php?f=120&t=2360\"\n",
    "#my_url = \"https://lizaalert.org/forum/viewtopic.php?f=276&t=25112\"# boy and AK-47\n",
    "#my_url = \"https://lizaalert.org/forum/viewtopic.php?f=276&t=25087\" #девочка с необычным лицом\n",
    "#my_url = \"https://lizaalert.org/forum/viewtopic.php?f=276&t=25197\" #косоглазый чел\n",
    "#my_url = \"https://lizaalert.org/forum/viewtopic.php?f=276&t=25104\" #ded anisimov\n",
    "#my_url = \"https://lizaalert.org/forum/viewtopic.php?f=276&t=25098\" #ded Medvedev\n",
    "#my_url = \"https://lizaalert.org/forum/viewtopic.php?f=276&t=25109\" #дед Павлов\n",
    "#my_url = 'https://lizaalert.org/forum/viewtopic.php?f=276&t=25083'#boy Sayakbaev\n",
    "#my_url = 'https://lizaalert.org/forum/viewtopic.php?f=276&t=25078' #grandma Leandrova\n",
    "#my_url = \"https://lizaalert.org/forum/viewtopic.php?f=276&t=25077\" #girl Kamilla\n",
    "client = uReq(my_url)  # создаем документ, являющийся сырым кодом сайта"
   ]
  },
  {
   "cell_type": "code",
   "execution_count": 74,
   "metadata": {},
   "outputs": [],
   "source": [
    "page_html = client.read() # функция .read() позволяет вывести на экран все содержимое файла, а если мы это сохраним в переменную, \n",
    "                          # то получим объект, который хранит в себе все строки этого файла"
   ]
  },
  {
   "cell_type": "code",
   "execution_count": 75,
   "metadata": {},
   "outputs": [],
   "source": [
    "client.close()"
   ]
  },
  {
   "cell_type": "code",
   "execution_count": 76,
   "metadata": {},
   "outputs": [],
   "source": [
    "ps = soup(page_html, \"html.parser\")"
   ]
  },
  {
   "cell_type": "code",
   "execution_count": 77,
   "metadata": {
    "scrolled": true
   },
   "outputs": [
    {
     "data": {
      "text/plain": [
       "bs4.BeautifulSoup"
      ]
     },
     "execution_count": 77,
     "metadata": {},
     "output_type": "execute_result"
    }
   ],
   "source": [
    "type(ps)"
   ]
  },
  {
   "cell_type": "code",
   "execution_count": 78,
   "metadata": {},
   "outputs": [],
   "source": [
    "english_stops = ['.', ',', ':', ';', \"!\", \"?\"]"
   ]
  },
  {
   "cell_type": "markdown",
   "metadata": {},
   "source": [
    "Далее, для работы понадобится открыть код страницы, которую мы хотим парсить. Для этого правой кнопки мыши нажимаем на страницу, затем выбираем просмотреть код, который затем должен появиться в правой стороне страницы."
   ]
  },
  {
   "cell_type": "code",
   "execution_count": 79,
   "metadata": {},
   "outputs": [
    {
     "data": {
      "text/plain": [
       "0"
      ]
     },
     "execution_count": 79,
     "metadata": {},
     "output_type": "execute_result"
    }
   ],
   "source": [
    "containers = ps.find_all(\"title\", {\"class\": \"content\"})\n",
    "len(containers)"
   ]
  },
  {
   "cell_type": "code",
   "execution_count": 80,
   "metadata": {},
   "outputs": [],
   "source": [
    "main = ps.find('div', {'class':'content'}).text"
   ]
  },
  {
   "cell_type": "code",
   "execution_count": 83,
   "metadata": {},
   "outputs": [
    {
     "data": {
      "text/plain": [
       "<div class=\"pagination\">\n",
       "\t\t\tСообщений: 6\n",
       "\t\t\t • Страница <strong>1</strong> из <strong>1</strong>\n",
       "</div>"
      ]
     },
     "execution_count": 83,
     "metadata": {},
     "output_type": "execute_result"
    }
   ],
   "source": [
    "posts = ps.find('div', {'class':'pagination'})\n",
    "posts\n",
    "re.search(r'\\d+', str(posts)).group()"
   ]
  },
  {
   "cell_type": "code",
   "execution_count": 84,
   "metadata": {},
   "outputs": [
    {
     "data": {
      "text/plain": [
       "'6'"
      ]
     },
     "execution_count": 84,
     "metadata": {},
     "output_type": "execute_result"
    }
   ],
   "source": [
    "re.search(r'\\d+', str(posts)).group()"
   ]
  },
  {
   "cell_type": "markdown",
   "metadata": {},
   "source": [
    "Код для возраста "
   ]
  },
  {
   "cell_type": "code",
   "execution_count": 81,
   "metadata": {},
   "outputs": [
    {
     "data": {
      "text/plain": [
       "<title>НАЙДЕНЫ девочки 13 и 14 лет, СанктПетербург • Форум lizaalert.org</title>"
      ]
     },
     "execution_count": 81,
     "metadata": {},
     "output_type": "execute_result"
    }
   ],
   "source": [
    "title = ps.find(\"title\").extract()\n",
    "title"
   ]
  },
  {
   "cell_type": "code",
   "execution_count": 82,
   "metadata": {},
   "outputs": [
    {
     "data": {
      "text/plain": [
       "'13'"
      ]
     },
     "execution_count": 82,
     "metadata": {},
     "output_type": "execute_result"
    }
   ],
   "source": [
    "re.search(r'\\d+', str(title)).group()"
   ]
  },
  {
   "cell_type": "code",
   "execution_count": 41,
   "metadata": {},
   "outputs": [
    {
     "data": {
      "text/plain": [
       "<div class=\"content\"><span style=\"font-size: 140%; line-height: 116%;\"><span style=\"font-weight: bold\">Казимиров Андрей Анатольевич 52 года, г. Караганда </span></span><br/><br/>9 ноября 2017 около 21:30 ушёл из дома и не вернулся<br/><br/><img alt=\"Изображение\" src=\"http://info-la.ru/photo/18021_7588838613.jpg\"/><br/><br/><span style=\"font-weight: bold\">Приметы:</span><br/>Рост: 172 см.<br/>Телосложение: xудощавое<br/>Цвет глаз: карие<br/>Волосы: тёмно-русые, короткая стрижка, имеются залысины<br/><br/><span style=\"font-weight: bold\">Был одет:</span> Клетчатая рубашка, свитер, зеленые брюки, темно-зеленая куртка, кожаная фуражка, ботинки.<br/><br/><span style=\"font-weight: bold\">С собой:</span> Сумка через плечо<br/><br/><span style=\"font-weight: bold\">Особые приметы:</span> Густые усы.<br/><br/>--------------------------------------------------<br/><br/><span style=\"color: #0000BF\">Расклейка ориентировок</span></div>"
      ]
     },
     "execution_count": 41,
     "metadata": {},
     "output_type": "execute_result"
    }
   ],
   "source": [
    "container = containers[0]\n",
    "containers[0]"
   ]
  },
  {
   "cell_type": "code",
   "execution_count": 42,
   "metadata": {},
   "outputs": [
    {
     "data": {
      "text/plain": [
       "'Изображение'"
      ]
     },
     "execution_count": 42,
     "metadata": {},
     "output_type": "execute_result"
    }
   ],
   "source": [
    "container.img[\"alt\"]  # проверили наличие или отсутствие изображения"
   ]
  },
  {
   "cell_type": "code",
   "execution_count": 43,
   "metadata": {},
   "outputs": [
    {
     "data": {
      "text/plain": [
       "[<span style=\"font-size: 140%; line-height: 116%;\"><span style=\"font-weight: bold\">Казимиров Андрей Анатольевич 52 года, г. Караганда </span></span>,\n",
       " <br/>,\n",
       " <br/>,\n",
       " '9 ноября 2017 около 21:30 ушёл из дома и не вернулся',\n",
       " <br/>,\n",
       " <br/>,\n",
       " <img alt=\"Изображение\" src=\"http://info-la.ru/photo/18021_7588838613.jpg\"/>,\n",
       " <br/>,\n",
       " <br/>,\n",
       " <span style=\"font-weight: bold\">Приметы:</span>,\n",
       " <br/>,\n",
       " 'Рост: 172 см.',\n",
       " <br/>,\n",
       " 'Телосложение: xудощавое',\n",
       " <br/>,\n",
       " 'Цвет глаз: карие',\n",
       " <br/>,\n",
       " 'Волосы: тёмно-русые, короткая стрижка, имеются залысины',\n",
       " <br/>,\n",
       " <br/>,\n",
       " <span style=\"font-weight: bold\">Был одет:</span>,\n",
       " ' Клетчатая рубашка, свитер, зеленые брюки, темно-зеленая куртка, кожаная фуражка, ботинки.',\n",
       " <br/>,\n",
       " <br/>,\n",
       " <span style=\"font-weight: bold\">С собой:</span>,\n",
       " ' Сумка через плечо',\n",
       " <br/>,\n",
       " <br/>,\n",
       " <span style=\"font-weight: bold\">Особые приметы:</span>,\n",
       " ' Густые усы.',\n",
       " <br/>,\n",
       " <br/>,\n",
       " '--------------------------------------------------',\n",
       " <br/>,\n",
       " <br/>,\n",
       " <span style=\"color: #0000BF\">Расклейка ориентировок</span>]"
      ]
     },
     "execution_count": 43,
     "metadata": {},
     "output_type": "execute_result"
    }
   ],
   "source": [
    "contents = container.contents\n",
    "contents"
   ]
  },
  {
   "cell_type": "markdown",
   "metadata": {},
   "source": [
    "Код, чтобы достать телесложение"
   ]
  },
  {
   "cell_type": "code",
   "execution_count": 44,
   "metadata": {},
   "outputs": [
    {
     "data": {
      "text/plain": [
       "'xудощавое'"
      ]
     },
     "execution_count": 44,
     "metadata": {},
     "output_type": "execute_result"
    }
   ],
   "source": [
    "for string in contents:\n",
    "    if \"елосложени\" in string:\n",
    "        no_stops_string = ''.join([t for t in string if t not in english_stops])\n",
    "        tokens = word_tokenize(no_stops_string)\n",
    "for i in range(len(tokens)):\n",
    "    if \"елосложени\" in tokens[i]:\n",
    "        if tokens[i][-1] == \"я\":\n",
    "            body = tokens[i - 1]\n",
    "        else:\n",
    "            body = tokens[i + 1]\n",
    "body.lower()\n",
    "a = WordNetLemmatizer()\n",
    "a.lemmatize(body)"
   ]
  },
  {
   "cell_type": "code",
   "execution_count": 45,
   "metadata": {},
   "outputs": [
    {
     "data": {
      "text/plain": [
       "'xудощавое'"
      ]
     },
     "execution_count": 45,
     "metadata": {},
     "output_type": "execute_result"
    }
   ],
   "source": [
    "body"
   ]
  },
  {
   "cell_type": "markdown",
   "metadata": {},
   "source": [
    "Код, чтобы достать цвет волос"
   ]
  },
  {
   "cell_type": "code",
   "execution_count": 46,
   "metadata": {},
   "outputs": [
    {
     "data": {
      "text/plain": [
       "'тёмно-русые'"
      ]
     },
     "execution_count": 46,
     "metadata": {},
     "output_type": "execute_result"
    }
   ],
   "source": [
    "\n",
    "for string in contents:\n",
    "    if \"олосы\" in string:\n",
    "        no_stops_string_1 = ''.join([t for t in string if t not in english_stops])\n",
    "        tokens_1 = word_tokenize(no_stops_string_1)\n",
    "for i in range(len(tokens_1)):\n",
    "    if \"олосы\" in tokens_1[i]:\n",
    "        hair_colour = tokens_1[i + 1]\n",
    "hair_colour.lower()\n",
    "b = WordNetLemmatizer()\n",
    "b.lemmatize(hair_colour)"
   ]
  },
  {
   "cell_type": "code",
   "execution_count": 47,
   "metadata": {},
   "outputs": [],
   "source": [
    "def hair_color(contents):\n",
    "    hc = ''\n",
    "    for string in contents:\n",
    "        if \"олосы\" in string:\n",
    "            no_stops_string_1 = ''.join([t for t in string if t not in english_stops])\n",
    "            tokens_1 = word_tokenize(no_stops_string_1)\n",
    "            for i in range(len(tokens_1)):\n",
    "                if \"олосы\" in tokens_1[i]:\n",
    "                    hc = tokens_1[i + 1]\n",
    "                    break\n",
    "    return hc"
   ]
  },
  {
   "cell_type": "code",
   "execution_count": 48,
   "metadata": {},
   "outputs": [
    {
     "data": {
      "text/plain": [
       "'тёмно-русые'"
      ]
     },
     "execution_count": 48,
     "metadata": {},
     "output_type": "execute_result"
    }
   ],
   "source": [
    "hair_color(contents)"
   ]
  },
  {
   "cell_type": "code",
   "execution_count": 49,
   "metadata": {},
   "outputs": [
    {
     "data": {
      "text/plain": [
       "['Волосы', 'тёмно-русые', 'короткая', 'стрижка', 'имеются', 'залысины']"
      ]
     },
     "execution_count": 49,
     "metadata": {},
     "output_type": "execute_result"
    }
   ],
   "source": [
    "tokens_1"
   ]
  },
  {
   "cell_type": "markdown",
   "metadata": {},
   "source": [
    "Сделаем вспомогательные словари для следующего шага"
   ]
  },
  {
   "cell_type": "code",
   "execution_count": 50,
   "metadata": {},
   "outputs": [],
   "source": [
    "months_length = {\"янв\": 31, \"фев\": 28, \"мар\": 31, \"апр\": 30, \"май\": 31, \"июн\": 30, \"июл\": 31, \"авг\": 31, \"сен\": \"30\",\n",
    "                \"окт\": 31, \"ноя\": 30, \"дек\": 31}"
   ]
  },
  {
   "cell_type": "code",
   "execution_count": 51,
   "metadata": {},
   "outputs": [],
   "source": [
    "loss_find = {\"время пропажи\": \"\", \"время нахождения\": \"\"}"
   ]
  },
  {
   "cell_type": "markdown",
   "metadata": {},
   "source": [
    "Код, чтобы достать время пропажи"
   ]
  },
  {
   "cell_type": "code",
   "execution_count": 52,
   "metadata": {},
   "outputs": [
    {
     "ename": "NameError",
     "evalue": "name 'tokeny' is not defined",
     "output_type": "error",
     "traceback": [
      "\u001b[0;31m---------------------------------------------------------------------------\u001b[0m",
      "\u001b[0;31mNameError\u001b[0m                                 Traceback (most recent call last)",
      "\u001b[0;32m<ipython-input-52-5340a2998e3d>\u001b[0m in \u001b[0;36m<module>\u001b[0;34m\u001b[0m\n\u001b[1;32m      3\u001b[0m         \u001b[0mtokeny\u001b[0m \u001b[0;34m=\u001b[0m \u001b[0mword_tokenize\u001b[0m\u001b[0;34m(\u001b[0m\u001b[0mstring\u001b[0m\u001b[0;34m)\u001b[0m\u001b[0;34m\u001b[0m\u001b[0;34m\u001b[0m\u001b[0m\n\u001b[1;32m      4\u001b[0m         \u001b[0;32mbreak\u001b[0m\u001b[0;34m\u001b[0m\u001b[0;34m\u001b[0m\u001b[0m\n\u001b[0;32m----> 5\u001b[0;31m \u001b[0mlost_time\u001b[0m \u001b[0;34m=\u001b[0m \u001b[0mtokeny\u001b[0m\u001b[0;34m[\u001b[0m\u001b[0mtokeny\u001b[0m\u001b[0;34m.\u001b[0m\u001b[0mindex\u001b[0m\u001b[0;34m(\u001b[0m\u001b[0;34m\"2019\"\u001b[0m\u001b[0;34m)\u001b[0m \u001b[0;34m-\u001b[0m \u001b[0;36m2\u001b[0m\u001b[0;34m]\u001b[0m \u001b[0;34m+\u001b[0m \u001b[0;34m\" \"\u001b[0m \u001b[0;34m+\u001b[0m \u001b[0mtokeny\u001b[0m\u001b[0;34m[\u001b[0m\u001b[0mtokeny\u001b[0m\u001b[0;34m.\u001b[0m\u001b[0mindex\u001b[0m\u001b[0;34m(\u001b[0m\u001b[0;34m\"2019\"\u001b[0m\u001b[0;34m)\u001b[0m \u001b[0;34m-\u001b[0m \u001b[0;36m1\u001b[0m\u001b[0;34m]\u001b[0m \u001b[0;31m# здесь нужно придумать, как распространить это на все года\u001b[0m\u001b[0;34m\u001b[0m\u001b[0;34m\u001b[0m\u001b[0m\n\u001b[0m\u001b[1;32m      6\u001b[0m \u001b[0;34m\u001b[0m\u001b[0m\n",
      "\u001b[0;31mNameError\u001b[0m: name 'tokeny' is not defined"
     ]
    }
   ],
   "source": [
    "for string in contents:\n",
    "    if \"2019\" in string:\n",
    "        tokeny = word_tokenize(string)\n",
    "        break\n",
    "lost_time = tokeny[tokeny.index(\"2019\") - 2] + \" \" + tokeny[tokeny.index(\"2019\") - 1] # здесь нужно придумать, как распространить это на все года\n",
    "    "
   ]
  },
  {
   "cell_type": "code",
   "execution_count": null,
   "metadata": {},
   "outputs": [],
   "source": [
    "lost_time = lost_time.replace(re.search(r' \\w+', lost_time).group(), re.search(r' \\w{3}', lost_time).group())\n",
    "lost_time"
   ]
  },
  {
   "cell_type": "code",
   "execution_count": null,
   "metadata": {},
   "outputs": [],
   "source": [
    "loss_find[\"время пропажи\"] = lost_time"
   ]
  },
  {
   "cell_type": "markdown",
   "metadata": {},
   "source": [
    "Код, чтобы достать время нахождения"
   ]
  },
  {
   "cell_type": "code",
   "execution_count": null,
   "metadata": {},
   "outputs": [],
   "source": [
    "postbody = ps.find('div', {\"class\":\"notice\"}).text"
   ]
  },
  {
   "cell_type": "code",
   "execution_count": null,
   "metadata": {},
   "outputs": [],
   "source": [
    "postbody"
   ]
  },
  {
   "cell_type": "code",
   "execution_count": null,
   "metadata": {},
   "outputs": [],
   "source": [
    "find_time = re.search(r'\\d{2} \\w+', str(postbody)).group()\n",
    "find_time"
   ]
  },
  {
   "cell_type": "code",
   "execution_count": null,
   "metadata": {},
   "outputs": [],
   "source": [
    "if \"0\" in find_time:\n",
    "    find_time = find_time.replace(\"0\", \"\")"
   ]
  },
  {
   "cell_type": "code",
   "execution_count": null,
   "metadata": {},
   "outputs": [],
   "source": [
    "loss_find[\"время нахождения\"] = find_time"
   ]
  },
  {
   "cell_type": "code",
   "execution_count": null,
   "metadata": {},
   "outputs": [],
   "source": [
    "loss_find"
   ]
  },
  {
   "cell_type": "markdown",
   "metadata": {},
   "source": [
    "# А теперь реализуем то, ради чего были найдены предыдущие два пункта: время поиска"
   ]
  },
  {
   "cell_type": "code",
   "execution_count": null,
   "metadata": {},
   "outputs": [],
   "source": [
    "ml = list(months_length.keys())\n",
    "lt = re.search(r'\\w{3}', loss_find[\"время пропажи\"]).group()\n",
    "ft = re.search(r'\\w{3}', loss_find[\"время нахождения\"]).group()"
   ]
  },
  {
   "cell_type": "code",
   "execution_count": null,
   "metadata": {},
   "outputs": [],
   "source": [
    "if lt == ft:\n",
    "    search_time = int(re.search(r'\\d+', loss_find[\"время нахождения\"]).group()) - int(re,search(r'\\d+', loss_find[\"время пропажи\"]).group())\n",
    "elif ml.index(ft) > ml.index(lt):\n",
    "    search_time = int(re.search(r'\\d+', loss_find[\"время нахождения\"]).group())\n",
    "    for i in range(ml.index(ft) - 1, ml.index(lt) - 1, -1):\n",
    "        if ml[i] != lt:\n",
    "            search_time += months_length[ml[i]]\n",
    "        else:\n",
    "            search_time += months_length[ml[i]] - int(re.search(r'\\d+', loss_find[\"время пропажи\"]).group())\n",
    "elif ml.index(ft) < ml.index(lt):\n",
    "    search_time = int(re.search(r'\\d+', loss_find[\"время нахождения\"]).group())\n",
    "    i = ml.index(ft) - 1\n",
    "    while i >= 0:\n",
    "        if ml[i] != lt:\n",
    "            search_time += months_length[ml[i]]\n",
    "        i -= 1\n",
    "    for j in range(len(ml) - 1, ml.index(lt) - 1, -1):\n",
    "        if ml[j] != lt:\n",
    "            search_time += months_length[ml[j]]\n",
    "        else:\n",
    "            search_time += months_length[ml[j]] - int(re.search(r'\\d+', loss_find[\"время пропажи\"]).group())\n",
    "        \n",
    "    \n",
    "\n",
    "            \n",
    "    \n",
    "        \n",
    "        "
   ]
  },
  {
   "cell_type": "code",
   "execution_count": null,
   "metadata": {},
   "outputs": [],
   "source": [
    "search_time"
   ]
  },
  {
   "cell_type": "code",
   "execution_count": null,
   "metadata": {},
   "outputs": [],
   "source": [
    "containers2 = ps.findAll(\"div\", {\"class\":\"content\"})[0].contents\n",
    "containers2"
   ]
  },
  {
   "cell_type": "code",
   "execution_count": null,
   "metadata": {},
   "outputs": [],
   "source": [
    "containers.contents"
   ]
  },
  {
   "cell_type": "markdown",
   "metadata": {},
   "source": [
    "Код для доставания возраста "
   ]
  },
  {
   "cell_type": "code",
   "execution_count": null,
   "metadata": {},
   "outputs": [],
   "source": []
  },
  {
   "cell_type": "code",
   "execution_count": null,
   "metadata": {},
   "outputs": [],
   "source": []
  }
 ],
 "metadata": {
  "kernelspec": {
   "display_name": "Python 3",
   "language": "python",
   "name": "python3"
  },
  "language_info": {
   "codemirror_mode": {
    "name": "ipython",
    "version": 3
   },
   "file_extension": ".py",
   "mimetype": "text/x-python",
   "name": "python",
   "nbconvert_exporter": "python",
   "pygments_lexer": "ipython3",
   "version": "3.7.1"
  }
 },
 "nbformat": 4,
 "nbformat_minor": 2
}
