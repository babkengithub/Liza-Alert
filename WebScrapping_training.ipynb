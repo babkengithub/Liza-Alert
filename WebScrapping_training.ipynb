{
 "cells": [
  {
   "cell_type": "markdown",
   "metadata": {},
   "source": [
    "# Как достать признаки с LizaAlert и оформить это в jupyter"
   ]
  },
  {
   "cell_type": "markdown",
   "metadata": {},
   "source": [
    "Сначала импортируем необходимые пакеты из соответствующих библиотек"
   ]
  },
  {
   "cell_type": "code",
   "execution_count": 2,
   "metadata": {},
   "outputs": [],
   "source": [
    "from bs4 import BeautifulSoup as soup\n",
    "from urllib.request import urlopen as uReq\n",
    "from nltk.stem import WordNetLemmatizer\n",
    "from nltk.tokenize import word_tokenize\n",
    "import re"
   ]
  },
  {
   "cell_type": "code",
   "execution_count": 3,
   "metadata": {},
   "outputs": [],
   "source": [
    "my_url = \"https://lizaalert.org/forum/viewtopic.php?f=276&t=24589\"\n",
    "#my_url = \"https://lizaalert.org/forum/viewtopic.php?f=276&t=25112\"# boy and AK-47\n",
    "#my_url = \"https://lizaalert.org/forum/viewtopic.php?f=276&t=25087\" #девочка с необычным лицом\n",
    "#my_url = \"https://lizaalert.org/forum/viewtopic.php?f=276&t=25197\" #косоглазый чел\n",
    "#my_url = \"https://lizaalert.org/forum/viewtopic.php?f=276&t=25104\" #ded anisimov\n",
    "#my_url = \"https://lizaalert.org/forum/viewtopic.php?f=276&t=25098\" #ded Medvedev\n",
    "#my_url = \"https://lizaalert.org/forum/viewtopic.php?f=276&t=25109\" #дед Павлов\n",
    "#my_url = 'https://lizaalert.org/forum/viewtopic.php?f=276&t=25083'#boy Sayakbaev\n",
    "#my_url = 'https://lizaalert.org/forum/viewtopic.php?f=276&t=25078' #grandma Leandrova\n",
    "#my_url = \"https://lizaalert.org/forum/viewtopic.php?f=276&t=25077\" #girl Kamilla\n",
    "client = uReq(my_url)  # создаем документ, являющийся сырым кодом сайта"
   ]
  },
  {
   "cell_type": "code",
   "execution_count": 4,
   "metadata": {},
   "outputs": [],
   "source": [
    "page_html = client.read() # функция .read() позволяет вывести на экран все содержимое файла, а если мы это сохраним в переменную, \n",
    "                          # то получим объект, который хранит в себе все строки этого файла"
   ]
  },
  {
   "cell_type": "code",
   "execution_count": 5,
   "metadata": {},
   "outputs": [],
   "source": [
    "client.close()"
   ]
  },
  {
   "cell_type": "code",
   "execution_count": 6,
   "metadata": {},
   "outputs": [],
   "source": [
    "ps = soup(page_html, \"html.parser\")"
   ]
  },
  {
   "cell_type": "code",
   "execution_count": 7,
   "metadata": {
    "scrolled": true
   },
   "outputs": [
    {
     "data": {
      "text/plain": [
       "bs4.BeautifulSoup"
      ]
     },
     "execution_count": 7,
     "metadata": {},
     "output_type": "execute_result"
    }
   ],
   "source": [
    "type(ps)"
   ]
  },
  {
   "cell_type": "code",
   "execution_count": 8,
   "metadata": {},
   "outputs": [],
   "source": [
    "english_stops = ['.', ',', ':', ';', \"!\", \"?\"]"
   ]
  },
  {
   "cell_type": "markdown",
   "metadata": {},
   "source": [
    "Далее, для работы понадобится открыть код страницы, которую мы хотим парсить. Для этого правой кнопки мыши нажимаем на страницу, затем выбираем просмотреть код, который затем должен появиться в правой стороне страницы."
   ]
  },
  {
   "cell_type": "code",
   "execution_count": 9,
   "metadata": {},
   "outputs": [
    {
     "data": {
      "text/plain": [
       "4"
      ]
     },
     "execution_count": 9,
     "metadata": {},
     "output_type": "execute_result"
    }
   ],
   "source": [
    "containers = ps.find_all(\"div\", {\"class\": \"content\"})\n",
    "len(containers)"
   ]
  },
  {
   "cell_type": "code",
   "execution_count": 10,
   "metadata": {},
   "outputs": [],
   "source": [
    "main = ps.find('div', {'class':'content'}).text"
   ]
  },
  {
   "cell_type": "code",
   "execution_count": 34,
   "metadata": {},
   "outputs": [
    {
     "data": {
      "text/plain": [
       "<div class=\"content\"><span style=\"font-size: 140%; line-height: 116%;\"><span style=\"font-weight: bold\">Молибог (Бабанина) Валентина Федоровна 87 лет, Москва, САО </span></span><br/><br/>23 февраля 2019 утром ушла из дома и не вернулась.<br/><br/><img alt=\"Изображение\" src=\"https://a.radikal.ru/a25/1902/cf/7fc69fa9371e.jpg\"/><br/><br/><span style=\"font-weight: bold\">Приметы:</span> рост 165 см, среднего телосложения, волосы тёмно-русые с проседью, глаза серо-голубые. <br/><span style=\"font-weight: bold\">Была одета:</span> Серое пальто с воротником из песца, чёрные брюки, серый свитер, чёрные сапоги до колен, чёрная вязаная шапочка.<br/><span style=\"font-weight: bold\">С собой:</span> пакет \"Пятерочка\", матерчатая сумка цвета хаки.<br/><span style=\"font-weight: bold\">Особые приметы:</span> немного горбится при ходьбе.<br/><br/><span style=\"font-weight: bold\"><a href=\"http://la-org.ru/images/2019/02/25a894fffebb13056d02668a936b1a061.jpg\" rel=\"nofollow\" target=\"_blank\">Ориентировка на печать</a></span><br/><span style=\"font-weight: bold\"><a href=\"http://la-org.ru/images/2019/02/25a894fffebb13056d02668a936b1a062.jpg\" rel=\"nofollow\" target=\"_blank\">Ориентировка на репост</a></span><br/><br/>--------------------------------------------------<br/><span style=\"text-decoration: line-through;\">СБОР: СЕЙЧАС!<br/>ШТАБ: Ленинградское шоссе, 63к1<br/><span style=\"font-weight: bold\">Координаты:</span><br/>N 55.865421 E 37.462245</span><br/><br/><span style=\"font-weight: bold\">Координатор:</span> Олег<br/><span style=\"font-weight: bold\">Инфорг:</span> Танчес Татьяна , Роща Мария 89260093544</div>"
      ]
     },
     "execution_count": 34,
     "metadata": {},
     "output_type": "execute_result"
    }
   ],
   "source": [
    "container = containers[0]\n",
    "containers[0]"
   ]
  },
  {
   "cell_type": "code",
   "execution_count": 12,
   "metadata": {},
   "outputs": [
    {
     "data": {
      "text/plain": [
       "'Изображение'"
      ]
     },
     "execution_count": 12,
     "metadata": {},
     "output_type": "execute_result"
    }
   ],
   "source": [
    "container.img[\"alt\"]  # проверили наличие или отсутствие изображения"
   ]
  },
  {
   "cell_type": "code",
   "execution_count": 13,
   "metadata": {},
   "outputs": [
    {
     "data": {
      "text/plain": [
       "[<span style=\"font-size: 140%; line-height: 116%;\"><span style=\"font-weight: bold\">Молибог (Бабанина) Валентина Федоровна 87 лет, Москва, САО </span></span>,\n",
       " <br/>,\n",
       " <br/>,\n",
       " '23 февраля 2019 утром ушла из дома и не вернулась.',\n",
       " <br/>,\n",
       " <br/>,\n",
       " <img alt=\"Изображение\" src=\"https://a.radikal.ru/a25/1902/cf/7fc69fa9371e.jpg\"/>,\n",
       " <br/>,\n",
       " <br/>,\n",
       " <span style=\"font-weight: bold\">Приметы:</span>,\n",
       " ' рост 165 см, среднего телосложения, волосы тёмно-русые с проседью, глаза серо-голубые. ',\n",
       " <br/>,\n",
       " <span style=\"font-weight: bold\">Была одета:</span>,\n",
       " ' Серое пальто с воротником из песца, чёрные брюки, серый свитер, чёрные сапоги до колен, чёрная вязаная шапочка.',\n",
       " <br/>,\n",
       " <span style=\"font-weight: bold\">С собой:</span>,\n",
       " ' пакет \"Пятерочка\", матерчатая сумка цвета хаки.',\n",
       " <br/>,\n",
       " <span style=\"font-weight: bold\">Особые приметы:</span>,\n",
       " ' немного горбится при ходьбе.',\n",
       " <br/>,\n",
       " <br/>,\n",
       " <span style=\"font-weight: bold\"><a href=\"http://la-org.ru/images/2019/02/25a894fffebb13056d02668a936b1a061.jpg\" rel=\"nofollow\" target=\"_blank\">Ориентировка на печать</a></span>,\n",
       " <br/>,\n",
       " <span style=\"font-weight: bold\"><a href=\"http://la-org.ru/images/2019/02/25a894fffebb13056d02668a936b1a062.jpg\" rel=\"nofollow\" target=\"_blank\">Ориентировка на репост</a></span>,\n",
       " <br/>,\n",
       " <br/>,\n",
       " '--------------------------------------------------',\n",
       " <br/>,\n",
       " <span style=\"text-decoration: line-through;\">СБОР: СЕЙЧАС!<br/>ШТАБ: Ленинградское шоссе, 63к1<br/><span style=\"font-weight: bold\">Координаты:</span><br/>N 55.865421 E 37.462245</span>,\n",
       " <br/>,\n",
       " <br/>,\n",
       " <span style=\"font-weight: bold\">Координатор:</span>,\n",
       " ' Олег',\n",
       " <br/>,\n",
       " <span style=\"font-weight: bold\">Инфорг:</span>,\n",
       " ' Танчес Татьяна , Роща Мария 89260093544']"
      ]
     },
     "execution_count": 13,
     "metadata": {},
     "output_type": "execute_result"
    }
   ],
   "source": [
    "contents = container.contents\n",
    "contents"
   ]
  },
  {
   "cell_type": "markdown",
   "metadata": {},
   "source": [
    "Код, чтобы достать телесложение"
   ]
  },
  {
   "cell_type": "code",
   "execution_count": 14,
   "metadata": {},
   "outputs": [
    {
     "data": {
      "text/plain": [
       "'среднего'"
      ]
     },
     "execution_count": 14,
     "metadata": {},
     "output_type": "execute_result"
    }
   ],
   "source": [
    "for string in contents:\n",
    "    if \"елосложени\" in string:\n",
    "        no_stops_string = ''.join([t for t in string if t not in english_stops])\n",
    "        tokens = word_tokenize(no_stops_string)\n",
    "for i in range(len(tokens)):\n",
    "    if \"елосложени\" in tokens[i]:\n",
    "        if tokens[i][-1] == \"я\":\n",
    "            body = tokens[i - 1]\n",
    "        else:\n",
    "            body = tokens[i + 1]\n",
    "body.lower()\n",
    "a = WordNetLemmatizer()\n",
    "a.lemmatize(body)"
   ]
  },
  {
   "cell_type": "code",
   "execution_count": 15,
   "metadata": {},
   "outputs": [
    {
     "data": {
      "text/plain": [
       "'среднего'"
      ]
     },
     "execution_count": 15,
     "metadata": {},
     "output_type": "execute_result"
    }
   ],
   "source": [
    "body"
   ]
  },
  {
   "cell_type": "markdown",
   "metadata": {},
   "source": [
    "Код, чтобы достать цвет волос"
   ]
  },
  {
   "cell_type": "code",
   "execution_count": 16,
   "metadata": {},
   "outputs": [
    {
     "data": {
      "text/plain": [
       "'тёмно-русые'"
      ]
     },
     "execution_count": 16,
     "metadata": {},
     "output_type": "execute_result"
    }
   ],
   "source": [
    "\n",
    "for string in contents:\n",
    "    if \"олосы\" in string:\n",
    "        no_stops_string_1 = ''.join([t for t in string if t not in english_stops])\n",
    "        tokens_1 = word_tokenize(no_stops_string_1)\n",
    "for i in range(len(tokens_1)):\n",
    "    if \"олосы\" in tokens_1[i]:\n",
    "        hair_colour = tokens_1[i + 1]\n",
    "hair_colour.lower()\n",
    "b = WordNetLemmatizer()\n",
    "b.lemmatize(hair_colour)"
   ]
  },
  {
   "cell_type": "code",
   "execution_count": 17,
   "metadata": {},
   "outputs": [
    {
     "data": {
      "text/plain": [
       "['рост',\n",
       " '165',\n",
       " 'см',\n",
       " 'среднего',\n",
       " 'телосложения',\n",
       " 'волосы',\n",
       " 'тёмно-русые',\n",
       " 'с',\n",
       " 'проседью',\n",
       " 'глаза',\n",
       " 'серо-голубые']"
      ]
     },
     "execution_count": 17,
     "metadata": {},
     "output_type": "execute_result"
    }
   ],
   "source": [
    "tokens_1"
   ]
  },
  {
   "cell_type": "markdown",
   "metadata": {},
   "source": [
    "Сделаем вспомогательные словари для следующего шага"
   ]
  },
  {
   "cell_type": "code",
   "execution_count": 18,
   "metadata": {},
   "outputs": [],
   "source": [
    "months_length = {\"янв\": 31, \"фев\": 28, \"мар\": 31, \"апр\": 30, \"май\": 31, \"июн\": 30, \"июл\": 31, \"авг\": 31, \"сен\": \"30\",\n",
    "                \"окт\": 31, \"ноя\": 30, \"дек\": 31}"
   ]
  },
  {
   "cell_type": "code",
   "execution_count": 19,
   "metadata": {},
   "outputs": [],
   "source": [
    "loss_find = {\"время пропажи\": \"\", \"время нахождения\": \"\"}"
   ]
  },
  {
   "cell_type": "markdown",
   "metadata": {},
   "source": [
    "Код, чтобы достать время пропажи"
   ]
  },
  {
   "cell_type": "code",
   "execution_count": 20,
   "metadata": {},
   "outputs": [],
   "source": [
    "for string in contents:\n",
    "    if \"2019\" in string:\n",
    "        tokeny = word_tokenize(string)\n",
    "        break\n",
    "lost_time = tokeny[tokeny.index(\"2019\") - 2] + \" \" + tokeny[tokeny.index(\"2019\") - 1] # здесь нужно придумать, как распространить это на все года\n",
    "    "
   ]
  },
  {
   "cell_type": "code",
   "execution_count": 21,
   "metadata": {},
   "outputs": [
    {
     "data": {
      "text/plain": [
       "'23 фев'"
      ]
     },
     "execution_count": 21,
     "metadata": {},
     "output_type": "execute_result"
    }
   ],
   "source": [
    "lost_time = lost_time.replace(re.search(r' \\w+', lost_time).group(), re.search(r' \\w{3}', lost_time).group())\n",
    "lost_time"
   ]
  },
  {
   "cell_type": "code",
   "execution_count": 22,
   "metadata": {},
   "outputs": [],
   "source": [
    "loss_find[\"время пропажи\"] = lost_time"
   ]
  },
  {
   "cell_type": "markdown",
   "metadata": {},
   "source": [
    "Код, чтобы достать время нахождения"
   ]
  },
  {
   "cell_type": "code",
   "execution_count": 23,
   "metadata": {},
   "outputs": [],
   "source": [
    "postbody = ps.find('div', {\"class\":\"notice\"}).text"
   ]
  },
  {
   "cell_type": "code",
   "execution_count": 24,
   "metadata": {},
   "outputs": [
    {
     "data": {
      "text/plain": [
       "'Последний раз редактировалось Инфорг 17 апр 2019, 18:12, всего редактировалось 4 раз(а).\\n\\t\\t\\t\\t\\t\\n\\t\\t\\t\\t'"
      ]
     },
     "execution_count": 24,
     "metadata": {},
     "output_type": "execute_result"
    }
   ],
   "source": [
    "postbody"
   ]
  },
  {
   "cell_type": "code",
   "execution_count": 25,
   "metadata": {},
   "outputs": [
    {
     "data": {
      "text/plain": [
       "'17 апр'"
      ]
     },
     "execution_count": 25,
     "metadata": {},
     "output_type": "execute_result"
    }
   ],
   "source": [
    "find_time = re.search(r'\\d{2} \\w+', str(postbody)).group()\n",
    "find_time"
   ]
  },
  {
   "cell_type": "code",
   "execution_count": 26,
   "metadata": {},
   "outputs": [],
   "source": [
    "if \"0\" in find_time:\n",
    "    find_time = find_time.replace(\"0\", \"\")"
   ]
  },
  {
   "cell_type": "code",
   "execution_count": 27,
   "metadata": {},
   "outputs": [],
   "source": [
    "loss_find[\"время нахождения\"] = find_time"
   ]
  },
  {
   "cell_type": "code",
   "execution_count": 28,
   "metadata": {},
   "outputs": [
    {
     "data": {
      "text/plain": [
       "{'время пропажи': '23 фев', 'время нахождения': '17 апр'}"
      ]
     },
     "execution_count": 28,
     "metadata": {},
     "output_type": "execute_result"
    }
   ],
   "source": [
    "loss_find"
   ]
  },
  {
   "cell_type": "markdown",
   "metadata": {},
   "source": [
    "# А теперь реализуем то, ради чего были найдены предыдущие два пункта: время поиска"
   ]
  },
  {
   "cell_type": "code",
   "execution_count": 29,
   "metadata": {},
   "outputs": [],
   "source": [
    "ml = list(months_length.keys())\n",
    "lt = re.search(r'\\w{3}', loss_find[\"время пропажи\"]).group()\n",
    "ft = re.search(r'\\w{3}', loss_find[\"время нахождения\"]).group()"
   ]
  },
  {
   "cell_type": "code",
   "execution_count": 31,
   "metadata": {},
   "outputs": [],
   "source": [
    "if lt == ft:\n",
    "    search_time = int(re.search(r'\\d+', loss_find[\"время нахождения\"]).group()) - int(re,search(r'\\d+', loss_find[\"время пропажи\"]).group())\n",
    "elif ml.index(ft) > ml.index(lt):\n",
    "    search_time = int(re.search(r'\\d+', loss_find[\"время нахождения\"]).group())\n",
    "    for i in range(ml.index(ft) - 1, ml.index(lt) - 1, -1):\n",
    "        if ml[i] != lt:\n",
    "            search_time += months_length[ml[i]]\n",
    "        else:\n",
    "            search_time += months_length[ml[i]] - int(re.search(r'\\d+', loss_find[\"время пропажи\"]).group())\n",
    "elif ml.index(ft) < ml.index(lt):\n",
    "    search_time = int(re.search(r'\\d+', loss_find[\"время нахождения\"]).group())\n",
    "    i = ml.index(ft) - 1\n",
    "    while i >= 0:\n",
    "        if ml[i] != lt:\n",
    "            search_time += months_length[ml[i]]\n",
    "        i -= 1\n",
    "    for j in range(len(ml) - 1, ml.index(lt) - 1, -1):\n",
    "        if ml[j] != lt:\n",
    "            search_time += months_length[ml[j]]\n",
    "        else:\n",
    "            search_time += months_length[ml[j]] - int(re.search(r'\\d+', loss_find[\"время пропажи\"]).group())\n",
    "        \n",
    "    \n",
    "\n",
    "            \n",
    "    \n",
    "        \n",
    "        "
   ]
  },
  {
   "cell_type": "code",
   "execution_count": 32,
   "metadata": {},
   "outputs": [
    {
     "data": {
      "text/plain": [
       "53"
      ]
     },
     "execution_count": 32,
     "metadata": {},
     "output_type": "execute_result"
    }
   ],
   "source": [
    "search_time"
   ]
  },
  {
   "cell_type": "code",
   "execution_count": 45,
   "metadata": {},
   "outputs": [
    {
     "data": {
      "text/plain": [
       "[<span style=\"font-size: 140%; line-height: 116%;\"><span style=\"font-weight: bold\">Молибог (Бабанина) Валентина Федоровна 87 лет, Москва, САО </span></span>,\n",
       " <br/>,\n",
       " <br/>,\n",
       " '23 февраля 2019 утром ушла из дома и не вернулась.',\n",
       " <br/>,\n",
       " <br/>,\n",
       " <img alt=\"Изображение\" src=\"https://a.radikal.ru/a25/1902/cf/7fc69fa9371e.jpg\"/>,\n",
       " <br/>,\n",
       " <br/>,\n",
       " <span style=\"font-weight: bold\">Приметы:</span>,\n",
       " ' рост 165 см, среднего телосложения, волосы тёмно-русые с проседью, глаза серо-голубые. ',\n",
       " <br/>,\n",
       " <span style=\"font-weight: bold\">Была одета:</span>,\n",
       " ' Серое пальто с воротником из песца, чёрные брюки, серый свитер, чёрные сапоги до колен, чёрная вязаная шапочка.',\n",
       " <br/>,\n",
       " <span style=\"font-weight: bold\">С собой:</span>,\n",
       " ' пакет \"Пятерочка\", матерчатая сумка цвета хаки.',\n",
       " <br/>,\n",
       " <span style=\"font-weight: bold\">Особые приметы:</span>,\n",
       " ' немного горбится при ходьбе.',\n",
       " <br/>,\n",
       " <br/>,\n",
       " <span style=\"font-weight: bold\"><a href=\"http://la-org.ru/images/2019/02/25a894fffebb13056d02668a936b1a061.jpg\" rel=\"nofollow\" target=\"_blank\">Ориентировка на печать</a></span>,\n",
       " <br/>,\n",
       " <span style=\"font-weight: bold\"><a href=\"http://la-org.ru/images/2019/02/25a894fffebb13056d02668a936b1a062.jpg\" rel=\"nofollow\" target=\"_blank\">Ориентировка на репост</a></span>,\n",
       " <br/>,\n",
       " <br/>,\n",
       " '--------------------------------------------------',\n",
       " <br/>,\n",
       " <span style=\"text-decoration: line-through;\">СБОР: СЕЙЧАС!<br/>ШТАБ: Ленинградское шоссе, 63к1<br/><span style=\"font-weight: bold\">Координаты:</span><br/>N 55.865421 E 37.462245</span>,\n",
       " <br/>,\n",
       " <br/>,\n",
       " <span style=\"font-weight: bold\">Координатор:</span>,\n",
       " ' Олег',\n",
       " <br/>,\n",
       " <span style=\"font-weight: bold\">Инфорг:</span>,\n",
       " ' Танчес Татьяна , Роща Мария 89260093544']"
      ]
     },
     "execution_count": 45,
     "metadata": {},
     "output_type": "execute_result"
    }
   ],
   "source": [
    "containers2 = ps.findAll(\"div\", {\"class\":\"content\"})[0].contents\n",
    "containers2"
   ]
  },
  {
   "cell_type": "code",
   "execution_count": 44,
   "metadata": {},
   "outputs": [
    {
     "ename": "AttributeError",
     "evalue": "ResultSet object has no attribute 'contents'. You're probably treating a list of items like a single item. Did you call find_all() when you meant to call find()?",
     "output_type": "error",
     "traceback": [
      "\u001b[0;31m---------------------------------------------------------------------------\u001b[0m",
      "\u001b[0;31mAttributeError\u001b[0m                            Traceback (most recent call last)",
      "\u001b[0;32m<ipython-input-44-f7b4d20945e1>\u001b[0m in \u001b[0;36m<module>\u001b[0;34m\u001b[0m\n\u001b[0;32m----> 1\u001b[0;31m \u001b[0mcontainers\u001b[0m\u001b[0;34m.\u001b[0m\u001b[0mcontents\u001b[0m\u001b[0;34m\u001b[0m\u001b[0;34m\u001b[0m\u001b[0m\n\u001b[0m",
      "\u001b[0;32m/anaconda3/lib/python3.7/site-packages/bs4/element.py\u001b[0m in \u001b[0;36m__getattr__\u001b[0;34m(self, key)\u001b[0m\n\u001b[1;32m   1882\u001b[0m     \u001b[0;32mdef\u001b[0m \u001b[0m__getattr__\u001b[0m\u001b[0;34m(\u001b[0m\u001b[0mself\u001b[0m\u001b[0;34m,\u001b[0m \u001b[0mkey\u001b[0m\u001b[0;34m)\u001b[0m\u001b[0;34m:\u001b[0m\u001b[0;34m\u001b[0m\u001b[0;34m\u001b[0m\u001b[0m\n\u001b[1;32m   1883\u001b[0m         raise AttributeError(\n\u001b[0;32m-> 1884\u001b[0;31m             \u001b[0;34m\"ResultSet object has no attribute '%s'. You're probably treating a list of items like a single item. Did you call find_all() when you meant to call find()?\"\u001b[0m \u001b[0;34m%\u001b[0m \u001b[0mkey\u001b[0m\u001b[0;34m\u001b[0m\u001b[0;34m\u001b[0m\u001b[0m\n\u001b[0m\u001b[1;32m   1885\u001b[0m         )\n",
      "\u001b[0;31mAttributeError\u001b[0m: ResultSet object has no attribute 'contents'. You're probably treating a list of items like a single item. Did you call find_all() when you meant to call find()?"
     ]
    }
   ],
   "source": [
    "containers.contents"
   ]
  },
  {
   "cell_type": "code",
   "execution_count": null,
   "metadata": {},
   "outputs": [],
   "source": []
  }
 ],
 "metadata": {
  "kernelspec": {
   "display_name": "Python 3",
   "language": "python",
   "name": "python3"
  },
  "language_info": {
   "codemirror_mode": {
    "name": "ipython",
    "version": 3
   },
   "file_extension": ".py",
   "mimetype": "text/x-python",
   "name": "python",
   "nbconvert_exporter": "python",
   "pygments_lexer": "ipython3",
   "version": "3.7.1"
  }
 },
 "nbformat": 4,
 "nbformat_minor": 2
}
