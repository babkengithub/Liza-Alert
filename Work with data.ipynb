{
 "cells": [
  {
   "cell_type": "code",
   "execution_count": null,
   "metadata": {},
   "outputs": [],
   "source": [
    "import bs4\n",
    "from urllib.request import urlopen as urll\n",
    "from bs4 import BeautifulSoup as soup\n",
    "import requests\n",
    "from bs4 import BeautifulSoup\n",
    "import pandas as pd\n",
    "import re\n",
    "import seaborn as sns\n",
    "import datetime # сейчас я пасрю с 1 странице поиска, можно забить юрл, чтобы понимать , где это находит\n",
    "from pandas.plotting import register_matplotlib_converters\n",
    "register_matplotlib_converters()\n",
    "from datetime import datetime\n",
    "from numpy import mean\n",
    "import numpy as np\n",
    "pd.set_option(\"display.max_rows\", 1000)\n",
    "pd.set_option('display.max_colwidth', -1)"
   ]
  },
  {
   "cell_type": "code",
   "execution_count": null,
   "metadata": {},
   "outputs": [],
   "source": [
    "df = pd.read_excel(\"BigTable8430rows.xlsx\")"
   ]
  },
  {
   "cell_type": "code",
   "execution_count": null,
   "metadata": {},
   "outputs": [],
   "source": [
    "df"
   ]
  },
  {
   "cell_type": "code",
   "execution_count": null,
   "metadata": {},
   "outputs": [],
   "source": [
    "a = df[df['Возраст'] != \"Коля объебался\"]\n",
    "dfnew = a[a['Рост(Slava)'] != \"Er\"]"
   ]
  },
  {
   "cell_type": "code",
   "execution_count": null,
   "metadata": {},
   "outputs": [],
   "source": [
    "plott = dfnew[['Возраст','Рост(Slava)','Репосты_вк','Репосты_одн','Искатели','Готовые']]\n",
    "plott"
   ]
  },
  {
   "cell_type": "code",
   "execution_count": null,
   "metadata": {},
   "outputs": [],
   "source": [
    "import matplotlib.pyplot as plt\n",
    "z = list(plott[\"Репосты_одн\"])\n",
    "u = list(plott[\"Искатели\"])\n",
    "v = list(plott[\"Готовые\"]) "
   ]
  },
  {
   "cell_type": "code",
   "execution_count": null,
   "metadata": {},
   "outputs": [],
   "source": [
    "plt.plot(plott['Искатели'],plott['Репосты_вк'],markersize = 10)\n",
    "plt.title('График Искатели и Репостов_вк')\n",
    "plt.xlabel('Искатели')\n",
    "plt.ylabel('Репосты_вк')\n"
   ]
  },
  {
   "cell_type": "code",
   "execution_count": null,
   "metadata": {},
   "outputs": [],
   "source": [
    "plt.hist(v)\n",
    "plt.title('График Готовых')\n",
    "plt.ylabel('Количество анкет с н числом готовых')\n",
    "plt.xlabel('Готовые')"
   ]
  },
  {
   "cell_type": "code",
   "execution_count": null,
   "metadata": {},
   "outputs": [],
   "source": [
    "plt.hist(u)\n",
    "plt.title('График Искателей')\n",
    "plt.ylabel('Количество анкет с н числом искателей')\n",
    "plt.xlabel('Искатели')"
   ]
  },
  {
   "cell_type": "code",
   "execution_count": null,
   "metadata": {},
   "outputs": [],
   "source": [
    "\n",
    "plt.hist(z)\n",
    "plt.title('График Репостов_од')\n",
    "plt.ylabel('Количество анкет с числом репостов')\n",
    "plt.xlabel('Репосты')"
   ]
  },
  {
   "cell_type": "code",
   "execution_count": null,
   "metadata": {},
   "outputs": [],
   "source": [
    "w = list(plott[\"Репосты_вк\"])\n",
    "plt.hist(w)\n",
    "plt.title('График Репостов_вк ')\n",
    "plt.ylabel('Количество анкет с числом репостов')\n",
    "plt.xlabel('Репосты')"
   ]
  },
  {
   "cell_type": "code",
   "execution_count": null,
   "metadata": {},
   "outputs": [],
   "source": [
    "plt.plot(plott['Возраст'],plott['Репосты_вк'],'o',markersize = 20)\n",
    "plt.title('График Возраст и Репостов_вк')\n",
    "plt.xlabel('Возраст')\n",
    "plt.ylabel('Репосты_вк')\n"
   ]
  },
  {
   "cell_type": "code",
   "execution_count": null,
   "metadata": {},
   "outputs": [],
   "source": [
    "plt.plot(plott['Рост(Slava)'],plott['Репосты_вк'],'o',markersize = 20)\n",
    "plt.title('График Возраст и Репостов_вк')\n",
    "plt.ylabel('Рост')\n",
    "plt.xlabel('Репосты_вк')"
   ]
  },
  {
   "cell_type": "code",
   "execution_count": null,
   "metadata": {},
   "outputs": [],
   "source": [
    "plt.plot(plott['Возраст'],plott['Рост(Slava)'],'o')\n",
    "plt.title('График Возраст и Рост')\n",
    "plt.xlabel('Возраст')\n",
    "plt.ylabel('Рост')\n"
   ]
  },
  {
   "cell_type": "code",
   "execution_count": null,
   "metadata": {},
   "outputs": [],
   "source": [
    "plt.plot(plott['Рост(Slava)'],plott['Возраст'],'o')\n",
    "plt.title('График Возраст и Рост')\n",
    "plt.ylabel('Возраст')\n",
    "plt.xlabel('Рост')"
   ]
  },
  {
   "cell_type": "code",
   "execution_count": null,
   "metadata": {},
   "outputs": [],
   "source": [
    "plt.scatter(plott['Рост(Slava)'],plott['Возраст'])"
   ]
  },
  {
   "cell_type": "code",
   "execution_count": null,
   "metadata": {},
   "outputs": [],
   "source": [
    "s = list(map(int, list(plott[\"Возраст\"])))\n"
   ]
  },
  {
   "cell_type": "code",
   "execution_count": null,
   "metadata": {},
   "outputs": [],
   "source": [
    "plt.hist(s)\n",
    "plt.title('График Возраста ')\n",
    "plt.ylabel('Количество анкет с определенным возрастом')\n",
    "plt.xlabel('Возраст')"
   ]
  },
  {
   "cell_type": "code",
   "execution_count": null,
   "metadata": {},
   "outputs": [],
   "source": [
    "q = list(map(int, list(plott['Рост(Slava)'])))\n",
    "plt.hist(q)\n",
    "plt.title('График Роста ')\n",
    "plt.ylabel('Количество анкет с определенным ростом')\n",
    "plt.xlabel('Рост')"
   ]
  },
  {
   "cell_type": "code",
   "execution_count": null,
   "metadata": {},
   "outputs": [],
   "source": [
    "from plotly.offline import init_notebook_mode, iplot\n",
    "from plotly.graph_objs import Surface, Scatter3d\n",
    "init_notebook_mode()\n"
   ]
  },
  {
   "cell_type": "code",
   "execution_count": null,
   "metadata": {},
   "outputs": [],
   "source": [
    "iplot([Scatter3d(x=s, y=q, z=v, mode='markers', marker={'color': 'red'})])"
   ]
  },
  {
   "cell_type": "code",
   "execution_count": null,
   "metadata": {},
   "outputs": [],
   "source": [
    "iplot([{'x': s, 'y': q, 'mode': 'lines'}])"
   ]
  }
 ],
 "metadata": {
  "kernelspec": {
   "display_name": "Python 3",
   "language": "python",
   "name": "python3"
  },
  "language_info": {
   "codemirror_mode": {
    "name": "ipython",
    "version": 3
   },
   "file_extension": ".py",
   "mimetype": "text/x-python",
   "name": "python",
   "nbconvert_exporter": "python",
   "pygments_lexer": "ipython3",
   "version": "3.7.3"
  }
 },
 "nbformat": 4,
 "nbformat_minor": 2
}
