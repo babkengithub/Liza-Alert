{
 "cells": [
  {
   "cell_type": "code",
   "execution_count": 46,
   "metadata": {
    "scrolled": true
   },
   "outputs": [
    {
     "name": "stdout",
     "output_type": "stream",
     "text": [
      "<title>Жив, Орлов Александр Иванович  64 года, Кубинка 2 Одинцов • Форум lizaalert.org</title>\n",
      "присутствует\n",
      "живой\n",
      "мужской\n",
      "64\n",
      "4\n",
      "\n",
      "20 сен 2017 03:17\n",
      "v c\n",
      "здоров\n",
      "<title>Жив Зварыч Александр Владимирович 61год г.Санкт-Петербург • Форум lizaalert.org</title>\n",
      "отсутствует\n",
      "живой\n",
      "мужской\n",
      "61\n",
      "2\n",
      "\n",
      "<function data at 0x000002B054D3F510>\n",
      "178\n",
      "требуется мед. помощь\n",
      "<title>Жива Нарышкина Ирина Анатольевна 28 лет, МО, Зеленоград • Форум lizaalert.org</title>\n",
      "присутствует\n",
      "живой\n",
      "женский\n",
      "28\n",
      "21\n",
      "20 дек 2016 02:14\n",
      "162\n",
      "здоров\n",
      "<title>Погиб Каратецкий Алексей Сергевич 57 лет, Санкт-Петербург • Форум lizaalert.org</title>\n",
      "присутствует\n",
      "мертвый\n",
      "мужской\n",
      "57\n",
      "2\n",
      "\n",
      "<function data at 0x000002B054D3F510>\n",
      "175\n",
      "здоров\n",
      "<title>Жив Садиков Владислав 9 лет, г. Санкт-Петербург • Форум lizaalert.org</title>\n",
      "отсутствует\n",
      "живой\n",
      "мужской\n",
      " 9\n",
      "40\n",
      "<function data at 0x000002B054D3F510>\n",
      "130\n",
      "здоров\n",
      "<title>Жива Рыбакова (Лаврентьева) Лидия Григорьевна 79 лет, р-н • Форум lizaalert.org</title>\n",
      "присутствует\n",
      "живой\n",
      "женский\n",
      "79\n",
      "25\n",
      "06 дек 2017 02:23\n",
      "160\n",
      "требуется мед. помощь\n",
      "<title>Пропала Портняжкина А.А, 14 лет,  Санкт-Петербург • Форум lizaalert.org</title>\n",
      "присутствует\n",
      "ищется\n",
      "sboi\n",
      "14\n",
      "s=\n",
      "<function data at 0x000002B054D3F510>\n",
      "160\n",
      "здоров\n",
      "<title>Погиб Андреев Сергей Юрьевич, 56 лет, Одинцовский р-н, ромаш • Форум lizaalert.org</title>\n",
      "присутствует\n",
      "мертвый\n",
      "мужской\n",
      "56\n",
      "26\n",
      "30 май 2017 19:41\n",
      "176\n",
      "здоров\n",
      "<title>Живы Левина Алла Викторовна +1 , Можайский р-н, Рузский р • Форум lizaalert.org</title>\n",
      "присутствует\n",
      "живой\n",
      "несколько человек\n",
      "le\n",
      "2\n",
      "\n",
      "13 июл 2017 19:55\n",
      "v c\n",
      "здоров\n",
      "<title>Жив Старков Сергей Николаевич 49 лет г Москва • Форум lizaalert.org</title>\n",
      "отсутствует\n",
      "живой\n",
      "мужской\n",
      "49\n",
      "40\n",
      "09 янв 2017 09:40\n",
      "180\n",
      "здоров\n",
      "<title>Жива Нарышкина Ирина Анатольевна 28 лет, МО, Зеленоград • Форум lizaalert.org</title>\n",
      "присутствует\n",
      "живой\n",
      "женский\n",
      "28\n",
      "21\n",
      "20 дек 2016 02:14\n",
      "162\n",
      "здоров\n"
     ]
    },
    {
     "data": {
      "text/html": [
       "<div>\n",
       "<style scoped>\n",
       "    .dataframe tbody tr th:only-of-type {\n",
       "        vertical-align: middle;\n",
       "    }\n",
       "\n",
       "    .dataframe tbody tr th {\n",
       "        vertical-align: top;\n",
       "    }\n",
       "\n",
       "    .dataframe thead th {\n",
       "        text-align: right;\n",
       "    }\n",
       "</style>\n",
       "<table border=\"1\" class=\"dataframe\">\n",
       "  <thead>\n",
       "    <tr style=\"text-align: right;\">\n",
       "      <th></th>\n",
       "      <th>рост</th>\n",
       "      <th>возраст</th>\n",
       "      <th>пол</th>\n",
       "      <th>фото</th>\n",
       "      <th>состояние</th>\n",
       "      <th>постов</th>\n",
       "      <th>дата нахождения</th>\n",
       "      <th>медицинское состояние</th>\n",
       "    </tr>\n",
       "  </thead>\n",
       "  <tbody>\n",
       "    <tr>\n",
       "      <th>0</th>\n",
       "      <td>162</td>\n",
       "      <td>28</td>\n",
       "      <td>женский</td>\n",
       "      <td>присутствует</td>\n",
       "      <td>живой</td>\n",
       "      <td>21</td>\n",
       "      <td>20 дек 2016 02:14</td>\n",
       "      <td>здоров</td>\n",
       "    </tr>\n",
       "    <tr>\n",
       "      <th>1</th>\n",
       "      <td>162</td>\n",
       "      <td>28</td>\n",
       "      <td>женский</td>\n",
       "      <td>присутствует</td>\n",
       "      <td>живой</td>\n",
       "      <td>21</td>\n",
       "      <td>20 дек 2016 02:14</td>\n",
       "      <td>здоров</td>\n",
       "    </tr>\n",
       "    <tr>\n",
       "      <th>2</th>\n",
       "      <td>162</td>\n",
       "      <td>28</td>\n",
       "      <td>женский</td>\n",
       "      <td>присутствует</td>\n",
       "      <td>живой</td>\n",
       "      <td>21</td>\n",
       "      <td>20 дек 2016 02:14</td>\n",
       "      <td>здоров</td>\n",
       "    </tr>\n",
       "    <tr>\n",
       "      <th>3</th>\n",
       "      <td>162</td>\n",
       "      <td>28</td>\n",
       "      <td>женский</td>\n",
       "      <td>присутствует</td>\n",
       "      <td>живой</td>\n",
       "      <td>21</td>\n",
       "      <td>20 дек 2016 02:14</td>\n",
       "      <td>здоров</td>\n",
       "    </tr>\n",
       "    <tr>\n",
       "      <th>4</th>\n",
       "      <td>162</td>\n",
       "      <td>28</td>\n",
       "      <td>женский</td>\n",
       "      <td>присутствует</td>\n",
       "      <td>живой</td>\n",
       "      <td>21</td>\n",
       "      <td>20 дек 2016 02:14</td>\n",
       "      <td>здоров</td>\n",
       "    </tr>\n",
       "    <tr>\n",
       "      <th>5</th>\n",
       "      <td>162</td>\n",
       "      <td>28</td>\n",
       "      <td>женский</td>\n",
       "      <td>присутствует</td>\n",
       "      <td>живой</td>\n",
       "      <td>21</td>\n",
       "      <td>20 дек 2016 02:14</td>\n",
       "      <td>здоров</td>\n",
       "    </tr>\n",
       "    <tr>\n",
       "      <th>6</th>\n",
       "      <td>162</td>\n",
       "      <td>28</td>\n",
       "      <td>женский</td>\n",
       "      <td>присутствует</td>\n",
       "      <td>живой</td>\n",
       "      <td>21</td>\n",
       "      <td>20 дек 2016 02:14</td>\n",
       "      <td>здоров</td>\n",
       "    </tr>\n",
       "    <tr>\n",
       "      <th>7</th>\n",
       "      <td>162</td>\n",
       "      <td>28</td>\n",
       "      <td>женский</td>\n",
       "      <td>присутствует</td>\n",
       "      <td>живой</td>\n",
       "      <td>21</td>\n",
       "      <td>20 дек 2016 02:14</td>\n",
       "      <td>здоров</td>\n",
       "    </tr>\n",
       "    <tr>\n",
       "      <th>8</th>\n",
       "      <td>162</td>\n",
       "      <td>28</td>\n",
       "      <td>женский</td>\n",
       "      <td>присутствует</td>\n",
       "      <td>живой</td>\n",
       "      <td>21</td>\n",
       "      <td>20 дек 2016 02:14</td>\n",
       "      <td>здоров</td>\n",
       "    </tr>\n",
       "    <tr>\n",
       "      <th>9</th>\n",
       "      <td>162</td>\n",
       "      <td>28</td>\n",
       "      <td>женский</td>\n",
       "      <td>присутствует</td>\n",
       "      <td>живой</td>\n",
       "      <td>21</td>\n",
       "      <td>20 дек 2016 02:14</td>\n",
       "      <td>здоров</td>\n",
       "    </tr>\n",
       "  </tbody>\n",
       "</table>\n",
       "</div>"
      ],
      "text/plain": [
       "  рост возраст      пол          фото состояние постов    дата нахождения  \\\n",
       "0  162      28  женский  присутствует     живой     21  20 дек 2016 02:14   \n",
       "1  162      28  женский  присутствует     живой     21  20 дек 2016 02:14   \n",
       "2  162      28  женский  присутствует     живой     21  20 дек 2016 02:14   \n",
       "3  162      28  женский  присутствует     живой     21  20 дек 2016 02:14   \n",
       "4  162      28  женский  присутствует     живой     21  20 дек 2016 02:14   \n",
       "5  162      28  женский  присутствует     живой     21  20 дек 2016 02:14   \n",
       "6  162      28  женский  присутствует     живой     21  20 дек 2016 02:14   \n",
       "7  162      28  женский  присутствует     живой     21  20 дек 2016 02:14   \n",
       "8  162      28  женский  присутствует     живой     21  20 дек 2016 02:14   \n",
       "9  162      28  женский  присутствует     живой     21  20 дек 2016 02:14   \n",
       "\n",
       "  медицинское состояние  \n",
       "0                здоров  \n",
       "1                здоров  \n",
       "2                здоров  \n",
       "3                здоров  \n",
       "4                здоров  \n",
       "5                здоров  \n",
       "6                здоров  \n",
       "7                здоров  \n",
       "8                здоров  \n",
       "9                здоров  "
      ]
     },
     "execution_count": 46,
     "metadata": {},
     "output_type": "execute_result"
    }
   ],
   "source": [
    "import numpy as np\n",
    "import pandas as pd\n",
    "import re\n",
    "import bs4\n",
    "from urllib.request import urlopen as uReq\n",
    "from bs4 import BeautifulSoup as soup\n",
    "\n",
    "my_url = 'https://lizaalert.org/forum/viewtopic.php?f=207&t=13895'\n",
    "#my_url = 'https://lizaalert.org/forum/viewtopic.php?f=120&t=23928'\n",
    "#my_url = 'https://lizaalert.org/forum/viewtopic.php?f=120&t=23870'\n",
    "#my_url = 'https://lizaalert.org/forum/viewtopic.php?f=120&t=23888'\n",
    "#my_url = 'https://lizaalert.org/forum/viewtopic.php?f=120&t=24848'\n",
    "#my_url = 'https://lizaalert.org/forum/viewtopic.php?f=278&t=17946'\n",
    "#my_url = 'https://lizaalert.org/forum/viewtopic.php?f=278&t=16803'\n",
    "#my_url = 'https://lizaalert.org/forum/viewtopic.php?f=278&t=16825'\n",
    "#my_url = 'https://lizaalert.org/forum/viewtopic.php?f=278&t=15587'\n",
    "#my_url = 'https://lizaalert.org/forum/viewtopic.php?f=278&t=13990'\n",
    "#my_url = 'https://lizaalert.org/forum/viewtopic.php?f=278&t=15023'\n",
    "#my_url = 'https://lizaalert.org/forum/viewtopic.php?f=278&t=15418'\n",
    "#my_url = 'https://lizaalert.org/forum/viewtopic.php?f=278&t=14037'\n",
    "#my_url = 'https://lizaalert.org/forum/viewtopic.php?f=278&t=14031'\n",
    "#my_url = 'https://lizaalert.org/forum/viewtopic.php?f=278&t=14139'\n",
    "#my_url = 'https://lizaalert.org/forum/viewtopic.php?f=120&t=25101'\n",
    "#my_url = 'https://lizaalert.org/forum/viewtopic.php?f=120&t=23673'\n",
    "#my_url = 'https://lizaalert.org/forum/viewtopic.php?f=120&t=23928'!!!\n",
    "#my_url = 'https://lizaalert.org/forum/viewtopic.php?f=120&t=25066'\n",
    "#my_url = 'https://lizaalert.org/forum/viewtopic.php?f=120&t=25139'\n",
    "#my_url = 'https://lizaalert.org/forum/viewtopic.php?f=189&t=4292' \n",
    "#my_url = 'https://lizaalert.org/forum/viewtopic.php?f=189&t=23654'\n",
    "#!my_url = 'https://lizaalert.org/forum/viewtopic.php?f=187&t=8495'\n",
    "#my_url = 'https://lizaalert.org/forum/viewtopic.php?f=187&t=18999'\n",
    "#my_url = 'https://lizaalert.org/forum/viewtopic.php?f=187&t=18845'\n",
    "#my_url = 'https://lizaalert.org/forum/viewtopic.php?f=123&t=23194'\n",
    "#my_url = 'https://lizaalert.org/forum/viewtopic.php?f=287&t=23834'\n",
    "\n",
    "\n",
    "my_list = ['https://lizaalert.org/forum/viewtopic.php?f=278&t=16825',\n",
    "'https://lizaalert.org/forum/viewtopic.php?f=120&t=23928',\n",
    "'https://lizaalert.org/forum/viewtopic.php?f=207&t=13895',\n",
    "'https://lizaalert.org/forum/viewtopic.php?f=120&t=23888',\n",
    "'https://lizaalert.org/forum/viewtopic.php?f=120&t=24848',\n",
    "'https://lizaalert.org/forum/viewtopic.php?f=278&t=17946',\n",
    "'https://lizaalert.org/forum/viewtopic.php?f=120&t=23870',\n",
    "'https://lizaalert.org/forum/viewtopic.php?f=278&t=15023',\n",
    "'https://lizaalert.org/forum/viewtopic.php?f=278&t=15587',\n",
    "'https://lizaalert.org/forum/viewtopic.php?f=278&t=13990',\n",
    "'https://lizaalert.org/forum/viewtopic.php?f=207&t=13895']\n",
    "\n",
    "def photo1(photo, containers11):\n",
    "    if containers11.find(\"Изображение\") != -1:\n",
    "        photo =  'присутствует'\n",
    "    else:\n",
    "        photo = 'отсутствует'\n",
    "    return photo\n",
    "\n",
    "def state1(state, title1):\n",
    "    if title1.find(\"Жив\") != -1 or title1.find(\"ЖИВ\") != -1:\n",
    "        state = \"живой\"\n",
    "    elif title1.find(\"Пропал\") != -1 or title1.find(\"ПРОПАЛ\") != -1:\n",
    "        state = 'ищется'\n",
    "    else:\n",
    "        state = \"мертвый\"\n",
    "    return state\n",
    "\n",
    "def sex1(sex, title1):\n",
    "    if title1.find(\"Жив \") != -1 or title1.find(\"Жив,\") != -1 or title1.find(\"ЖИВ \") != -1 or title1.find(\"жив \") != -1 or title1.find(\"Погиб \") != -1 or title1.find(\"ПОГИБ \") != -1:\n",
    "        sex = 'мужской'\n",
    "    elif title1.find(\"Жива\") != -1 or title1.find(\"ЖИВА\") != -1 or title1.find(\"Погибла\") != -1 or title1.find(\"ПОГИБЛА\") != -1:\n",
    "        sex = 'женский'\n",
    "    elif title1.find(\"Живы\") != -1 or title1.find(\"ЖИВЫ\") != -1 or title1.find(\"Погибли\") != -1 or title1.find(\"ПОГИБЛИ\") != -1:\n",
    "        sex = 'несколько человек'\n",
    "    else:\n",
    "        sex = 'sboi'\n",
    "    return sex\n",
    "\n",
    "def age11(age1, title1):\n",
    "    c = title1.find(\"лет\")\n",
    "    if title1.find(\"лет\") == -1:\n",
    "        c = title1.find(\"года\")\n",
    "        if title1.find(\"года\") == -1:\n",
    "            c = title1.find(\"год\")\n",
    "    if title1[c-1] ==' ':\n",
    "        age = list()\n",
    "        age.append(title1[c-3])\n",
    "        age.append(title1[c-2])\n",
    "    else:\n",
    "        age = list()\n",
    "        age.append(title1[c-2])\n",
    "        age.append(title1[c-1])\n",
    "\n",
    "    if age[0] == ' ':\n",
    "        age1 = age[1]\n",
    "    else:\n",
    "        age1 = age\n",
    "\n",
    "    age1 = age[0] + age[1]  \n",
    "    return age1\n",
    "\n",
    "def posts1(posts, containers22):\n",
    "    a = containers22.find(\"Сообщений\")\n",
    "    posts = containers22[a+11] + containers22[a+12]\n",
    "    return posts\n",
    "\n",
    "def data1(data, containers88):\n",
    "    d = containers88.find(\"Инфорг\")\n",
    "    if d == -1:\n",
    "        data1, data2 = 'не','редактировали'\n",
    "    else:\n",
    "        data1 = containers88[d+11] + containers88[d+12] + containers88[d+13] + containers88[d+14] + containers88[d+15] + containers88[d+16] + containers88[d+17] + containers88[d+18] + containers88[d+19] + containers88[d+20] + containers88[d+21]\n",
    "        data2 = containers88[d+24] + containers88[d+25] + containers88[d+26] + containers88[d+27] + containers88[d+28]\n",
    "        data = data1 + ' ' + data2\n",
    "    return data\n",
    "\n",
    "def height(height, containers11):\n",
    "    b = containers11.find(\"Рост\")\n",
    "    if containers11.find(\"Рост\") == -1:\n",
    "        b = containers11.find(\"рост\") \n",
    "    if containers11[b+4] == \":\":\n",
    "        height = containers11[b+6] + containers11[b+7] + containers11[b+8]\n",
    "    else:\n",
    "        height = containers11[b+5] + containers11[b+6] + containers11[b+7]\n",
    "    return height\n",
    "\n",
    "def help1(help1, containers11):\n",
    "    if containers11.find(\"В МЕДИЦИНСКОЙ ПОМОЩИ\") == -1 and containers11.find(\"в медицинской помощи\") == -1:\n",
    "        help1 = 'здоров'\n",
    "    else:\n",
    "        help1 = 'требуется мед. помощь'\n",
    "    return help1\n",
    "\n",
    "for element in my_list:\n",
    "    my_url = element  \n",
    "    uClient = uReq(my_url)\n",
    "    page_html = uClient.read()\n",
    "    uClient.close()\n",
    "    page_soup = soup(page_html, \"html.parser\")\n",
    "    title = page_soup.title\n",
    "    title1 = str(title)\n",
    "    print(title)\n",
    "    containers2 = page_soup.findAll(\"div\", {\"class\":\"pagination\"})\n",
    "    containers22 = str(containers2)\n",
    "    containers8 = page_soup.findAll(\"div\", {\"class\":\"notice\"})\n",
    "    containers88 = str(containers8)   \n",
    "    print(photo1(photo, containers11))\n",
    "    print(state1(state, title1))\n",
    "    print(sex1(sex, title1))\n",
    "    print(age11(age1, title1))\n",
    "    print(posts1(posts, containers22))\n",
    "    print(data1(data, containers88))\n",
    "    containers = page_soup.findAll(\"div\", {\"class\":\"content\"})\n",
    "    containers11 = str(containers)\n",
    "    print(height(height, containers11))\n",
    "    print(help1(help1, containers11))\n",
    "    df1 = pd.DataFrame(columns = ['рост', 'возраст', 'пол', 'фото', 'состояние', 'постов', 'дата нахождения', 'медицинское состояние'])\n",
    "    for i in range(0, 10):\n",
    "        df1.loc[i] = [height(height, containers11), age11(age1, title1), sex1(sex, title1), photo1(photo, containers11), state1(state, title1), posts1(posts, containers22), data1(data, containers88), help1(help1, containers11)]\n",
    "\n",
    "df1\n",
    "\n",
    "#if re.search(r'\\bрост\\b', 'рост'):\n",
    " #print(\"Привет\")\n",
    "    \n",
    "#s = 'hi my name is ryan, and i am new to python and would like to learn more'\n",
    "#m = re.search('name\\s\\w+\\s(\\w+)',s)\n",
    "#m.group(1)\n",
    "\n",
    "#f.write(title1 + title2 + \"\\n\")\n",
    "#f.close()\n",
    "\n",
    "#print(containers2)\n",
    "#print(containers)\n"
   ]
  },
  {
   "cell_type": "markdown",
   "metadata": {},
   "source": [
    "Этот код для идентицикации фото-портрета:"
   ]
  },
  {
   "cell_type": "code",
   "execution_count": 35,
   "metadata": {},
   "outputs": [
    {
     "data": {
      "text/plain": [
       "'отсутствует'"
      ]
     },
     "execution_count": 35,
     "metadata": {},
     "output_type": "execute_result"
    }
   ],
   "source": [
    "def photo(photo, containers11):\n",
    "    if containers11.find(\"Изображение\") != -1:\n",
    "        photo =  'присутствует'\n",
    "    else:\n",
    "        photo = 'отсутствует'\n",
    "    return photo\n",
    "\n",
    "\n",
    "photo(photo, containers11)"
   ]
  },
  {
   "cell_type": "markdown",
   "metadata": {},
   "source": [
    "Это код для идентификации состояния пропавшего человека:"
   ]
  },
  {
   "cell_type": "code",
   "execution_count": 36,
   "metadata": {},
   "outputs": [
    {
     "data": {
      "text/plain": [
       "'живой'"
      ]
     },
     "execution_count": 36,
     "metadata": {},
     "output_type": "execute_result"
    }
   ],
   "source": [
    "def state(state, title1):\n",
    "    if title1.find(\"Жив\") != -1 or title1.find(\"ЖИВ\") != -1:\n",
    "        state = \"живой\"\n",
    "    elif title1.find(\"Пропал\") != -1 or title1.find(\"ПРОПАЛ\") != -1:\n",
    "        state = 'ищется'\n",
    "    else:\n",
    "        state = \"мертвый\"\n",
    "    return state\n",
    "\n",
    "state(state, title1)"
   ]
  },
  {
   "cell_type": "markdown",
   "metadata": {},
   "source": [
    "Это код для идентицикации пола пропавшего человека/ людей:"
   ]
  },
  {
   "cell_type": "code",
   "execution_count": 37,
   "metadata": {
    "scrolled": true
   },
   "outputs": [
    {
     "data": {
      "text/plain": [
       "'несколько человек'"
      ]
     },
     "execution_count": 37,
     "metadata": {},
     "output_type": "execute_result"
    }
   ],
   "source": [
    "def sex(sex, title1):\n",
    "    if title1.find(\"Жив \") != -1 or title1.find(\"Жив,\") != -1 or title1.find(\"ЖИВ \") != -1 or title1.find(\"жив \") != -1 or title1.find(\"Погиб \") != -1 or title1.find(\"ПОГИБ \") != -1:\n",
    "        sex = 'мужской'\n",
    "    elif title1.find(\"Жива\") != -1 or title1.find(\"ЖИВА\") != -1 or title1.find(\"Погибла\") != -1 or title1.find(\"ПОГИБЛА\") != -1:\n",
    "        sex = 'женский'\n",
    "    elif title1.find(\"Живы\") != -1 or title1.find(\"ЖИВЫ\") != -1 or title1.find(\"Погибли\") != -1 or title1.find(\"ПОГИБЛИ\") != -1:\n",
    "        sex = 'несколько человек'\n",
    "    else:\n",
    "        sex = 'sboi'\n",
    "    return sex\n",
    "\n",
    "sex(sex, title1)"
   ]
  },
  {
   "cell_type": "markdown",
   "metadata": {},
   "source": [
    "Это код для идентицикации возраста:"
   ]
  },
  {
   "cell_type": "code",
   "execution_count": 39,
   "metadata": {},
   "outputs": [
    {
     "name": "stdout",
     "output_type": "stream",
     "text": [
      "-1\n",
      "<title>Живы Левина Алла Викторовна +1 , Можайский р-н, Рузский р • Форум lizaalert.org</title>\n"
     ]
    },
    {
     "data": {
      "text/plain": [
       "'le'"
      ]
     },
     "execution_count": 39,
     "metadata": {},
     "output_type": "execute_result"
    }
   ],
   "source": [
    "def age1(age1, title1):\n",
    "    c = title1.find(\"лет\")\n",
    "    if title1.find(\"лет\") == -1:\n",
    "        c = title1.find(\"года\")\n",
    "        if title1.find(\"года\") == -1:\n",
    "            c = title1.find(\"год\")\n",
    "    if title1[c-1] ==' ':\n",
    "        age = list()\n",
    "        age.append(title1[c-3])\n",
    "        age.append(title1[c-2])\n",
    "    else:\n",
    "        age = list()\n",
    "        age.append(title1[c-2])\n",
    "        age.append(title1[c-1])\n",
    "\n",
    "    if age[0] == ' ':\n",
    "        age1 = age[1]\n",
    "    else:\n",
    "        age1 = age\n",
    "\n",
    "    age1 = age[0] + age[1]  \n",
    "    return age1\n",
    "    \n",
    "print(title1.find(\"лет\"))\n",
    "print(title1)\n",
    "age1(age1, title1)"
   ]
  },
  {
   "cell_type": "markdown",
   "metadata": {},
   "source": [
    "Этот код определяет количество сообщений в теме (активность поста)"
   ]
  },
  {
   "cell_type": "code",
   "execution_count": 40,
   "metadata": {},
   "outputs": [
    {
     "data": {
      "text/plain": [
       "'2\\n'"
      ]
     },
     "execution_count": 40,
     "metadata": {},
     "output_type": "execute_result"
    }
   ],
   "source": [
    "def posts(posts, containers22):\n",
    "    a = containers22.find(\"Сообщений\")\n",
    "    posts = containers22[a+11] + containers22[a+12]\n",
    "    return posts\n",
    "\n",
    "posts(posts, containers22)"
   ]
  },
  {
   "cell_type": "markdown",
   "metadata": {},
   "source": [
    "Этот код определяет дату последнего редактирования поста (нахождения человека):"
   ]
  },
  {
   "cell_type": "code",
   "execution_count": 41,
   "metadata": {
    "scrolled": true
   },
   "outputs": [
    {
     "data": {
      "text/plain": [
       "'13 июл 2017 19:55'"
      ]
     },
     "execution_count": 41,
     "metadata": {},
     "output_type": "execute_result"
    }
   ],
   "source": [
    "def data(data, containers88):\n",
    "    d = containers88.find(\"Инфорг\")\n",
    "    if d == -1:\n",
    "        data1, data2 = 'не','редактировали'\n",
    "    else:\n",
    "        data1 = containers88[d+11] + containers88[d+12] + containers88[d+13] + containers88[d+14] + containers88[d+15] + containers88[d+16] + containers88[d+17] + containers88[d+18] + containers88[d+19] + containers88[d+20] + containers88[d+21]\n",
    "        data2 = containers88[d+24] + containers88[d+25] + containers88[d+26] + containers88[d+27] + containers88[d+28]\n",
    "        data = data1 + ' ' + data2\n",
    "    return data\n",
    "\n",
    "data(data, containers88)"
   ]
  },
  {
   "cell_type": "markdown",
   "metadata": {},
   "source": [
    "Это код для роста:"
   ]
  },
  {
   "cell_type": "code",
   "execution_count": 42,
   "metadata": {},
   "outputs": [
    {
     "data": {
      "text/plain": [
       "'v c'"
      ]
     },
     "execution_count": 42,
     "metadata": {},
     "output_type": "execute_result"
    }
   ],
   "source": [
    "def height(height, containers11):\n",
    "    b = containers11.find(\"Рост\")\n",
    "    if containers11.find(\"Рост\") == -1:\n",
    "        b = containers11.find(\"рост\") \n",
    "    if containers11[b+4] == \":\":\n",
    "        height = containers11[b+6] + containers11[b+7] + containers11[b+8]\n",
    "    else:\n",
    "        height = containers11[b+5] + containers11[b+6] + containers11[b+7]\n",
    "    return height\n",
    "\n",
    "height(height, containers11)"
   ]
  },
  {
   "cell_type": "markdown",
   "metadata": {},
   "source": [
    "Это код для идентификации состояния здоровья пропавшего человека:"
   ]
  },
  {
   "cell_type": "code",
   "execution_count": 43,
   "metadata": {},
   "outputs": [
    {
     "data": {
      "text/plain": [
       "'здоров'"
      ]
     },
     "execution_count": 43,
     "metadata": {},
     "output_type": "execute_result"
    }
   ],
   "source": [
    "def help1(help1, containers11):\n",
    "    if containers11.find(\"В МЕДИЦИНСКОЙ ПОМОЩИ\") == -1 and containers11.find(\"в медицинской помощи\") == -1:\n",
    "        help1 = 'здоров'\n",
    "    else:\n",
    "        help1 = 'требуется мед. помощь'\n",
    "    return help1\n",
    "\n",
    "help1(help1, containers11)"
   ]
  },
  {
   "cell_type": "markdown",
   "metadata": {},
   "source": [
    "TRY EXCEL"
   ]
  },
  {
   "cell_type": "code",
   "execution_count": null,
   "metadata": {},
   "outputs": [],
   "source": [
    "filename = \"post7.csv\"\n",
    "f = open(filename, \"w\")\n",
    "headers = \"age1, height, posts\\n\"\n",
    "f.write(headers)"
   ]
  },
  {
   "cell_type": "markdown",
   "metadata": {},
   "source": [
    "Так, осталось выпарсить (хотя бы ублюдочно):\n",
    "1) время пропажи\n",
    "2) телосложение\n",
    "3) цвет глаз\n",
    "4) волосы\n",
    "5) одежда???\n",
    "\n",
    "А сейчас PPPPANDA, PPPAND, PPPPPPPANDA:"
   ]
  },
  {
   "cell_type": "code",
   "execution_count": null,
   "metadata": {},
   "outputs": [],
   "source": [
    "df = pd.DataFrame({'сообщения к посту': [posts], 'рост': [height], 'возраст': [age1], 'пол': [sex], 'состояние': [state], 'здоровье': [help1], 'фото': [photo]})\n",
    "df\n",
    "\n",
    "df.to_csv('pondaass.csv', index=True)\n",
    "print(df)"
   ]
  },
  {
   "cell_type": "code",
   "execution_count": null,
   "metadata": {},
   "outputs": [],
   "source": []
  },
  {
   "cell_type": "code",
   "execution_count": null,
   "metadata": {},
   "outputs": [],
   "source": []
  },
  {
   "cell_type": "code",
   "execution_count": null,
   "metadata": {},
   "outputs": [],
   "source": []
  }
 ],
 "metadata": {
  "kernelspec": {
   "display_name": "Python 3",
   "language": "python",
   "name": "python3"
  },
  "language_info": {
   "codemirror_mode": {
    "name": "ipython",
    "version": 3
   },
   "file_extension": ".py",
   "mimetype": "text/x-python",
   "name": "python",
   "nbconvert_exporter": "python",
   "pygments_lexer": "ipython3",
   "version": "3.7.3"
  }
 },
 "nbformat": 4,
 "nbformat_minor": 2
}
