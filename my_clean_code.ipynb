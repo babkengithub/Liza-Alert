{
 "cells": [
  {
   "cell_type": "code",
   "execution_count": 1,
   "metadata": {
    "scrolled": true
   },
   "outputs": [
    {
     "name": "stdout",
     "output_type": "stream",
     "text": [
      "<title>Жива Нарышкина Ирина Анатольевна 28 лет, МО, Зеленоград • Форум lizaalert.org</title>\n",
      "[] ЗДЕСЯЯЯ\n",
      "<class 'bs4.element.ResultSet'>\n"
     ]
    }
   ],
   "source": [
    "import re\n",
    "import bs4\n",
    "from urllib.request import urlopen as uReq\n",
    "from bs4 import BeautifulSoup as soup\n",
    "\n",
    "my_url = 'https://lizaalert.org/forum/viewtopic.php?f=207&t=13895'\n",
    "#my_url = 'https://lizaalert.org/forum/viewtopic.php?f=120&t=23928'\n",
    "#my_url = 'https://lizaalert.org/forum/viewtopic.php?f=120&t=23870'\n",
    "#my_url = 'https://lizaalert.org/forum/viewtopic.php?f=120&t=23888'\n",
    "#my_url = 'https://lizaalert.org/forum/viewtopic.php?f=120&t=24848'\n",
    "#my_url = 'https://lizaalert.org/forum/viewtopic.php?f=278&t=17946'\n",
    "#my_url = 'https://lizaalert.org/forum/viewtopic.php?f=278&t=16803'\n",
    "#my_url = 'https://lizaalert.org/forum/viewtopic.php?f=278&t=16825'\n",
    "#my_url = 'https://lizaalert.org/forum/viewtopic.php?f=278&t=15587'\n",
    "#my_url = 'https://lizaalert.org/forum/viewtopic.php?f=278&t=13990'\n",
    "#my_url = 'https://lizaalert.org/forum/viewtopic.php?f=278&t=15023'\n",
    "#my_url = 'https://lizaalert.org/forum/viewtopic.php?f=278&t=15418'\n",
    "#my_url = 'https://lizaalert.org/forum/viewtopic.php?f=278&t=14037'\n",
    "#my_url = 'https://lizaalert.org/forum/viewtopic.php?f=278&t=14031'\n",
    "#my_url = 'https://lizaalert.org/forum/viewtopic.php?f=278&t=14139'\n",
    "#my_url = 'https://lizaalert.org/forum/viewtopic.php?f=120&t=25101'\n",
    "#my_url = 'https://lizaalert.org/forum/viewtopic.php?f=120&t=23673'\n",
    "#my_url = 'https://lizaalert.org/forum/viewtopic.php?f=120&t=23928'!!!\n",
    "#my_url = 'https://lizaalert.org/forum/viewtopic.php?f=120&t=25066'\n",
    "#my_url = 'https://lizaalert.org/forum/viewtopic.php?f=120&t=25139'\n",
    "#my_url = 'https://lizaalert.org/forum/viewtopic.php?f=189&t=4292' \n",
    "#my_url = 'https://lizaalert.org/forum/viewtopic.php?f=189&t=23654'\n",
    "#!my_url = 'https://lizaalert.org/forum/viewtopic.php?f=187&t=8495'\n",
    "#my_url = 'https://lizaalert.org/forum/viewtopic.php?f=187&t=18999'\n",
    "#my_url = 'https://lizaalert.org/forum/viewtopic.php?f=187&t=18845'\n",
    "#my_url = 'https://lizaalert.org/forum/viewtopic.php?f=123&t=23194'\n",
    "#my_url = 'https://lizaalert.org/forum/viewtopic.php?f=287&t=23834'\n",
    "\n",
    "uClient = uReq(my_url)\n",
    "page_html = uClient.read()\n",
    "uClient.close()\n",
    "\n",
    "page_soup = soup(page_html, \"html.parser\")\n",
    "title = page_soup.title\n",
    "print(title)\n",
    "title1 = str(title)\n",
    "\n",
    "filename = \"post7.csv\"\n",
    "f = open(filename, \"w\")\n",
    "headers = \"title1, title2\\n\"\n",
    "title2 = \"hallo\"\n",
    "f.write(\"title1, title2\\n\")\n",
    "\n",
    "containers7 = page_soup.findAll(\"div\", {\"class\":\"topictitle\"})\n",
    "print((containers7), \"ЗДЕСЯЯЯ\")\n",
    "\n",
    "containers = page_soup.findAll(\"div\", {\"class\":\"content\"})\n",
    "print(type(containers))\n",
    "containers11 = str(containers)\n",
    "\n",
    "#if re.search(r'\\bрост\\b', 'рост'):\n",
    " #print(\"Привет\")\n",
    "    \n",
    "s = 'hi my name is ryan, and i am new to python and would like to learn more'\n",
    "m = re.search('name\\s\\w+\\s(\\w+)',s)\n",
    "m.group(1)\n",
    "\n",
    "f.write(title1 + title2 + \"\\n\")\n",
    "f.close()\n",
    "\n",
    "#print(containers2)\n",
    "#print(containers)\n"
   ]
  },
  {
   "cell_type": "markdown",
   "metadata": {},
   "source": [
    "Этот код для идентицикации фото-портрета:"
   ]
  },
  {
   "cell_type": "code",
   "execution_count": 2,
   "metadata": {},
   "outputs": [
    {
     "name": "stdout",
     "output_type": "stream",
     "text": [
      "присутствует\n"
     ]
    }
   ],
   "source": [
    "if containers11.find(\"Изображение\") != -1:\n",
    "    photo = 'присутствует'\n",
    "else:\n",
    "    photo = 'отсутствует'\n",
    "print(photo)"
   ]
  },
  {
   "cell_type": "markdown",
   "metadata": {},
   "source": [
    "Это код для идентификации состояния пропавшего человека:"
   ]
  },
  {
   "cell_type": "code",
   "execution_count": 3,
   "metadata": {},
   "outputs": [
    {
     "name": "stdout",
     "output_type": "stream",
     "text": [
      "живой\n"
     ]
    }
   ],
   "source": [
    "if title1.find(\"Жив\") != -1 or title1.find(\"ЖИВ\") != -1:\n",
    "    sostoyanie = \"живой\"\n",
    "elif title1.find(\"Пропал\") != -1 or title1.find(\"ПРОПАЛ\") != -1:\n",
    "    sostoyanie = 'ищется'\n",
    "else:\n",
    "    sostoyanie = \"мертвый\"\n",
    "print(sostoyanie)"
   ]
  },
  {
   "cell_type": "markdown",
   "metadata": {},
   "source": [
    "Это код для идентицикации пола пропавшего человека/ людей:"
   ]
  },
  {
   "cell_type": "code",
   "execution_count": 4,
   "metadata": {
    "scrolled": true
   },
   "outputs": [
    {
     "name": "stdout",
     "output_type": "stream",
     "text": [
      "женский\n"
     ]
    }
   ],
   "source": [
    "if title1.find(\"Жив \") != -1 or title1.find(\"Жив,\") != -1 or title1.find(\"ЖИВ \") != -1 or title1.find(\"жив \") != -1 or title1.find(\"Погиб \") != -1 or title1.find(\"ПОГИБ \") != -1:\n",
    "    sex = 'мужской'\n",
    "elif title1.find(\"Жива\") != -1 or title1.find(\"ЖИВА\") != -1 or title1.find(\"Погибла\") != -1 or title1.find(\"ПОГИБЛА\") != -1:\n",
    "    sex = 'женский'\n",
    "elif title1.find(\"Живы\") != -1 or title1.find(\"ЖИВЫ\") != -1 or title1.find(\"Погибли\") != -1 or title1.find(\"ПОГИБЛИ\") != -1:\n",
    "    sex = 'несколько человек'\n",
    "else:\n",
    "    print('sboi')\n",
    "print(sex)"
   ]
  },
  {
   "cell_type": "markdown",
   "metadata": {},
   "source": [
    "Это код для идентицикации возраста:"
   ]
  },
  {
   "cell_type": "code",
   "execution_count": 5,
   "metadata": {},
   "outputs": [
    {
     "name": "stdout",
     "output_type": "stream",
     "text": [
      "28\n"
     ]
    }
   ],
   "source": [
    "c = title1.find(\"лет\")\n",
    "if title1.find(\"лет\") == -1:\n",
    "    c = title1.find(\"года\")\n",
    "    if title1.find(\"года\") == -1:\n",
    "        c = title1.find(\"год\")\n",
    "if title1[c-1] ==' ':\n",
    "    age = list()\n",
    "    age.append(title1[c-3])\n",
    "    age.append(title1[c-2])\n",
    "else:\n",
    "    age = list()\n",
    "    age.append(title1[c-2])\n",
    "    age.append(title1[c-1])\n",
    "\n",
    "if age[0] == ' ':\n",
    "    age1 = age[1]\n",
    "else:\n",
    "    age1 = age\n",
    "\n",
    "age1 = age[0] + age[1]  \n",
    "print(age1)"
   ]
  },
  {
   "cell_type": "markdown",
   "metadata": {},
   "source": [
    "Этот код определяет количество сообщений в теме (активность поста)"
   ]
  },
  {
   "cell_type": "code",
   "execution_count": 6,
   "metadata": {},
   "outputs": [
    {
     "name": "stdout",
     "output_type": "stream",
     "text": [
      "21\n"
     ]
    }
   ],
   "source": [
    "containers2 = page_soup.findAll(\"div\", {\"class\":\"pagination\"})\n",
    "containers22 = str(containers2)\n",
    "a = containers22.find(\"Сообщений\")\n",
    "posts = containers22[a+11] + containers22[a+12]\n",
    "print(posts)"
   ]
  },
  {
   "cell_type": "markdown",
   "metadata": {},
   "source": [
    "Этот код определяет дату последнего редактирования поста (нахождения человека):"
   ]
  },
  {
   "cell_type": "code",
   "execution_count": 11,
   "metadata": {
    "scrolled": true
   },
   "outputs": [
    {
     "name": "stdout",
     "output_type": "stream",
     "text": [
      "20 дек 2016 02:14\n",
      "<class 'str'>\n"
     ]
    }
   ],
   "source": [
    "containers8 = page_soup.findAll(\"div\", {\"class\":\"notice\"})\n",
    "containers88 = str(containers8)\n",
    "d = containers88.find(\"Инфорг\")\n",
    "if d == -1:\n",
    "    data1, data2 = 'не','редактировали'\n",
    "else:\n",
    "    data1 = containers88[d+11] + containers88[d+12] + containers88[d+13] + containers88[d+14] + containers88[d+15] + containers88[d+16] + containers88[d+17] + containers88[d+18] + containers88[d+19] + containers88[d+20] + containers88[d+21]\n",
    "    data2 = containers88[d+24] + containers88[d+25] + containers88[d+26] + containers88[d+27] + containers88[d+28]\n",
    "print(data1, data2)\n",
    "print(type(data1))"
   ]
  },
  {
   "cell_type": "markdown",
   "metadata": {},
   "source": [
    "Это код для роста:"
   ]
  },
  {
   "cell_type": "code",
   "execution_count": 8,
   "metadata": {},
   "outputs": [
    {
     "name": "stdout",
     "output_type": "stream",
     "text": [
      "<class 'bs4.element.ResultSet'>\n",
      "162\n",
      "<class 'str'>\n"
     ]
    }
   ],
   "source": [
    "containers = page_soup.findAll(\"div\", {\"class\":\"content\"})\n",
    "print(type(containers))\n",
    "containers11 = str(containers)\n",
    "b = containers11.find(\"Рост\")\n",
    "\n",
    "if containers11.find(\"Рост\") == -1:\n",
    "   b = containers11.find(\"рост\") \n",
    "\n",
    "if containers11[b+4] == \":\":\n",
    "        height = containers11[b+6] + containers11[b+7] + containers11[b+8]\n",
    "else:\n",
    "        height = containers11[b+5] + containers11[b+6] + containers11[b+7]\n",
    "print(height)\n",
    "print(type(height))"
   ]
  },
  {
   "cell_type": "markdown",
   "metadata": {},
   "source": [
    "Это код для идентификации состояния здоровья пропавшего человека:"
   ]
  },
  {
   "cell_type": "code",
   "execution_count": 9,
   "metadata": {},
   "outputs": [
    {
     "name": "stdout",
     "output_type": "stream",
     "text": [
      "-1\n",
      "здоров\n"
     ]
    }
   ],
   "source": [
    "print(containers11.find(\"В МЕДИЦИНСКОЙ ПОМОЩИ\"))\n",
    "if containers11.find(\"В МЕДИЦИНСКОЙ ПОМОЩИ\") == -1 and containers11.find(\"в медицинской помощи\") == -1:\n",
    "    help1 = 'здоров'\n",
    "else:\n",
    "    help1 = 'требуется мед. помощь'\n",
    "print(help1)"
   ]
  },
  {
   "cell_type": "markdown",
   "metadata": {},
   "source": [
    "TRY EXCEL"
   ]
  },
  {
   "cell_type": "code",
   "execution_count": 10,
   "metadata": {},
   "outputs": [
    {
     "data": {
      "text/plain": [
       "20"
      ]
     },
     "execution_count": 10,
     "metadata": {},
     "output_type": "execute_result"
    }
   ],
   "source": [
    "filename = \"post7.csv\"\n",
    "f = open(filename, \"w\")\n",
    "headers = \"age1, height, posts\\n\"\n",
    "f.write(headers)"
   ]
  },
  {
   "cell_type": "code",
   "execution_count": null,
   "metadata": {},
   "outputs": [],
   "source": []
  },
  {
   "cell_type": "code",
   "execution_count": null,
   "metadata": {},
   "outputs": [],
   "source": []
  },
  {
   "cell_type": "code",
   "execution_count": null,
   "metadata": {},
   "outputs": [],
   "source": []
  },
  {
   "cell_type": "code",
   "execution_count": null,
   "metadata": {},
   "outputs": [],
   "source": []
  }
 ],
 "metadata": {
  "kernelspec": {
   "display_name": "Python 3",
   "language": "python",
   "name": "python3"
  },
  "language_info": {
   "codemirror_mode": {
    "name": "ipython",
    "version": 3
   },
   "file_extension": ".py",
   "mimetype": "text/x-python",
   "name": "python",
   "nbconvert_exporter": "python",
   "pygments_lexer": "ipython3",
   "version": "3.7.3"
  }
 },
 "nbformat": 4,
 "nbformat_minor": 2
}
