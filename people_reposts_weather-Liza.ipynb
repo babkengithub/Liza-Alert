{
 "cells": [
  {
   "cell_type": "code",
   "execution_count": 1,
   "metadata": {},
   "outputs": [
    {
     "name": "stderr",
     "output_type": "stream",
     "text": [
      "[nltk_data] Downloading package punkt to\n",
      "[nltk_data]     C:\\Users\\nikzo\\AppData\\Roaming\\nltk_data...\n",
      "[nltk_data]   Package punkt is already up-to-date!\n"
     ]
    },
    {
     "data": {
      "text/plain": [
       "True"
      ]
     },
     "execution_count": 1,
     "metadata": {},
     "output_type": "execute_result"
    }
   ],
   "source": [
    "import numpy as np\n",
    "import pandas as pd\n",
    "import re\n",
    "import bs4\n",
    "from urllib.request import urlopen as uReq\n",
    "from bs4 import BeautifulSoup as soup\n",
    "from scrapy import Selector\n",
    "from nltk import word_tokenize\n",
    "import nltk\n",
    "nltk.download('punkt') #winlocker"
   ]
  },
  {
   "cell_type": "code",
   "execution_count": 29,
   "metadata": {},
   "outputs": [
    {
     "name": "stdout",
     "output_type": "stream",
     "text": [
      "<div class=\"content\"><span style=\"font-weight: bold\"><span style=\"color: #0000BF\">резерв</span></span></div>\n",
      "<div class=\"content\"><span style=\"font-weight: bold\"><span style=\"color: #0000BF\">резерв</span></span></div>\n",
      "['<', 'div', 'class=', \"''\", 'content', \"''\", '>', '<', 'span', 'style=', \"''\", 'font-weight', ':', 'bold', \"''\", '>', '<', 'span', 'style=', \"''\", 'color', ':', '#', '0000BF', \"''\", '>', 'резерв', '<', '/span', '>', '<', '/span', '>', '<', '/div', '>']\n",
      "rezerv!!! - уже нашли походу\n"
     ]
    }
   ],
   "source": [
    "import collections\n",
    "tokenizer = list()\n",
    "clean_searchers = []\n",
    "list_a = []\n",
    "tokenz = []\n",
    "url = 'https://lizaalert.org/forum/viewtopic.php?f=276&t=25613' #reserv\n",
    "#url = 'https://lizaalert.org/forum/viewtopic.php?f=276&t=24778'\n",
    "#url = 'https://lizaalert.org/forum/viewtopic.php?f=276&t=24603'\n",
    "#url = 'https://lizaalert.org/forum/viewtopic.php?f=276&t=25533'\n",
    "#url = 'https://lizaalert.org/forum/viewtopic.php?f=276&t=24691'  \n",
    "uClient = uReq(url)\n",
    "page_html = uClient.read()\n",
    "uClient.close()\n",
    "page_soup = soup(page_html, \"html.parser\")\n",
    "    #print(len(page_soup.findAll(\"div\", {\"class\":\"content\"})))\n",
    "    #print(page_soup.findAll(\"div\", {\"class\":\"content\"})[1])\n",
    "    #print(page_soup.findAll(\"div\", {\"class\":\"content\"})[5].extract())\n",
    "content2 = str(page_soup.findAll(\"div\", {\"class\":\"content\"})[1])\n",
    "print(page_soup.findAll(\"div\", {\"class\":\"content\"})[1].extract())\n",
    "english_stops = []\n",
    "no_stops_string = ''.join([t for t in content2 if t not in english_stops])\n",
    "print(no_stops_string)\n",
    "tokens = word_tokenize(no_stops_string)\n",
    "print(tokens)\n",
    "\n",
    "if tokens.count('br/') == 0:\n",
    "    print('rezerv!!! - уже нашли походу')\n",
    "else:\n",
    "    print(tokens.count('br/')) #1) не учитывает лишние энтеры (но их мало); 2) не учитывает +1; 3) не учитывает повторы"
   ]
  },
  {
   "cell_type": "markdown",
   "metadata": {},
   "source": [
    "Словарь для wmo_id\n",
    "з.ы. еще всю Азию: ДВ, Сибирь, Урал!"
   ]
  },
  {
   "cell_type": "code",
   "execution_count": 7,
   "metadata": {},
   "outputs": [],
   "source": [
    "spravka = dict()\n",
    "spravka ={\n",
    "    'Moscow': 27612,\n",
    "    'Saint-Petersburg': 26063,\n",
    "    'Belgorod': 34214,\n",
    "    'Bryansk': 26898,\n",
    "    'Vladimir': 27532,\n",
    "    'Voronezh': 34123,\n",
    "    'Ivanovo': 27347,\n",
    "    'Kalyga': 'empty',\n",
    "    'Kostroma': 27333,\n",
    "    'Kursk': 34009,\n",
    "    'Lipetsk': 27930,\n",
    "    'Orel': 27906,\n",
    "    'Ryazan': 27730,\n",
    "    'Smolensk': 26781,\n",
    "    'Tambov': 27947,\n",
    "    'Tver':27402,\n",
    "    'Tula': 27719,\n",
    "    'Yaroslavl': 27331,\n",
    "    'Vologda': 27037,\n",
    "    'Syktyvkar': 23804,\n",
    "    'Murmansk': 23804,\n",
    "    'Pskov': 26258,\n",
    "    'Volgograd': 34561,\n",
    "    'Krasnodar': 34927,\n",
    "    'Rostov': 34730,\n",
    "    'Sevastopol': 33991,\n",
    "    'Ufa': 28722,\n",
    "    'Kirov': 27199,\n",
    "    'Yoshkar-Ola': 27485,\n",
    "    'Saransk': 27760,\n",
    "    'Nizhny Novgorod': 27459,\n",
    "    'Penza': 27962,\n",
    "    'Perm': 28224,\n",
    "    'Samara': 28900,\n",
    "    'Saratov': 34172,\n",
    "    'Kazan': 27595,\n",
    "    'Udmutruia': 'empty',\n",
    "    'Ulyanovsk': 27785,\n",
    "    'Cheboksary': 27581,\n",
    "    'Orenburg': 35121,\n",
    "    'Stavrapol': 34949,\n",
    "}"
   ]
  },
  {
   "cell_type": "code",
   "execution_count": null,
   "metadata": {},
   "outputs": [],
   "source": []
  }
 ],
 "metadata": {
  "kernelspec": {
   "display_name": "Python 3",
   "language": "python",
   "name": "python3"
  },
  "language_info": {
   "codemirror_mode": {
    "name": "ipython",
    "version": 3
   },
   "file_extension": ".py",
   "mimetype": "text/x-python",
   "name": "python",
   "nbconvert_exporter": "python",
   "pygments_lexer": "ipython3",
   "version": "3.7.3"
  }
 },
 "nbformat": 4,
 "nbformat_minor": 2
}
