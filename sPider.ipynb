{
 "cells": [
  {
   "cell_type": "code",
   "execution_count": 9,
   "metadata": {},
   "outputs": [],
   "source": [
    "import scrapy\n",
    "from scrapy.crawler import CrawlerProcess"
   ]
  },
  {
   "cell_type": "code",
   "execution_count": 10,
   "metadata": {},
   "outputs": [],
   "source": [
    "class LizaDno(scrapy.Spider):\n",
    "    name = \"dnichaviy kod\""
   ]
  },
  {
   "cell_type": "code",
   "execution_count": 14,
   "metadata": {},
   "outputs": [],
   "source": [
    "def regions(self):\n",
    "    urls = [\"https://lizaalert.org/forum/viewforum.php?f=179\"] #Центральный регион\n",
    "    for url in urls:\n",
    "        yield scrapy.Request( url=url, callback=self.oblast)"
   ]
  },
  {
   "cell_type": "code",
   "execution_count": 15,
   "metadata": {},
   "outputs": [],
   "source": [
    "def oblast(self,response):\n",
    "    oblast = response.css('dl.icon > dt > a::attr(href)').extract()\n",
    "    new_oblast = list()\n",
    "    for i in oblast:\n",
    "        m = i.replace(\"./\", \"https://lizaalert.org/forum/\")\n",
    "        new_oblast.append(m)\n",
    "    oblast_css = new_oblast # Все url областей в центральном регионе\n",
    "    for url in oblast_css:\n",
    "        yield response.follow( url=url, callback=self.man)"
   ]
  },
  {
   "cell_type": "code",
   "execution_count": 16,
   "metadata": {},
   "outputs": [],
   "source": [
    "def man(self, response):\n",
    "    man = sel.css('dl.icon > dt > a::attr(href)').extract()\n",
    "    new_man=list()\n",
    "    for i in man:\n",
    "        m = i.replace(\"./\", \"https://lizaalert.org/forum/\")\n",
    "        new_man.append(m)\n",
    "    man_css = new_man # все url людей\n",
    "    for url in man_css:\n",
    "        yield response.follow( url=url, callback=self.parse)"
   ]
  },
  {
   "cell_type": "code",
   "execution_count": 17,
   "metadata": {},
   "outputs": [],
   "source": [
    "def parse(self, response):\n",
    "    man_descr = response.css('div.content').xpath('./span[@style=\"font-size: 140%; line-height: 116%;\"]/span[@style=\"font-weight: bold\"]').extract()\n",
    "    yield man_descr"
   ]
  },
  {
   "cell_type": "code",
   "execution_count": null,
   "metadata": {},
   "outputs": [],
   "source": []
  }
 ],
 "metadata": {
  "kernelspec": {
   "display_name": "Python 3",
   "language": "python",
   "name": "python3"
  },
  "language_info": {
   "codemirror_mode": {
    "name": "ipython",
    "version": 3
   },
   "file_extension": ".py",
   "mimetype": "text/x-python",
   "name": "python",
   "nbconvert_exporter": "python",
   "pygments_lexer": "ipython3",
   "version": "3.7.1"
  }
 },
 "nbformat": 4,
 "nbformat_minor": 2
}
