{
 "cells": [
  {
   "cell_type": "code",
   "execution_count": 1,
   "metadata": {},
   "outputs": [],
   "source": [
    "from urllib.request import urlopen as urll  # Этой строкой посылаем запрос на возможность получения url страниц.Request обязательна, она дает возможность получить страницу в Интернете\n",
    "from bs4 import BeautifulSoup  # bs4 содержит не только суп, поэтому необходимо именно его загрузить.Сам суп даёт возможность работать с html файлами, то есть превращать более читабельнй вид\n",
    "import re\n",
    "import requests\n",
    "import pandas as pd\n",
    "\n",
    "page = urll('https://lizaalert.org/forum/viewtopic.php?f=171&t=5626')\n",
    "soup = BeautifulSoup(page)\n"
   ]
  },
  {
   "cell_type": "code",
   "execution_count": 2,
   "metadata": {},
   "outputs": [
    {
     "data": {
      "text/html": [
       "<div>\n",
       "<style scoped>\n",
       "    .dataframe tbody tr th:only-of-type {\n",
       "        vertical-align: middle;\n",
       "    }\n",
       "\n",
       "    .dataframe tbody tr th {\n",
       "        vertical-align: top;\n",
       "    }\n",
       "\n",
       "    .dataframe thead th {\n",
       "        text-align: right;\n",
       "    }\n",
       "</style>\n",
       "<table border=\"1\" class=\"dataframe\">\n",
       "  <thead>\n",
       "    <tr style=\"text-align: right;\">\n",
       "      <th></th>\n",
       "      <th>Возраст</th>\n",
       "      <th>Рост</th>\n",
       "      <th>Фото</th>\n",
       "      <th>Пол</th>\n",
       "      <th>Жив/Мертв</th>\n",
       "    </tr>\n",
       "  </thead>\n",
       "  <tbody>\n",
       "  </tbody>\n",
       "</table>\n",
       "</div>"
      ],
      "text/plain": [
       "Empty DataFrame\n",
       "Columns: [Возраст, Рост, Фото, Пол, Жив/Мертв]\n",
       "Index: []"
      ]
     },
     "execution_count": 2,
     "metadata": {},
     "output_type": "execute_result"
    }
   ],
   "source": [
    "df = pd.DataFrame({\n",
    "    'Возраст' : list,\n",
    "    'Рост' : list,\n",
    "    'Фото': [],\n",
    "    'Пол' : [],\n",
    "    'Жив/Мертв' : []\n",
    "     })\n",
    "df"
   ]
  },
  {
   "cell_type": "code",
   "execution_count": 3,
   "metadata": {},
   "outputs": [
    {
     "data": {
      "text/plain": [
       "'Пропала Осипова Ирина Дмитриевна, 15 лет, МинскПроживает по ул.Космонавтов.26.08.2013 , примерно в 14.00, ушла из дома. До настоящего времени где находится ребенок не известно!Приметы: На вид 16 лет, волос длинный темно-каштановый(натуральный), глаза карие, телосложение худощавое.Была одета: в серую куртку из кожзама, с вязаными манжетами, голубые джинсы, светлые кроссовки с розовыми вставками и надписью \"Найк\".Особые приметы: в левом ухе три дырки.https://pp.vk.me/c425525/v425525947/2cf ... FSqbm4.jpg - фото в большом разрешенииhttps://pp.vk.me/c425525/v425525947/2ce ... wWgJMQ.jpg - ориентировка в большом разрешенииКоординатор: Наташа Инфоорг: Юра +375 29 699 73 91'"
      ]
     },
     "execution_count": 3,
     "metadata": {},
     "output_type": "execute_result"
    }
   ],
   "source": [
    "allinfo = soup.findAll('div',class_= \"content\")\n",
    "readytext = allinfo[0].text\n",
    "readytext\n"
   ]
  },
  {
   "cell_type": "markdown",
   "metadata": {},
   "source": [
    "# Возраст"
   ]
  },
  {
   "cell_type": "code",
   "execution_count": 4,
   "metadata": {},
   "outputs": [
    {
     "name": "stdout",
     "output_type": "stream",
     "text": [
      "15\n"
     ]
    }
   ],
   "source": [
    "age = re.search(r'\\d+ ',readytext)\n",
    "age = int(age.group(0)) # эТО уже у нас число)) Ура!!!!\n",
    "if age < 100:\n",
    "        age = age\n",
    "else:\n",
    "        age = 2019 - age\n",
    "print(age)"
   ]
  },
  {
   "cell_type": "markdown",
   "metadata": {},
   "source": [
    "# Рост"
   ]
  },
  {
   "cell_type": "code",
   "execution_count": 10,
   "metadata": {},
   "outputs": [],
   "source": [
    "high = re.search(r'[Рр]ост \\d{3}|[Рр]оста \\d{3}|[Рр]оста\\d{3}|[Рр]ост: \\d{3}|[Рр]ост - \\d{3}',readytext )\n",
    "\n",
    "    high = str(high.group(0))\n",
    "\n",
    "    height = re.findall(r'\\d+',high)\n",
    "    height = int(\" \".join(height))\n"
   ]
  },
  {
   "cell_type": "markdown",
   "metadata": {},
   "source": [
    "# Фото"
   ]
  },
  {
   "cell_type": "code",
   "execution_count": 11,
   "metadata": {},
   "outputs": [
    {
     "name": "stdout",
     "output_type": "stream",
     "text": [
      "-\n"
     ]
    }
   ],
   "source": [
    "photored = allinfo[0]\n",
    "photo = photored.img\n",
    "photo = str(photo)\n",
    "\n",
    "yphoto = re.findall(r'[h]ttp',photo) # Заметил косяк, нашел одну анкету, где фотки прикреплены по-другому.  \n",
    "yphoto = str(yphoto)                # Но это всего одна анкета,поэтому пока считаю можно не исправлять\n",
    "if yphoto == \"['http']\":\n",
    "    yphoto = \"+\"\n",
    "else:\n",
    "    yphoto = \"-\"\n",
    "print(yphoto)"
   ]
  },
  {
   "cell_type": "markdown",
   "metadata": {},
   "source": [
    "#  Пол\n"
   ]
  },
  {
   "cell_type": "code",
   "execution_count": 12,
   "metadata": {},
   "outputs": [
    {
     "name": "stdout",
     "output_type": "stream",
     "text": [
      "Мужчина\n"
     ]
    }
   ],
   "source": [
    "sex = re.search(r'[Вв]ышел|[Вв]ышла|[Уу]шла|[Уу]шёл|[Уу]шел|[Пп]ропал|[Пп]ропала|[Нн]айден|[Нн]айдена|[Жж]ива|[Жж]ив|[Уу]ехал|[Уу]ехала', readytext)\n",
    "sex = str(sex.group(0))\n",
    "if sex == \"вышел\" or sex == \"Вышел\" or sex == \"ушел\" or sex == \"Ушел\" or sex == 'ушёл' or sex == 'пропал' or sex == 'Пропал' or sex == 'Найден' or sex == 'найден' or sex == 'ушел'or sex == 'пропал'or sex == 'найден'or sex == 'Найден'or sex == 'вышел' or sex == 'Жив'or sex == 'жив'or sex == 'уехал':\n",
    "    sex = \"Мужчина\"\n",
    "else:\n",
    "    sex = 'Женщина'\n",
    "print(sex)"
   ]
  },
  {
   "cell_type": "markdown",
   "metadata": {},
   "source": [
    "\n",
    "#  Жив или мертв"
   ]
  },
  {
   "cell_type": "code",
   "execution_count": 13,
   "metadata": {},
   "outputs": [
    {
     "name": "stdout",
     "output_type": "stream",
     "text": [
      "Живой\n"
     ]
    }
   ],
   "source": [
    "soup.title.text \n",
    "sit = re.search(r'[Жж]ива|[Жж]ив|[Пп]огиб|[Пп]огибла|[Нн]айден|[Нн]айдена| неизвестно.|неизвестно.|неизвестно.|неизвестно . ',soup.title.text)\n",
    "sit = str(sit.group(0))\n",
    "if sit == 'Жива' or sit == 'Жив' or sit == 'жива' or sit == 'жив' or sit == 'Найден' or sit == 'найден' or sit == 'найдена'or sit == 'Найдена':\n",
    "    sit = 'Живой'\n",
    "else:\n",
    "    sit = 'Мертв'\n",
    "print(sit)"
   ]
  },
  {
   "cell_type": "markdown",
   "metadata": {},
   "source": [
    "# Конец)))"
   ]
  },
  {
   "cell_type": "code",
   "execution_count": 15,
   "metadata": {},
   "outputs": [
    {
     "data": {
      "text/html": [
       "<div>\n",
       "<style scoped>\n",
       "    .dataframe tbody tr th:only-of-type {\n",
       "        vertical-align: middle;\n",
       "    }\n",
       "\n",
       "    .dataframe tbody tr th {\n",
       "        vertical-align: top;\n",
       "    }\n",
       "\n",
       "    .dataframe thead th {\n",
       "        text-align: right;\n",
       "    }\n",
       "</style>\n",
       "<table border=\"1\" class=\"dataframe\">\n",
       "  <thead>\n",
       "    <tr style=\"text-align: right;\">\n",
       "      <th></th>\n",
       "      <th>Возраст</th>\n",
       "      <th>Рост</th>\n",
       "      <th>Фото</th>\n",
       "      <th>Пол</th>\n",
       "      <th>Жив/Мертв</th>\n",
       "    </tr>\n",
       "  </thead>\n",
       "  <tbody>\n",
       "    <tr>\n",
       "      <th>0</th>\n",
       "      <td>15</td>\n",
       "      <td>&lt;function rost at 0x0000020089EACD90&gt;</td>\n",
       "      <td>-</td>\n",
       "      <td>Мужчина</td>\n",
       "      <td>Живой</td>\n",
       "    </tr>\n",
       "  </tbody>\n",
       "</table>\n",
       "</div>"
      ],
      "text/plain": [
       "  Возраст                                   Рост Фото      Пол Жив/Мертв\n",
       "0      15  <function rost at 0x0000020089EACD90>    -  Мужчина     Живой"
      ]
     },
     "execution_count": 15,
     "metadata": {},
     "output_type": "execute_result"
    }
   ],
   "source": [
    "newrow = pd.DataFrame({\n",
    "        'Возраст' : [age],\n",
    "        'Рост' : [rost],\n",
    "        'Фото': [yphoto],\n",
    "        'Пол' : [sex],\n",
    "        'Жив/Мертв' : [sit]\n",
    "         })\n",
    "df = df.append(newrow)\n",
    "\n",
    "df"
   ]
  },
  {
   "cell_type": "code",
   "execution_count": null,
   "metadata": {},
   "outputs": [],
   "source": []
  },
  {
   "cell_type": "code",
   "execution_count": null,
   "metadata": {},
   "outputs": [],
   "source": []
  }
 ],
 "metadata": {
  "kernelspec": {
   "display_name": "Python 3",
   "language": "python",
   "name": "python3"
  },
  "language_info": {
   "codemirror_mode": {
    "name": "ipython",
    "version": 3
   },
   "file_extension": ".py",
   "mimetype": "text/x-python",
   "name": "python",
   "nbconvert_exporter": "python",
   "pygments_lexer": "ipython3",
   "version": "3.7.3"
  }
 },
 "nbformat": 4,
 "nbformat_minor": 2
}
