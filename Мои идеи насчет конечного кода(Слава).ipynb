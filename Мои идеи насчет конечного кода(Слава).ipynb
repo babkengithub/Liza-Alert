{
 "cells": [
  {
   "cell_type": "code",
   "execution_count": 19,
   "metadata": {},
   "outputs": [],
   "source": [
    "import bs4\n",
    "from urllib.request import urlopen as urll\n",
    "from bs4 import BeautifulSoup as soup\n",
    "import requests\n",
    "from bs4 import BeautifulSoup\n",
    "import pandas as pd\n",
    "import re # сейчас я пасрю с 1 странице поиска, можно забить юрл, чтобы понимать , где это находит"
   ]
  },
  {
   "cell_type": "code",
   "execution_count": 55,
   "metadata": {},
   "outputs": [],
   "source": [
    "df = pd.DataFrame({\n",
    "    'Height' : list(),\n",
    "     })\n",
    "df\n",
    "\n",
    "my_url =['https://lizaalert.org/forum/viewtopic.php?f=276&t=25302&sid=c4089532e406e15ef9b44033c8aaee49',\n",
    "         'https://lizaalert.org/forum/viewtopic.php?f=276&t=25306&sid=c4089532e406e15ef9b44033c8aaee49',\n",
    "         'https://lizaalert.org/forum/viewtopic.php?f=276&t=25298&sid=c4089532e406e15ef9b44033c8aaee49',\n",
    "         'https://lizaalert.org/forum/viewtopic.php?f=276&t=25278&sid=c4089532e406e15ef9b44033c8aaee49',\n",
    "         'https://lizaalert.org/forum/viewtopic.php?f=276&t=25278&sid=c4089532e406e15ef9b44033c8aaee49',\n",
    "         'https://lizaalert.org/forum/viewtopic.php?f=276&t=25290&sid=c4089532e406e15ef9b44033c8aaee49',\n",
    "         'https://lizaalert.org/forum/viewtopic.php?f=276&t=25152&sid=c4089532e406e15ef9b44033c8aaee49',\n",
    "         'https://lizaalert.org/forum/viewtopic.php?f=276&t=25232&sid=c4089532e406e15ef9b44033c8aaee49',\n",
    "        ]\n",
    "               "
   ]
  },
  {
   "cell_type": "code",
   "execution_count": 61,
   "metadata": {},
   "outputs": [],
   "source": [
    "for h in range(0,len(my_url)):\n",
    "    uClient = urll(my_url[h])\n",
    "    page_html = uClient.read()\n",
    "    uClient.close()\n",
    "    page_soup = soup(page_html,\"html.parser\")\n",
    "    #div = page.find('div', class_ ='one-full')\n",
    "    main = page_soup.find('div', {'class':'content'}).text\n",
    "    #info = main.find('span', {'style':'font-size: 140%; line-height: 116%;'})\n",
    "    #info\n",
    "    de = str(main)\n",
    "    Height = re.findall(r'([Рр]ост: \\d+ |[Рр]ост \\d+ )', de)\n",
    "    newrow = pd.DataFrame({\n",
    "            'Height' : Height\n",
    "    })\n",
    "             \n",
    "    df = df.append(newrow)\n",
    "\n",
    "#df\n",
    "    "
   ]
  },
  {
   "cell_type": "code",
   "execution_count": 59,
   "metadata": {},
   "outputs": [
    {
     "data": {
      "text/html": [
       "<div>\n",
       "<style scoped>\n",
       "    .dataframe tbody tr th:only-of-type {\n",
       "        vertical-align: middle;\n",
       "    }\n",
       "\n",
       "    .dataframe tbody tr th {\n",
       "        vertical-align: top;\n",
       "    }\n",
       "\n",
       "    .dataframe thead th {\n",
       "        text-align: right;\n",
       "    }\n",
       "</style>\n",
       "<table border=\"1\" class=\"dataframe\">\n",
       "  <thead>\n",
       "    <tr style=\"text-align: right;\">\n",
       "      <th></th>\n",
       "      <th>Height</th>\n",
       "    </tr>\n",
       "  </thead>\n",
       "  <tbody>\n",
       "    <tr>\n",
       "      <th>0</th>\n",
       "      <td>рост 185</td>\n",
       "    </tr>\n",
       "    <tr>\n",
       "      <th>0</th>\n",
       "      <td>рост 120</td>\n",
       "    </tr>\n",
       "    <tr>\n",
       "      <th>0</th>\n",
       "      <td>Рост: 165</td>\n",
       "    </tr>\n",
       "    <tr>\n",
       "      <th>0</th>\n",
       "      <td>рост 176</td>\n",
       "    </tr>\n",
       "    <tr>\n",
       "      <th>0</th>\n",
       "      <td>рост 176</td>\n",
       "    </tr>\n",
       "    <tr>\n",
       "      <th>0</th>\n",
       "      <td>Рост: 160</td>\n",
       "    </tr>\n",
       "    <tr>\n",
       "      <th>0</th>\n",
       "      <td>рост 130</td>\n",
       "    </tr>\n",
       "    <tr>\n",
       "      <th>1</th>\n",
       "      <td>рост 120</td>\n",
       "    </tr>\n",
       "    <tr>\n",
       "      <th>0</th>\n",
       "      <td>Рост: 155</td>\n",
       "    </tr>\n",
       "  </tbody>\n",
       "</table>\n",
       "</div>"
      ],
      "text/plain": [
       "       Height\n",
       "0   рост 185 \n",
       "0   рост 120 \n",
       "0  Рост: 165 \n",
       "0   рост 176 \n",
       "0   рост 176 \n",
       "0  Рост: 160 \n",
       "0   рост 130 \n",
       "1   рост 120 \n",
       "0  Рост: 155 "
      ]
     },
     "execution_count": 59,
     "metadata": {},
     "output_type": "execute_result"
    }
   ],
   "source": [
    "#for i in range(0, len(df)):\n",
    "    #df.iloc[i].Height = df.iloc[i].Height.split(' ')[0]\n",
    "df"
   ]
  },
  {
   "cell_type": "code",
   "execution_count": null,
   "metadata": {},
   "outputs": [],
   "source": []
  }
 ],
 "metadata": {
  "kernelspec": {
   "display_name": "Python 3",
   "language": "python",
   "name": "python3"
  },
  "language_info": {
   "codemirror_mode": {
    "name": "ipython",
    "version": 3
   },
   "file_extension": ".py",
   "mimetype": "text/x-python",
   "name": "python",
   "nbconvert_exporter": "python",
   "pygments_lexer": "ipython3",
   "version": "3.7.3"
  }
 },
 "nbformat": 4,
 "nbformat_minor": 2
}
