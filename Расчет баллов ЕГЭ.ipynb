{
 "cells": [
  {
   "cell_type": "code",
   "execution_count": null,
   "metadata": {},
   "outputs": [],
   "source": [
    "# Сделаем игру, с помощью которой пользователь сможет определять, хватит ли ему баллов поступить или нет. Для этого надо\n",
    "# создать минимальный балл поступления(общий), например 360, далее минимальные проходные по каждому из преметов( англ = 65)\n",
    "# матем = 60 , русски = 60 и общест = 50. Все, потом человек вводит свой балл по каждому, сначала комп проверяет на соо\n",
    "# тветсиве минимальным условиям, а далее складывает с сравнивает с минимумом. Тут функция while не нужна, только if и все.\n"
   ]
  },
  {
   "cell_type": "code",
   "execution_count": null,
   "metadata": {},
   "outputs": [],
   "source": [
    "a = int(input(\"Введите балл по Русскому языку: \"))\n",
    "b = int(input(\"Введите балл по Математике : \"))\n",
    "c = int(input(\"Введите балл по Английскому языку: \"))\n",
    "z = int(input(\"Введите балл по Обществознанию : \"))"
   ]
  },
  {
   "cell_type": "code",
   "execution_count": null,
   "metadata": {},
   "outputs": [],
   "source": [
    "if a > 60 and b > 60 and c > 65 and z > 50:\n",
    "    "
   ]
  }
 ],
 "metadata": {
  "kernelspec": {
   "display_name": "Python 3",
   "language": "python",
   "name": "python3"
  },
  "language_info": {
   "codemirror_mode": {
    "name": "ipython",
    "version": 3
   },
   "file_extension": ".py",
   "mimetype": "text/x-python",
   "name": "python",
   "nbconvert_exporter": "python",
   "pygments_lexer": "ipython3",
   "version": "3.7.3"
  }
 },
 "nbformat": 4,
 "nbformat_minor": 2
}
